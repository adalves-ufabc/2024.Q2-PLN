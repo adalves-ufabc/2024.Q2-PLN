{
  "nbformat": 4,
  "nbformat_minor": 0,
  "metadata": {
    "colab": {
      "provenance": [],
      "include_colab_link": true
    },
    "kernelspec": {
      "name": "python3",
      "display_name": "Python 3"
    }
  },
  "cells": [
    {
      "cell_type": "markdown",
      "metadata": {
        "id": "view-in-github",
        "colab_type": "text"
      },
      "source": [
        "<a href=\"https://colab.research.google.com/github/adalves-ufabc/2024.Q2-PLN/blob/main/2024_Q2_PLN_AULA_05_Notebook_08.ipynb\" target=\"_parent\"><img src=\"https://colab.research.google.com/assets/colab-badge.svg\" alt=\"Open In Colab\"/></a>"
      ]
    },
    {
      "cell_type": "markdown",
      "source": [
        "# **Processamento de Linguagem Natural [2023.Q3]**\n",
        "Prof. Alexandre Donizeti Alves"
      ],
      "metadata": {
        "id": "wIZiLtj3FRqL"
      }
    },
    {
      "cell_type": "markdown",
      "source": [
        "## **Modelos de Linguagem com N-gramas**\n",
        "---"
      ],
      "metadata": {
        "id": "suArk9LmFS-r"
      }
    },
    {
      "cell_type": "code",
      "metadata": {
        "colab": {
          "base_uri": "https://localhost:8080/"
        },
        "id": "bi00CCGWrdbM",
        "outputId": "743eb252-f8ac-4dbf-a4ef-a654e535cb5a"
      },
      "source": [
        "#@title Baixando a versão 3.5 do NLTK\n",
        "\n",
        "!pip3 install nltk==3.5"
      ],
      "execution_count": null,
      "outputs": [
        {
          "output_type": "stream",
          "name": "stdout",
          "text": [
            "Collecting nltk==3.5\n",
            "  Downloading nltk-3.5.zip (1.4 MB)\n",
            "\u001b[2K     \u001b[90m━━━━━━━━━━━━━━━━━━━━━━━━━━━━━━━━━━━━━━━━\u001b[0m \u001b[32m1.4/1.4 MB\u001b[0m \u001b[31m9.9 MB/s\u001b[0m eta \u001b[36m0:00:00\u001b[0m\n",
            "\u001b[?25h  Preparing metadata (setup.py) ... \u001b[?25l\u001b[?25hdone\n",
            "Requirement already satisfied: click in /usr/local/lib/python3.10/dist-packages (from nltk==3.5) (8.1.7)\n",
            "Requirement already satisfied: joblib in /usr/local/lib/python3.10/dist-packages (from nltk==3.5) (1.4.2)\n",
            "Requirement already satisfied: regex in /usr/local/lib/python3.10/dist-packages (from nltk==3.5) (2024.5.15)\n",
            "Requirement already satisfied: tqdm in /usr/local/lib/python3.10/dist-packages (from nltk==3.5) (4.66.4)\n",
            "Building wheels for collected packages: nltk\n",
            "  Building wheel for nltk (setup.py) ... \u001b[?25l\u001b[?25hdone\n",
            "  Created wheel for nltk: filename=nltk-3.5-py3-none-any.whl size=1434676 sha256=ecc1bab7d8612a0e33aa29f1c764b9704c4a11b5e6533ea095e8f04647058f11\n",
            "  Stored in directory: /root/.cache/pip/wheels/35/ab/82/f9667f6f884d272670a15382599a9c753a1dfdc83f7412e37d\n",
            "Successfully built nltk\n",
            "Installing collected packages: nltk\n",
            "  Attempting uninstall: nltk\n",
            "    Found existing installation: nltk 3.8.1\n",
            "    Uninstalling nltk-3.8.1:\n",
            "      Successfully uninstalled nltk-3.8.1\n",
            "Successfully installed nltk-3.5\n"
          ]
        }
      ]
    },
    {
      "cell_type": "code",
      "metadata": {
        "colab": {
          "base_uri": "https://localhost:8080/"
        },
        "id": "fRPRwUkNqYVe",
        "outputId": "dd8a3e08-e0d1-4c28-f4fd-4df8e53f3c04"
      },
      "source": [
        "#@title Importando as dependências\n",
        "\n",
        "import nltk\n",
        "\n",
        "nltk.download('punkt')"
      ],
      "execution_count": null,
      "outputs": [
        {
          "output_type": "stream",
          "name": "stderr",
          "text": [
            "[nltk_data] Downloading package punkt to /root/nltk_data...\n",
            "[nltk_data]   Unzipping tokenizers/punkt.zip.\n"
          ]
        },
        {
          "output_type": "execute_result",
          "data": {
            "text/plain": [
              "True"
            ]
          },
          "metadata": {},
          "execution_count": 2
        }
      ]
    },
    {
      "cell_type": "code",
      "metadata": {
        "colab": {
          "base_uri": "https://localhost:8080/"
        },
        "id": "3cxKQ5cEqd_0",
        "outputId": "d4001589-6d66-46a1-8c51-24a9a5b5de1c"
      },
      "source": [
        "#@title Passo 01: carregando o córpus\n",
        "\n",
        "texto = \"\"\"No meio do caminho tinha uma pedra\n",
        "Tinha uma pedra no meio do caminho\n",
        "Tinha uma pedra\n",
        "No meio do caminho tinha uma pedra\"\"\"\n",
        "\n",
        "texto = texto.lower().split('\\n')\n",
        "texto"
      ],
      "execution_count": null,
      "outputs": [
        {
          "output_type": "execute_result",
          "data": {
            "text/plain": [
              "['no meio do caminho tinha uma pedra',\n",
              " 'tinha uma pedra no meio do caminho',\n",
              " 'tinha uma pedra',\n",
              " 'no meio do caminho tinha uma pedra']"
            ]
          },
          "metadata": {},
          "execution_count": 3
        }
      ]
    },
    {
      "cell_type": "code",
      "metadata": {
        "colab": {
          "base_uri": "https://localhost:8080/"
        },
        "id": "BOubfzgWqo3a",
        "outputId": "be53882d-c4e1-4f58-cf57-ddd1b2cb123c"
      },
      "source": [
        "#@title Passo 02: tokenizando as sentenças do córpus\n",
        "\n",
        "texto_tokenizado = []\n",
        "for verso in texto:\n",
        "  tokens = nltk.word_tokenize(verso, language='portuguese')\n",
        "  texto_tokenizado.append(tokens)\n",
        "\n",
        "texto_tokenizado"
      ],
      "execution_count": null,
      "outputs": [
        {
          "output_type": "execute_result",
          "data": {
            "text/plain": [
              "[['no', 'meio', 'do', 'caminho', 'tinha', 'uma', 'pedra'],\n",
              " ['tinha', 'uma', 'pedra', 'no', 'meio', 'do', 'caminho'],\n",
              " ['tinha', 'uma', 'pedra'],\n",
              " ['no', 'meio', 'do', 'caminho', 'tinha', 'uma', 'pedra']]"
            ]
          },
          "metadata": {},
          "execution_count": 4
        }
      ]
    },
    {
      "cell_type": "markdown",
      "metadata": {
        "id": "_s36lDZhzQge"
      },
      "source": [
        "**Pré-processando as Sentenças**\n",
        "\n",
        "### Passo 03: Inserindo Marcadores de Início e Fim de Sentença\n",
        "\n",
        "Suponha que queiramos definir um modelo de linguagem com bigramas, ou seja, calcular as chances de uma palavra com base na anterior (e.g., $P(pedra | uma)$, temos que marcar o início e fim da sentença para poder prever as changes da primeira palavra (e.g., $P(no | \\langle s \\rangle)$) e o fim da sentença ((e.g., $P(\\langle/ s \\rangle)$ | pedra)). Este processo é conhecido como *padding*.\n",
        "\n"
      ]
    },
    {
      "cell_type": "markdown",
      "source": [
        "Podemos fazer o *padding* de uma sentença utilizando o método **nltk.lm.preprocessing.pad_both_ends**:"
      ],
      "metadata": {
        "id": "5ZyCFn-7MB2i"
      }
    },
    {
      "cell_type": "code",
      "metadata": {
        "id": "vmdTktH72UDO"
      },
      "source": [
        "from nltk.lm.preprocessing import pad_both_ends\n",
        "\n",
        "# definir o numero de n-gramas (no caso, 2 -> bigramas)\n",
        "ngramas = 2\n",
        "\n",
        "texto_tokenizado_pad = []\n",
        "for verso in texto_tokenizado:\n",
        "  padded = pad_both_ends(verso, n=ngramas)\n",
        "  texto_tokenizado_pad.append(list(padded))"
      ],
      "execution_count": null,
      "outputs": []
    },
    {
      "cell_type": "code",
      "source": [
        "texto_tokenizado_pad"
      ],
      "metadata": {
        "colab": {
          "base_uri": "https://localhost:8080/"
        },
        "id": "bykZHEtBMNaT",
        "outputId": "25e8f3dd-dd19-44df-fe83-07e56f4895ae"
      },
      "execution_count": null,
      "outputs": [
        {
          "output_type": "execute_result",
          "data": {
            "text/plain": [
              "[['<s>', 'no', 'meio', 'do', 'caminho', 'tinha', 'uma', 'pedra', '</s>'],\n",
              " ['<s>', 'tinha', 'uma', 'pedra', 'no', 'meio', 'do', 'caminho', '</s>'],\n",
              " ['<s>', 'tinha', 'uma', 'pedra', '</s>'],\n",
              " ['<s>', 'no', 'meio', 'do', 'caminho', 'tinha', 'uma', 'pedra', '</s>']]"
            ]
          },
          "metadata": {},
          "execution_count": 6
        }
      ]
    },
    {
      "cell_type": "markdown",
      "metadata": {
        "id": "oAfVzYnX3etA"
      },
      "source": [
        "Uma vez que as sentenças do nosso córpus foram pré-processadas, podemos calcular os n-gramas (neste caso, os bigramas), utilizando o método **nltk.ngrams**:"
      ]
    },
    {
      "cell_type": "markdown",
      "source": [
        "### Passo 04: Calculando os n-gramas"
      ],
      "metadata": {
        "id": "CzGAvoPEO6Lp"
      }
    },
    {
      "cell_type": "code",
      "metadata": {
        "id": "QVS0TTf04JJC"
      },
      "source": [
        "ngramas = 2\n",
        "\n",
        "bigramas_pad = []\n",
        "for verso in texto_tokenizado_pad:\n",
        "  bigramas = nltk.ngrams(verso, ngramas)\n",
        "  bigramas_pad.append(list(bigramas))"
      ],
      "execution_count": null,
      "outputs": []
    },
    {
      "cell_type": "code",
      "source": [
        "# bigramas [sentencas]\n",
        "bigramas_pad"
      ],
      "metadata": {
        "colab": {
          "base_uri": "https://localhost:8080/"
        },
        "id": "3PKdxKZbMkRF",
        "outputId": "1ae07624-40cf-47d7-8e83-71810e0c2769"
      },
      "execution_count": null,
      "outputs": [
        {
          "output_type": "execute_result",
          "data": {
            "text/plain": [
              "[[('<s>', 'no'),\n",
              "  ('no', 'meio'),\n",
              "  ('meio', 'do'),\n",
              "  ('do', 'caminho'),\n",
              "  ('caminho', 'tinha'),\n",
              "  ('tinha', 'uma'),\n",
              "  ('uma', 'pedra'),\n",
              "  ('pedra', '</s>')],\n",
              " [('<s>', 'tinha'),\n",
              "  ('tinha', 'uma'),\n",
              "  ('uma', 'pedra'),\n",
              "  ('pedra', 'no'),\n",
              "  ('no', 'meio'),\n",
              "  ('meio', 'do'),\n",
              "  ('do', 'caminho'),\n",
              "  ('caminho', '</s>')],\n",
              " [('<s>', 'tinha'), ('tinha', 'uma'), ('uma', 'pedra'), ('pedra', '</s>')],\n",
              " [('<s>', 'no'),\n",
              "  ('no', 'meio'),\n",
              "  ('meio', 'do'),\n",
              "  ('do', 'caminho'),\n",
              "  ('caminho', 'tinha'),\n",
              "  ('tinha', 'uma'),\n",
              "  ('uma', 'pedra'),\n",
              "  ('pedra', '</s>')]]"
            ]
          },
          "metadata": {},
          "execution_count": 8
        }
      ]
    },
    {
      "cell_type": "markdown",
      "metadata": {
        "id": "33X7LWud6Max"
      },
      "source": [
        "Contudo, para deixar nosso modelo de linguagem mais robusto, vamos calcular os **unigramas** além dos **bigramas** utilizando o comando **nltk.util.everygrams**:"
      ]
    },
    {
      "cell_type": "code",
      "metadata": {
        "id": "wtEqViQ75-C8"
      },
      "source": [
        "from nltk.util import everygrams\n",
        "ngramas = 2\n",
        "\n",
        "ngramas_pad = []\n",
        "for verso in texto_tokenizado_pad:\n",
        "  bigramas = everygrams(verso, max_len=ngramas)\n",
        "  ngramas_pad.append(list(bigramas))"
      ],
      "execution_count": null,
      "outputs": []
    },
    {
      "cell_type": "code",
      "source": [
        "ngramas_pad"
      ],
      "metadata": {
        "colab": {
          "base_uri": "https://localhost:8080/"
        },
        "id": "dCop6c5INLYG",
        "outputId": "8d9ae15a-52d7-488f-882d-cb62ef258974"
      },
      "execution_count": null,
      "outputs": [
        {
          "output_type": "execute_result",
          "data": {
            "text/plain": [
              "[[('<s>',),\n",
              "  ('no',),\n",
              "  ('meio',),\n",
              "  ('do',),\n",
              "  ('caminho',),\n",
              "  ('tinha',),\n",
              "  ('uma',),\n",
              "  ('pedra',),\n",
              "  ('</s>',),\n",
              "  ('<s>', 'no'),\n",
              "  ('no', 'meio'),\n",
              "  ('meio', 'do'),\n",
              "  ('do', 'caminho'),\n",
              "  ('caminho', 'tinha'),\n",
              "  ('tinha', 'uma'),\n",
              "  ('uma', 'pedra'),\n",
              "  ('pedra', '</s>')],\n",
              " [('<s>',),\n",
              "  ('tinha',),\n",
              "  ('uma',),\n",
              "  ('pedra',),\n",
              "  ('no',),\n",
              "  ('meio',),\n",
              "  ('do',),\n",
              "  ('caminho',),\n",
              "  ('</s>',),\n",
              "  ('<s>', 'tinha'),\n",
              "  ('tinha', 'uma'),\n",
              "  ('uma', 'pedra'),\n",
              "  ('pedra', 'no'),\n",
              "  ('no', 'meio'),\n",
              "  ('meio', 'do'),\n",
              "  ('do', 'caminho'),\n",
              "  ('caminho', '</s>')],\n",
              " [('<s>',),\n",
              "  ('tinha',),\n",
              "  ('uma',),\n",
              "  ('pedra',),\n",
              "  ('</s>',),\n",
              "  ('<s>', 'tinha'),\n",
              "  ('tinha', 'uma'),\n",
              "  ('uma', 'pedra'),\n",
              "  ('pedra', '</s>')],\n",
              " [('<s>',),\n",
              "  ('no',),\n",
              "  ('meio',),\n",
              "  ('do',),\n",
              "  ('caminho',),\n",
              "  ('tinha',),\n",
              "  ('uma',),\n",
              "  ('pedra',),\n",
              "  ('</s>',),\n",
              "  ('<s>', 'no'),\n",
              "  ('no', 'meio'),\n",
              "  ('meio', 'do'),\n",
              "  ('do', 'caminho'),\n",
              "  ('caminho', 'tinha'),\n",
              "  ('tinha', 'uma'),\n",
              "  ('uma', 'pedra'),\n",
              "  ('pedra', '</s>')]]"
            ]
          },
          "metadata": {},
          "execution_count": 10
        }
      ]
    },
    {
      "cell_type": "markdown",
      "metadata": {
        "id": "QppWnvIPu-mP"
      },
      "source": [
        "### Passo 05: Colocando todos os tokens do córpus numa única lista\n",
        "\n",
        ">\n",
        "\n",
        "**nltk.lm.preprocessing.flatten**:\n",
        "\n",
        ">\n",
        "\n",
        "Este método junta os elementos de sublistas em uma única lista. Por exemplo:\n",
        "\n",
        "```python\n",
        ">>> lista = [[1, 2], [3, 4]]\n",
        ">>> flatten(lista)\n",
        "[1, 2, 3, 4]\n",
        "```\n",
        "\n"
      ]
    },
    {
      "cell_type": "markdown",
      "source": [
        "Como pode ser visto abaixo, nós utilizamos o método `flatten` para juntar todas os tokens das sentenças de nosso córpus numa única lista."
      ],
      "metadata": {
        "id": "EMfYT-yiNnxR"
      }
    },
    {
      "cell_type": "code",
      "metadata": {
        "id": "mCeQQUg2rIiC"
      },
      "source": [
        "from nltk.lm.preprocessing import flatten\n",
        "\n",
        "# juntando as palavras do nosso corpus\n",
        "tokens = list(flatten(texto_tokenizado_pad))"
      ],
      "execution_count": null,
      "outputs": []
    },
    {
      "cell_type": "code",
      "source": [
        "tokens"
      ],
      "metadata": {
        "colab": {
          "base_uri": "https://localhost:8080/"
        },
        "id": "r-QtdREqOMqE",
        "outputId": "e9eed614-5074-4d5f-a8fb-95e6d3907f01"
      },
      "execution_count": null,
      "outputs": [
        {
          "output_type": "execute_result",
          "data": {
            "text/plain": [
              "['<s>',\n",
              " 'no',\n",
              " 'meio',\n",
              " 'do',\n",
              " 'caminho',\n",
              " 'tinha',\n",
              " 'uma',\n",
              " 'pedra',\n",
              " '</s>',\n",
              " '<s>',\n",
              " 'tinha',\n",
              " 'uma',\n",
              " 'pedra',\n",
              " 'no',\n",
              " 'meio',\n",
              " 'do',\n",
              " 'caminho',\n",
              " '</s>',\n",
              " '<s>',\n",
              " 'tinha',\n",
              " 'uma',\n",
              " 'pedra',\n",
              " '</s>',\n",
              " '<s>',\n",
              " 'no',\n",
              " 'meio',\n",
              " 'do',\n",
              " 'caminho',\n",
              " 'tinha',\n",
              " 'uma',\n",
              " 'pedra',\n",
              " '</s>']"
            ]
          },
          "metadata": {},
          "execution_count": 12
        }
      ]
    },
    {
      "cell_type": "markdown",
      "metadata": {
        "id": "YLdP9qZo3LTb"
      },
      "source": [
        "### Passo 06: Definindo o Vocabulário\n",
        "\n",
        "**nltk.lm.Vocabulary**\n",
        "\n",
        "Utilizado para definir o vocabulário do nosso córpus. Recebe dois parâmetros como entrada: uma lista com todos os tokens do nosso córpus e a variável *unk_cutoff*, a qual passa a considerar palavras abaixo de um limiar de frequência como palavras fora do vocabuário."
      ]
    },
    {
      "cell_type": "code",
      "metadata": {
        "id": "aOOurwmM3PYJ"
      },
      "source": [
        "from nltk.lm import Vocabulary\n",
        "\n",
        "# definir o vocabulario do nosso corpus\n",
        "vocabulario = Vocabulary(tokens, unk_cutoff=1)"
      ],
      "execution_count": null,
      "outputs": []
    },
    {
      "cell_type": "markdown",
      "metadata": {
        "id": "f4u_aGeSxQ6s"
      },
      "source": [
        "Obtendo as frequências das palavras do córpus com o comando *counts*:"
      ]
    },
    {
      "cell_type": "code",
      "metadata": {
        "colab": {
          "base_uri": "https://localhost:8080/"
        },
        "id": "fJnor-aUtCHr",
        "outputId": "a3fdc4d4-8aba-49c2-b115-5309f468f0c1"
      },
      "source": [
        "vocabulario.counts"
      ],
      "execution_count": null,
      "outputs": [
        {
          "output_type": "execute_result",
          "data": {
            "text/plain": [
              "Counter({'<s>': 4,\n",
              "         'no': 3,\n",
              "         'meio': 3,\n",
              "         'do': 3,\n",
              "         'caminho': 3,\n",
              "         'tinha': 4,\n",
              "         'uma': 4,\n",
              "         'pedra': 4,\n",
              "         '</s>': 4})"
            ]
          },
          "metadata": {},
          "execution_count": 14
        }
      ]
    },
    {
      "cell_type": "markdown",
      "metadata": {
        "id": "cFCYYcHW9J-_"
      },
      "source": [
        "**Procurando uma palavra no vocabulário**\n",
        "\n",
        "Caso a palavra não seja encontrada, o token de palavra fora do vocabulário será retornada (\\<UNK>)."
      ]
    },
    {
      "cell_type": "code",
      "metadata": {
        "colab": {
          "base_uri": "https://localhost:8080/"
        },
        "id": "3JslWfsYtKsF",
        "outputId": "06211eaa-b0c4-4f0d-8b55-12656fef30a4"
      },
      "source": [
        "vocabulario.lookup(\"tinha\"), vocabulario.lookup(\"homem\")"
      ],
      "execution_count": null,
      "outputs": [
        {
          "output_type": "execute_result",
          "data": {
            "text/plain": [
              "('tinha', '<UNK>')"
            ]
          },
          "metadata": {},
          "execution_count": 15
        }
      ]
    },
    {
      "cell_type": "markdown",
      "metadata": {
        "id": "w-YaGnSZ8SBn"
      },
      "source": [
        "**Simplificando o Pré-processamento**\n",
        "\n",
        "Agora que você sabe cada passo do pré-processamento (inserir marcadores de início e fim de sentença, calcular os n-gramas, juntar todos os tokens do córpus numa lista e definir o vocabulário), este processo pode ser simplificado pela funcionalidade **nltk.lm.preprocessing.padded_everygram_pipeline**:"
      ]
    },
    {
      "cell_type": "code",
      "metadata": {
        "colab": {
          "base_uri": "https://localhost:8080/"
        },
        "id": "gQ4w1KfL90UD",
        "outputId": "9a4a7c7a-0000-41f9-d5cb-6e8a5d367689"
      },
      "source": [
        "from nltk.lm.preprocessing import padded_everygram_pipeline\n",
        "\n",
        "ngramas = 2\n",
        "\n",
        "ngramas_pad, vocabulario = padded_everygram_pipeline(ngramas, texto_tokenizado)\n",
        "\n",
        "ngramas_pad = [list(w) for w in ngramas_pad]\n",
        "ngramas_pad"
      ],
      "execution_count": null,
      "outputs": [
        {
          "output_type": "execute_result",
          "data": {
            "text/plain": [
              "[[('<s>',),\n",
              "  ('no',),\n",
              "  ('meio',),\n",
              "  ('do',),\n",
              "  ('caminho',),\n",
              "  ('tinha',),\n",
              "  ('uma',),\n",
              "  ('pedra',),\n",
              "  ('</s>',),\n",
              "  ('<s>', 'no'),\n",
              "  ('no', 'meio'),\n",
              "  ('meio', 'do'),\n",
              "  ('do', 'caminho'),\n",
              "  ('caminho', 'tinha'),\n",
              "  ('tinha', 'uma'),\n",
              "  ('uma', 'pedra'),\n",
              "  ('pedra', '</s>')],\n",
              " [('<s>',),\n",
              "  ('tinha',),\n",
              "  ('uma',),\n",
              "  ('pedra',),\n",
              "  ('no',),\n",
              "  ('meio',),\n",
              "  ('do',),\n",
              "  ('caminho',),\n",
              "  ('</s>',),\n",
              "  ('<s>', 'tinha'),\n",
              "  ('tinha', 'uma'),\n",
              "  ('uma', 'pedra'),\n",
              "  ('pedra', 'no'),\n",
              "  ('no', 'meio'),\n",
              "  ('meio', 'do'),\n",
              "  ('do', 'caminho'),\n",
              "  ('caminho', '</s>')],\n",
              " [('<s>',),\n",
              "  ('tinha',),\n",
              "  ('uma',),\n",
              "  ('pedra',),\n",
              "  ('</s>',),\n",
              "  ('<s>', 'tinha'),\n",
              "  ('tinha', 'uma'),\n",
              "  ('uma', 'pedra'),\n",
              "  ('pedra', '</s>')],\n",
              " [('<s>',),\n",
              "  ('no',),\n",
              "  ('meio',),\n",
              "  ('do',),\n",
              "  ('caminho',),\n",
              "  ('tinha',),\n",
              "  ('uma',),\n",
              "  ('pedra',),\n",
              "  ('</s>',),\n",
              "  ('<s>', 'no'),\n",
              "  ('no', 'meio'),\n",
              "  ('meio', 'do'),\n",
              "  ('do', 'caminho'),\n",
              "  ('caminho', 'tinha'),\n",
              "  ('tinha', 'uma'),\n",
              "  ('uma', 'pedra'),\n",
              "  ('pedra', '</s>')]]"
            ]
          },
          "metadata": {},
          "execution_count": 16
        }
      ]
    },
    {
      "cell_type": "markdown",
      "metadata": {
        "id": "x79xHcBh-MSC"
      },
      "source": [
        "### Passo 07: Treinando um modelo de linguagem\n",
        "\n",
        "Um modelo de linguagem pode ser treinado utilizando a funcionalidade **nltk.lm.MLE**"
      ]
    },
    {
      "cell_type": "code",
      "metadata": {
        "id": "f-BnVhfXq3G5"
      },
      "source": [
        "from nltk.lm.preprocessing import padded_everygram_pipeline, flatten\n",
        "from nltk.lm import MLE\n",
        "\n",
        "ngramas = 2\n",
        "ngramas_pad, vocabulario = padded_everygram_pipeline(ngramas, texto_tokenizado)\n",
        "lm = MLE(ngramas)\n",
        "lm.fit(ngramas_pad, vocabulario)"
      ],
      "execution_count": null,
      "outputs": []
    },
    {
      "cell_type": "markdown",
      "metadata": {
        "id": "Hg0bzlALP7zq"
      },
      "source": [
        "Dado o token **\\<s>**, gerando um texto de 4 tokens com o modelo de linguagem treinado."
      ]
    },
    {
      "cell_type": "code",
      "metadata": {
        "colab": {
          "base_uri": "https://localhost:8080/"
        },
        "id": "XJgyGcGAsciL",
        "outputId": "ae5017c6-e9b1-41a2-929a-20e217693395"
      },
      "source": [
        "lm.generate(4, text_seed=[\"<s>\"])"
      ],
      "execution_count": null,
      "outputs": [
        {
          "output_type": "execute_result",
          "data": {
            "text/plain": [
              "['tinha', 'uma', 'pedra', '</s>']"
            ]
          },
          "metadata": {},
          "execution_count": 18
        }
      ]
    },
    {
      "cell_type": "markdown",
      "metadata": {
        "id": "EoESEalNQPdv"
      },
      "source": [
        "Probabilidade da palavra *no*:"
      ]
    },
    {
      "cell_type": "code",
      "metadata": {
        "colab": {
          "base_uri": "https://localhost:8080/"
        },
        "id": "icB93IpOsEnq",
        "outputId": "de9ce2a8-2bb8-4329-938d-88a5e248378e"
      },
      "source": [
        "print(\"Probabilidade comum: \", lm.score(\"no\"))\n",
        "print(\"Probabilidade logarítmica: \", lm.logscore(\"no\"))"
      ],
      "execution_count": null,
      "outputs": [
        {
          "output_type": "stream",
          "name": "stdout",
          "text": [
            "Probabilidade comum:  0.09375\n",
            "Probabilidade logarítmica:  -3.415037499278844\n"
          ]
        }
      ]
    },
    {
      "cell_type": "markdown",
      "metadata": {
        "id": "SrHPUljYQ3jg"
      },
      "source": [
        "Probabilidade da palavra *tinha* dado a palavra *caminho*:"
      ]
    },
    {
      "cell_type": "code",
      "metadata": {
        "colab": {
          "base_uri": "https://localhost:8080/"
        },
        "id": "RJNenPk_RBvG",
        "outputId": "dc76bfe2-5e8c-42ea-9cbf-f28f648c11b2"
      },
      "source": [
        "print(\"Probabilidade comum: \", lm.score(\"tinha\", context=[\"caminho\"]))\n",
        "print(\"Probabilidade logarítmica: \", lm.logscore(\"tinha\", context=[\"caminho\"]))"
      ],
      "execution_count": null,
      "outputs": [
        {
          "output_type": "stream",
          "name": "stdout",
          "text": [
            "Probabilidade comum:  0.6666666666666666\n",
            "Probabilidade logarítmica:  -0.5849625007211563\n"
          ]
        }
      ]
    },
    {
      "cell_type": "markdown",
      "metadata": {
        "id": "zVSiSfdaomXD"
      },
      "source": [
        "## Avaliação Perplexidade"
      ]
    },
    {
      "cell_type": "code",
      "metadata": {
        "id": "eQCwukWynB1z"
      },
      "source": [
        "teste = \"\"\"Tinha uma pedra\n",
        "No meio do caminho\n",
        "Tinha uma pedra\"\"\"\n",
        "\n",
        "# pre-processamento\n",
        "teste = teste.lower().split('\\n')\n",
        "teste_tokenizado = []\n",
        "for verso in teste:\n",
        "  tokens = nltk.word_tokenize(verso, language='portuguese')\n",
        "  teste_tokenizado.append(tokens)"
      ],
      "execution_count": null,
      "outputs": []
    },
    {
      "cell_type": "code",
      "source": [
        "teste_tokenizado"
      ],
      "metadata": {
        "colab": {
          "base_uri": "https://localhost:8080/"
        },
        "id": "p5pA05xHRZ-g",
        "outputId": "094e932c-1033-4a8a-da66-7733b452bb30"
      },
      "execution_count": null,
      "outputs": [
        {
          "output_type": "execute_result",
          "data": {
            "text/plain": [
              "[['tinha', 'uma', 'pedra'],\n",
              " ['no', 'meio', 'do', 'caminho'],\n",
              " ['tinha', 'uma', 'pedra']]"
            ]
          },
          "metadata": {},
          "execution_count": 22
        }
      ]
    },
    {
      "cell_type": "code",
      "source": [
        "ngramas = 1\n",
        "teste_ngramas, _ = padded_everygram_pipeline(ngramas, teste_tokenizado)\n",
        "teste_ngramas = flatten([list(w) for w in teste_ngramas])\n",
        "print(\"Perplexidade do Unigrama: \", lm.perplexity(teste_ngramas))"
      ],
      "metadata": {
        "colab": {
          "base_uri": "https://localhost:8080/"
        },
        "id": "vNxNKNp0RVST",
        "outputId": "5556048e-b907-42b8-d780-4b89e4a06beb"
      },
      "execution_count": null,
      "outputs": [
        {
          "output_type": "stream",
          "name": "stdout",
          "text": [
            "Perplexidade do Unigrama:  8.975641163569597\n"
          ]
        }
      ]
    },
    {
      "cell_type": "code",
      "source": [
        "ngramas = 2\n",
        "teste_ngramas, _ = padded_everygram_pipeline(ngramas, teste_tokenizado)\n",
        "teste_ngramas = flatten([list(w) for w in teste_ngramas])\n",
        "print(\"Perplexidade do Bigrama: \", lm.perplexity(teste_ngramas))"
      ],
      "metadata": {
        "colab": {
          "base_uri": "https://localhost:8080/"
        },
        "id": "RLWist80RgRc",
        "outputId": "efa3a960-e100-4bbf-98cc-c48154cba5e9"
      },
      "execution_count": null,
      "outputs": [
        {
          "output_type": "stream",
          "name": "stdout",
          "text": [
            "Perplexidade do Bigrama:  3.7299192471355798\n"
          ]
        }
      ]
    },
    {
      "cell_type": "markdown",
      "source": [
        "**IMPORTANTE**:\n",
        "\n",
        "> ![image.png](data:image/png;base64,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)"
      ],
      "metadata": {
        "id": "-d_9ZMXPRpE5"
      }
    },
    {
      "cell_type": "markdown",
      "source": [
        "## **Generalização**"
      ],
      "metadata": {
        "id": "1LuQ4XIMSGi1"
      }
    },
    {
      "cell_type": "markdown",
      "metadata": {
        "id": "JW1od-7D9RBG"
      },
      "source": [
        "### Generalização: Add-1 Smoothing"
      ]
    },
    {
      "cell_type": "code",
      "metadata": {
        "id": "1qcyqAuepcr6"
      },
      "source": [
        "from nltk.lm.preprocessing import padded_everygram_pipeline\n",
        "from nltk.lm import Laplace\n",
        "\n",
        "ngramas = 2\n",
        "ngramas_pad, vocabulario = padded_everygram_pipeline(ngramas, texto_tokenizado)\n",
        "lm = Laplace(ngramas)\n",
        "lm.fit(ngramas_pad, vocabulario)"
      ],
      "execution_count": null,
      "outputs": []
    },
    {
      "cell_type": "code",
      "metadata": {
        "colab": {
          "base_uri": "https://localhost:8080/"
        },
        "id": "05pNfw1l9T9l",
        "outputId": "78decf5c-e216-45f8-a0a8-9ec215853f56"
      },
      "source": [
        "round(lm.score(\"tinha\", context=[\"caminho\"]), 2)"
      ],
      "execution_count": null,
      "outputs": [
        {
          "output_type": "execute_result",
          "data": {
            "text/plain": [
              "0.23"
            ]
          },
          "metadata": {},
          "execution_count": 27
        }
      ]
    },
    {
      "cell_type": "markdown",
      "metadata": {
        "id": "eCbM67FyFUUk"
      },
      "source": [
        "### Generalização: Add-k Smoothing"
      ]
    },
    {
      "cell_type": "code",
      "metadata": {
        "id": "St1C8Los9X4I"
      },
      "source": [
        "from nltk.lm.preprocessing import padded_everygram_pipeline\n",
        "from nltk.lm import Lidstone\n",
        "\n",
        "ngramas = 2\n",
        "k=0.1\n",
        "ngramas_pad, vocabulario = padded_everygram_pipeline(ngramas, texto_tokenizado)\n",
        "lm = Lidstone(order=ngramas, gamma=k)\n",
        "lm.fit(ngramas_pad, vocabulario)"
      ],
      "execution_count": null,
      "outputs": []
    },
    {
      "cell_type": "code",
      "metadata": {
        "colab": {
          "base_uri": "https://localhost:8080/"
        },
        "id": "Ag5hb9R8Fpew",
        "outputId": "6049216a-740d-4e47-bf99-35e31e1bb8bd"
      },
      "source": [
        "round(lm.score(\"tinha\", context=[\"caminho\"]), 2)"
      ],
      "execution_count": null,
      "outputs": [
        {
          "output_type": "execute_result",
          "data": {
            "text/plain": [
              "0.53"
            ]
          },
          "metadata": {},
          "execution_count": 33
        }
      ]
    },
    {
      "cell_type": "markdown",
      "source": [
        "**REFERÊNCIA**\n",
        "\n",
        "---"
      ],
      "metadata": {
        "id": "FKnAzWN_FdwT"
      }
    },
    {
      "cell_type": "markdown",
      "source": [
        "Notebook adaptado a partir dos slides do curso online **Linguística Computacional** elaborado por discentes e docentes do Departamento de Ciência da Computação da UFMG, gentilmente cedido pelo professor **Thiago Castro Ferreira**."
      ],
      "metadata": {
        "id": "6REMkfA-FovV"
      }
    },
    {
      "cell_type": "markdown",
      "source": [
        "Disponível a partir da **Aula 4: Modelos de Linguagem e N-gramas**"
      ],
      "metadata": {
        "id": "FBKbob3XIM9i"
      }
    },
    {
      "cell_type": "code",
      "source": [
        "from IPython.display import YouTubeVideo\n",
        "display(YouTubeVideo('T4_J6Q2E4k0', width=550, height=310))"
      ],
      "metadata": {
        "colab": {
          "base_uri": "https://localhost:8080/",
          "height": 331
        },
        "id": "pOFMMJXbHYNl",
        "outputId": "9adef88d-a37d-4a7b-f8ed-968ca816d299"
      },
      "execution_count": null,
      "outputs": [
        {
          "output_type": "display_data",
          "data": {
            "text/plain": [
              "<IPython.lib.display.YouTubeVideo at 0x7a5a2bea1ba0>"
            ],
            "text/html": [
              "\n",
              "        <iframe\n",
              "            width=\"550\"\n",
              "            height=\"310\"\n",
              "            src=\"https://www.youtube.com/embed/T4_J6Q2E4k0\"\n",
              "            frameborder=\"0\"\n",
              "            allowfullscreen\n",
              "            \n",
              "        ></iframe>\n",
              "        "
            ],
            "image/jpeg": "[encoded data removed]"
          },
          "metadata": {}
        }
      ]
    },
    {
      "cell_type": "markdown",
      "source": [
        "![image.png](data:image/png;base64,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)"
      ],
      "metadata": {
        "id": "USVUHbq_GMwb"
      }
    }
  ]
}