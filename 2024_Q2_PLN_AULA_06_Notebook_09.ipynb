{
  "nbformat": 4,
  "nbformat_minor": 0,
  "metadata": {
    "colab": {
      "provenance": [],
      "include_colab_link": true
    },
    "kernelspec": {
      "name": "python3",
      "display_name": "Python 3"
    }
  },
  "cells": [
    {
      "cell_type": "markdown",
      "metadata": {
        "id": "view-in-github",
        "colab_type": "text"
      },
      "source": [
        "<a href=\"https://colab.research.google.com/github/adalves-ufabc/2024.Q2-PLN/blob/main/2024_Q2_PLN_AULA_06_Notebook_09.ipynb\" target=\"_parent\"><img src=\"https://colab.research.google.com/assets/colab-badge.svg\" alt=\"Open In Colab\"/></a>"
      ]
    },
    {
      "cell_type": "markdown",
      "metadata": {
        "id": "Y6QILOdpOjwv"
      },
      "source": [
        "# **Processamento de Linguagem Natural [2024-Q2]**\n",
        "Prof. Alexandre Donizeti Alves"
      ]
    },
    {
      "cell_type": "markdown",
      "metadata": {
        "id": "nmK05FgcOzL2"
      },
      "source": [
        "## **Representação de Textos**\n",
        "---\n",
        "\n"
      ]
    },
    {
      "cell_type": "markdown",
      "source": [
        "A representação de textos em PLN é a forma como as informações contidas em um texto são estruturadas e organizadas para que possam ser processadas por algoritmos de computador. Essa representação é importante porque os computadores não conseguem entender textos como os seres humanos, eles precisam de uma forma estruturada de apresentação dos dados para poderem trabalhar com eles.\n",
        "\n",
        "Existem várias formas de representação de textos em PLN, e cada uma delas é adequada para diferentes tipos de tarefas."
      ],
      "metadata": {
        "id": "YKeqSx2qOxPW"
      }
    },
    {
      "cell_type": "markdown",
      "source": [
        "**Codificação *One-Hot***"
      ],
      "metadata": {
        "id": "JQxE8AmxMh-O"
      }
    },
    {
      "cell_type": "markdown",
      "source": [
        "A codificação *one-hot* é uma técnica utilizada para representar variáveis categóricas em forma de vetores numéricos binários. É uma técnica comumente utilizada em aprendizado de máquina e PLN.\n",
        "\n",
        "Nessa técnica, cada categoria é representada por um vetor binário de tamanho igual ao número total de categorias. Cada posição do vetor representa uma categoria distinta, e apenas uma posição no vetor é 1, enquanto todas as outras são 0. A posição em que o valor é 1 indica a categoria correspondente àquela posição.\n",
        "\n",
        "Por exemplo, se tivermos três categorias: \"vermelho\", \"azul\" e \"verde\", podemos usar a codificação *one-hot* para representá-las em vetores binários:\n",
        "\n",
        "    vermelho = [1, 0, 0]\n",
        "    azul = [0, 1, 0]\n",
        "    verde = [0, 0, 1]\n",
        "\n",
        "Essa técnica é útil porque permite que as variáveis categóricas sejam utilizadas como entradas para algoritmos de aprendizado de máquina que exigem dados numéricos como entrada. Além disso, a codificação *one-hot* evita que as categorias sejam erroneamente interpretadas como variáveis numéricas ordenadas, o que não é correto para a maioria das variáveis categóricas.\n",
        "\n",
        "A codificação *one-hot* pode ser usada em várias aplicações de PLN, como na representação de palavras em textos, onde cada palavra pode ser representada como um vetor binário que indica se a palavra ocorre ou não no texto. A técnica também pode ser utilizada para representar categorias de tópicos em textos ou em sistemas de recomendação baseados em conteúdo."
      ],
      "metadata": {
        "id": "5PLlouIXMmof"
      }
    },
    {
      "cell_type": "markdown",
      "source": [
        "Aqui está um exemplo simples de como usar a codificação *one-hot* para representar categorias em Python:"
      ],
      "metadata": {
        "id": "s__uuj3qOZ9Z"
      }
    },
    {
      "cell_type": "code",
      "source": [
        "from sklearn.preprocessing import OneHotEncoder\n",
        "import numpy as np\n",
        "\n",
        "# criando um conjunto de dados de exemplo\n",
        "categorias = np.array(['frutas', 'legumes', 'carnes',\n",
        "                       'frutas', 'carnes', 'legumes'])\n",
        "\n",
        "# criando um objeto de codificacao one-hot\n",
        "encoder = OneHotEncoder()\n",
        "\n",
        "# aplicando a codificacao one-hot aos dados\n",
        "categorias_encoded = encoder.fit_transform(categorias.reshape(-1, 1))\n",
        "\n",
        "# Imprimindo as categorias codificadas\n",
        "print(categorias_encoded.toarray())"
      ],
      "metadata": {
        "colab": {
          "base_uri": "https://localhost:8080/"
        },
        "id": "zUxWrMtINcqu",
        "outputId": "cf9bdb8b-b773-4d86-e942-88365b7b06cb"
      },
      "execution_count": null,
      "outputs": [
        {
          "output_type": "stream",
          "name": "stdout",
          "text": [
            "[[0. 1. 0.]\n",
            " [0. 0. 1.]\n",
            " [1. 0. 0.]\n",
            " [0. 1. 0.]\n",
            " [1. 0. 0.]\n",
            " [0. 0. 1.]]\n"
          ]
        }
      ]
    },
    {
      "cell_type": "markdown",
      "source": [
        "Neste exemplo, primeiro importamos a biblioteca `sklearn.preprocessing`, que contém a classe `OneHotEncoder`. Em seguida, é definido um conjunto de dados de exemplo, representando diferentes categorias.\n",
        "\n",
        "O próximo passo é criar um objeto `OneHotEncoder()` e aplicar a codificação *one-hot* aos dados de categorias usando o método `fit_transform()`. O resultado é uma matriz de números binários que representa cada categoria em forma de vetor *one-hot*.\n",
        "\n",
        "Por fim, imprimimos a matriz de categorias codificadas usando o método `toarray()`. O resultado deve ser uma matriz de tamanho (6, 3) (já que temos três categorias únicas), onde cada linha representa uma categoria em forma de vetor *one-hot*.\n",
        "\n"
      ],
      "metadata": {
        "id": "CUCK76BTOkEI"
      }
    },
    {
      "cell_type": "markdown",
      "source": [
        "Note que, neste exemplo, usamos o método `reshape(-1, 1)` para transformar o vetor de categorias em uma matriz de uma coluna, que é o formato esperado pelo `fit_transform()`. Além disso, usamos o método `toarray()` para converter o resultado do `fit_transform()` em uma matriz `numpy` convencional para facilitar a impressão."
      ],
      "metadata": {
        "id": "MZzyn361jk1z"
      }
    },
    {
      "cell_type": "markdown",
      "source": [
        "Aqui está outro exemplo de como usar a codificação `one-hot` em Python para representar dados categóricos:"
      ],
      "metadata": {
        "id": "Uf8Z9zyuSTkA"
      }
    },
    {
      "cell_type": "code",
      "source": [
        "import pandas as pd\n",
        "from sklearn.preprocessing import OneHotEncoder\n",
        "\n",
        "# criando um dataframe com dados categoricos\n",
        "df = pd.DataFrame({'cor': ['vermelho', 'azul', 'verde', 'verde',\n",
        "                           'vermelho', 'azul']})\n",
        "\n",
        "# criando um objeto OneHotEncoder\n",
        "encoder = OneHotEncoder()\n",
        "\n",
        "# aplicando o codificador aos dados\n",
        "dados_encoded = encoder.fit_transform(df)\n",
        "\n",
        "# imprimindo o dataframe codificado\n",
        "df_encoded = pd.DataFrame(dados_encoded.toarray(), columns=encoder.get_feature_names_out(['cor']))\n",
        "print(df_encoded)"
      ],
      "metadata": {
        "colab": {
          "base_uri": "https://localhost:8080/"
        },
        "id": "kY8Ka7GZSA91",
        "outputId": "59ca622d-6614-4fd9-f1a6-ead206d8fb50"
      },
      "execution_count": null,
      "outputs": [
        {
          "output_type": "stream",
          "name": "stdout",
          "text": [
            "   cor_azul  cor_verde  cor_vermelho\n",
            "0       0.0        0.0           1.0\n",
            "1       1.0        0.0           0.0\n",
            "2       0.0        1.0           0.0\n",
            "3       0.0        1.0           0.0\n",
            "4       0.0        0.0           1.0\n",
            "5       1.0        0.0           0.0\n"
          ]
        }
      ]
    },
    {
      "cell_type": "markdown",
      "source": [
        "Aqui está um exemplo completo de como usar a codificação `one-hot` para representar avaliações de filmes em Python usando um `DataFrame`:"
      ],
      "metadata": {
        "id": "MkZhVnLXQuU0"
      }
    },
    {
      "cell_type": "code",
      "source": [
        "import pandas as pd\n",
        "from sklearn.feature_extraction.text import CountVectorizer\n",
        "\n",
        "# criando um dataframe com as avaliacoes\n",
        "df = pd.DataFrame({'avaliacao': ['O filme foi excelente',\n",
        "                                 'A história foi um pouco confusa',\n",
        "                                 'O elenco foi muito talentoso',\n",
        "                                 'Não gostei do final do filme']})\n",
        "\n",
        "# criando um objeto CountVectorizer para extrair os recursos de texto\n",
        "vectorizer = CountVectorizer(binary=True)\n",
        "\n",
        "# aplicando o vetorizador aos dados de avaliacoes\n",
        "avaliacoes_encoded = vectorizer.fit_transform(df['avaliacao'])\n",
        "\n",
        "# imprimindo o vocabulario extraido pelo vetorizador\n",
        "print('Vocabulario:')\n",
        "print(vectorizer.get_feature_names_out())\n",
        "\n",
        "# imprimindo a matriz de avaliacoes codificadas\n",
        "print('\\nMatriz de avaliações codificadas:')\n",
        "print(avaliacoes_encoded.toarray())\n",
        "\n",
        "# criando um dataframe com as avaliacoes codificadas\n",
        "df_encoded = pd.DataFrame(avaliacoes_encoded.toarray(), columns=vectorizer.get_feature_names_out())\n",
        "\n",
        "# imprimindo o dataframe de avaliacoes codificadas\n",
        "print('\\nDataframe de avaliacoes codificadas:')\n",
        "print(df_encoded)"
      ],
      "metadata": {
        "colab": {
          "base_uri": "https://localhost:8080/"
        },
        "id": "8y4YV6ANQQZV",
        "outputId": "1022ec04-84cf-4eb8-ce3f-d72e9cde77d2"
      },
      "execution_count": null,
      "outputs": [
        {
          "output_type": "stream",
          "name": "stdout",
          "text": [
            "Vocabulario:\n",
            "['confusa' 'do' 'elenco' 'excelente' 'filme' 'final' 'foi' 'gostei'\n",
            " 'história' 'muito' 'não' 'pouco' 'talentoso' 'um']\n",
            "\n",
            "Matriz de avaliações codificadas:\n",
            "[[0 0 0 1 1 0 1 0 0 0 0 0 0 0]\n",
            " [1 0 0 0 0 0 1 0 1 0 0 1 0 1]\n",
            " [0 0 1 0 0 0 1 0 0 1 0 0 1 0]\n",
            " [0 1 0 0 1 1 0 1 0 0 1 0 0 0]]\n",
            "\n",
            "Dataframe de avaliacoes codificadas:\n",
            "   confusa  do  elenco  excelente  filme  final  foi  gostei  história  muito  \\\n",
            "0        0   0       0          1      1      0    1       0         0      0   \n",
            "1        1   0       0          0      0      0    1       0         1      0   \n",
            "2        0   0       1          0      0      0    1       0         0      1   \n",
            "3        0   1       0          0      1      1    0       1         0      0   \n",
            "\n",
            "   não  pouco  talentoso  um  \n",
            "0    0      0          0   0  \n",
            "1    0      1          0   1  \n",
            "2    0      0          1   0  \n",
            "3    1      0          0   0  \n"
          ]
        }
      ]
    },
    {
      "cell_type": "markdown",
      "source": [
        "Aqui está um exemplo simples:"
      ],
      "metadata": {
        "id": "WKycX8bRReNl"
      }
    },
    {
      "cell_type": "code",
      "source": [
        "documentos = [\"Cachorro morde homem.\",\n",
        "             \"Homem morde cachorro.\",\n",
        "             \"Cachorro come carne.\",\n",
        "             \"Homem come comida.\"]\n",
        "\n",
        "processed_docs = [doc.lower().replace(\".\",\"\") for doc in documentos]\n",
        "processed_docs"
      ],
      "metadata": {
        "colab": {
          "base_uri": "https://localhost:8080/"
        },
        "id": "inYKefeLRhgd",
        "outputId": "0999a7fa-dc5b-409d-ebfd-8f8034ebfee9"
      },
      "execution_count": null,
      "outputs": [
        {
          "output_type": "execute_result",
          "data": {
            "text/plain": [
              "['cachorro morde homem',\n",
              " 'homem morde cachorro',\n",
              " 'cachorro come carne',\n",
              " 'homem come comida']"
            ]
          },
          "metadata": {},
          "execution_count": 4
        }
      ]
    },
    {
      "cell_type": "code",
      "source": [
        "# vocabulario\n",
        "vocabulario = {}\n",
        "count = 0\n",
        "for doc in processed_docs:\n",
        "    for word in doc.split():\n",
        "        if word not in vocabulario:\n",
        "            count = count +1\n",
        "            vocabulario[word] = count"
      ],
      "metadata": {
        "id": "0Mh02MOoRl7e"
      },
      "execution_count": null,
      "outputs": []
    },
    {
      "cell_type": "code",
      "source": [
        "vocabulario"
      ],
      "metadata": {
        "colab": {
          "base_uri": "https://localhost:8080/"
        },
        "id": "nylyDal8ITeu",
        "outputId": "1ad9d9ef-cb71-4a80-a745-c8d7d061e4ee"
      },
      "execution_count": null,
      "outputs": [
        {
          "output_type": "execute_result",
          "data": {
            "text/plain": [
              "{'cachorro': 1, 'morde': 2, 'homem': 3, 'come': 4, 'carne': 5, 'comida': 6}"
            ]
          },
          "metadata": {},
          "execution_count": 10
        }
      ]
    },
    {
      "cell_type": "code",
      "source": [
        "def get_onehot_vector(somestring):\n",
        "    onehot_encoded = []\n",
        "    for word in somestring.split():\n",
        "        temp = [0]*len(vocabulario)\n",
        "        if word in vocabulario:\n",
        "            # -1 is to take care of the fact indexing in array starts from 0 and not 1\n",
        "            temp[vocabulario[word]-1] = 1\n",
        "        onehot_encoded.append(temp)\n",
        "\n",
        "    return onehot_encoded"
      ],
      "metadata": {
        "id": "jLIOve_DRsn6"
      },
      "execution_count": null,
      "outputs": []
    },
    {
      "cell_type": "code",
      "source": [
        "print(processed_docs[0])\n",
        "get_onehot_vector(processed_docs[0])"
      ],
      "metadata": {
        "colab": {
          "base_uri": "https://localhost:8080/"
        },
        "id": "x0pTjdYDRxqf",
        "outputId": "7e9fd4ae-8ce2-4b00-f64d-8bff68f5d372"
      },
      "execution_count": null,
      "outputs": [
        {
          "output_type": "stream",
          "name": "stdout",
          "text": [
            "cachorro morde homem\n"
          ]
        },
        {
          "output_type": "execute_result",
          "data": {
            "text/plain": [
              "[[1, 0, 0, 0, 0, 0], [0, 1, 0, 0, 0, 0], [0, 0, 1, 0, 0, 0]]"
            ]
          },
          "metadata": {},
          "execution_count": 12
        }
      ]
    },
    {
      "cell_type": "code",
      "source": [
        "get_onehot_vector(\"homem e cachorro são bons\")"
      ],
      "metadata": {
        "colab": {
          "base_uri": "https://localhost:8080/"
        },
        "id": "sjCUvudHR2TW",
        "outputId": "8afbe7c1-eccb-47ba-84a2-b003fa3c9d09"
      },
      "execution_count": null,
      "outputs": [
        {
          "output_type": "execute_result",
          "data": {
            "text/plain": [
              "[[0, 0, 1, 0, 0, 0],\n",
              " [0, 0, 0, 0, 0, 0],\n",
              " [1, 0, 0, 0, 0, 0],\n",
              " [0, 0, 0, 0, 0, 0],\n",
              " [0, 0, 0, 0, 0, 0]]"
            ]
          },
          "metadata": {},
          "execution_count": 13
        }
      ]
    },
    {
      "cell_type": "markdown",
      "source": [
        "***Bag of Words***"
      ],
      "metadata": {
        "id": "wYVIYFfWSgit"
      }
    },
    {
      "cell_type": "markdown",
      "source": [
        "A representação de textos *Bag of Words* é uma técnica simples e amplamente utilizada na área de PLN para representar documentos de texto como vetores numéricos que podem ser usados em algoritmos de aprendizado de máquina.\n",
        "\n",
        "A ideia básica por trás da representação *Bag of Words* é contar a frequência de ocorrência de cada palavra em um determinado texto e, em seguida, construir um vetor numérico que representa esse texto, onde cada elemento do vetor representa a frequência de uma palavra específica. Dessa forma, um documento de texto é representado como um vetor de tamanho fixo, onde cada posição do vetor representa uma palavra distinta do texto."
      ],
      "metadata": {
        "id": "qynG2keaSk4P"
      }
    },
    {
      "cell_type": "markdown",
      "source": [
        "Aqui está um exemplo de como criar uma representação *Bag of Words* usando o Python e a biblioteca `scikit-learn`:"
      ],
      "metadata": {
        "id": "MsFfy9aTUyAN"
      }
    },
    {
      "cell_type": "code",
      "source": [
        "from sklearn.feature_extraction.text import CountVectorizer\n",
        "\n",
        "# conjunto de documentos de exemplo\n",
        "documentos = ['O céu está azul e as nuvens brancas',\n",
        "              'O sol está quente e o céu está azul',\n",
        "              'As nuvens são brancas e o sol está quente']\n",
        "\n",
        "# criando um objeto CountVectorizer\n",
        "vectorizer = CountVectorizer()\n",
        "\n",
        "# aplicando o vetorizador aos documentos\n",
        "bag_of_words = vectorizer.fit_transform(documentos)\n",
        "\n",
        "# imprimindo o vocabulario\n",
        "vocabulario = vectorizer.get_feature_names_out()\n",
        "print(\"Vocabulario:\")\n",
        "print(vocabulario)\n",
        "\n",
        "# imprimindo a representacao Bag-of-Words dos documentos\n",
        "print(\"Representacao Bag-of-Words:\")\n",
        "print(bag_of_words.toarray())"
      ],
      "metadata": {
        "colab": {
          "base_uri": "https://localhost:8080/"
        },
        "id": "77ZpQDoCVFt9",
        "outputId": "13a8649e-2a2c-4e66-8614-41654e67d30c"
      },
      "execution_count": null,
      "outputs": [
        {
          "output_type": "stream",
          "name": "stdout",
          "text": [
            "Vocabulario:\n",
            "['as' 'azul' 'brancas' 'céu' 'está' 'nuvens' 'quente' 'sol' 'são']\n",
            "Representacao Bag-of-Words:\n",
            "[[1 1 1 1 1 1 0 0 0]\n",
            " [0 1 0 1 2 0 1 1 0]\n",
            " [1 0 1 0 1 1 1 1 1]]\n"
          ]
        }
      ]
    },
    {
      "cell_type": "code",
      "source": [
        "from sklearn.feature_extraction.text import CountVectorizer\n",
        "\n",
        "# conjunto de documentos de exemplo\n",
        "documentos = ['Cachorro morde homem',\n",
        "              'Homem morde cachorro',\n",
        "              'Cachorro come carne',\n",
        "              'Homem come comida']\n",
        "\n",
        "# criando um objeto CountVectorizer\n",
        "vectorizer = CountVectorizer()\n",
        "\n",
        "# aplicando o vetorizador aos documentos\n",
        "bag_of_words = vectorizer.fit_transform(documentos)\n",
        "\n",
        "# imprimindo o vocabulario\n",
        "vocabulario = vectorizer.get_feature_names_out()\n",
        "print(\"Vocabulario:\")\n",
        "print(vocabulario)\n",
        "\n",
        "# imprimindo a representacao Bag-of-Words dos documentos\n",
        "print(\"Representacao Bag-of-Words:\")\n",
        "print(bag_of_words.toarray())"
      ],
      "metadata": {
        "colab": {
          "base_uri": "https://localhost:8080/"
        },
        "id": "Z0Bv4CkAVo5H",
        "outputId": "6025fdea-8aca-4cb2-a610-9c172803f579"
      },
      "execution_count": null,
      "outputs": [
        {
          "output_type": "stream",
          "name": "stdout",
          "text": [
            "Vocabulario:\n",
            "['cachorro' 'carne' 'come' 'comida' 'homem' 'morde']\n",
            "Representacao Bag-of-Words:\n",
            "[[1 0 0 0 1 1]\n",
            " [1 0 0 0 1 1]\n",
            " [1 1 1 0 0 0]\n",
            " [0 0 1 1 1 0]]\n"
          ]
        }
      ]
    },
    {
      "cell_type": "markdown",
      "source": [
        "Aqui está um exemplo de como criar uma representação *Bag of Words* usando a biblioteca NLTK do Python:"
      ],
      "metadata": {
        "id": "C7DCTL7iXbb2"
      }
    },
    {
      "cell_type": "code",
      "source": [
        "import nltk\n",
        "\n",
        "nltk.download('punkt')"
      ],
      "metadata": {
        "colab": {
          "base_uri": "https://localhost:8080/"
        },
        "id": "1B_QaimhXpVm",
        "outputId": "ed46d06a-1731-41a2-dcb6-f67f1120f1b6"
      },
      "execution_count": null,
      "outputs": [
        {
          "output_type": "stream",
          "name": "stderr",
          "text": [
            "[nltk_data] Downloading package punkt to /root/nltk_data...\n",
            "[nltk_data]   Unzipping tokenizers/punkt.zip.\n"
          ]
        },
        {
          "output_type": "execute_result",
          "data": {
            "text/plain": [
              "True"
            ]
          },
          "metadata": {},
          "execution_count": 16
        }
      ]
    },
    {
      "cell_type": "code",
      "source": [
        "import nltk\n",
        "from nltk.tokenize import word_tokenize\n",
        "from collections import Counter\n",
        "\n",
        "# conjunto de documentos de exemplo\n",
        "documentos = ['O céu está azul e as nuvens brancas',\n",
        "              'O sol está quente e o céu está azul',\n",
        "              'As nuvens são brancas e o sol está quente']\n",
        "\n",
        "# tokenizando os documentos\n",
        "tokens = [word_tokenize(doc.lower()) for doc in documentos]\n",
        "\n",
        "# criando um vocabulario a partir dos tokens\n",
        "vocabulario = sorted(set([token for doc in tokens for token in doc]))\n",
        "\n",
        "# criando a representação Bag-of-Words dos documentos\n",
        "bow = []\n",
        "for doc in tokens:\n",
        "    contador = Counter(doc)\n",
        "    bag_of_words = [contador[token] if token in doc else 0 for token in vocabulario]\n",
        "    bow.append(bag_of_words)\n",
        "\n",
        "# Imprimindo o vocabulário\n",
        "print(\"Vocabulario:\")\n",
        "print(vocabulario)\n",
        "\n",
        "# imprimindo a representacao Bag-of-Words dos documentos\n",
        "print(\"Representacao Bag-of-Words:\")\n",
        "for i, doc in enumerate(bow):\n",
        "    print(f\"Documento {i+1}: {doc}\")"
      ],
      "metadata": {
        "colab": {
          "base_uri": "https://localhost:8080/"
        },
        "id": "YH831fmHXhW9",
        "outputId": "b24f8d15-773b-46b8-873f-99b524377871"
      },
      "execution_count": null,
      "outputs": [
        {
          "output_type": "stream",
          "name": "stdout",
          "text": [
            "Vocabulario:\n",
            "['as', 'azul', 'brancas', 'céu', 'e', 'está', 'nuvens', 'o', 'quente', 'sol', 'são']\n",
            "Representacao Bag-of-Words:\n",
            "Documento 1: [1, 1, 1, 1, 1, 1, 1, 1, 0, 0, 0]\n",
            "Documento 2: [0, 1, 0, 1, 1, 2, 0, 2, 1, 1, 0]\n",
            "Documento 3: [1, 0, 1, 0, 1, 1, 1, 1, 1, 1, 1]\n"
          ]
        }
      ]
    },
    {
      "cell_type": "code",
      "source": [
        "import nltk\n",
        "from nltk.tokenize import word_tokenize\n",
        "from collections import Counter\n",
        "\n",
        "# conjunto de documentos de exemplo\n",
        "documentos = ['Cachorro morde homem',\n",
        "              'Homem morde cachorro',\n",
        "              'Cachorro come carne',\n",
        "              'Homem come comida']\n",
        "\n",
        "# tokenizando os documentos\n",
        "tokens = [word_tokenize(doc.lower()) for doc in documentos]\n",
        "\n",
        "# criando um vocabulario a partir dos tokens\n",
        "vocabulario = sorted(set([token for doc in tokens for token in doc]))\n",
        "\n",
        "# criando a representacao Bag-of-Words dos documentos\n",
        "bow = []\n",
        "for doc in tokens:\n",
        "    contador = Counter(doc)\n",
        "    bag_of_words = [contador[token] if token in doc else 0 for token in vocabulario]\n",
        "    bow.append(bag_of_words)\n",
        "\n",
        "# imprimindo o vocabulario\n",
        "print(\"Vocabulario:\")\n",
        "print(vocabulario)\n",
        "\n",
        "# imprimindo a representacao Bag-of-Words dos documentos\n",
        "print(\"Representacao Bag-of-Words:\")\n",
        "for i, doc in enumerate(bow):\n",
        "    print(f\"Documento {i+1}: {doc}\")"
      ],
      "metadata": {
        "colab": {
          "base_uri": "https://localhost:8080/"
        },
        "id": "kErcpCgWX0rV",
        "outputId": "6cc72e4e-96cb-4bd4-cc52-60686bc8a2d3"
      },
      "execution_count": null,
      "outputs": [
        {
          "output_type": "stream",
          "name": "stdout",
          "text": [
            "Vocabulario:\n",
            "['cachorro', 'carne', 'come', 'comida', 'homem', 'morde']\n",
            "Representacao Bag-of-Words:\n",
            "Documento 1: [1, 0, 0, 0, 1, 1]\n",
            "Documento 2: [1, 0, 0, 0, 1, 1]\n",
            "Documento 3: [1, 1, 1, 0, 0, 0]\n",
            "Documento 4: [0, 0, 1, 1, 1, 0]\n"
          ]
        }
      ]
    },
    {
      "cell_type": "code",
      "source": [
        "# Testando com um novo documento que tem uma palavra fora do vocabulário\n",
        "novo_doc = \"Cachorro briga com gato\"\n",
        "novo_tokens = word_tokenize(novo_doc.lower())\n",
        "novo_bow = [0 for _ in range(len(vocabulario))]\n",
        "for token in novo_tokens:\n",
        "    if token in vocabulario:\n",
        "        novo_bow[vocabulario.index(token)] += 1\n",
        "\n",
        "print(f\"Representacao Bag-of-Words do novo documento: {novo_bow}\")"
      ],
      "metadata": {
        "colab": {
          "base_uri": "https://localhost:8080/"
        },
        "id": "ahgsqLVBYwrW",
        "outputId": "acf13414-30c8-4a8f-8fb1-6f1383d15d5f"
      },
      "execution_count": null,
      "outputs": [
        {
          "output_type": "stream",
          "name": "stdout",
          "text": [
            "Representacao Bag-of-Words do novo documento: [1, 0, 0, 0, 0, 0]\n"
          ]
        }
      ]
    },
    {
      "cell_type": "markdown",
      "source": [
        "Notem que para palavras que não estão no vocabulário, simplesmente deixamos o valor correspondente como zero."
      ],
      "metadata": {
        "id": "Fe0mkEpqZNqm"
      }
    },
    {
      "cell_type": "markdown",
      "source": [
        "Aqui está um exemplo interessante de como usar a representação *Bag of Words* para comparar a similaridade entre documentos:"
      ],
      "metadata": {
        "id": "tIpiz-pgZeUo"
      }
    },
    {
      "cell_type": "code",
      "source": [
        "import nltk\n",
        "from nltk.tokenize import word_tokenize\n",
        "from collections import Counter\n",
        "import numpy as np\n",
        "from sklearn.metrics.pairwise import cosine_similarity\n",
        "\n",
        "# conjunto de documentos de exemplo\n",
        "documentos = ['O céu está azul e as nuvens brancas',\n",
        "              'O sol está quente e o céu está azul',\n",
        "              'As nuvens são brancas e o sol está quente',\n",
        "              'O cachorro corre no parque',\n",
        "              'O gato dorme no tapete']\n",
        "\n",
        "# tokenizando os documentos\n",
        "tokens = [word_tokenize(doc.lower()) for doc in documentos]\n",
        "\n",
        "# criando um vocabulario a partir dos tokens\n",
        "vocabulario = sorted(set([token for doc in tokens for token in doc]))\n",
        "\n",
        "# criando a representacao Bag-of-Words dos documentos\n",
        "bow = []\n",
        "for doc in tokens:\n",
        "    contador = Counter(doc)\n",
        "    bag_of_words = [contador[token] if token in doc else 0 for token in vocabulario]\n",
        "    bow.append(bag_of_words)\n",
        "\n",
        "# calculando a similaridade de cosseno entre todos os pares de documentos\n",
        "similarity_matrix = cosine_similarity(np.array(bow))\n",
        "\n",
        "# imprimindo a matriz de similaridade\n",
        "print(\"Matriz de similaridade:\")\n",
        "print(similarity_matrix)"
      ],
      "metadata": {
        "colab": {
          "base_uri": "https://localhost:8080/"
        },
        "id": "vX1Wkx7nZo7F",
        "outputId": "ebef5870-3270-4725-fe04-7ad3adfa31a7"
      },
      "execution_count": null,
      "outputs": [
        {
          "output_type": "stream",
          "name": "stdout",
          "text": [
            "Matriz de similaridade:\n",
            "[[1.         0.68640647 0.70710678 0.15811388 0.15811388]\n",
            " [0.68640647 1.         0.64715023 0.24806947 0.24806947]\n",
            " [0.70710678 0.64715023 1.         0.1490712  0.1490712 ]\n",
            " [0.15811388 0.24806947 0.1490712  1.         0.4       ]\n",
            " [0.15811388 0.24806947 0.1490712  0.4        1.        ]]\n"
          ]
        }
      ]
    },
    {
      "cell_type": "markdown",
      "source": [
        "No exemplo acima, temos cinco documentos. A diagonal principal da matriz de similaridade é sempre igual a 1, pois um documento é sempre idêntico a ele mesmo. As outras entradas da matriz de similaridade representam a similaridade entre dois documentos."
      ],
      "metadata": {
        "id": "6NhwsMhIZ0Ji"
      }
    },
    {
      "cell_type": "markdown",
      "source": [
        "***Bag of N-grams***"
      ],
      "metadata": {
        "id": "jsj2Wl-aaK6F"
      }
    },
    {
      "cell_type": "markdown",
      "source": [
        "A representação \"*bag of n-grams*\" é baseada na ideia de que o significado de uma palavra ou termo pode ser parcialmente inferido a partir dos outros termos que aparecem nas proximidades. Dessa forma, ao invés de considerar apenas as palavras individuais em um documento de texto, a representação \"*bag of n-grams*\" considera sequências de n palavras (ou \"*n-grams*\") que aparecem no documento.\n",
        "\n",
        "Por exemplo, para n=2, os \"bigramas\" seriam considerados, e para a frase \"O gato preto pulou o muro\", os bigramas seriam \"O gato\", \"gato preto\", \"preto pulou\", \"pulou o\", e \"o muro\". O número de bigramas em um documento pode variar, mas a ideia é contar quantas vezes cada bigrama aparece no documento.\n",
        "\n",
        "Dessa forma, a representação \"*bag of n-grams*\" é uma representação baseada em contagem, que lista cada bigrama (ou n-grama) encontrado no documento, e o número de vezes que ele aparece. Essa representação é frequentemente transformada em um vetor numérico, onde cada posição no vetor corresponde a um bigrama, e o valor na posição indica o número de vezes que o bigrama apareceu no documento.\n",
        "\n",
        "Essa representação é útil para análise de texto porque é capaz de capturar informações semânticas e de contexto que seriam perdidas se considerássemos apenas as palavras isoladas. Além disso, é uma representação simples e fácil de ser calculada a partir de textos brutos, o que a torna uma técnica popular em diversas aplicações de PLN."
      ],
      "metadata": {
        "id": "vADv7wE49Wj7"
      }
    },
    {
      "cell_type": "markdown",
      "source": [
        "Aqui está um exemplo simples de como utilizar a representação \"*bag of n-grams*\" em Python:"
      ],
      "metadata": {
        "id": "Z6SB5SNn98ik"
      }
    },
    {
      "cell_type": "code",
      "source": [
        "from sklearn.feature_extraction.text import CountVectorizer\n",
        "\n",
        "# definir uma lista de frases de exemplo\n",
        "sentences = [\"Cachorro morde homem\",\n",
        "             \"Homem morde cachorro\"]\n",
        "\n",
        "# criar um objeto CountVectorizer para gerar a representacao \"bag of n-grams\"\n",
        "vectorizer = CountVectorizer(ngram_range=(1, 2))\n",
        "\n",
        "# aplicar o vetorizador às frases para gerar a matriz de contagem\n",
        "X = vectorizer.fit_transform(sentences)\n",
        "\n",
        "# visualizar a matriz de contagem\n",
        "print(X.toarray())\n",
        "\n",
        "# visualizar o vocabulario de bigramas gerado pelo vetorizador\n",
        "print(vectorizer.get_feature_names_out())"
      ],
      "metadata": {
        "colab": {
          "base_uri": "https://localhost:8080/"
        },
        "id": "4GRDCY9tCeK_",
        "outputId": "deb5990f-6d5d-4b3d-88c7-219834d126c2"
      },
      "execution_count": null,
      "outputs": [
        {
          "output_type": "stream",
          "name": "stdout",
          "text": [
            "[[1 1 1 0 1 0 1]\n",
            " [1 0 1 1 1 1 0]]\n",
            "['cachorro' 'cachorro morde' 'homem' 'homem morde' 'morde'\n",
            " 'morde cachorro' 'morde homem']\n"
          ]
        }
      ]
    },
    {
      "cell_type": "markdown",
      "source": [
        "Aqui está um exemplo de código em Python que utiliza a representação \"*bag of n-grams*\" para processar um documento de texto:"
      ],
      "metadata": {
        "id": "Ycq6srbyCi5x"
      }
    },
    {
      "cell_type": "code",
      "source": [
        "from sklearn.feature_extraction.text import CountVectorizer\n",
        "\n",
        "# definir uma lista de documentos de texto de exemplo\n",
        "docs = [\"O gato preto pulou o muro\",\n",
        "        \"O cachorro marrom correu atrás do gato\",\n",
        "        \"O pássaro voou alto no céu\"]\n",
        "\n",
        "# criar um objeto CountVectorizer para gerar a representacao \"bag of n-grams\"\n",
        "vectorizer = CountVectorizer(ngram_range=(1, 2)) # considera unigramas e bigramas\n",
        "\n",
        "# aplicar o vetorizador aos documentos para gerar a matriz de contagem\n",
        "X = vectorizer.fit_transform(docs)\n",
        "\n",
        "# visualizar a matriz de contagem\n",
        "print(X.toarray())\n",
        "\n",
        "# visualizar o vocabulario de bigramas gerado pelo vetorizador\n",
        "print(vectorizer.get_feature_names_out())"
      ],
      "metadata": {
        "colab": {
          "base_uri": "https://localhost:8080/"
        },
        "id": "ysXKxLCcAtvX",
        "outputId": "b9c39502-956c-4e92-b654-154c98e54f08"
      },
      "execution_count": null,
      "outputs": [
        {
          "output_type": "stream",
          "name": "stdout",
          "text": [
            "[[0 0 0 0 0 0 0 0 0 0 0 1 1 0 0 1 0 0 1 1 1 1 0 0 0 0]\n",
            " [0 0 1 1 1 1 1 1 0 1 1 1 0 1 1 0 0 0 0 0 0 0 0 0 0 0]\n",
            " [1 1 0 0 0 0 0 0 1 0 0 0 0 0 0 0 1 1 0 0 0 0 1 1 1 1]]\n",
            "['alto' 'alto no' 'atrás' 'atrás do' 'cachorro' 'cachorro marrom' 'correu'\n",
            " 'correu atrás' 'céu' 'do' 'do gato' 'gato' 'gato preto' 'marrom'\n",
            " 'marrom correu' 'muro' 'no' 'no céu' 'preto' 'preto pulou' 'pulou'\n",
            " 'pulou muro' 'pássaro' 'pássaro voou' 'voou' 'voou alto']\n"
          ]
        }
      ]
    },
    {
      "cell_type": "markdown",
      "source": [
        "Nesse exemplo, utilizamos a biblioteca `Scikit-learn` para criar um objeto `CountVectorizer`, que é responsável por gerar a representação \"*bag of n-grams*\" dos documentos de texto.\n",
        "\n",
        "Definimos uma lista de documentos de exemplo e criamos o objeto `CountVectorizer`, especificando que queremos considerar tanto unigramas quanto bigramas. Em seguida, aplicamos o vetorizador aos documentos para gerar a matriz de contagem, que contém a contagem de cada bigrama (e unigrama) em cada documento.\n",
        "\n",
        "Por fim, imprimimos a matriz de contagem e o vocabulário gerado pelo vetorizador (unigramas e bigramas). A matriz de contagem é uma matriz numérica onde cada linha corresponde a um documento e cada coluna corresponde a um bigrama (ou unigrama)."
      ],
      "metadata": {
        "id": "D6Exv2CFBj63"
      }
    },
    {
      "cell_type": "markdown",
      "source": [
        "Aqui está um exemplo de como utilizar a representação \"*bag of n-grams*\" utilizando o pacote `NLTK`:"
      ],
      "metadata": {
        "id": "1hm3Ua-faNyq"
      }
    },
    {
      "cell_type": "code",
      "source": [
        "import nltk\n",
        "\n",
        "nltk.download('punkt')"
      ],
      "metadata": {
        "colab": {
          "base_uri": "https://localhost:8080/"
        },
        "id": "S19mfxbgabnd",
        "outputId": "30c52261-42f5-4732-8697-e1cc3453095c"
      },
      "execution_count": null,
      "outputs": [
        {
          "output_type": "stream",
          "name": "stderr",
          "text": [
            "[nltk_data] Downloading package punkt to /root/nltk_data...\n",
            "[nltk_data]   Package punkt is already up-to-date!\n"
          ]
        },
        {
          "output_type": "execute_result",
          "data": {
            "text/plain": [
              "True"
            ]
          },
          "metadata": {},
          "execution_count": 25
        }
      ]
    },
    {
      "cell_type": "code",
      "source": [
        "import nltk\n",
        "from nltk import word_tokenize\n",
        "from nltk.util import ngrams\n",
        "from collections import Counter\n",
        "\n",
        "# definir uma lista de frases de exemplo\n",
        "sentences = [\"Este é um exemplo simples\",\n",
        "             \"Este é outro exemplo simples\",\n",
        "             \"Este exemplo é mais complexo\"]\n",
        "\n",
        "# tokenizar cada frase em palavras\n",
        "tokenized_sentences = [word_tokenize(sentence.lower()) for sentence in sentences]\n",
        "\n",
        "# gerar bigramas para cada frase tokenizada\n",
        "all_bigrams = []\n",
        "for tokenized_sentence in tokenized_sentences:\n",
        "    bigrams = ngrams(tokenized_sentence, 2)\n",
        "    all_bigrams += bigrams\n",
        "\n",
        "# contar a frequencia de cada bigrama em todos as frases\n",
        "bigram_counts = Counter(all_bigrams)\n",
        "\n",
        "# imprimir o vocabulario de bigramas\n",
        "vocabulary = list(bigram_counts.keys())\n",
        "print(vocabulary)\n",
        "\n",
        "# criar um vetor com as contagens de cada bigrama para cada frase\n",
        "vectors = []\n",
        "for tokenized_sentence in tokenized_sentences:\n",
        "    sentence_bigrams = ngrams(tokenized_sentence, 2)\n",
        "    sentence_bigram_counts = Counter(sentence_bigrams)\n",
        "    sentence_vector = [sentence_bigram_counts[bigram] for bigram in bigram_counts.keys()]\n",
        "    vectors.append(sentence_vector)\n",
        "\n",
        "# imprimir a matriz de contagens de bigramas\n",
        "print(vectors)"
      ],
      "metadata": {
        "colab": {
          "base_uri": "https://localhost:8080/"
        },
        "id": "no5nR75HbTJZ",
        "outputId": "05b997f3-5877-486d-b669-b15aa5b770f1"
      },
      "execution_count": null,
      "outputs": [
        {
          "output_type": "stream",
          "name": "stdout",
          "text": [
            "[('este', 'é'), ('é', 'um'), ('um', 'exemplo'), ('exemplo', 'simples'), ('é', 'outro'), ('outro', 'exemplo'), ('este', 'exemplo'), ('exemplo', 'é'), ('é', 'mais'), ('mais', 'complexo')]\n",
            "[[1, 1, 1, 1, 0, 0, 0, 0, 0, 0], [1, 0, 0, 1, 1, 1, 0, 0, 0, 0], [0, 0, 0, 0, 0, 0, 1, 1, 1, 1]]\n"
          ]
        }
      ]
    },
    {
      "cell_type": "markdown",
      "source": [
        "Suponha que você tenha uma lista de tweets e deseje identificar os tópicos mais discutidos. Você pode usar a representação \"*bag of n-grams*\" para extrair os bigramas mais comuns e, em seguida, visualizá-los em um gráfico de nuvem de palavras."
      ],
      "metadata": {
        "id": "DffoRFWIdKet"
      }
    },
    {
      "cell_type": "code",
      "source": [
        "import matplotlib.pyplot as plt\n",
        "from wordcloud import WordCloud\n",
        "from sklearn.feature_extraction.text import CountVectorizer\n",
        "\n",
        "# definir uma lista de tweets de exemplo\n",
        "tweets = [\"A eleição presidencial está se aproximando\",\n",
        "          \"Os candidatos estão participando de debates\",\n",
        "          \"A economia é um dos principais temas entre os candidatos\",\n",
        "          \"A saúde também é um tema importante para os candidatos\",\n",
        "          \"Houve acusações de corrupção entre os candidatos\"]\n",
        "\n",
        "# criar um objeto CountVectorizer para extrair bigramas\n",
        "vectorizer = CountVectorizer(ngram_range=(2, 2))\n",
        "bigram_matrix = vectorizer.fit_transform(tweets)\n",
        "\n",
        "# obter as palavras e contagens de bigramas mais comuns\n",
        "bigram_counts = zip(vectorizer.get_feature_names_out(), bigram_matrix.sum(axis=0).A1)\n",
        "top_bigrams = sorted(bigram_counts, key=lambda x: x[1], reverse=True)[:10]\n",
        "\n",
        "# Imprimir os 10 bigramas mais comuns\n",
        "for bigram, count in top_bigrams:\n",
        "    print(f\"{bigram}: {count}\")\n"
      ],
      "metadata": {
        "colab": {
          "base_uri": "https://localhost:8080/"
        },
        "id": "gH2z8fhqp0Wj",
        "outputId": "5402472a-cea4-449a-a28a-839ee7f77da2"
      },
      "execution_count": null,
      "outputs": [
        {
          "output_type": "stream",
          "name": "stdout",
          "text": [
            "os candidatos: 4\n",
            "entre os: 2\n",
            "acusações de: 1\n",
            "candidatos estão: 1\n",
            "corrupção entre: 1\n",
            "de corrupção: 1\n",
            "de debates: 1\n",
            "dos principais: 1\n",
            "economia um: 1\n",
            "eleição presidencial: 1\n"
          ]
        }
      ]
    },
    {
      "cell_type": "code",
      "source": [
        "# criar um grafico de nuvem de palavras com os bigramas mais comuns\n",
        "wordcloud = WordCloud(width=800, height=400, background_color='white').generate_from_frequencies(dict(top_bigrams))\n",
        "plt.figure(figsize=(12,8))\n",
        "plt.imshow(wordcloud, interpolation='bilinear')\n",
        "plt.axis(\"off\")\n",
        "plt.show()"
      ],
      "metadata": {
        "colab": {
          "base_uri": "https://localhost:8080/",
          "height": 501
        },
        "id": "R6tEMVATqMun",
        "outputId": "a8cd5a67-934c-4872-b740-975d44619f27"
      },
      "execution_count": null,
      "outputs": [
        {
          "output_type": "display_data",
          "data": {
            "text/plain": [
              "<Figure size 1200x800 with 1 Axes>"
            ],
            "image/png": "[encoded data removed]"
          },
          "metadata": {}
        }
      ]
    },
    {
      "cell_type": "markdown",
      "source": [
        "***TF-IDF***"
      ],
      "metadata": {
        "id": "JfOq2KqpaMEE"
      }
    },
    {
      "cell_type": "markdown",
      "source": [
        "**TF-IDF** (*Term Frequency-Inverse Document Frequency*) é uma técnica de processamento de texto que mede a relevância de um termo em um documento ou córpus, com base na frequência em que o termo aparece no documento e no conjunto de documentos.\n",
        "\n",
        "A representação **TF-IDF** consiste em dois componentes:\n",
        "\n",
        "  * **Frequência do termo (TF)**: a frequência do termo refere-se à contagem do número de vezes que um determinado termo aparece em um documento. É calculada dividindo o número de vezes que um termo aparece pelo número total de termos no documento. Esse cálculo ajuda a determinar a importância de um termo em um determinado documento.\n",
        "\n",
        "  * **Frequência inversa do documento (IDF)**: a frequência inversa do documento é usada para medir a raridade de um termo em todo o conjunto de documentos. Ela é calculada dividindo o número total de documentos pelo número de documentos em que o termo aparece. O resultado é passado por uma função logarítmica para evitar a amplificação excessiva de termos muito raros ou muito comuns.\n",
        "\n",
        "A representação **TF-IDF** é obtida multiplicando-se a frequência do termo (TF) pela frequência inversa do documento (IDF). Isso ajuda a atribuir um peso maior aos termos que aparecem com menos frequência em todo o conjunto de documentos e, portanto, são mais discriminativos e informativos."
      ],
      "metadata": {
        "id": "ZTmQyLOredWr"
      }
    },
    {
      "cell_type": "markdown",
      "source": [
        "O resultado do **TF-IDF** é importante porque ele ajuda a identificar os termos mais importantes em um documento ou conjunto de documentos. Esses termos mais importantes podem ser usados para várias tarefas de processamento de texto, como recuperação de informações, classificação de documentos, agrupamento de documentos e análise de sentimentos.\n",
        "\n",
        "Por exemplo, em uma tarefa de recuperação de informações, o **TF-IDF** pode ser usado para identificar os documentos mais relevantes para uma determinada consulta de pesquisa, atribuindo uma pontuação a cada documento com base na presença dos termos da consulta e em sua importância relativa nos documentos. Isso pode ajudar a melhorar a precisão da recuperação de informações.\n",
        "\n",
        "Da mesma forma, em uma tarefa de classificação de documentos, o **TF-IDF** pode ser usado para identificar os termos mais discriminativos e informativos para cada classe de documentos e, em seguida, usá-los para treinar um modelo de classificação que possa classificar novos documentos em suas respectivas classes.\n",
        "\n",
        "Em resumo, o resultado do **TF-IDF** é importante porque ajuda a identificar os termos mais importantes em um documento ou conjunto de documentos e, em seguida, usá-los para várias tarefas de processamento de texto, melhorando a precisão e a eficiência dessas tarefas."
      ],
      "metadata": {
        "id": "Tn7UGa-fewtO"
      }
    },
    {
      "cell_type": "markdown",
      "source": [
        "**TF-IDF** é o produto desses dois valores (TF e IDF). O **TF-IDF** atribui uma pontuação a cada termo em um documento, dando maior peso a termos que aparecem com frequência no documento em questão, mas raramente em outros documentos no córpus.\n",
        "\n",
        "* **Maior Valor de TF-IDF**: indica que o termo é mais relevante ou\n",
        "importante para o documento em análise. Isso ocorre quando um termo é frequente no documento em questão, mas raro nos outros documentos do córpus. Isso significa que o termo é mais específico para o documento, fornecendo informações distintas e relevantes.\n",
        "\n",
        "* **Menor Valor de TF-IDF**: indica que o termo é menos relevante ou menos distintivo para o documento em análise. Isso acontece quando um termo é comum, aparecendo em vários documentos do córpus. Isso sugere que o termo não fornece muita informação exclusiva sobre o documento, já que é encontrado em muitos outros documentos também.\n",
        "\n"
      ],
      "metadata": {
        "id": "Hd31kJRhZDuH"
      }
    },
    {
      "cell_type": "markdown",
      "source": [
        "Em **resumo**, um **alto valor de TF-IDF** para um termo indica que ele é mais raro e mais relevante para o documento específico, enquanto um **valor baixo de TF-IDF** sugere que o termo é mais comum e menos distintivo para aquele documento em relação ao conjunto de documentos."
      ],
      "metadata": {
        "id": "TsmkFhoxZho4"
      }
    },
    {
      "cell_type": "markdown",
      "source": [
        "Aqui está um exemplo simples de como implementar a representação **TF-IDF** em Python usando a biblioteca `scikit-learn`:"
      ],
      "metadata": {
        "id": "3VkSuMMLg3nF"
      }
    },
    {
      "cell_type": "code",
      "source": [
        "from sklearn.feature_extraction.text import TfidfVectorizer\n",
        "\n",
        "# lista de documentos\n",
        "documents = [\n",
        "  \"Este é um exemplo de documento.\",\n",
        "  \"Outro exemplo de documento.\",\n",
        "  \"E mais um exemplo de documento.\"\n",
        "]\n",
        "\n",
        "# criar um vetorizador TF-IDF\n",
        "vectorizer = TfidfVectorizer()\n",
        "\n",
        "# fit_transform() retorna a matriz tf-idf\n",
        "tf_idf_matrix = vectorizer.fit_transform(documents)\n",
        "\n",
        "# exibir a matriz tf-idf\n",
        "print(tf_idf_matrix)"
      ],
      "metadata": {
        "colab": {
          "base_uri": "https://localhost:8080/"
        },
        "id": "9aUnvKuEhMIS",
        "outputId": "a34ac61b-580c-4516-8a72-1ec9de467904"
      },
      "execution_count": null,
      "outputs": [
        {
          "output_type": "stream",
          "name": "stdout",
          "text": [
            "  (0, 1)\t0.3645443967613799\n",
            "  (0, 0)\t0.3645443967613799\n",
            "  (0, 3)\t0.3645443967613799\n",
            "  (0, 6)\t0.4694172843223779\n",
            "  (0, 2)\t0.6172273175654565\n",
            "  (1, 5)\t0.6990303272568005\n",
            "  (1, 1)\t0.4128585720620119\n",
            "  (1, 0)\t0.4128585720620119\n",
            "  (1, 3)\t0.4128585720620119\n",
            "  (2, 4)\t0.6172273175654565\n",
            "  (2, 1)\t0.3645443967613799\n",
            "  (2, 0)\t0.3645443967613799\n",
            "  (2, 3)\t0.3645443967613799\n",
            "  (2, 6)\t0.4694172843223779\n"
          ]
        }
      ]
    },
    {
      "cell_type": "code",
      "source": [
        "vectorizer.get_feature_names_out()"
      ],
      "metadata": {
        "colab": {
          "base_uri": "https://localhost:8080/"
        },
        "id": "IkkMs9uzRCbs",
        "outputId": "8c5055df-54db-403e-cf08-50748aa51254"
      },
      "execution_count": null,
      "outputs": [
        {
          "output_type": "execute_result",
          "data": {
            "text/plain": [
              "array(['de', 'documento', 'este', 'exemplo', 'mais', 'outro', 'um'],\n",
              "      dtype=object)"
            ]
          },
          "metadata": {},
          "execution_count": 30
        }
      ]
    },
    {
      "cell_type": "code",
      "source": [
        "print(np.round(tf_idf_matrix.toarray(), 2))"
      ],
      "metadata": {
        "colab": {
          "base_uri": "https://localhost:8080/"
        },
        "id": "CAMn9GJiSKSj",
        "outputId": "862ecf5d-123f-4b9b-8e3b-b27fd634c900"
      },
      "execution_count": null,
      "outputs": [
        {
          "output_type": "stream",
          "name": "stdout",
          "text": [
            "[[0.36 0.36 0.62 0.36 0.   0.   0.47]\n",
            " [0.41 0.41 0.   0.41 0.   0.7  0.  ]\n",
            " [0.36 0.36 0.   0.36 0.62 0.   0.47]]\n"
          ]
        }
      ]
    },
    {
      "cell_type": "markdown",
      "source": [
        "Neste exemplo, estamos criando uma matriz de representação **TF-IDF** para uma lista de três documentos simples. A saída será uma matriz esparsa, na qual cada linha representa um documento e cada coluna representa uma palavra. Os valores na matriz representam o peso **TF-IDF** para cada palavra em cada documento."
      ],
      "metadata": {
        "id": "D3UMX6Qzh12a"
      }
    },
    {
      "cell_type": "markdown",
      "source": [
        "Aqui está um exemplo de como você pode converter a matriz esparsa resultante em uma matriz densa e visualizá-la:"
      ],
      "metadata": {
        "id": "vVbD7JzAiNt9"
      }
    },
    {
      "cell_type": "code",
      "source": [
        "import numpy as np\n",
        "\n",
        "# converter a matriz esparsa em uma matriz densa\n",
        "dense_matrix = tf_idf_matrix.todense()\n",
        "\n",
        "# criar um array com os nomes das palavras\n",
        "feature_names = vectorizer.get_feature_names_out()\n",
        "\n",
        "# exibir a matriz densa\n",
        "print(np.round(dense_matrix, 2))"
      ],
      "metadata": {
        "colab": {
          "base_uri": "https://localhost:8080/"
        },
        "id": "JXXR6Tz2iDbE",
        "outputId": "82f22f70-122f-4511-aa55-2158e0230cd1"
      },
      "execution_count": null,
      "outputs": [
        {
          "output_type": "stream",
          "name": "stdout",
          "text": [
            "[[0.36 0.36 0.62 0.36 0.   0.   0.47]\n",
            " [0.41 0.41 0.   0.41 0.   0.7  0.  ]\n",
            " [0.36 0.36 0.   0.36 0.62 0.   0.47]]\n"
          ]
        }
      ]
    },
    {
      "cell_type": "markdown",
      "source": [
        "Este código converte a matriz esparsa em uma matriz densa, arredonda os valores para duas casas decimais e exibe a matriz resultante. A saída será uma matriz 3x6, na qual cada linha representa um documento e cada coluna representa uma palavra. Os valores na matriz representam o peso **TF-IDF** para cada palavra em cada documento."
      ],
      "metadata": {
        "id": "KBzhPTn-ieVk"
      }
    },
    {
      "cell_type": "markdown",
      "source": [
        "Aqui está outro exemplo em Python usando a biblioteca `NLTK`:"
      ],
      "metadata": {
        "id": "Q69efyGXmDfR"
      }
    },
    {
      "cell_type": "code",
      "source": [
        "import nltk\n",
        "\n",
        "nltk.download('stopwords')\n",
        "nltk.download('punkt')"
      ],
      "metadata": {
        "colab": {
          "base_uri": "https://localhost:8080/"
        },
        "id": "3tXcxrhGl3pn",
        "outputId": "31bab0b1-0876-48c3-8c66-741d2f00d089"
      },
      "execution_count": null,
      "outputs": [
        {
          "output_type": "stream",
          "name": "stderr",
          "text": [
            "[nltk_data] Downloading package stopwords to /root/nltk_data...\n",
            "[nltk_data]   Unzipping corpora/stopwords.zip.\n",
            "[nltk_data] Downloading package punkt to /root/nltk_data...\n",
            "[nltk_data]   Package punkt is already up-to-date!\n"
          ]
        },
        {
          "output_type": "execute_result",
          "data": {
            "text/plain": [
              "True"
            ]
          },
          "metadata": {},
          "execution_count": 33
        }
      ]
    },
    {
      "cell_type": "code",
      "source": [
        "import nltk\n",
        "from nltk.corpus import stopwords\n",
        "from nltk.tokenize import word_tokenize\n",
        "from sklearn.feature_extraction.text import TfidfVectorizer\n",
        "\n",
        "# dados de exemplo\n",
        "documentos = [\n",
        "  \"O céu é azul.\",\n",
        "  \"O sol é brilhante.\",\n",
        "  \"O céu no verão é muito quente.\",\n",
        "  \"Eu gosto de fazer piquenique no parque.\",\n",
        "  \"O parque é um ótimo lugar para relaxar.\"\n",
        "]\n",
        "\n",
        "# tokenizar os documentos\n",
        "tokens = [word_tokenize(doc.lower()) for doc in documentos]\n",
        "\n",
        "# remover as stopwords\n",
        "stopwords = set(stopwords.words('portuguese'))\n",
        "tokens = [[token for token in doc if token not in stopwords] for doc in tokens]\n",
        "\n",
        "# criar um objeto TfidfVectorizer\n",
        "vectorizer = TfidfVectorizer()\n",
        "\n",
        "# calcular o tf-idf dos documentos\n",
        "tfidf = vectorizer.fit_transform([' '.join(doc) for doc in tokens])\n",
        "\n",
        "# imprimir as palavras unicas no vocabulário\n",
        "print(\"Vocabulario:\", vectorizer.get_feature_names_out())\n",
        "\n",
        "# imprimir as matrizes de frequencia de termos (tf) e inversa da frequencia do documento (idf)\n",
        "print(\"Matriz tf-idf:\\n\", tfidf.toarray())"
      ],
      "metadata": {
        "colab": {
          "base_uri": "https://localhost:8080/"
        },
        "id": "rdXOoJmil0aj",
        "outputId": "f70b4a59-2a4c-49ce-fa96-1986b86940c7"
      },
      "execution_count": null,
      "outputs": [
        {
          "output_type": "stream",
          "name": "stdout",
          "text": [
            "Vocabulario: ['azul' 'brilhante' 'céu' 'fazer' 'gosto' 'lugar' 'parque' 'piquenique'\n",
            " 'quente' 'relaxar' 'sol' 'verão' 'ótimo']\n",
            "Matriz tf-idf:\n",
            " [[0.77828292 0.         0.62791376 0.         0.         0.\n",
            "  0.         0.         0.         0.         0.         0.\n",
            "  0.        ]\n",
            " [0.         0.70710678 0.         0.         0.         0.\n",
            "  0.         0.         0.         0.         0.70710678 0.\n",
            "  0.        ]\n",
            " [0.         0.         0.49552379 0.         0.         0.\n",
            "  0.         0.         0.61418897 0.         0.         0.61418897\n",
            "  0.        ]\n",
            " [0.         0.         0.         0.52335825 0.52335825 0.\n",
            "  0.42224214 0.52335825 0.         0.         0.         0.\n",
            "  0.        ]\n",
            " [0.         0.         0.         0.         0.         0.52335825\n",
            "  0.42224214 0.         0.         0.52335825 0.         0.\n",
            "  0.52335825]]\n"
          ]
        }
      ]
    },
    {
      "cell_type": "markdown",
      "source": [
        "Neste exemplo, estamos usando o `NLTK` para tokenizar os documentos e remover as *stopwords* em português. Em seguida, criamos um objeto `TfidfVectorizer` e o usamos para calcular o TF-IDF dos documentos. Por fim, imprimimos as palavras únicas no vocabulário e as matrizes de frequência de termos e inversa da frequência do documento."
      ],
      "metadata": {
        "id": "0hY6LTf4mQNr"
      }
    },
    {
      "cell_type": "markdown",
      "source": [
        "Aqui está um exemplo simples usando TF-IDF:"
      ],
      "metadata": {
        "id": "5_8QuQ93p5hP"
      }
    },
    {
      "cell_type": "code",
      "source": [
        "from sklearn.feature_extraction.text import TfidfVectorizer\n",
        "\n",
        "# lista de documentos\n",
        "documentos = ['Cachorro morde homem',\n",
        "              'Homem morde cachorro',\n",
        "              'Cachorro come carne',\n",
        "              'Homem come comida']\n",
        "\n",
        "# criar um vetorizador TF-IDF\n",
        "vectorizer = TfidfVectorizer()\n",
        "\n",
        "# fit_transform() retorna a matriz tf-idf\n",
        "tf_idf_matrix = vectorizer.fit_transform(documentos)\n",
        "\n",
        "# imprimir as palavras únicas no vocabulário\n",
        "print(\"Vocabulario:\", vectorizer.get_feature_names_out())\n",
        "\n",
        "# imprimir as matrizes de frequência de termos (tf) e inversa da frequência do documento (idf)\n",
        "print(\"Matriz tf-idf:\\n\", tf_idf_matrix.toarray())"
      ],
      "metadata": {
        "colab": {
          "base_uri": "https://localhost:8080/"
        },
        "id": "DyAlbIH7pNuS",
        "outputId": "26c2409e-62c5-4494-eb92-93d7ec63ca34"
      },
      "execution_count": null,
      "outputs": [
        {
          "output_type": "stream",
          "name": "stdout",
          "text": [
            "Vocabulario: ['cachorro' 'carne' 'come' 'comida' 'homem' 'morde']\n",
            "Matriz tf-idf:\n",
            " [[0.53256952 0.         0.         0.         0.53256952 0.65782931]\n",
            " [0.53256952 0.         0.         0.         0.53256952 0.65782931]\n",
            " [0.44809973 0.70203482 0.55349232 0.         0.         0.        ]\n",
            " [0.         0.         0.55349232 0.70203482 0.44809973 0.        ]]\n"
          ]
        }
      ]
    },
    {
      "cell_type": "markdown",
      "source": [
        "Aqui está uma implementação básica da representação TF-IDF:"
      ],
      "metadata": {
        "id": "1zmFrJiPjFoa"
      }
    },
    {
      "cell_type": "code",
      "metadata": {
        "id": "E4C5vrmWuPlN"
      },
      "source": [
        "# carregando os documentos\n",
        "doc1 = \"cachorro morde homem\"\n",
        "doc2 = \"homem morde cachorro\"\n",
        "doc3 = \"cachorro come carne\"\n",
        "doc4 = \"homem come comida\""
      ],
      "execution_count": null,
      "outputs": []
    },
    {
      "cell_type": "code",
      "metadata": {
        "id": "O30eP-uEuXAs"
      },
      "source": [
        "# separando por espacos\n",
        "bow1 = doc1.split(\" \")\n",
        "bow2 = doc2.split(\" \")\n",
        "bow3 = doc3.split(\" \")\n",
        "bow4 = doc4.split(\" \")"
      ],
      "execution_count": null,
      "outputs": []
    },
    {
      "cell_type": "code",
      "metadata": {
        "id": "Xo6nEUDcucvy",
        "colab": {
          "base_uri": "https://localhost:8080/"
        },
        "outputId": "da1cf80e-dc96-4ab1-e5a9-9a4ec270ade3"
      },
      "source": [
        "bow1"
      ],
      "execution_count": null,
      "outputs": [
        {
          "output_type": "execute_result",
          "data": {
            "text/plain": [
              "['cachorro', 'morde', 'homem']"
            ]
          },
          "metadata": {},
          "execution_count": 38
        }
      ]
    },
    {
      "cell_type": "code",
      "metadata": {
        "id": "wDCuZjVNuiow",
        "colab": {
          "base_uri": "https://localhost:8080/"
        },
        "outputId": "87b17657-c82a-4743-df3e-a2c79231c336"
      },
      "source": [
        "# unindo os documentos em um corpus\n",
        "wordSet = set(bow1).union(set(bow2)).union(set(bow3).union(set(bow4)))\n",
        "wordSet"
      ],
      "execution_count": null,
      "outputs": [
        {
          "output_type": "execute_result",
          "data": {
            "text/plain": [
              "{'cachorro', 'carne', 'come', 'comida', 'homem', 'morde'}"
            ]
          },
          "metadata": {},
          "execution_count": 39
        }
      ]
    },
    {
      "cell_type": "code",
      "metadata": {
        "id": "ibnhX2VOuqNC"
      },
      "source": [
        "# criando dicionarios de palavras, frequencias\n",
        "wordDict1 = dict.fromkeys(wordSet, 0)\n",
        "wordDict2 = dict.fromkeys(wordSet, 0)\n",
        "wordDict3 = dict.fromkeys(wordSet, 0)\n",
        "wordDict4 = dict.fromkeys(wordSet, 0)"
      ],
      "execution_count": null,
      "outputs": []
    },
    {
      "cell_type": "code",
      "metadata": {
        "id": "z91EKRbrutUo",
        "colab": {
          "base_uri": "https://localhost:8080/"
        },
        "outputId": "6e7f0557-5d49-4829-cc86-ff7056713505"
      },
      "source": [
        "wordDict1"
      ],
      "execution_count": null,
      "outputs": [
        {
          "output_type": "execute_result",
          "data": {
            "text/plain": [
              "{'comida': 0, 'cachorro': 0, 'homem': 0, 'carne': 0, 'morde': 0, 'come': 0}"
            ]
          },
          "metadata": {},
          "execution_count": 41
        }
      ]
    },
    {
      "cell_type": "code",
      "metadata": {
        "id": "9zogsdv9u0Qw"
      },
      "source": [
        "# incrementando a frequencia de cada dict\n",
        "for word in bow1:\n",
        "    wordDict1[word]+=1\n",
        "\n",
        "for word in bow2:\n",
        "    wordDict2[word]+=1\n",
        "\n",
        "for word in bow3:\n",
        "    wordDict3[word]+=1\n",
        "\n",
        "for word in bow4:\n",
        "    wordDict4[word]+=1"
      ],
      "execution_count": null,
      "outputs": []
    },
    {
      "cell_type": "code",
      "metadata": {
        "id": "xIrm4kl2u3L8",
        "colab": {
          "base_uri": "https://localhost:8080/"
        },
        "outputId": "0d13aff1-3acc-4fe0-9592-249a6455e272"
      },
      "source": [
        "wordDict1"
      ],
      "execution_count": null,
      "outputs": [
        {
          "output_type": "execute_result",
          "data": {
            "text/plain": [
              "{'comida': 0, 'cachorro': 1, 'homem': 1, 'carne': 0, 'morde': 1, 'come': 0}"
            ]
          },
          "metadata": {},
          "execution_count": 43
        }
      ]
    },
    {
      "cell_type": "code",
      "metadata": {
        "id": "r5pW2CJ8u7v_",
        "colab": {
          "base_uri": "https://localhost:8080/",
          "height": 174
        },
        "outputId": "be3cb3eb-afba-4740-a184-f7a7e72e6a03"
      },
      "source": [
        "import pandas as pd\n",
        "\n",
        "pd.DataFrame([wordDict1, wordDict2, wordDict3, wordDict4])"
      ],
      "execution_count": null,
      "outputs": [
        {
          "output_type": "execute_result",
          "data": {
            "text/plain": [
              "   comida  cachorro  homem  carne  morde  come\n",
              "0       0         1      1      0      1     0\n",
              "1       0         1      1      0      1     0\n",
              "2       0         1      0      1      0     1\n",
              "3       1         0      1      0      0     1"
            ],
            "text/html": [
              "\n",
              "  <div id=\"df-d6a33a2d-fafc-49cb-82a5-c9181beb08a9\" class=\"colab-df-container\">\n",
              "    <div>\n",
              "<style scoped>\n",
              "    .dataframe tbody tr th:only-of-type {\n",
              "        vertical-align: middle;\n",
              "    }\n",
              "\n",
              "    .dataframe tbody tr th {\n",
              "        vertical-align: top;\n",
              "    }\n",
              "\n",
              "    .dataframe thead th {\n",
              "        text-align: right;\n",
              "    }\n",
              "</style>\n",
              "<table border=\"1\" class=\"dataframe\">\n",
              "  <thead>\n",
              "    <tr style=\"text-align: right;\">\n",
              "      <th></th>\n",
              "      <th>comida</th>\n",
              "      <th>cachorro</th>\n",
              "      <th>homem</th>\n",
              "      <th>carne</th>\n",
              "      <th>morde</th>\n",
              "      <th>come</th>\n",
              "    </tr>\n",
              "  </thead>\n",
              "  <tbody>\n",
              "    <tr>\n",
              "      <th>0</th>\n",
              "      <td>0</td>\n",
              "      <td>1</td>\n",
              "      <td>1</td>\n",
              "      <td>0</td>\n",
              "      <td>1</td>\n",
              "      <td>0</td>\n",
              "    </tr>\n",
              "    <tr>\n",
              "      <th>1</th>\n",
              "      <td>0</td>\n",
              "      <td>1</td>\n",
              "      <td>1</td>\n",
              "      <td>0</td>\n",
              "      <td>1</td>\n",
              "      <td>0</td>\n",
              "    </tr>\n",
              "    <tr>\n",
              "      <th>2</th>\n",
              "      <td>0</td>\n",
              "      <td>1</td>\n",
              "      <td>0</td>\n",
              "      <td>1</td>\n",
              "      <td>0</td>\n",
              "      <td>1</td>\n",
              "    </tr>\n",
              "    <tr>\n",
              "      <th>3</th>\n",
              "      <td>1</td>\n",
              "      <td>0</td>\n",
              "      <td>1</td>\n",
              "      <td>0</td>\n",
              "      <td>0</td>\n",
              "      <td>1</td>\n",
              "    </tr>\n",
              "  </tbody>\n",
              "</table>\n",
              "</div>\n",
              "    <div class=\"colab-df-buttons\">\n",
              "\n",
              "  <div class=\"colab-df-container\">\n",
              "    <button class=\"colab-df-convert\" onclick=\"convertToInteractive('df-d6a33a2d-fafc-49cb-82a5-c9181beb08a9')\"\n",
              "            title=\"Convert this dataframe to an interactive table.\"\n",
              "            style=\"display:none;\">\n",
              "\n",
              "  <svg xmlns=\"http://www.w3.org/2000/svg\" height=\"24px\" viewBox=\"0 -960 960 960\">\n",
              "    <path d=\"M120-120v-720h720v720H120Zm60-500h600v-160H180v160Zm220 220h160v-160H400v160Zm0 220h160v-160H400v160ZM180-400h160v-160H180v160Zm440 0h160v-160H620v160ZM180-180h160v-160H180v160Zm440 0h160v-160H620v160Z\"/>\n",
              "  </svg>\n",
              "    </button>\n",
              "\n",
              "  <style>\n",
              "    .colab-df-container {\n",
              "      display:flex;\n",
              "      gap: 12px;\n",
              "    }\n",
              "\n",
              "    .colab-df-convert {\n",
              "      background-color: #E8F0FE;\n",
              "      border: none;\n",
              "      border-radius: 50%;\n",
              "      cursor: pointer;\n",
              "      display: none;\n",
              "      fill: #1967D2;\n",
              "      height: 32px;\n",
              "      padding: 0 0 0 0;\n",
              "      width: 32px;\n",
              "    }\n",
              "\n",
              "    .colab-df-convert:hover {\n",
              "      background-color: #E2EBFA;\n",
              "      box-shadow: 0px 1px 2px rgba(60, 64, 67, 0.3), 0px 1px 3px 1px rgba(60, 64, 67, 0.15);\n",
              "      fill: #174EA6;\n",
              "    }\n",
              "\n",
              "    .colab-df-buttons div {\n",
              "      margin-bottom: 4px;\n",
              "    }\n",
              "\n",
              "    [theme=dark] .colab-df-convert {\n",
              "      background-color: #3B4455;\n",
              "      fill: #D2E3FC;\n",
              "    }\n",
              "\n",
              "    [theme=dark] .colab-df-convert:hover {\n",
              "      background-color: #434B5C;\n",
              "      box-shadow: 0px 1px 3px 1px rgba(0, 0, 0, 0.15);\n",
              "      filter: drop-shadow(0px 1px 2px rgba(0, 0, 0, 0.3));\n",
              "      fill: #FFFFFF;\n",
              "    }\n",
              "  </style>\n",
              "\n",
              "    <script>\n",
              "      const buttonEl =\n",
              "        document.querySelector('#df-d6a33a2d-fafc-49cb-82a5-c9181beb08a9 button.colab-df-convert');\n",
              "      buttonEl.style.display =\n",
              "        google.colab.kernel.accessAllowed ? 'block' : 'none';\n",
              "\n",
              "      async function convertToInteractive(key) {\n",
              "        const element = document.querySelector('#df-d6a33a2d-fafc-49cb-82a5-c9181beb08a9');\n",
              "        const dataTable =\n",
              "          await google.colab.kernel.invokeFunction('convertToInteractive',\n",
              "                                                    [key], {});\n",
              "        if (!dataTable) return;\n",
              "\n",
              "        const docLinkHtml = 'Like what you see? Visit the ' +\n",
              "          '<a target=\"_blank\" href=https://colab.research.google.com/notebooks/data_table.ipynb>data table notebook</a>'\n",
              "          + ' to learn more about interactive tables.';\n",
              "        element.innerHTML = '';\n",
              "        dataTable['output_type'] = 'display_data';\n",
              "        await google.colab.output.renderOutput(dataTable, element);\n",
              "        const docLink = document.createElement('div');\n",
              "        docLink.innerHTML = docLinkHtml;\n",
              "        element.appendChild(docLink);\n",
              "      }\n",
              "    </script>\n",
              "  </div>\n",
              "\n",
              "\n",
              "<div id=\"df-5dd32b46-9b8d-4295-a0e1-068bac0c0e6f\">\n",
              "  <button class=\"colab-df-quickchart\" onclick=\"quickchart('df-5dd32b46-9b8d-4295-a0e1-068bac0c0e6f')\"\n",
              "            title=\"Suggest charts\"\n",
              "            style=\"display:none;\">\n",
              "\n",
              "<svg xmlns=\"http://www.w3.org/2000/svg\" height=\"24px\"viewBox=\"0 0 24 24\"\n",
              "     width=\"24px\">\n",
              "    <g>\n",
              "        <path d=\"M19 3H5c-1.1 0-2 .9-2 2v14c0 1.1.9 2 2 2h14c1.1 0 2-.9 2-2V5c0-1.1-.9-2-2-2zM9 17H7v-7h2v7zm4 0h-2V7h2v10zm4 0h-2v-4h2v4z\"/>\n",
              "    </g>\n",
              "</svg>\n",
              "  </button>\n",
              "\n",
              "<style>\n",
              "  .colab-df-quickchart {\n",
              "      --bg-color: #E8F0FE;\n",
              "      --fill-color: #1967D2;\n",
              "      --hover-bg-color: #E2EBFA;\n",
              "      --hover-fill-color: #174EA6;\n",
              "      --disabled-fill-color: #AAA;\n",
              "      --disabled-bg-color: #DDD;\n",
              "  }\n",
              "\n",
              "  [theme=dark] .colab-df-quickchart {\n",
              "      --bg-color: #3B4455;\n",
              "      --fill-color: #D2E3FC;\n",
              "      --hover-bg-color: #434B5C;\n",
              "      --hover-fill-color: #FFFFFF;\n",
              "      --disabled-bg-color: #3B4455;\n",
              "      --disabled-fill-color: #666;\n",
              "  }\n",
              "\n",
              "  .colab-df-quickchart {\n",
              "    background-color: var(--bg-color);\n",
              "    border: none;\n",
              "    border-radius: 50%;\n",
              "    cursor: pointer;\n",
              "    display: none;\n",
              "    fill: var(--fill-color);\n",
              "    height: 32px;\n",
              "    padding: 0;\n",
              "    width: 32px;\n",
              "  }\n",
              "\n",
              "  .colab-df-quickchart:hover {\n",
              "    background-color: var(--hover-bg-color);\n",
              "    box-shadow: 0 1px 2px rgba(60, 64, 67, 0.3), 0 1px 3px 1px rgba(60, 64, 67, 0.15);\n",
              "    fill: var(--button-hover-fill-color);\n",
              "  }\n",
              "\n",
              "  .colab-df-quickchart-complete:disabled,\n",
              "  .colab-df-quickchart-complete:disabled:hover {\n",
              "    background-color: var(--disabled-bg-color);\n",
              "    fill: var(--disabled-fill-color);\n",
              "    box-shadow: none;\n",
              "  }\n",
              "\n",
              "  .colab-df-spinner {\n",
              "    border: 2px solid var(--fill-color);\n",
              "    border-color: transparent;\n",
              "    border-bottom-color: var(--fill-color);\n",
              "    animation:\n",
              "      spin 1s steps(1) infinite;\n",
              "  }\n",
              "\n",
              "  @keyframes spin {\n",
              "    0% {\n",
              "      border-color: transparent;\n",
              "      border-bottom-color: var(--fill-color);\n",
              "      border-left-color: var(--fill-color);\n",
              "    }\n",
              "    20% {\n",
              "      border-color: transparent;\n",
              "      border-left-color: var(--fill-color);\n",
              "      border-top-color: var(--fill-color);\n",
              "    }\n",
              "    30% {\n",
              "      border-color: transparent;\n",
              "      border-left-color: var(--fill-color);\n",
              "      border-top-color: var(--fill-color);\n",
              "      border-right-color: var(--fill-color);\n",
              "    }\n",
              "    40% {\n",
              "      border-color: transparent;\n",
              "      border-right-color: var(--fill-color);\n",
              "      border-top-color: var(--fill-color);\n",
              "    }\n",
              "    60% {\n",
              "      border-color: transparent;\n",
              "      border-right-color: var(--fill-color);\n",
              "    }\n",
              "    80% {\n",
              "      border-color: transparent;\n",
              "      border-right-color: var(--fill-color);\n",
              "      border-bottom-color: var(--fill-color);\n",
              "    }\n",
              "    90% {\n",
              "      border-color: transparent;\n",
              "      border-bottom-color: var(--fill-color);\n",
              "    }\n",
              "  }\n",
              "</style>\n",
              "\n",
              "  <script>\n",
              "    async function quickchart(key) {\n",
              "      const quickchartButtonEl =\n",
              "        document.querySelector('#' + key + ' button');\n",
              "      quickchartButtonEl.disabled = true;  // To prevent multiple clicks.\n",
              "      quickchartButtonEl.classList.add('colab-df-spinner');\n",
              "      try {\n",
              "        const charts = await google.colab.kernel.invokeFunction(\n",
              "            'suggestCharts', [key], {});\n",
              "      } catch (error) {\n",
              "        console.error('Error during call to suggestCharts:', error);\n",
              "      }\n",
              "      quickchartButtonEl.classList.remove('colab-df-spinner');\n",
              "      quickchartButtonEl.classList.add('colab-df-quickchart-complete');\n",
              "    }\n",
              "    (() => {\n",
              "      let quickchartButtonEl =\n",
              "        document.querySelector('#df-5dd32b46-9b8d-4295-a0e1-068bac0c0e6f button');\n",
              "      quickchartButtonEl.style.display =\n",
              "        google.colab.kernel.accessAllowed ? 'block' : 'none';\n",
              "    })();\n",
              "  </script>\n",
              "</div>\n",
              "\n",
              "    </div>\n",
              "  </div>\n"
            ],
            "application/vnd.google.colaboratory.intrinsic+json": {
              "type": "dataframe",
              "summary": "{\n  \"name\": \"pd\",\n  \"rows\": 4,\n  \"fields\": [\n    {\n      \"column\": \"comida\",\n      \"properties\": {\n        \"dtype\": \"number\",\n        \"std\": 0,\n        \"min\": 0,\n        \"max\": 1,\n        \"num_unique_values\": 2,\n        \"samples\": [\n          1,\n          0\n        ],\n        \"semantic_type\": \"\",\n        \"description\": \"\"\n      }\n    },\n    {\n      \"column\": \"cachorro\",\n      \"properties\": {\n        \"dtype\": \"number\",\n        \"std\": 0,\n        \"min\": 0,\n        \"max\": 1,\n        \"num_unique_values\": 2,\n        \"samples\": [\n          0,\n          1\n        ],\n        \"semantic_type\": \"\",\n        \"description\": \"\"\n      }\n    },\n    {\n      \"column\": \"homem\",\n      \"properties\": {\n        \"dtype\": \"number\",\n        \"std\": 0,\n        \"min\": 0,\n        \"max\": 1,\n        \"num_unique_values\": 2,\n        \"samples\": [\n          0,\n          1\n        ],\n        \"semantic_type\": \"\",\n        \"description\": \"\"\n      }\n    },\n    {\n      \"column\": \"carne\",\n      \"properties\": {\n        \"dtype\": \"number\",\n        \"std\": 0,\n        \"min\": 0,\n        \"max\": 1,\n        \"num_unique_values\": 2,\n        \"samples\": [\n          1,\n          0\n        ],\n        \"semantic_type\": \"\",\n        \"description\": \"\"\n      }\n    },\n    {\n      \"column\": \"morde\",\n      \"properties\": {\n        \"dtype\": \"number\",\n        \"std\": 0,\n        \"min\": 0,\n        \"max\": 1,\n        \"num_unique_values\": 2,\n        \"samples\": [\n          0,\n          1\n        ],\n        \"semantic_type\": \"\",\n        \"description\": \"\"\n      }\n    },\n    {\n      \"column\": \"come\",\n      \"properties\": {\n        \"dtype\": \"number\",\n        \"std\": 0,\n        \"min\": 0,\n        \"max\": 1,\n        \"num_unique_values\": 2,\n        \"samples\": [\n          1,\n          0\n        ],\n        \"semantic_type\": \"\",\n        \"description\": \"\"\n      }\n    }\n  ]\n}"
            }
          },
          "metadata": {},
          "execution_count": 44
        }
      ]
    },
    {
      "cell_type": "code",
      "metadata": {
        "id": "HlWlVn4WvBO_"
      },
      "source": [
        "def computeTF(wordDict, bow):\n",
        "    tfDict = {}\n",
        "    bowCount = len(bow)\n",
        "    for word, count in wordDict.items():\n",
        "        tfDict[word] = count/float(bowCount)\n",
        "    return tfDict"
      ],
      "execution_count": null,
      "outputs": []
    },
    {
      "cell_type": "code",
      "metadata": {
        "id": "iXJONwqmvEH8"
      },
      "source": [
        "# computando TF\n",
        "tfBow1 = computeTF(wordDict1, bow1)\n",
        "tfBow2 = computeTF(wordDict2, bow2)\n",
        "tfBow3 = computeTF(wordDict3, bow3)\n",
        "tfBow4 = computeTF(wordDict4, bow4)"
      ],
      "execution_count": null,
      "outputs": []
    },
    {
      "cell_type": "code",
      "metadata": {
        "id": "Jk2GTdVRvGcj",
        "colab": {
          "base_uri": "https://localhost:8080/"
        },
        "outputId": "5d667a71-a835-4092-cd95-7aa6dbe03244"
      },
      "source": [
        "tfBow1"
      ],
      "execution_count": null,
      "outputs": [
        {
          "output_type": "execute_result",
          "data": {
            "text/plain": [
              "{'comida': 0.0,\n",
              " 'cachorro': 0.3333333333333333,\n",
              " 'homem': 0.3333333333333333,\n",
              " 'carne': 0.0,\n",
              " 'morde': 0.3333333333333333,\n",
              " 'come': 0.0}"
            ]
          },
          "metadata": {},
          "execution_count": 47
        }
      ]
    },
    {
      "cell_type": "code",
      "metadata": {
        "id": "hNxjLB9NfOkI"
      },
      "source": [
        "def termFrequency(term, document):\n",
        "    normalizeDocument = document.lower().split()\n",
        "    return normalizeDocument.count(term.lower()) / float(len(normalizeDocument))"
      ],
      "execution_count": null,
      "outputs": []
    },
    {
      "cell_type": "code",
      "metadata": {
        "id": "nKYkLTJQfQZ_",
        "colab": {
          "base_uri": "https://localhost:8080/"
        },
        "outputId": "a32c1707-ca2a-4ef5-c460-cccc198d4ed2"
      },
      "source": [
        "termFrequency('cachorro', doc1)"
      ],
      "execution_count": null,
      "outputs": [
        {
          "output_type": "execute_result",
          "data": {
            "text/plain": [
              "0.3333333333333333"
            ]
          },
          "metadata": {},
          "execution_count": 49
        }
      ]
    },
    {
      "cell_type": "code",
      "metadata": {
        "id": "RQaVl1-mvKOB"
      },
      "source": [
        "# computando IDF\n",
        "import math\n",
        "\n",
        "def computeIDF(docList):\n",
        "\n",
        "    idfDict = {}\n",
        "    N = len(docList)\n",
        "\n",
        "    idfDict = dict.fromkeys(docList[0].keys(), 0)\n",
        "    for doc in docList:\n",
        "        for word, val in doc.items():\n",
        "            if val > 0:\n",
        "                idfDict[word] += 1\n",
        "\n",
        "    # idfDict = {'come': 2, 'homem': 3, 'cachorro': 3, 'carne': 1, 'comida': 1, 'morde': 2}\n",
        "    for word, val in idfDict.items():\n",
        "        idfDict[word] = math.log10(N / float(val))\n",
        "\n",
        "    return idfDict"
      ],
      "execution_count": null,
      "outputs": []
    },
    {
      "cell_type": "code",
      "metadata": {
        "id": "FqUABfuMvN7l"
      },
      "source": [
        "idfs = computeIDF([wordDict1, wordDict2, wordDict3, wordDict4])"
      ],
      "execution_count": null,
      "outputs": []
    },
    {
      "cell_type": "code",
      "metadata": {
        "id": "qZ32WC5tvRdo"
      },
      "source": [
        "def computeTFIDF(tfBow, idfs):\n",
        "    tfidf = {}\n",
        "    for word, val in tfBow.items():\n",
        "        tfidf[word] = val*idfs[word]\n",
        "    return tfidf"
      ],
      "execution_count": null,
      "outputs": []
    },
    {
      "cell_type": "code",
      "metadata": {
        "id": "Jc6PkulgvUqr"
      },
      "source": [
        "# computando TF-IDF\n",
        "tfidfBow1 = computeTFIDF(tfBow1, idfs)\n",
        "tfidfBow2 = computeTFIDF(tfBow2, idfs)\n",
        "tfidfBow3 = computeTFIDF(tfBow3, idfs)\n",
        "tfidfBow4 = computeTFIDF(tfBow4, idfs)"
      ],
      "execution_count": null,
      "outputs": []
    },
    {
      "cell_type": "code",
      "metadata": {
        "id": "U1xDek1VvZk9",
        "colab": {
          "base_uri": "https://localhost:8080/",
          "height": 174
        },
        "outputId": "54ee3630-87a9-4c4e-a2c1-10ff650cccbe"
      },
      "source": [
        "import pandas as pd\n",
        "\n",
        "pd.DataFrame([tfidfBow1, tfidfBow2, tfidfBow3, tfidfBow4])"
      ],
      "execution_count": null,
      "outputs": [
        {
          "output_type": "execute_result",
          "data": {
            "text/plain": [
              "     comida  cachorro     homem     carne     morde      come\n",
              "0  0.000000  0.041646  0.041646  0.000000  0.100343  0.000000\n",
              "1  0.000000  0.041646  0.041646  0.000000  0.100343  0.000000\n",
              "2  0.000000  0.041646  0.000000  0.200687  0.000000  0.100343\n",
              "3  0.200687  0.000000  0.041646  0.000000  0.000000  0.100343"
            ],
            "text/html": [
              "\n",
              "  <div id=\"df-d532d54c-b70e-4b2b-ba51-d64031393cd2\" class=\"colab-df-container\">\n",
              "    <div>\n",
              "<style scoped>\n",
              "    .dataframe tbody tr th:only-of-type {\n",
              "        vertical-align: middle;\n",
              "    }\n",
              "\n",
              "    .dataframe tbody tr th {\n",
              "        vertical-align: top;\n",
              "    }\n",
              "\n",
              "    .dataframe thead th {\n",
              "        text-align: right;\n",
              "    }\n",
              "</style>\n",
              "<table border=\"1\" class=\"dataframe\">\n",
              "  <thead>\n",
              "    <tr style=\"text-align: right;\">\n",
              "      <th></th>\n",
              "      <th>comida</th>\n",
              "      <th>cachorro</th>\n",
              "      <th>homem</th>\n",
              "      <th>carne</th>\n",
              "      <th>morde</th>\n",
              "      <th>come</th>\n",
              "    </tr>\n",
              "  </thead>\n",
              "  <tbody>\n",
              "    <tr>\n",
              "      <th>0</th>\n",
              "      <td>0.000000</td>\n",
              "      <td>0.041646</td>\n",
              "      <td>0.041646</td>\n",
              "      <td>0.000000</td>\n",
              "      <td>0.100343</td>\n",
              "      <td>0.000000</td>\n",
              "    </tr>\n",
              "    <tr>\n",
              "      <th>1</th>\n",
              "      <td>0.000000</td>\n",
              "      <td>0.041646</td>\n",
              "      <td>0.041646</td>\n",
              "      <td>0.000000</td>\n",
              "      <td>0.100343</td>\n",
              "      <td>0.000000</td>\n",
              "    </tr>\n",
              "    <tr>\n",
              "      <th>2</th>\n",
              "      <td>0.000000</td>\n",
              "      <td>0.041646</td>\n",
              "      <td>0.000000</td>\n",
              "      <td>0.200687</td>\n",
              "      <td>0.000000</td>\n",
              "      <td>0.100343</td>\n",
              "    </tr>\n",
              "    <tr>\n",
              "      <th>3</th>\n",
              "      <td>0.200687</td>\n",
              "      <td>0.000000</td>\n",
              "      <td>0.041646</td>\n",
              "      <td>0.000000</td>\n",
              "      <td>0.000000</td>\n",
              "      <td>0.100343</td>\n",
              "    </tr>\n",
              "  </tbody>\n",
              "</table>\n",
              "</div>\n",
              "    <div class=\"colab-df-buttons\">\n",
              "\n",
              "  <div class=\"colab-df-container\">\n",
              "    <button class=\"colab-df-convert\" onclick=\"convertToInteractive('df-d532d54c-b70e-4b2b-ba51-d64031393cd2')\"\n",
              "            title=\"Convert this dataframe to an interactive table.\"\n",
              "            style=\"display:none;\">\n",
              "\n",
              "  <svg xmlns=\"http://www.w3.org/2000/svg\" height=\"24px\" viewBox=\"0 -960 960 960\">\n",
              "    <path d=\"M120-120v-720h720v720H120Zm60-500h600v-160H180v160Zm220 220h160v-160H400v160Zm0 220h160v-160H400v160ZM180-400h160v-160H180v160Zm440 0h160v-160H620v160ZM180-180h160v-160H180v160Zm440 0h160v-160H620v160Z\"/>\n",
              "  </svg>\n",
              "    </button>\n",
              "\n",
              "  <style>\n",
              "    .colab-df-container {\n",
              "      display:flex;\n",
              "      gap: 12px;\n",
              "    }\n",
              "\n",
              "    .colab-df-convert {\n",
              "      background-color: #E8F0FE;\n",
              "      border: none;\n",
              "      border-radius: 50%;\n",
              "      cursor: pointer;\n",
              "      display: none;\n",
              "      fill: #1967D2;\n",
              "      height: 32px;\n",
              "      padding: 0 0 0 0;\n",
              "      width: 32px;\n",
              "    }\n",
              "\n",
              "    .colab-df-convert:hover {\n",
              "      background-color: #E2EBFA;\n",
              "      box-shadow: 0px 1px 2px rgba(60, 64, 67, 0.3), 0px 1px 3px 1px rgba(60, 64, 67, 0.15);\n",
              "      fill: #174EA6;\n",
              "    }\n",
              "\n",
              "    .colab-df-buttons div {\n",
              "      margin-bottom: 4px;\n",
              "    }\n",
              "\n",
              "    [theme=dark] .colab-df-convert {\n",
              "      background-color: #3B4455;\n",
              "      fill: #D2E3FC;\n",
              "    }\n",
              "\n",
              "    [theme=dark] .colab-df-convert:hover {\n",
              "      background-color: #434B5C;\n",
              "      box-shadow: 0px 1px 3px 1px rgba(0, 0, 0, 0.15);\n",
              "      filter: drop-shadow(0px 1px 2px rgba(0, 0, 0, 0.3));\n",
              "      fill: #FFFFFF;\n",
              "    }\n",
              "  </style>\n",
              "\n",
              "    <script>\n",
              "      const buttonEl =\n",
              "        document.querySelector('#df-d532d54c-b70e-4b2b-ba51-d64031393cd2 button.colab-df-convert');\n",
              "      buttonEl.style.display =\n",
              "        google.colab.kernel.accessAllowed ? 'block' : 'none';\n",
              "\n",
              "      async function convertToInteractive(key) {\n",
              "        const element = document.querySelector('#df-d532d54c-b70e-4b2b-ba51-d64031393cd2');\n",
              "        const dataTable =\n",
              "          await google.colab.kernel.invokeFunction('convertToInteractive',\n",
              "                                                    [key], {});\n",
              "        if (!dataTable) return;\n",
              "\n",
              "        const docLinkHtml = 'Like what you see? Visit the ' +\n",
              "          '<a target=\"_blank\" href=https://colab.research.google.com/notebooks/data_table.ipynb>data table notebook</a>'\n",
              "          + ' to learn more about interactive tables.';\n",
              "        element.innerHTML = '';\n",
              "        dataTable['output_type'] = 'display_data';\n",
              "        await google.colab.output.renderOutput(dataTable, element);\n",
              "        const docLink = document.createElement('div');\n",
              "        docLink.innerHTML = docLinkHtml;\n",
              "        element.appendChild(docLink);\n",
              "      }\n",
              "    </script>\n",
              "  </div>\n",
              "\n",
              "\n",
              "<div id=\"df-a733a42c-bc6e-4ed2-9098-5a2f732ab827\">\n",
              "  <button class=\"colab-df-quickchart\" onclick=\"quickchart('df-a733a42c-bc6e-4ed2-9098-5a2f732ab827')\"\n",
              "            title=\"Suggest charts\"\n",
              "            style=\"display:none;\">\n",
              "\n",
              "<svg xmlns=\"http://www.w3.org/2000/svg\" height=\"24px\"viewBox=\"0 0 24 24\"\n",
              "     width=\"24px\">\n",
              "    <g>\n",
              "        <path d=\"M19 3H5c-1.1 0-2 .9-2 2v14c0 1.1.9 2 2 2h14c1.1 0 2-.9 2-2V5c0-1.1-.9-2-2-2zM9 17H7v-7h2v7zm4 0h-2V7h2v10zm4 0h-2v-4h2v4z\"/>\n",
              "    </g>\n",
              "</svg>\n",
              "  </button>\n",
              "\n",
              "<style>\n",
              "  .colab-df-quickchart {\n",
              "      --bg-color: #E8F0FE;\n",
              "      --fill-color: #1967D2;\n",
              "      --hover-bg-color: #E2EBFA;\n",
              "      --hover-fill-color: #174EA6;\n",
              "      --disabled-fill-color: #AAA;\n",
              "      --disabled-bg-color: #DDD;\n",
              "  }\n",
              "\n",
              "  [theme=dark] .colab-df-quickchart {\n",
              "      --bg-color: #3B4455;\n",
              "      --fill-color: #D2E3FC;\n",
              "      --hover-bg-color: #434B5C;\n",
              "      --hover-fill-color: #FFFFFF;\n",
              "      --disabled-bg-color: #3B4455;\n",
              "      --disabled-fill-color: #666;\n",
              "  }\n",
              "\n",
              "  .colab-df-quickchart {\n",
              "    background-color: var(--bg-color);\n",
              "    border: none;\n",
              "    border-radius: 50%;\n",
              "    cursor: pointer;\n",
              "    display: none;\n",
              "    fill: var(--fill-color);\n",
              "    height: 32px;\n",
              "    padding: 0;\n",
              "    width: 32px;\n",
              "  }\n",
              "\n",
              "  .colab-df-quickchart:hover {\n",
              "    background-color: var(--hover-bg-color);\n",
              "    box-shadow: 0 1px 2px rgba(60, 64, 67, 0.3), 0 1px 3px 1px rgba(60, 64, 67, 0.15);\n",
              "    fill: var(--button-hover-fill-color);\n",
              "  }\n",
              "\n",
              "  .colab-df-quickchart-complete:disabled,\n",
              "  .colab-df-quickchart-complete:disabled:hover {\n",
              "    background-color: var(--disabled-bg-color);\n",
              "    fill: var(--disabled-fill-color);\n",
              "    box-shadow: none;\n",
              "  }\n",
              "\n",
              "  .colab-df-spinner {\n",
              "    border: 2px solid var(--fill-color);\n",
              "    border-color: transparent;\n",
              "    border-bottom-color: var(--fill-color);\n",
              "    animation:\n",
              "      spin 1s steps(1) infinite;\n",
              "  }\n",
              "\n",
              "  @keyframes spin {\n",
              "    0% {\n",
              "      border-color: transparent;\n",
              "      border-bottom-color: var(--fill-color);\n",
              "      border-left-color: var(--fill-color);\n",
              "    }\n",
              "    20% {\n",
              "      border-color: transparent;\n",
              "      border-left-color: var(--fill-color);\n",
              "      border-top-color: var(--fill-color);\n",
              "    }\n",
              "    30% {\n",
              "      border-color: transparent;\n",
              "      border-left-color: var(--fill-color);\n",
              "      border-top-color: var(--fill-color);\n",
              "      border-right-color: var(--fill-color);\n",
              "    }\n",
              "    40% {\n",
              "      border-color: transparent;\n",
              "      border-right-color: var(--fill-color);\n",
              "      border-top-color: var(--fill-color);\n",
              "    }\n",
              "    60% {\n",
              "      border-color: transparent;\n",
              "      border-right-color: var(--fill-color);\n",
              "    }\n",
              "    80% {\n",
              "      border-color: transparent;\n",
              "      border-right-color: var(--fill-color);\n",
              "      border-bottom-color: var(--fill-color);\n",
              "    }\n",
              "    90% {\n",
              "      border-color: transparent;\n",
              "      border-bottom-color: var(--fill-color);\n",
              "    }\n",
              "  }\n",
              "</style>\n",
              "\n",
              "  <script>\n",
              "    async function quickchart(key) {\n",
              "      const quickchartButtonEl =\n",
              "        document.querySelector('#' + key + ' button');\n",
              "      quickchartButtonEl.disabled = true;  // To prevent multiple clicks.\n",
              "      quickchartButtonEl.classList.add('colab-df-spinner');\n",
              "      try {\n",
              "        const charts = await google.colab.kernel.invokeFunction(\n",
              "            'suggestCharts', [key], {});\n",
              "      } catch (error) {\n",
              "        console.error('Error during call to suggestCharts:', error);\n",
              "      }\n",
              "      quickchartButtonEl.classList.remove('colab-df-spinner');\n",
              "      quickchartButtonEl.classList.add('colab-df-quickchart-complete');\n",
              "    }\n",
              "    (() => {\n",
              "      let quickchartButtonEl =\n",
              "        document.querySelector('#df-a733a42c-bc6e-4ed2-9098-5a2f732ab827 button');\n",
              "      quickchartButtonEl.style.display =\n",
              "        google.colab.kernel.accessAllowed ? 'block' : 'none';\n",
              "    })();\n",
              "  </script>\n",
              "</div>\n",
              "\n",
              "    </div>\n",
              "  </div>\n"
            ],
            "application/vnd.google.colaboratory.intrinsic+json": {
              "type": "dataframe",
              "summary": "{\n  \"name\": \"pd\",\n  \"rows\": 4,\n  \"fields\": [\n    {\n      \"column\": \"comida\",\n      \"properties\": {\n        \"dtype\": \"number\",\n        \"std\": 0.10034333188799373,\n        \"min\": 0.0,\n        \"max\": 0.20068666377598746,\n        \"num_unique_values\": 2,\n        \"samples\": [\n          0.20068666377598746,\n          0.0\n        ],\n        \"semantic_type\": \"\",\n        \"description\": \"\"\n      }\n    },\n    {\n      \"column\": \"cachorro\",\n      \"properties\": {\n        \"dtype\": \"number\",\n        \"std\": 0.020823122768049984,\n        \"min\": 0.0,\n        \"max\": 0.04164624553609997,\n        \"num_unique_values\": 2,\n        \"samples\": [\n          0.0,\n          0.04164624553609997\n        ],\n        \"semantic_type\": \"\",\n        \"description\": \"\"\n      }\n    },\n    {\n      \"column\": \"homem\",\n      \"properties\": {\n        \"dtype\": \"number\",\n        \"std\": 0.020823122768049984,\n        \"min\": 0.0,\n        \"max\": 0.04164624553609997,\n        \"num_unique_values\": 2,\n        \"samples\": [\n          0.0,\n          0.04164624553609997\n        ],\n        \"semantic_type\": \"\",\n        \"description\": \"\"\n      }\n    },\n    {\n      \"column\": \"carne\",\n      \"properties\": {\n        \"dtype\": \"number\",\n        \"std\": 0.10034333188799373,\n        \"min\": 0.0,\n        \"max\": 0.20068666377598746,\n        \"num_unique_values\": 2,\n        \"samples\": [\n          0.20068666377598746,\n          0.0\n        ],\n        \"semantic_type\": \"\",\n        \"description\": \"\"\n      }\n    },\n    {\n      \"column\": \"morde\",\n      \"properties\": {\n        \"dtype\": \"number\",\n        \"std\": 0.05793324967691714,\n        \"min\": 0.0,\n        \"max\": 0.10034333188799373,\n        \"num_unique_values\": 2,\n        \"samples\": [\n          0.0,\n          0.10034333188799373\n        ],\n        \"semantic_type\": \"\",\n        \"description\": \"\"\n      }\n    },\n    {\n      \"column\": \"come\",\n      \"properties\": {\n        \"dtype\": \"number\",\n        \"std\": 0.05793324967691714,\n        \"min\": 0.0,\n        \"max\": 0.10034333188799373,\n        \"num_unique_values\": 2,\n        \"samples\": [\n          0.10034333188799373,\n          0.0\n        ],\n        \"semantic_type\": \"\",\n        \"description\": \"\"\n      }\n    }\n  ]\n}"
            }
          },
          "metadata": {},
          "execution_count": 56
        }
      ]
    },
    {
      "cell_type": "markdown",
      "metadata": {
        "id": "k0M78uoZ53oz"
      },
      "source": [
        "**Importante**: quanto maior o valor do TF-IDF, mais relevante ou importante é o termo para o documento em análise. Quanto menor o TF-IDF, mais comum é o termo.\n",
        "\n",
        "---\n",
        "\n"
      ]
    },
    {
      "cell_type": "markdown",
      "source": [
        "Aqui está um exemplo de como usar a representação TF-IDF para identificar as palavras mais importantes em uma música:"
      ],
      "metadata": {
        "id": "8jBJKVM9rGzH"
      }
    },
    {
      "cell_type": "code",
      "source": [
        "from sklearn.feature_extraction.text import TfidfVectorizer\n",
        "\n",
        "def obter_palavras_importantes(texto, top_n=5):\n",
        "    # criar um objeto TfidfVectorizer\n",
        "    vectorizer = TfidfVectorizer(use_idf=True)\n",
        "\n",
        "    # calcular o TF-IDF do texto\n",
        "    tfidf = vectorizer.fit_transform([texto])\n",
        "\n",
        "    # criar um dicionário de palavras e seus pesos TF-IDF\n",
        "    palavras = vectorizer.get_feature_names_out()\n",
        "    pesos = tfidf.toarray()[0]\n",
        "    dicionario = dict(zip(palavras, pesos))\n",
        "\n",
        "    # encontrar as palavras mais importantes\n",
        "    palavras_importantes = sorted(dicionario, key=dicionario.get, reverse=True)[:top_n]\n",
        "\n",
        "    return {palavra: dicionario[palavra] for palavra in palavras_importantes}\n",
        "\n",
        "def imprimir_palavras_importantes(texto, top_n=5):\n",
        "    palavras_importantes = obter_palavras_importantes(texto, top_n)\n",
        "\n",
        "    print(f\"As {top_n} palavras mais importantes no texto são:\")\n",
        "    for palavra, peso in palavras_importantes.items():\n",
        "        print(f\"{palavra}: {peso}\")"
      ],
      "metadata": {
        "id": "6M2ESB_8tZ8y"
      },
      "execution_count": null,
      "outputs": []
    },
    {
      "cell_type": "code",
      "source": [
        "# letra da musica\n",
        "letra = \"\"\"É pau, é pedra, é o fim do caminho. É um resto de toco, é um pouco sozinho.\n",
        "           É um caco de vidro, é a vida, é o sol. É a noite, é a morte, é um laço, é o anzol.\"\"\"\n",
        "\n",
        "# Imprimir as 5 palavras mais importantes na letra da música\n",
        "imprimir_palavras_importantes(letra, 5)"
      ],
      "metadata": {
        "colab": {
          "base_uri": "https://localhost:8080/"
        },
        "id": "6Hqe1Cy7to6R",
        "outputId": "0111085d-04ab-436b-dfc2-75699aad891c"
      },
      "execution_count": null,
      "outputs": [
        {
          "output_type": "stream",
          "name": "stdout",
          "text": [
            "As 5 palavras mais importantes no texto são:\n",
            "um: 0.6575959492214292\n",
            "de: 0.3287979746107146\n",
            "anzol: 0.1643989873053573\n",
            "caco: 0.1643989873053573\n",
            "caminho: 0.1643989873053573\n"
          ]
        }
      ]
    },
    {
      "cell_type": "markdown",
      "source": [
        "Neste exemplo, estamos imprimindo as 5 palavras mais importantes na letra da música \"Águas de Março\", de Tom Jobim,  juntamente com seus respectivos valores TF-IDF. Note que o valor TF-IDF é uma medida de importância relativa que leva em consideração tanto a frequência da palavra em relação ao documento quanto a frequência inversa da palavra em relação ao córpus. Quanto maior o valor TF-IDF de uma palavra, mais importante ela é em relação ao documento."
      ],
      "metadata": {
        "id": "qy9ybXwIsSSQ"
      }
    },
    {
      "cell_type": "markdown",
      "source": [
        "Este exemplo usa o TF-IDF para calcular a similaridade entre duas frases, permitindo determinar se elas se referem ao mesmo tópico:"
      ],
      "metadata": {
        "id": "ssSXqrNxtZLT"
      }
    },
    {
      "cell_type": "code",
      "source": [
        "from sklearn.feature_extraction.text import TfidfVectorizer\n",
        "from sklearn.metrics.pairwise import cosine_similarity\n",
        "\n",
        "# frases para comparar\n",
        "frase1 = \"O cachorro correu no parque.\"\n",
        "frase2 = \"O cão correu no jardim.\"\n",
        "\n",
        "# criar um objeto TfidfVectorizer\n",
        "vectorizer = TfidfVectorizer()\n",
        "\n",
        "# calcular o tf-idf para cada frase\n",
        "tfidf = vectorizer.fit_transform([frase1, frase2])\n",
        "\n",
        "# calcular a similaridade de cosseno entre as frases\n",
        "similarity = cosine_similarity(tfidf)\n",
        "\n",
        "# imprimir a similaridade\n",
        "print(similarity[0][1])\n"
      ],
      "metadata": {
        "colab": {
          "base_uri": "https://localhost:8080/"
        },
        "id": "jYy20IpBtT0Y",
        "outputId": "716cecf5-2a06-4c3b-bc49-c21caf7f5ea1"
      },
      "execution_count": null,
      "outputs": [
        {
          "output_type": "stream",
          "name": "stdout",
          "text": [
            "0.3360969272762575\n"
          ]
        }
      ]
    },
    {
      "cell_type": "markdown",
      "source": [
        "Neste exemplo, estamos usando a biblioteca `scikit-learn` para criar um objeto `TfidfVectorizer`, calcular o TF-IDF para cada frase e, em seguida, calcular a similaridade de cosseno entre elas. A similaridade será um valor entre 0 e 1, onde 1 significa que as frases são idênticas e 0 significa que são completamente diferentes."
      ],
      "metadata": {
        "id": "J-Z98KLlteyI"
      }
    },
    {
      "cell_type": "markdown",
      "source": [
        "No próximo exemplo, usaremos o TF-IDF para recomendar documentos semelhantes com base em um documento de entrada:"
      ],
      "metadata": {
        "id": "JNlXcshbuAO9"
      }
    },
    {
      "cell_type": "code",
      "source": [
        "from sklearn.feature_extraction.text import TfidfVectorizer\n",
        "from sklearn.metrics.pairwise import cosine_similarity\n",
        "\n",
        "# documentos de exemplo\n",
        "documentos = [\n",
        "    \"O rato roeu a roupa do rei de Roma.\",\n",
        "    \"Quem casa quer casa.\",\n",
        "    \"Água mole em pedra dura, tanto bate até que fura.\",\n",
        "    \"De grão em grão a galinha enche o papo.\"\n",
        "]\n",
        "\n",
        "# criar um objeto TfidfVectorizer\n",
        "vectorizer = TfidfVectorizer()\n",
        "\n",
        "# calcular o tf-idf para cada documento\n",
        "tfidf = vectorizer.fit_transform(documentos)\n",
        "\n",
        "# documento de entrada para comparar\n",
        "entrada = \"O rei casou com a rainha.\"\n",
        "\n",
        "# calcular o tf-idf para a entrada\n",
        "tfidf_entrada = vectorizer.transform([entrada])\n",
        "\n",
        "# calcular a similaridade de cosseno entre a entrada e os documentos existentes\n",
        "similaridade = cosine_similarity(tfidf_entrada, tfidf)\n",
        "\n",
        "# encontrar o documento mais semelhante\n",
        "index_documento = similaridade.argmax()\n",
        "\n",
        "# imprimir o documento recomendado\n",
        "print(documentos[index_documento])"
      ],
      "metadata": {
        "colab": {
          "base_uri": "https://localhost:8080/"
        },
        "id": "14useZ_rt7rc",
        "outputId": "4ba15596-3fce-4269-92ed-0acc4be00489"
      },
      "execution_count": null,
      "outputs": [
        {
          "output_type": "stream",
          "name": "stdout",
          "text": [
            "O rato roeu a roupa do rei de Roma.\n"
          ]
        }
      ]
    },
    {
      "cell_type": "markdown",
      "source": [
        "Neste exemplo, estamos usando a biblioteca `scikit-learn` para criar um objeto `TfidfVectorizer`, calcular o TF-IDF para cada documento, e em seguida, calcular a similaridade de cosseno entre um documento de entrada e os documentos existentes. Finalmente, estamos recomendando o documento mais semelhante com base na maior similaridade de cosseno."
      ],
      "metadata": {
        "id": "uOii42KruKey"
      }
    }
  ]
}