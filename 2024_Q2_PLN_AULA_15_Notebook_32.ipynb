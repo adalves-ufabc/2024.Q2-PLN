{
  "cells": [
    {
      "cell_type": "markdown",
      "metadata": {
        "id": "view-in-github",
        "colab_type": "text"
      },
      "source": [
        "<a href=\"https://colab.research.google.com/github/adalves-ufabc/2024.Q2-PLN/blob/main/2024_Q2_PLN_AULA_15_Notebook_32.ipynb\" target=\"_parent\"><img src=\"https://colab.research.google.com/assets/colab-badge.svg\" alt=\"Open In Colab\"/></a>"
      ]
    },
    {
      "cell_type": "markdown",
      "metadata": {
        "id": "Y6QILOdpOjwv"
      },
      "source": [
        "# **Processamento de Linguagem Natural [2024-Q2]**\n",
        "Prof. Alexandre Donizeti Alves"
      ]
    },
    {
      "cell_type": "markdown",
      "metadata": {
        "id": "nmK05FgcOzL2"
      },
      "source": [
        "## **Sistema de Perguntas e Respostas (Question/Answering)**\n",
        "---\n",
        "\n"
      ]
    },
    {
      "cell_type": "markdown",
      "source": [
        "Um **Sistema de Perguntas e Respostas** (*Question/Answering*, *Q&A*) é uma técnica de PLN projetada para responder a perguntas formuladas em linguagem natural. Esses sistemas são frequentemente utilizados para fornecer respostas a perguntas baseadas em texto ou em documentos, e podem funcionar em diferentes contextos e com diferentes tipos de dados."
      ],
      "metadata": {
        "id": "QeCuUbcF0dJa"
      }
    },
    {
      "cell_type": "markdown",
      "source": [
        "![1_DX9-7xLkQsIRyXDxwB1CrQ.webp](data:image/webp;base64,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)"
      ],
      "metadata": {
        "id": "-4Agf83G2IVy"
      }
    },
    {
      "cell_type": "markdown",
      "source": [
        "Alguns aspectos:\n",
        "\n",
        "1. **Entrada**: o sistema recebe uma pergunta formulada em linguagem natural, por exemplo, \"Qual é a capital da França?\".\n",
        "\n",
        "2. **Processamento**: o sistema analisa a pergunta e busca informações relevantes em um conjunto de dados, que pode ser um banco de dados, um córpus de textos, ou um documento específico. Isso pode envolver técnicas como análise de texto, recuperação de informações e compreensão de linguagem.\n",
        "\n",
        "3. **Resposta**: o sistema gera uma resposta com base nas informações encontradas. Em alguns casos, a resposta pode ser diretamente extraída do texto, enquanto em outros, pode ser inferida a partir de várias fontes de dados.\n",
        "\n",
        "4. **Tipo de Dados**: sistemas de Q&A podem trabalhar com diferentes tipos de dados, incluindo texto não estruturado (como documentos ou artigos), dados estruturados (como tabelas ou bancos de dados) e dados multimodais (como imagens e textos).\n",
        "\n",
        "5. **Modelos e Técnicas**: esses sistemas podem usar modelos de linguagem avançados ou técnicas tradicionais de recuperação de informações e análise semântica.\n",
        "\n",
        "6. **Aplicações**: são usados em uma variedade de contextos, incluindo assistentes virtuais, suporte ao cliente, sistemas de ajuda online e análise de grandes volumes de texto."
      ],
      "metadata": {
        "id": "cg4AwnjV1PU6"
      }
    },
    {
      "cell_type": "markdown",
      "source": [
        "#### **LangChain**"
      ],
      "metadata": {
        "id": "7ck48eFI0evw"
      }
    },
    {
      "cell_type": "code",
      "execution_count": null,
      "metadata": {
        "id": "cYKEbnlNTVlR",
        "colab": {
          "base_uri": "https://localhost:8080/"
        },
        "outputId": "f8d51850-e4f9-49a5-802a-21f696857dfb"
      },
      "outputs": [
        {
          "output_type": "stream",
          "name": "stdout",
          "text": [
            "\u001b[2K     \u001b[90m━━━━━━━━━━━━━━━━━━━━━━━━━━━━━━━━━━━━━━━━\u001b[0m \u001b[32m50.4/50.4 kB\u001b[0m \u001b[31m1.1 MB/s\u001b[0m eta \u001b[36m0:00:00\u001b[0m\n",
            "\u001b[2K   \u001b[90m━━━━━━━━━━━━━━━━━━━━━━━━━━━━━━━━━━━━━━━━\u001b[0m \u001b[32m997.8/997.8 kB\u001b[0m \u001b[31m14.2 MB/s\u001b[0m eta \u001b[36m0:00:00\u001b[0m\n",
            "\u001b[2K   \u001b[90m━━━━━━━━━━━━━━━━━━━━━━━━━━━━━━━━━━━━━━━━\u001b[0m \u001b[32m384.8/384.8 kB\u001b[0m \u001b[31m15.9 MB/s\u001b[0m eta \u001b[36m0:00:00\u001b[0m\n",
            "\u001b[2K   \u001b[90m━━━━━━━━━━━━━━━━━━━━━━━━━━━━━━━━━━━━━━━━\u001b[0m \u001b[32m140.4/140.4 kB\u001b[0m \u001b[31m8.6 MB/s\u001b[0m eta \u001b[36m0:00:00\u001b[0m\n",
            "\u001b[2K   \u001b[90m━━━━━━━━━━━━━━━━━━━━━━━━━━━━━━━━━━━━━━━━\u001b[0m \u001b[32m141.9/141.9 kB\u001b[0m \u001b[31m8.9 MB/s\u001b[0m eta \u001b[36m0:00:00\u001b[0m\n",
            "\u001b[?25h"
          ]
        }
      ],
      "source": [
        "#@title Instalando o pacote LangChain\n",
        "!pip install -qU langchain"
      ]
    },
    {
      "cell_type": "code",
      "execution_count": null,
      "metadata": {
        "colab": {
          "base_uri": "https://localhost:8080/"
        },
        "id": "hJvs5RTcbE64",
        "outputId": "68e571e8-8222-4d2c-b659-3f8d91aa463f"
      },
      "outputs": [
        {
          "output_type": "stream",
          "name": "stdout",
          "text": [
            "0.2.13\n"
          ]
        }
      ],
      "source": [
        "#@title Versão do LangChain\n",
        "\n",
        "import langchain\n",
        "\n",
        "print(langchain.__version__)"
      ]
    },
    {
      "cell_type": "code",
      "source": [
        "#@title Integração com o pacote da OpenAI\n",
        "\n",
        "!pip install -qU langchain-openai"
      ],
      "metadata": {
        "id": "8klfbjqKbUpp",
        "colab": {
          "base_uri": "https://localhost:8080/"
        },
        "outputId": "51acc64e-6193-4e6e-e174-9fdf79247f7a"
      },
      "execution_count": null,
      "outputs": [
        {
          "output_type": "stream",
          "name": "stdout",
          "text": [
            "\u001b[?25l   \u001b[90m━━━━━━━━━━━━━━━━━━━━━━━━━━━━━━━━━━━━━━━━\u001b[0m \u001b[32m0.0/49.8 kB\u001b[0m \u001b[31m?\u001b[0m eta \u001b[36m-:--:--\u001b[0m\r\u001b[2K   \u001b[90m━━━━━━━━━━━━━━━━━━━━━━━━━━━━━━━━━━━━━━━━\u001b[0m \u001b[32m49.8/49.8 kB\u001b[0m \u001b[31m2.8 MB/s\u001b[0m eta \u001b[36m0:00:00\u001b[0m\n",
            "\u001b[?25h\u001b[?25l   \u001b[90m━━━━━━━━━━━━━━━━━━━━━━━━━━━━━━━━━━━━━━━━\u001b[0m \u001b[32m0.0/361.3 kB\u001b[0m \u001b[31m?\u001b[0m eta \u001b[36m-:--:--\u001b[0m\r\u001b[2K   \u001b[90m━━━━━━━━━━━━━━━━━━━━━━━━━━━━━━━━━━━━━━━━\u001b[0m \u001b[32m361.3/361.3 kB\u001b[0m \u001b[31m11.2 MB/s\u001b[0m eta \u001b[36m0:00:00\u001b[0m\n",
            "\u001b[?25h\u001b[?25l   \u001b[90m━━━━━━━━━━━━━━━━━━━━━━━━━━━━━━━━━━━━━━━━\u001b[0m \u001b[32m0.0/1.1 MB\u001b[0m \u001b[31m?\u001b[0m eta \u001b[36m-:--:--\u001b[0m\r\u001b[2K   \u001b[91m━━━━━━━━━━━━━━━━━━━━━━━━━━━━━━━━━━━━━━━\u001b[0m\u001b[91m╸\u001b[0m \u001b[32m1.1/1.1 MB\u001b[0m \u001b[31m72.0 MB/s\u001b[0m eta \u001b[36m0:00:01\u001b[0m\r\u001b[2K   \u001b[90m━━━━━━━━━━━━━━━━━━━━━━━━━━━━━━━━━━━━━━━━\u001b[0m \u001b[32m1.1/1.1 MB\u001b[0m \u001b[31m23.8 MB/s\u001b[0m eta \u001b[36m0:00:00\u001b[0m\n",
            "\u001b[2K   \u001b[90m━━━━━━━━━━━━━━━━━━━━━━━━━━━━━━━━━━━━━━━━\u001b[0m \u001b[32m75.6/75.6 kB\u001b[0m \u001b[31m4.6 MB/s\u001b[0m eta \u001b[36m0:00:00\u001b[0m\n",
            "\u001b[2K   \u001b[90m━━━━━━━━━━━━━━━━━━━━━━━━━━━━━━━━━━━━━━━━\u001b[0m \u001b[32m77.9/77.9 kB\u001b[0m \u001b[31m4.3 MB/s\u001b[0m eta \u001b[36m0:00:00\u001b[0m\n",
            "\u001b[2K   \u001b[90m━━━━━━━━━━━━━━━━━━━━━━━━━━━━━━━━━━━━━━━━\u001b[0m \u001b[32m318.9/318.9 kB\u001b[0m \u001b[31m15.2 MB/s\u001b[0m eta \u001b[36m0:00:00\u001b[0m\n",
            "\u001b[2K   \u001b[90m━━━━━━━━━━━━━━━━━━━━━━━━━━━━━━━━━━━━━━━━\u001b[0m \u001b[32m58.3/58.3 kB\u001b[0m \u001b[31m2.9 MB/s\u001b[0m eta \u001b[36m0:00:00\u001b[0m\n",
            "\u001b[?25h"
          ]
        }
      ]
    },
    {
      "cell_type": "code",
      "execution_count": null,
      "metadata": {
        "colab": {
          "base_uri": "https://localhost:8080/"
        },
        "id": "RM5RnKClbPtQ",
        "outputId": "cb38f933-b090-4d61-cf73-6c2df5b32610"
      },
      "outputs": [
        {
          "name": "stdout",
          "output_type": "stream",
          "text": [
            "··········\n"
          ]
        }
      ],
      "source": [
        "#@title Definindo a chave da API da OpenAI\n",
        "\n",
        "import getpass\n",
        "import os\n",
        "\n",
        "os.environ[\"OPENAI_API_KEY\"] = getpass.getpass()"
      ]
    },
    {
      "cell_type": "markdown",
      "source": [
        "#### **Exemplo**"
      ],
      "metadata": {
        "id": "48inXIgDTxlv"
      }
    },
    {
      "cell_type": "markdown",
      "source": [
        "Arquivos PDF frequentemente contêm dados não estruturados que não estão disponíveis em outras fontes. Eles podem ser bastante longos e, ao contrário dos arquivos de texto simples, geralmente não podem ser inseridos diretamente no *prompt* de um modelo de linguagem.\n",
        "\n",
        ">\n",
        "Neste exemplo, você criará um sistema que pode responder a perguntas sobre arquivos PDF. Mais especificamente, você usará um `Document Loader` para carregar o texto em um formato utilizável por um LLM, e depois construirá um pipeline de geração aumentada por recuperação (RAG) para responder perguntas, incluindo citações do material fonte."
      ],
      "metadata": {
        "id": "YNSQ2xfl2u0I"
      }
    },
    {
      "cell_type": "code",
      "source": [
        "!pip install -qU langchain-community"
      ],
      "metadata": {
        "colab": {
          "base_uri": "https://localhost:8080/"
        },
        "id": "FPhNNz2BnNuF",
        "outputId": "e063213f-881d-4ee9-8d94-bf74b2b578cb"
      },
      "execution_count": null,
      "outputs": [
        {
          "output_type": "stream",
          "name": "stdout",
          "text": [
            "\u001b[2K   \u001b[90m━━━━━━━━━━━━━━━━━━━━━━━━━━━━━━━━━━━━━━━━\u001b[0m \u001b[32m2.3/2.3 MB\u001b[0m \u001b[31m28.5 MB/s\u001b[0m eta \u001b[36m0:00:00\u001b[0m\n",
            "\u001b[2K   \u001b[90m━━━━━━━━━━━━━━━━━━━━━━━━━━━━━━━━━━━━━━━━\u001b[0m \u001b[32m49.2/49.2 kB\u001b[0m \u001b[31m3.3 MB/s\u001b[0m eta \u001b[36m0:00:00\u001b[0m\n",
            "\u001b[?25h"
          ]
        }
      ]
    },
    {
      "cell_type": "markdown",
      "source": [
        "**Carregando documentos**\n",
        ">\n",
        "Primeiro, você precisará escolher um PDF para carregar. Vamos usar um documento do relatório anual público da Nike. Ele tem mais de 100 páginas e contém alguns dados importantes misturados com textos explicativos mais longos.\n",
        "\n"
      ],
      "metadata": {
        "id": "Cx1C44c_3RZa"
      }
    },
    {
      "cell_type": "code",
      "source": [
        "import requests\n",
        "\n",
        "url = 'https://s1.q4cdn.com/806093406/files/doc_downloads/2023/414759-1-_5_Nike-NPS-Combo_Form-10-K_WR.pdf'\n",
        "\n",
        "local_filename = '414759-1-_5_Nike-NPS-Combo_Form-10-K_WR.pdf'\n",
        "\n",
        "response = requests.get(url, stream=True)\n",
        "\n",
        "if response.status_code == 200:\n",
        "    with open(local_filename, 'wb') as file:\n",
        "        for chunk in response.iter_content(chunk_size=8192):\n",
        "            file.write(chunk)\n",
        "    print(f'Arquivo PDF salvo como {local_filename}')\n",
        "else:\n",
        "    print(f'Falha ao baixar o arquivo. Status code: {response.status_code}')"
      ],
      "metadata": {
        "colab": {
          "base_uri": "https://localhost:8080/"
        },
        "id": "hFVfd6U44CYa",
        "outputId": "b8bd1be9-e018-489e-d600-a0cce494ae2e"
      },
      "execution_count": null,
      "outputs": [
        {
          "output_type": "stream",
          "name": "stdout",
          "text": [
            "Arquivo PDF salvo como 414759-1-_5_Nike-NPS-Combo_Form-10-K_WR.pdf\n"
          ]
        }
      ]
    },
    {
      "cell_type": "markdown",
      "source": [
        "Depois de escolher seu PDF, o próximo passo é carregá-lo em um formato que um LLM possa manipular mais facilmente, uma vez que os LLMs geralmente requerem entradas de texto. O `LangChain` possui alguns [carregadores de documentos integrados](https://python.langchain.com/v0.2/docs/how_to/document_loader_pdf/) para esse propósito. Abaixo, usaremos um carregador alimentado pelo pacote `pypdf` que lê a partir de um caminho de arquivo:"
      ],
      "metadata": {
        "id": "FRKxp1eeCjz4"
      }
    },
    {
      "cell_type": "code",
      "source": [
        "!pip install -qU pypdf"
      ],
      "metadata": {
        "colab": {
          "base_uri": "https://localhost:8080/"
        },
        "id": "_l8P5xAonSmf",
        "outputId": "0d45a758-1bda-48ee-962e-b14fe2cfe1a9"
      },
      "execution_count": null,
      "outputs": [
        {
          "output_type": "stream",
          "name": "stdout",
          "text": [
            "\u001b[?25l   \u001b[90m━━━━━━━━━━━━━━━━━━━━━━━━━━━━━━━━━━━━━━━━\u001b[0m \u001b[32m0.0/295.8 kB\u001b[0m \u001b[31m?\u001b[0m eta \u001b[36m-:--:--\u001b[0m\r\u001b[2K   \u001b[91m━━━━━━━━━━━━━\u001b[0m\u001b[91m╸\u001b[0m\u001b[90m━━━━━━━━━━━━━━━━━━━━━━━━━━\u001b[0m \u001b[32m102.4/295.8 kB\u001b[0m \u001b[31m2.8 MB/s\u001b[0m eta \u001b[36m0:00:01\u001b[0m\r\u001b[2K   \u001b[90m━━━━━━━━━━━━━━━━━━━━━━━━━━━━━━━━━━━━━━━━\u001b[0m \u001b[32m295.8/295.8 kB\u001b[0m \u001b[31m4.4 MB/s\u001b[0m eta \u001b[36m0:00:00\u001b[0m\n",
            "\u001b[?25h"
          ]
        }
      ]
    },
    {
      "cell_type": "code",
      "source": [
        "from langchain_community.document_loaders import PyPDFLoader\n",
        "\n",
        "file_path = \"/content/414759-1-_5_Nike-NPS-Combo_Form-10-K_WR.pdf\"\n",
        "loader = PyPDFLoader(file_path)\n",
        "\n",
        "docs = loader.load()\n",
        "\n",
        "print(len(docs))"
      ],
      "metadata": {
        "id": "2jptRRu_m9Sn",
        "colab": {
          "base_uri": "https://localhost:8080/"
        },
        "outputId": "c0854dad-cfdf-4260-f6cd-211627f30775"
      },
      "execution_count": null,
      "outputs": [
        {
          "output_type": "stream",
          "name": "stdout",
          "text": [
            "106\n"
          ]
        }
      ]
    },
    {
      "cell_type": "markdown",
      "source": [
        "**O que acabou de acontecer?**\n",
        ">\n",
        "\n",
        "- O *loader* lê o PDF no caminho especificado e carrega o conteúdo na memória.\n",
        "- Em seguida, ele extrai os dados de texto utilizando o pacote *pypdf*.\n",
        "- Por fim, ele cria um *Document* do **LangChain** para cada página do PDF, contendo o conteúdo da página e alguns metadados sobre de onde o texto foi extraído no documento.\n",
        "\n",
        ">\n",
        "O **LangChain** possui [muitos outros carregadores de documentos](https://python.langchain.com/v0.2/docs/integrations/document_loaders/) para outras fontes de dados, ou você pode criar um carregador de documentos personalizado."
      ],
      "metadata": {
        "id": "D44-rYeNGFsY"
      }
    },
    {
      "cell_type": "code",
      "source": [
        "print(docs[0].page_content[0:100])\n",
        "print(docs[0].metadata)"
      ],
      "metadata": {
        "colab": {
          "base_uri": "https://localhost:8080/"
        },
        "id": "eXTGY1FGstfZ",
        "outputId": "5787b66e-9448-4060-b96b-9e812966fbbf"
      },
      "execution_count": null,
      "outputs": [
        {
          "output_type": "stream",
          "name": "stdout",
          "text": [
            "FORM 10-K FORM 10-K\n",
            "{'source': '/content/414759-1-_5_Nike-NPS-Combo_Form-10-K_WR.pdf', 'page': 0}\n"
          ]
        }
      ]
    },
    {
      "cell_type": "code",
      "source": [
        "print(docs[11].page_content[0:100])"
      ],
      "metadata": {
        "colab": {
          "base_uri": "https://localhost:8080/"
        },
        "id": "J5KnqVMNw7Gw",
        "outputId": "fd986798-1f08-4d53-f22e-92a11fe88d73"
      },
      "execution_count": null,
      "outputs": [
        {
          "output_type": "stream",
          "name": "stdout",
          "text": [
            "INFORMATION ABOUT OUR EXECUTIVE OFFICERS\n",
            "The executive officers of NIKE, Inc. as of July 20, 2023, a\n"
          ]
        }
      ]
    },
    {
      "cell_type": "code",
      "source": [
        "print(docs[36].page_content[0:100])"
      ],
      "metadata": {
        "colab": {
          "base_uri": "https://localhost:8080/"
        },
        "id": "7QRJH0PPxM46",
        "outputId": "406464f7-7e27-4b26-bd6c-3ba962648dde"
      },
      "execution_count": null,
      "outputs": [
        {
          "output_type": "stream",
          "name": "stdout",
          "text": [
            "FISCAL 2023 NIKE BRAND REVENUE HIGHLIGHTS\n",
            "The following tables present NIKE Brand revenues disaggreg\n"
          ]
        }
      ]
    },
    {
      "cell_type": "code",
      "source": [
        "from langchain_community.document_loaders import PyPDFLoader\n",
        "\n",
        "file_path = \"/content/414759-1-_5_Nike-NPS-Combo_Form-10-K_WR.pdf\"\n",
        "loader = PyPDFLoader(file_path)\n",
        "\n",
        "all_docs = loader.load()\n",
        "\n",
        "page_numbers = [11, 36]\n",
        "docs = [all_docs[i] for i in page_numbers if i > 0 and i <= len(all_docs)]\n",
        "\n",
        "print(len(docs))"
      ],
      "metadata": {
        "colab": {
          "base_uri": "https://localhost:8080/"
        },
        "id": "UPfU6CGdx4eX",
        "outputId": "545474f1-e651-4383-c3c0-f682f994c763"
      },
      "execution_count": null,
      "outputs": [
        {
          "output_type": "stream",
          "name": "stdout",
          "text": [
            "2\n"
          ]
        }
      ]
    },
    {
      "cell_type": "code",
      "source": [
        "from IPython.display import Markdown\n",
        "\n",
        "Markdown(docs[0].page_content)"
      ],
      "metadata": {
        "colab": {
          "base_uri": "https://localhost:8080/",
          "height": 533
        },
        "id": "mGjGG2mjyKRS",
        "outputId": "24d229ed-7337-49f3-c133-ac5de8464a31"
      },
      "execution_count": null,
      "outputs": [
        {
          "output_type": "execute_result",
          "data": {
            "text/plain": [
              "<IPython.core.display.Markdown object>"
            ],
            "text/markdown": "INFORMATION ABOUT OUR EXECUTIVE OFFICERS\nThe executive officers of NIKE, Inc. as of July 20, 2023, are as follows:\nMark G. Parker , Executive Chairman — Mr. Parker, 67, is Executive Chairman of the Board of Directors \nand served as President and Chief Executive Officer from 2006 - January 2020. He has been employed \nby NIKE since 1979 with primary responsibilities in product research, design and development, \nmarketing and brand management. Mr. Parker was appointed divisional Vice President in charge of \nproduct development in 1987, corporate Vice President in 1989, General Manager in 1993, Vice \nPresident of Global Footwear in 1998 and President of the NIKE Brand in 2001.\nJohn J. Donahoe II , President and Chief Executive Officer — Mr. Donahoe, 63, was appointed \nPresident and Chief Executive Officer in January 2020 and has been a director since 2014. He brings \nexpertise in digital commerce, technology and global strategy. He previously served as President and \nChief Executive Officer at ServiceNow, Inc. Prior to joining ServiceNow, Inc., he served as President and \nChief Executive Officer of eBay, Inc. He also held leadership roles at Bain & Company for two decades.\nMatthew Friend , Executive Vice President and Chief Financial Officer — Mr. Friend, 45, joined NIKE in \n2009 and leads the Company's finance, demand & supply management, procurement and global places \n& services organizations. He joined NIKE as Senior Director of Corporate Strategy and Development, \nand was appointed Chief Financial Officer of Emerging Markets in 2011. In 2014, Mr. Friend was \nappointed Chief Financial Officer of Global Categories, Product and Functions, and was subsequently \nappointed Chief Financial Officer of the NIKE Brand in 2016. He was also appointed Vice President of \nInvestor Relations in 2019. Mr. Friend was appointed as Executive Vice President and Chief Financial \nOfficer of NIKE, Inc. in April 2020. Prior to joining NIKE, he worked in the financial industry including \nroles as VP of investment banking and mergers and acquisitions at Goldman Sachs and Morgan \nStanley.\nMonique S. Matheson , Executive Vice President, Chief Human Resources Officer — Ms. Matheson, \n56, joined NIKE in 1998, with primary responsibilities in the human resources function. She was \nappointed as Vice President and Senior Business Partner in 2011 and Vice President, Chief Talent and \nDiversity Officer in 2012. Ms. Matheson was appointed Executive Vice President, Global Human \nResources in 2017.\nAnn M. Miller , Executive Vice President, Chief Legal Officer — Ms. Miller, 49, joined NIKE in 2007 and \nserves as EVP, Chief Legal Officer for NIKE, Inc. In her capacity as Chief Legal Officer, she oversees all \nlegal, compliance, government & public affairs, social community impact, security, resilience and \ninvestigation matters of the Company. For the past six years, she served as Vice President, Corporate \nSecretary and Chief Ethics & Compliance Officer. She previously served as Converse's General \nCounsel, and brings more than 20 years of legal and business expertise to her role. P rior to joining \nNIKE, Ms. Miller worked at the law firm Sullivan & Cromwell.\nHeidi O'Neill , President, Consumer, Brand & Product — Ms. O'Neill, 58, joined NIKE in 1998 and leads \nthe integration of global Men's, Women's & Kids' consumer teams, the entire global product engine and \nglobal brand marketing and sports marketing to build deep storytelling, relationships and engagement \nwith the brand. Since joining NIKE, she has held a variety of key roles, including leading NIKE's \nmarketplace and four geographic operating regions, leading NIKE Direct and accelerating NIKE's retail \nand digital-commerce business and creating and leading NIKE's Women’s business. Prior to NIKE, Ms. \nO'Neill held roles at Levi Strauss & Company and Foote, Cone & Belding.\nCraig Williams , President, Geographies & Marketplace — Mr. Williams, 54, joined NIKE in 2019 and \nleads NIKE's four geographies and marketplace across the NIKE Direct and wholesale business. In \naddition, he leads the Supply Chain and Logistics organization. Mr. Williams joined NIKE as President of \nJordan Brand overseeing a team of designers, product developers, marketers and business leaders. \nPrior to NIKE, he was Senior Vice President, The Coca-Cola Co., and President of The McDonald's \nDivision (TMD) Worldwide. Mr. Williams has also held roles at CIBA Vision and Kraft Foods Inc., and \nserved five years in the U.S. Navy as a Naval Nuclear Power Officer.\nNIKE, INC.       8"
          },
          "metadata": {},
          "execution_count": 53
        }
      ]
    },
    {
      "cell_type": "code",
      "source": [
        "from IPython.display import Markdown\n",
        "\n",
        "Markdown(docs[1].page_content)"
      ],
      "metadata": {
        "colab": {
          "base_uri": "https://localhost:8080/",
          "height": 437
        },
        "id": "lrR1OHwpDzfR",
        "outputId": "7818f369-b1a0-44a9-ef8c-4b23a785d3c3"
      },
      "execution_count": null,
      "outputs": [
        {
          "output_type": "execute_result",
          "data": {
            "text/plain": [
              "<IPython.core.display.Markdown object>"
            ],
            "text/markdown": "FISCAL 2023 NIKE BRAND REVENUE HIGHLIGHTS\nThe following tables present NIKE Brand revenues disaggregated by reportable operating segment, distribution channel and \nmajor product line:\nFISCAL 2023 COMPARED TO FISCAL 2022\n•NIKE, Inc. Revenues were $51.2 billion in fiscal 2023, which increased 10% and 16% compared to fiscal 2022 on a reported \nand currency-neutral basis, respectively. The increase was due to higher revenues in North America, Europe, Middle East & \nAfrica (\"EMEA\"), APLA and Greater China, which contributed approximately 7, 6, 2 and 1 percentage points to NIKE, Inc. \nRevenues, respectively. \n•NIKE Brand revenues, which represented over 90% of NIKE, Inc. Revenues,  increased  10% and 16% on a reported and \ncurrency-neutral basis, respectively. This increase was primarily due to higher revenues in Men's, the Jordan Brand, \nWomen's and Kids' which grew 17%, 35%,11% and 10%, respectively, on a wholesale equivalent basis. \n•NIKE Brand footwear revenues increased 20% on a currency-neutral basis, due to higher revenues in Men's, the \nJordan Brand, Women's and Kids'. Unit sales of footwear increased 13%, while higher average selling price (\"ASP\") \nper pair contributed approximately 7 percentage points of footwear revenue growth. Higher ASP was primarily due to \nhigher full-price ASP, net of discounts, on a wholesale equivalent basis, and growth in the size of our NIKE Direct \nbusiness, partially offset by lower NIKE Direct ASP. \n•NIKE Brand apparel revenues increased 8% on a currency-neutral basis, primarily due to higher revenues in Men's. \nUnit sales of apparel increased 4%, while higher ASP per unit contributed approximately 4 percentage points of \napparel revenue growth. Higher ASP was primarily due to higher full-price ASP and growth in the size of our NIKE \nDirect business, partially offset by lower NIKE Direct ASP, reflecting higher promotional activity.\n•NIKE Direct revenues increased 14% from $18.7 billion in fiscal 2022 to $21.3 billion in fiscal 2023. On a currency-neutral \nbasis, NIKE Direct revenues increased 20% primarily driven by NIKE Brand Digital sales growth of 24%, comparable store \nsales growth of 14% and the addition of new stores. For further information regarding comparable store sales, including the \ndefinition, see \"Comparable Store Sales\". NIKE Brand Digital sales were $12.6 billion for fiscal 2023 compared to \n$10.7 billion for fiscal 2022.\n2023 FORM 10-K   33    28%\nEMEA13%\nAPLA44%\nNorth\nAmerica\n15%\nGreater\nChina56%\nWholesale\n44%\nNIKE\nDirect28%\nApparel4%\nEquipment68%\nFootwear"
          },
          "metadata": {},
          "execution_count": 54
        }
      ]
    },
    {
      "cell_type": "markdown",
      "source": [
        "**Resposta a perguntas com *RAG***\n",
        ">\n",
        "\n",
        "Em seguida, é necessário preparar os documentos carregados para posterior recuperação. Usando um *text splitter*, você dividirá seus documentos carregados em documentos menores que podem ser mais facilmente acomodados na janela de contexto de um LLM, e então os carregará em um *vector store*. A partir daí, você pode criar um *retriever* a partir do *vector store* para usar na nossa *RAG chain*."
      ],
      "metadata": {
        "id": "bc-MU7RfGqhW"
      }
    },
    {
      "cell_type": "code",
      "source": [
        "from langchain_openai import ChatOpenAI\n",
        "\n",
        "modelo = ChatOpenAI(model=\"gpt-4o-mini\")"
      ],
      "metadata": {
        "id": "fjcvu7-fvaqJ"
      },
      "execution_count": null,
      "outputs": []
    },
    {
      "cell_type": "markdown",
      "source": [
        "O **Chroma** é uma das opções de `vector stores` (ou banco de dados de vetores) utilizados para armazenar e recuperar vetores de *embeddings*, que são representações numéricas de dados textuais ou outros tipos de informação."
      ],
      "metadata": {
        "id": "6VSr582DHbts"
      }
    },
    {
      "cell_type": "code",
      "source": [
        "!pip install -qU langchain_chroma"
      ],
      "metadata": {
        "id": "jWt17DofHIpY",
        "colab": {
          "base_uri": "https://localhost:8080/"
        },
        "outputId": "a47a5903-c935-45fc-b1ce-c8c10a294dff"
      },
      "execution_count": null,
      "outputs": [
        {
          "output_type": "stream",
          "name": "stdout",
          "text": [
            "\u001b[?25l     \u001b[90m━━━━━━━━━━━━━━━━━━━━━━━━━━━━━━━━━━━━━━━━\u001b[0m \u001b[32m0.0/67.3 kB\u001b[0m \u001b[31m?\u001b[0m eta \u001b[36m-:--:--\u001b[0m\r\u001b[2K     \u001b[90m━━━━━━━━━━━━━━━━━━━━━━━━━━━━━━━━━━━━━━━━\u001b[0m \u001b[32m67.3/67.3 kB\u001b[0m \u001b[31m3.1 MB/s\u001b[0m eta \u001b[36m0:00:00\u001b[0m\n",
            "\u001b[?25h  Installing build dependencies ... \u001b[?25l\u001b[?25hdone\n",
            "  Getting requirements to build wheel ... \u001b[?25l\u001b[?25hdone\n",
            "  Preparing metadata (pyproject.toml) ... \u001b[?25l\u001b[?25hdone\n",
            "\u001b[2K   \u001b[90m━━━━━━━━━━━━━━━━━━━━━━━━━━━━━━━━━━━━━━━━\u001b[0m \u001b[32m584.3/584.3 kB\u001b[0m \u001b[31m13.4 MB/s\u001b[0m eta \u001b[36m0:00:00\u001b[0m\n",
            "\u001b[2K   \u001b[90m━━━━━━━━━━━━━━━━━━━━━━━━━━━━━━━━━━━━━━━━\u001b[0m \u001b[32m2.4/2.4 MB\u001b[0m \u001b[31m51.0 MB/s\u001b[0m eta \u001b[36m0:00:00\u001b[0m\n",
            "\u001b[2K   \u001b[90m━━━━━━━━━━━━━━━━━━━━━━━━━━━━━━━━━━━━━━━━\u001b[0m \u001b[32m93.1/93.1 kB\u001b[0m \u001b[31m6.7 MB/s\u001b[0m eta \u001b[36m0:00:00\u001b[0m\n",
            "\u001b[2K   \u001b[90m━━━━━━━━━━━━━━━━━━━━━━━━━━━━━━━━━━━━━━━━\u001b[0m \u001b[32m273.8/273.8 kB\u001b[0m \u001b[31m19.8 MB/s\u001b[0m eta \u001b[36m0:00:00\u001b[0m\n",
            "\u001b[2K   \u001b[90m━━━━━━━━━━━━━━━━━━━━━━━━━━━━━━━━━━━━━━━━\u001b[0m \u001b[32m1.7/1.7 MB\u001b[0m \u001b[31m52.1 MB/s\u001b[0m eta \u001b[36m0:00:00\u001b[0m\n",
            "\u001b[2K   \u001b[90m━━━━━━━━━━━━━━━━━━━━━━━━━━━━━━━━━━━━━━━━\u001b[0m \u001b[32m67.6/67.6 kB\u001b[0m \u001b[31m4.9 MB/s\u001b[0m eta \u001b[36m0:00:00\u001b[0m\n",
            "\u001b[2K   \u001b[90m━━━━━━━━━━━━━━━━━━━━━━━━━━━━━━━━━━━━━━━━\u001b[0m \u001b[32m6.8/6.8 MB\u001b[0m \u001b[31m92.5 MB/s\u001b[0m eta \u001b[36m0:00:00\u001b[0m\n",
            "\u001b[2K   \u001b[90m━━━━━━━━━━━━━━━━━━━━━━━━━━━━━━━━━━━━━━━━\u001b[0m \u001b[32m61.5/61.5 kB\u001b[0m \u001b[31m4.2 MB/s\u001b[0m eta \u001b[36m0:00:00\u001b[0m\n",
            "\u001b[2K   \u001b[90m━━━━━━━━━━━━━━━━━━━━━━━━━━━━━━━━━━━━━━━━\u001b[0m \u001b[32m52.5/52.5 kB\u001b[0m \u001b[31m3.5 MB/s\u001b[0m eta \u001b[36m0:00:00\u001b[0m\n",
            "\u001b[2K   \u001b[90m━━━━━━━━━━━━━━━━━━━━━━━━━━━━━━━━━━━━━━━━\u001b[0m \u001b[32m138.0/138.0 kB\u001b[0m \u001b[31m10.3 MB/s\u001b[0m eta \u001b[36m0:00:00\u001b[0m\n",
            "\u001b[2K   \u001b[90m━━━━━━━━━━━━━━━━━━━━━━━━━━━━━━━━━━━━━━━━\u001b[0m \u001b[32m109.5/109.5 kB\u001b[0m \u001b[31m8.7 MB/s\u001b[0m eta \u001b[36m0:00:00\u001b[0m\n",
            "\u001b[2K   \u001b[90m━━━━━━━━━━━━━━━━━━━━━━━━━━━━━━━━━━━━━━━━\u001b[0m \u001b[32m41.3/41.3 kB\u001b[0m \u001b[31m2.6 MB/s\u001b[0m eta \u001b[36m0:00:00\u001b[0m\n",
            "\u001b[2K   \u001b[90m━━━━━━━━━━━━━━━━━━━━━━━━━━━━━━━━━━━━━━━━\u001b[0m \u001b[32m71.9/71.9 kB\u001b[0m \u001b[31m5.3 MB/s\u001b[0m eta \u001b[36m0:00:00\u001b[0m\n",
            "\u001b[2K   \u001b[90m━━━━━━━━━━━━━━━━━━━━━━━━━━━━━━━━━━━━━━━━\u001b[0m \u001b[32m62.8/62.8 kB\u001b[0m \u001b[31m4.8 MB/s\u001b[0m eta \u001b[36m0:00:00\u001b[0m\n",
            "\u001b[2K   \u001b[90m━━━━━━━━━━━━━━━━━━━━━━━━━━━━━━━━━━━━━━━━\u001b[0m \u001b[32m341.4/341.4 kB\u001b[0m \u001b[31m20.5 MB/s\u001b[0m eta \u001b[36m0:00:00\u001b[0m\n",
            "\u001b[2K   \u001b[90m━━━━━━━━━━━━━━━━━━━━━━━━━━━━━━━━━━━━━━━━\u001b[0m \u001b[32m3.4/3.4 MB\u001b[0m \u001b[31m81.5 MB/s\u001b[0m eta \u001b[36m0:00:00\u001b[0m\n",
            "\u001b[2K   \u001b[90m━━━━━━━━━━━━━━━━━━━━━━━━━━━━━━━━━━━━━━━━\u001b[0m \u001b[32m427.7/427.7 kB\u001b[0m \u001b[31m25.7 MB/s\u001b[0m eta \u001b[36m0:00:00\u001b[0m\n",
            "\u001b[2K   \u001b[90m━━━━━━━━━━━━━━━━━━━━━━━━━━━━━━━━━━━━━━━━\u001b[0m \u001b[32m130.2/130.2 kB\u001b[0m \u001b[31m9.6 MB/s\u001b[0m eta \u001b[36m0:00:00\u001b[0m\n",
            "\u001b[2K   \u001b[90m━━━━━━━━━━━━━━━━━━━━━━━━━━━━━━━━━━━━━━━━\u001b[0m \u001b[32m46.0/46.0 kB\u001b[0m \u001b[31m3.2 MB/s\u001b[0m eta \u001b[36m0:00:00\u001b[0m\n",
            "\u001b[2K   \u001b[90m━━━━━━━━━━━━━━━━━━━━━━━━━━━━━━━━━━━━━━━━\u001b[0m \u001b[32m86.8/86.8 kB\u001b[0m \u001b[31m6.3 MB/s\u001b[0m eta \u001b[36m0:00:00\u001b[0m\n",
            "\u001b[?25h  Building wheel for pypika (pyproject.toml) ... \u001b[?25l\u001b[?25hdone\n"
          ]
        }
      ]
    },
    {
      "cell_type": "code",
      "source": [
        "from langchain_chroma import Chroma\n",
        "from langchain_openai import OpenAIEmbeddings\n",
        "from langchain_text_splitters import RecursiveCharacterTextSplitter\n",
        "\n",
        "text_splitter = RecursiveCharacterTextSplitter(chunk_size=1000, chunk_overlap=200)\n",
        "splits = text_splitter.split_documents(docs)\n",
        "vectorstore = Chroma.from_documents(documents=splits, embedding=OpenAIEmbeddings())\n",
        "\n",
        "retriever = vectorstore.as_retriever()"
      ],
      "metadata": {
        "id": "CM7CvhE5xIWe"
      },
      "execution_count": null,
      "outputs": []
    },
    {
      "cell_type": "code",
      "source": [
        "from langchain.chains import create_retrieval_chain\n",
        "from langchain.chains.combine_documents import create_stuff_documents_chain\n",
        "from langchain_core.prompts import ChatPromptTemplate\n",
        "\n",
        "system_prompt = (\n",
        "    \"You are an assistant for question-answering tasks. \"\n",
        "    \"Use the following pieces of retrieved context to answer \"\n",
        "    \"the question. If you don't know the answer, say that you \"\n",
        "    \"don't know. Use three sentences maximum and keep the \"\n",
        "    \"answer concise.\"\n",
        "    \"\\n\\n\"\n",
        "    \"{context}\"\n",
        ")\n",
        "\n",
        "prompt = ChatPromptTemplate.from_messages(\n",
        "    [\n",
        "        (\"system\", system_prompt),\n",
        "        (\"human\", \"{input}\"),\n",
        "    ]\n",
        ")\n",
        "\n",
        "question_answer_chain = create_stuff_documents_chain(modelo, prompt)\n",
        "\n",
        "# recuperação de documentos relevantes\n",
        "rag_chain = create_retrieval_chain(retriever, question_answer_chain)\n",
        "\n",
        "resposta = rag_chain.invoke({\"input\": \"Quem se juntou à NIKE em 2019?\"})"
      ],
      "metadata": {
        "id": "uwkyuOA9zSJ1"
      },
      "execution_count": null,
      "outputs": []
    },
    {
      "cell_type": "code",
      "source": [
        "resposta"
      ],
      "metadata": {
        "colab": {
          "base_uri": "https://localhost:8080/"
        },
        "id": "tAvA9emcJKoD",
        "outputId": "b1330559-2500-4d39-d66a-94ae9a64b7f4"
      },
      "execution_count": null,
      "outputs": [
        {
          "output_type": "execute_result",
          "data": {
            "text/plain": [
              "{'input': 'Quem se juntou à NIKE em 2019?',\n",
              " 'context': [Document(metadata={'page': 11, 'source': '/content/414759-1-_5_Nike-NPS-Combo_Form-10-K_WR.pdf'}, page_content=\"Jordan Brand overseeing a team of designers, product developers, marketers and business leaders. \\nPrior to NIKE, he was Senior Vice President, The Coca-Cola Co., and President of The McDonald's \\nDivision (TMD) Worldwide. Mr. Williams has also held roles at CIBA Vision and Kraft Foods Inc., and \\nserved five years in the U.S. Navy as a Naval Nuclear Power Officer.\\nNIKE, INC.       8\"),\n",
              "  Document(metadata={'page': 11, 'source': '/content/414759-1-_5_Nike-NPS-Combo_Form-10-K_WR.pdf'}, page_content=\"Resources in 2017.\\nAnn M. Miller , Executive Vice President, Chief Legal Officer — Ms. Miller, 49, joined NIKE in 2007 and \\nserves as EVP, Chief Legal Officer for NIKE, Inc. In her capacity as Chief Legal Officer, she oversees all \\nlegal, compliance, government & public affairs, social community impact, security, resilience and \\ninvestigation matters of the Company. For the past six years, she served as Vice President, Corporate \\nSecretary and Chief Ethics & Compliance Officer. She previously served as Converse's General \\nCounsel, and brings more than 20 years of legal and business expertise to her role. P rior to joining \\nNIKE, Ms. Miller worked at the law firm Sullivan & Cromwell.\\nHeidi O'Neill , President, Consumer, Brand & Product — Ms. O'Neill, 58, joined NIKE in 1998 and leads \\nthe integration of global Men's, Women's & Kids' consumer teams, the entire global product engine and \\nglobal brand marketing and sports marketing to build deep storytelling, relationships and engagement\"),\n",
              "  Document(metadata={'page': 11, 'source': '/content/414759-1-_5_Nike-NPS-Combo_Form-10-K_WR.pdf'}, page_content='appointed Chief Financial Officer of the NIKE Brand in 2016. He was also appointed Vice President of \\nInvestor Relations in 2019. Mr. Friend was appointed as Executive Vice President and Chief Financial \\nOfficer of NIKE, Inc. in April 2020. Prior to joining NIKE, he worked in the financial industry including \\nroles as VP of investment banking and mergers and acquisitions at Goldman Sachs and Morgan \\nStanley.\\nMonique S. Matheson , Executive Vice President, Chief Human Resources Officer — Ms. Matheson, \\n56, joined NIKE in 1998, with primary responsibilities in the human resources function. She was \\nappointed as Vice President and Senior Business Partner in 2011 and Vice President, Chief Talent and \\nDiversity Officer in 2012. Ms. Matheson was appointed Executive Vice President, Global Human \\nResources in 2017.\\nAnn M. Miller , Executive Vice President, Chief Legal Officer — Ms. Miller, 49, joined NIKE in 2007 and'),\n",
              "  Document(metadata={'page': 11, 'source': '/content/414759-1-_5_Nike-NPS-Combo_Form-10-K_WR.pdf'}, page_content=\"global brand marketing and sports marketing to build deep storytelling, relationships and engagement \\nwith the brand. Since joining NIKE, she has held a variety of key roles, including leading NIKE's \\nmarketplace and four geographic operating regions, leading NIKE Direct and accelerating NIKE's retail \\nand digital-commerce business and creating and leading NIKE's Women’s business. Prior to NIKE, Ms. \\nO'Neill held roles at Levi Strauss & Company and Foote, Cone & Belding.\\nCraig Williams , President, Geographies & Marketplace — Mr. Williams, 54, joined NIKE in 2019 and \\nleads NIKE's four geographies and marketplace across the NIKE Direct and wholesale business. In \\naddition, he leads the Supply Chain and Logistics organization. Mr. Williams joined NIKE as President of \\nJordan Brand overseeing a team of designers, product developers, marketers and business leaders. \\nPrior to NIKE, he was Senior Vice President, The Coca-Cola Co., and President of The McDonald's\")],\n",
              " 'answer': 'Craig Williams se juntou à NIKE em 2019. Ele é o Presidente das Geografias e do Mercado e, anteriormente, foi Presidente da Jordan Brand.'}"
            ]
          },
          "metadata": {},
          "execution_count": 57
        }
      ]
    },
    {
      "cell_type": "code",
      "source": [
        "from IPython.display import Markdown\n",
        "\n",
        "Markdown(resposta[\"answer\"])"
      ],
      "metadata": {
        "colab": {
          "base_uri": "https://localhost:8080/",
          "height": 46
        },
        "id": "VKAtrvT3KNeN",
        "outputId": "efc703ef-40ed-4157-e905-b206049ab53f"
      },
      "execution_count": null,
      "outputs": [
        {
          "output_type": "execute_result",
          "data": {
            "text/plain": [
              "<IPython.core.display.Markdown object>"
            ],
            "text/markdown": "Craig Williams se juntou à NIKE em 2019. Ele é o Presidente das Geografias e do Mercado e, anteriormente, foi Presidente da Jordan Brand."
          },
          "metadata": {},
          "execution_count": 58
        }
      ]
    },
    {
      "cell_type": "code",
      "source": [
        "from IPython.display import Markdown\n",
        "\n",
        "Markdown(resposta[\"context\"][0].page_content)"
      ],
      "metadata": {
        "colab": {
          "base_uri": "https://localhost:8080/",
          "height": 81
        },
        "id": "zulxYPaBz68o",
        "outputId": "1509a1ae-a620-4ef7-d830-ab8978c18adf"
      },
      "execution_count": null,
      "outputs": [
        {
          "output_type": "execute_result",
          "data": {
            "text/plain": [
              "<IPython.core.display.Markdown object>"
            ],
            "text/markdown": "Jordan Brand overseeing a team of designers, product developers, marketers and business leaders. \nPrior to NIKE, he was Senior Vice President, The Coca-Cola Co., and President of The McDonald's \nDivision (TMD) Worldwide. Mr. Williams has also held roles at CIBA Vision and Kraft Foods Inc., and \nserved five years in the U.S. Navy as a Naval Nuclear Power Officer.\nNIKE, INC.       8"
          },
          "metadata": {},
          "execution_count": 59
        }
      ]
    },
    {
      "cell_type": "markdown",
      "source": [
        "Você pode ver que obtém tanto uma resposta final na chave `answer` do dicionário de resultados, quanto o `context` que o LLM usou para gerar uma resposta.\n",
        "\n",
        ">\n",
        "Examinando mais detalhadamente os valores sob o `context`, você pode ver que eles são documentos que contêm um fragmento do conteúdo da página processada. De forma útil, esses documentos também preservam os metadados originais desde quando você os carregou pela primeira vez:"
      ],
      "metadata": {
        "id": "SVgHzNVqJ2sD"
      }
    },
    {
      "cell_type": "code",
      "source": [
        "print(resposta[\"context\"][0].metadata)"
      ],
      "metadata": {
        "colab": {
          "base_uri": "https://localhost:8080/"
        },
        "id": "q-qyd9Ex0IBE",
        "outputId": "6de82cef-de57-4e92-afb8-a84ec951dcc9"
      },
      "execution_count": null,
      "outputs": [
        {
          "output_type": "stream",
          "name": "stdout",
          "text": [
            "{'page': 11, 'source': '/content/414759-1-_5_Nike-NPS-Combo_Form-10-K_WR.pdf'}\n"
          ]
        }
      ]
    },
    {
      "cell_type": "markdown",
      "source": [
        "Mais uma questão:"
      ],
      "metadata": {
        "id": "TuUDiTS9v3OC"
      }
    },
    {
      "cell_type": "code",
      "source": [
        "resposta = rag_chain.invoke({\"input\": \"Qual foi a receita da Nike em 2023?\"})"
      ],
      "metadata": {
        "id": "HYdVeENmvc3c"
      },
      "execution_count": null,
      "outputs": []
    },
    {
      "cell_type": "code",
      "source": [
        "from IPython.display import Markdown\n",
        "\n",
        "Markdown(resposta[\"answer\"])"
      ],
      "metadata": {
        "colab": {
          "base_uri": "https://localhost:8080/",
          "height": 46
        },
        "id": "DXMiYJrjvlc6",
        "outputId": "1580e3cf-7985-44f1-c5b5-d82b2dd8cda7"
      },
      "execution_count": null,
      "outputs": [
        {
          "output_type": "execute_result",
          "data": {
            "text/plain": [
              "<IPython.core.display.Markdown object>"
            ],
            "text/markdown": "A receita da Nike em 2023 foi de 51,2 bilhões de dólares, um aumento de 10% em comparação ao ano fiscal de 2022."
          },
          "metadata": {},
          "execution_count": 41
        }
      ]
    },
    {
      "cell_type": "code",
      "source": [
        "print(resposta[\"context\"][0].metadata)"
      ],
      "metadata": {
        "colab": {
          "base_uri": "https://localhost:8080/"
        },
        "id": "QQR_t02YwZdA",
        "outputId": "976a199e-b444-4954-c284-224d65fdea9b"
      },
      "execution_count": null,
      "outputs": [
        {
          "output_type": "stream",
          "name": "stdout",
          "text": [
            "{'page': 36, 'source': '/content/414759-1-_5_Nike-NPS-Combo_Form-10-K_WR.pdf'}\n"
          ]
        }
      ]
    },
    {
      "cell_type": "markdown",
      "source": [
        "## **Referências**"
      ],
      "metadata": {
        "id": "5pj7Z41eZ_3e"
      }
    },
    {
      "cell_type": "markdown",
      "source": [
        "> https://python.langchain.com/v0.2/docs/tutorials/pdf_qa/\n"
      ],
      "metadata": {
        "id": "flIjGY2Lrm25"
      }
    },
    {
      "cell_type": "markdown",
      "source": [
        ">"
      ],
      "metadata": {
        "id": "oe14pd2FVNcC"
      }
    }
  ],
  "metadata": {
    "colab": {
      "provenance": [],
      "authorship_tag": "ABX9TyPU2cDSa1aMlw0j0ZzoGJEz",
      "include_colab_link": true
    },
    "kernelspec": {
      "display_name": "Python 3",
      "name": "python3"
    }
  },
  "nbformat": 4,
  "nbformat_minor": 0
}