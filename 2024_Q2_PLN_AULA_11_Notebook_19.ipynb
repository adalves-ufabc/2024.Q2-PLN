{
  "cells": [
    {
      "cell_type": "markdown",
      "metadata": {
        "id": "view-in-github",
        "colab_type": "text"
      },
      "source": [
        "<a href=\"https://colab.research.google.com/github/adalves-ufabc/2024.Q2-PLN/blob/main/2024_Q2_PLN_AULA_11_Notebook_19.ipynb\" target=\"_parent\"><img src=\"https://colab.research.google.com/assets/colab-badge.svg\" alt=\"Open In Colab\"/></a>"
      ]
    },
    {
      "cell_type": "markdown",
      "metadata": {
        "id": "Y6QILOdpOjwv"
      },
      "source": [
        "# **Processamento de Linguagem Natural [2024-Q2]**\n",
        "Prof. Alexandre Donizeti Alves"
      ]
    },
    {
      "cell_type": "markdown",
      "metadata": {
        "id": "nmK05FgcOzL2"
      },
      "source": [
        "## **API Cohere**\n",
        "---\n",
        "\n"
      ]
    },
    {
      "cell_type": "markdown",
      "source": [
        "**Cohere** é uma empresa de IA especializada em fornecer soluções de PLN. Fundada em 2019 por ex-cientistas do Google, a empresa está sediada em Toronto, Canadá."
      ],
      "metadata": {
        "id": "30FgFEGrkS8C"
      }
    },
    {
      "cell_type": "markdown",
      "source": [
        "![image.png](data:image/png;base64,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)\n",
        "\n",
        "https://docs.cohere.com/"
      ],
      "metadata": {
        "id": "viRQEerj452j"
      }
    },
    {
      "cell_type": "code",
      "execution_count": 1,
      "metadata": {
        "id": "cYKEbnlNTVlR",
        "colab": {
          "base_uri": "https://localhost:8080/"
        },
        "outputId": "ff3d2d40-1ace-4a9a-954a-ed7b4b46a802"
      },
      "outputs": [
        {
          "output_type": "stream",
          "name": "stdout",
          "text": [
            "\u001b[?25l   \u001b[90m━━━━━━━━━━━━━━━━━━━━━━━━━━━━━━━━━━━━━━━━\u001b[0m \u001b[32m0.0/177.4 kB\u001b[0m \u001b[31m?\u001b[0m eta \u001b[36m-:--:--\u001b[0m\r\u001b[2K   \u001b[90m━━━━━━━━━━━━━━━━━━━━━━━━━━━━━━━━━━━━━━━━\u001b[0m \u001b[32m177.4/177.4 kB\u001b[0m \u001b[31m5.6 MB/s\u001b[0m eta \u001b[36m0:00:00\u001b[0m\n",
            "\u001b[?25h\u001b[?25l   \u001b[90m━━━━━━━━━━━━━━━━━━━━━━━━━━━━━━━━━━━━━━━━\u001b[0m \u001b[32m0.0/139.2 kB\u001b[0m \u001b[31m?\u001b[0m eta \u001b[36m-:--:--\u001b[0m\r\u001b[2K   \u001b[90m━━━━━━━━━━━━━━━━━━━━━━━━━━━━━━━━━━━━━━━━\u001b[0m \u001b[32m139.2/139.2 kB\u001b[0m \u001b[31m10.1 MB/s\u001b[0m eta \u001b[36m0:00:00\u001b[0m\n",
            "\u001b[?25h\u001b[?25l   \u001b[90m━━━━━━━━━━━━━━━━━━━━━━━━━━━━━━━━━━━━━━━━\u001b[0m \u001b[32m0.0/3.1 MB\u001b[0m \u001b[31m?\u001b[0m eta \u001b[36m-:--:--\u001b[0m\r\u001b[2K   \u001b[91m━━━━━━━━━━━━━━━━━━━━━━━━━━━━━━━━━━━━━━━\u001b[0m\u001b[91m╸\u001b[0m \u001b[32m3.1/3.1 MB\u001b[0m \u001b[31m92.8 MB/s\u001b[0m eta \u001b[36m0:00:01\u001b[0m\r\u001b[2K   \u001b[90m━━━━━━━━━━━━━━━━━━━━━━━━━━━━━━━━━━━━━━━━\u001b[0m \u001b[32m3.1/3.1 MB\u001b[0m \u001b[31m54.3 MB/s\u001b[0m eta \u001b[36m0:00:00\u001b[0m\n",
            "\u001b[?25h\u001b[?25l   \u001b[90m━━━━━━━━━━━━━━━━━━━━━━━━━━━━━━━━━━━━━━━━\u001b[0m \u001b[32m0.0/75.6 kB\u001b[0m \u001b[31m?\u001b[0m eta \u001b[36m-:--:--\u001b[0m\r\u001b[2K   \u001b[90m━━━━━━━━━━━━━━━━━━━━━━━━━━━━━━━━━━━━━━━━\u001b[0m \u001b[32m75.6/75.6 kB\u001b[0m \u001b[31m4.6 MB/s\u001b[0m eta \u001b[36m0:00:00\u001b[0m\n",
            "\u001b[2K   \u001b[90m━━━━━━━━━━━━━━━━━━━━━━━━━━━━━━━━━━━━━━━━\u001b[0m \u001b[32m77.9/77.9 kB\u001b[0m \u001b[31m6.5 MB/s\u001b[0m eta \u001b[36m0:00:00\u001b[0m\n",
            "\u001b[2K   \u001b[90m━━━━━━━━━━━━━━━━━━━━━━━━━━━━━━━━━━━━━━━━\u001b[0m \u001b[32m12.4/12.4 MB\u001b[0m \u001b[31m102.9 MB/s\u001b[0m eta \u001b[36m0:00:00\u001b[0m\n",
            "\u001b[2K   \u001b[90m━━━━━━━━━━━━━━━━━━━━━━━━━━━━━━━━━━━━━━━━\u001b[0m \u001b[32m82.7/82.7 kB\u001b[0m \u001b[31m6.7 MB/s\u001b[0m eta \u001b[36m0:00:00\u001b[0m\n",
            "\u001b[2K   \u001b[90m━━━━━━━━━━━━━━━━━━━━━━━━━━━━━━━━━━━━━━━━\u001b[0m \u001b[32m58.3/58.3 kB\u001b[0m \u001b[31m5.1 MB/s\u001b[0m eta \u001b[36m0:00:00\u001b[0m\n",
            "\u001b[?25h"
          ]
        }
      ],
      "source": [
        "#@title Instalando a biblioteca da API Cohere\n",
        "!pip install -q -U cohere"
      ]
    },
    {
      "cell_type": "code",
      "execution_count": 3,
      "metadata": {
        "colab": {
          "base_uri": "https://localhost:8080/"
        },
        "id": "hJvs5RTcbE64",
        "outputId": "6aa7cbdc-1927-439c-f2d0-fba2e84369d5"
      },
      "outputs": [
        {
          "output_type": "stream",
          "name": "stdout",
          "text": [
            "5.6.2\n"
          ]
        }
      ],
      "source": [
        "#@title Versão da API Cohere\n",
        "\n",
        "import cohere\n",
        "\n",
        "print(cohere.__version__)"
      ]
    },
    {
      "cell_type": "code",
      "execution_count": 4,
      "metadata": {
        "colab": {
          "base_uri": "https://localhost:8080/"
        },
        "id": "RM5RnKClbPtQ",
        "outputId": "ce2d05d3-0f31-44dc-9f6a-bb0717073810"
      },
      "outputs": [
        {
          "name": "stdout",
          "output_type": "stream",
          "text": [
            "··········\n"
          ]
        }
      ],
      "source": [
        "#@title Definindo a chave da API\n",
        "\n",
        "from getpass import getpass\n",
        "\n",
        "COHERE_API_KEY = getpass()"
      ]
    },
    {
      "cell_type": "code",
      "execution_count": 12,
      "metadata": {
        "colab": {
          "base_uri": "https://localhost:8080/"
        },
        "id": "Vp-Gdc8X9Qiu",
        "outputId": "0ae6d025-65cc-4a37-943f-a50483df1c94"
      },
      "outputs": [
        {
          "output_type": "stream",
          "name": "stdout",
          "text": [
            "A capital do Brasil é Brasília.\n"
          ]
        }
      ],
      "source": [
        "#@title Teste\n",
        "\n",
        "import cohere\n",
        "\n",
        "cliente = cohere.Client(api_key = COHERE_API_KEY)\n",
        "\n",
        "resposta = cliente.chat(\n",
        "  model = \"command-r-plus\",\n",
        "  message = \"Qual a capital do Brasil?\",\n",
        "  temperature = 0.5\n",
        ")\n",
        "\n",
        "print(resposta.text)"
      ]
    },
    {
      "cell_type": "code",
      "source": [
        "#@title Formatando a resposta [Markdown]\n",
        "\n",
        "from IPython.display import Markdown\n",
        "\n",
        "Markdown(resposta.text)"
      ],
      "metadata": {
        "colab": {
          "base_uri": "https://localhost:8080/",
          "height": 66
        },
        "id": "74dVvMBdnVDl",
        "outputId": "0c0a5fa9-fc1d-4b95-bbf8-b4027a4b89e5"
      },
      "execution_count": 6,
      "outputs": [
        {
          "output_type": "execute_result",
          "data": {
            "text/plain": [
              "<IPython.core.display.Markdown object>"
            ],
            "text/markdown": "A capital do Brasil é Brasília."
          },
          "metadata": {},
          "execution_count": 6
        }
      ]
    },
    {
      "cell_type": "code",
      "source": [
        "#@title Formatando a resposta [JSON]\n",
        "\n",
        "import json\n",
        "\n",
        "import json\n",
        "\n",
        "def formatar_json(resposta):\n",
        "    dados = json.loads(resposta.json())\n",
        "    json_formatado = json.dumps(dados, indent=4, ensure_ascii=False)\n",
        "    linhas = json_formatado.splitlines()\n",
        "    for linha in linhas:\n",
        "      print(linha)"
      ],
      "metadata": {
        "id": "dKewBDEnnzfM"
      },
      "execution_count": 7,
      "outputs": []
    },
    {
      "cell_type": "code",
      "source": [
        "formatar_json(resposta)"
      ],
      "metadata": {
        "colab": {
          "base_uri": "https://localhost:8080/"
        },
        "id": "uFr_NhzDpEk1",
        "outputId": "a0a84c60-b26b-4e98-c989-e2509392f23a"
      },
      "execution_count": null,
      "outputs": [
        {
          "output_type": "stream",
          "name": "stdout",
          "text": [
            "{\n",
            "    \"text\": \"A capital do Brasil é Brasília.\",\n",
            "    \"generation_id\": \"4d65dbdd-7657-4c36-b325-bc6681669c58\",\n",
            "    \"finish_reason\": \"COMPLETE\",\n",
            "    \"chat_history\": [\n",
            "        {\n",
            "            \"message\": \"Qual a capital do Brasil?\",\n",
            "            \"role\": \"USER\"\n",
            "        },\n",
            "        {\n",
            "            \"message\": \"A capital do Brasil é Brasília.\",\n",
            "            \"role\": \"CHATBOT\"\n",
            "        }\n",
            "    ],\n",
            "    \"meta\": {\n",
            "        \"api_version\": {\n",
            "            \"version\": \"1\"\n",
            "        },\n",
            "        \"billed_units\": {\n",
            "            \"input_tokens\": 6,\n",
            "            \"output_tokens\": 7\n",
            "        },\n",
            "        \"tokens\": {\n",
            "            \"input_tokens\": 72,\n",
            "            \"output_tokens\": 7\n",
            "        }\n",
            "    },\n",
            "    \"response_id\": \"f67be698-cace-4a82-8594-33af568cd9fa\"\n",
            "}\n"
          ]
        }
      ]
    },
    {
      "cell_type": "code",
      "source": [
        "resposta.dict()"
      ],
      "metadata": {
        "colab": {
          "base_uri": "https://localhost:8080/"
        },
        "id": "evAqYizi3ydK",
        "outputId": "621825c4-2897-4758-8c6f-b9e0ec46abd8"
      },
      "execution_count": 8,
      "outputs": [
        {
          "output_type": "execute_result",
          "data": {
            "text/plain": [
              "{'text': 'A capital do Brasil é Brasília.',\n",
              " 'generation_id': 'ae1ac8f6-a662-4ce4-ad12-3ed3d829d143',\n",
              " 'finish_reason': 'COMPLETE',\n",
              " 'chat_history': [{'message': 'Qual a capital do Brasil?', 'role': 'USER'},\n",
              "  {'message': 'A capital do Brasil é Brasília.', 'role': 'CHATBOT'}],\n",
              " 'meta': {'api_version': {'version': '1'},\n",
              "  'billed_units': {'input_tokens': 6, 'output_tokens': 7},\n",
              "  'tokens': {'input_tokens': 72, 'output_tokens': 7}},\n",
              " 'response_id': '51fff655-be88-40dd-8f63-ac8a0eaa0341'}"
            ]
          },
          "metadata": {},
          "execution_count": 8
        }
      ]
    },
    {
      "cell_type": "code",
      "source": [
        "#@title Lista de Modelos\n",
        "\n",
        "import cohere\n",
        "\n",
        "cliente = cohere.Client(api_key = COHERE_API_KEY)\n",
        "\n",
        "resposta = cliente.models.list()\n",
        "\n",
        "resposta"
      ],
      "metadata": {
        "colab": {
          "base_uri": "https://localhost:8080/"
        },
        "id": "VoymgwE9cbPs",
        "outputId": "d7c316fe-5179-4d9e-afa6-6db57f2bb125"
      },
      "execution_count": 9,
      "outputs": [
        {
          "output_type": "execute_result",
          "data": {
            "text/plain": [
              "ListModelsResponse(models=[GetModelResponse(name='embed-english-light-v2.0', endpoints=['embed', 'classify'], finetuned=False, context_length=512, tokenizer_url=None, default_endpoints=[]), GetModelResponse(name='embed-english-v2.0', endpoints=['embed', 'classify'], finetuned=False, context_length=512, tokenizer_url=None, default_endpoints=[]), GetModelResponse(name='command-r', endpoints=['generate', 'chat', 'summarize'], finetuned=False, context_length=128000, tokenizer_url='https://storage.googleapis.com/cohere-public/tokenizers/command-r.json', default_endpoints=[]), GetModelResponse(name='embed-multilingual-light-v3.0', endpoints=['embed', 'classify'], finetuned=False, context_length=512, tokenizer_url='https://storage.googleapis.com/cohere-public/tokenizers/embed-multilingual-light-v3.0.json', default_endpoints=[]), GetModelResponse(name='command-r-plus', endpoints=['generate', 'chat', 'summarize'], finetuned=False, context_length=128000, tokenizer_url='https://storage.googleapis.com/cohere-public/tokenizers/command-r-plus.json', default_endpoints=['chat']), GetModelResponse(name='embed-multilingual-v3.0', endpoints=['embed', 'classify'], finetuned=False, context_length=512, tokenizer_url='https://storage.googleapis.com/cohere-public/tokenizers/embed-multilingual-v3.0.json', default_endpoints=[]), GetModelResponse(name='embed-multilingual-v2.0', endpoints=['embed', 'classify'], finetuned=False, context_length=256, tokenizer_url='https://storage.googleapis.com/cohere-public/tokenizers/embed-multilingual-v2.0.json', default_endpoints=[]), GetModelResponse(name='c4ai-aya-23-35b', endpoints=['generate', 'chat'], finetuned=False, context_length=8192, tokenizer_url='https://storage.googleapis.com/cohere-public/tokenizers/c4ai-aya-23-35b.json', default_endpoints=[]), GetModelResponse(name='command-light-nightly', endpoints=['generate', 'summarize', 'chat'], finetuned=False, context_length=4096, tokenizer_url='https://storage.googleapis.com/cohere-public/tokenizers/command-light-nightly.json', default_endpoints=[]), GetModelResponse(name='c4ai-aya-23-8b', endpoints=['generate', 'chat'], finetuned=False, context_length=8192, tokenizer_url='https://storage.googleapis.com/cohere-public/tokenizers/c4ai-aya-23-8b.json', default_endpoints=[]), GetModelResponse(name='rerank-multilingual-v2.0', endpoints=['rerank'], finetuned=False, context_length=512, tokenizer_url='https://storage.googleapis.com/cohere-public/tokenizers/rerank-multilingual-v2.0.json', default_endpoints=[]), GetModelResponse(name='command-nightly', endpoints=['generate', 'chat', 'summarize'], finetuned=False, context_length=128000, tokenizer_url='https://storage.googleapis.com/cohere-public/tokenizers/command-nightly.json', default_endpoints=[]), GetModelResponse(name='embed-english-v3.0', endpoints=['embed', 'classify'], finetuned=False, context_length=512, tokenizer_url='https://storage.googleapis.com/cohere-public/tokenizers/embed-english-v3.0.json', default_endpoints=[]), GetModelResponse(name='command', endpoints=['generate', 'summarize', 'chat'], finetuned=False, context_length=4096, tokenizer_url='https://storage.googleapis.com/cohere-public/tokenizers/command.json', default_endpoints=['generate']), GetModelResponse(name='rerank-multilingual-v3.0', endpoints=['rerank'], finetuned=False, context_length=4096, tokenizer_url='https://storage.googleapis.com/cohere-public/tokenizers/rerank-multilingual-v3.0.json', default_endpoints=[]), GetModelResponse(name='rerank-english-v2.0', endpoints=['rerank'], finetuned=False, context_length=512, tokenizer_url='https://storage.googleapis.com/cohere-public/tokenizers/rerank-english-v2.0.json', default_endpoints=[]), GetModelResponse(name='command-light', endpoints=['generate', 'summarize', 'chat'], finetuned=False, context_length=4096, tokenizer_url='https://storage.googleapis.com/cohere-public/tokenizers/command-light.json', default_endpoints=[]), GetModelResponse(name='rerank-english-v3.0', endpoints=['rerank'], finetuned=False, context_length=4096, tokenizer_url='https://storage.googleapis.com/cohere-public/tokenizers/rerank-english-v3.0.json', default_endpoints=[]), GetModelResponse(name='embed-english-light-v3.0', endpoints=['embed', 'classify'], finetuned=False, context_length=512, tokenizer_url='https://storage.googleapis.com/cohere-public/tokenizers/embed-english-light-v3.0.json', default_endpoints=[])], next_page_token=None)"
            ]
          },
          "metadata": {},
          "execution_count": 9
        }
      ]
    },
    {
      "cell_type": "code",
      "source": [
        "modelos = resposta.models\n",
        "\n",
        "for modelo in modelos:\n",
        "  print(modelo.name)"
      ],
      "metadata": {
        "colab": {
          "base_uri": "https://localhost:8080/"
        },
        "id": "aPS4dQ9Kd0oA",
        "outputId": "4a8f7549-953d-4009-ccfa-1e4cf28403a5"
      },
      "execution_count": 10,
      "outputs": [
        {
          "output_type": "stream",
          "name": "stdout",
          "text": [
            "embed-english-light-v2.0\n",
            "embed-english-v2.0\n",
            "command-r\n",
            "embed-multilingual-light-v3.0\n",
            "command-r-plus\n",
            "embed-multilingual-v3.0\n",
            "embed-multilingual-v2.0\n",
            "c4ai-aya-23-35b\n",
            "command-light-nightly\n",
            "c4ai-aya-23-8b\n",
            "rerank-multilingual-v2.0\n",
            "command-nightly\n",
            "embed-english-v3.0\n",
            "command\n",
            "rerank-multilingual-v3.0\n",
            "rerank-english-v2.0\n",
            "command-light\n",
            "rerank-english-v3.0\n",
            "embed-english-light-v3.0\n"
          ]
        }
      ]
    },
    {
      "cell_type": "code",
      "source": [
        "len(modelos)"
      ],
      "metadata": {
        "id": "azph9Nmkd-nq",
        "outputId": "1fc9d85e-80ad-44a9-8935-ba019076e3a7",
        "colab": {
          "base_uri": "https://localhost:8080/"
        }
      },
      "execution_count": 11,
      "outputs": [
        {
          "output_type": "execute_result",
          "data": {
            "text/plain": [
              "19"
            ]
          },
          "metadata": {},
          "execution_count": 11
        }
      ]
    },
    {
      "cell_type": "markdown",
      "source": [
        "**Conversas de Múltiplas Interações (*Multi-turn*)**"
      ],
      "metadata": {
        "id": "IZfzfE7t51eB"
      }
    },
    {
      "cell_type": "markdown",
      "source": [
        "Imagine que você está desenvolvendo um chatbot projetado para responder às dúvidas dos usuários. Ter o contexto de conversas anteriores pode permitir que o modelo de linguagem forneça respostas mais relevantes.\n",
        "\n",
        "Em conversas de múltiplas interações, reter o contexto das interações anteriores é essencial para gerar respostas coerentes e pertinentes. A API do **Cohere** facilita isso, permitindo-nos incluir o histórico do chat através do parâmetro `chat_history`."
      ],
      "metadata": {
        "id": "3sUaGxHu6o8O"
      }
    },
    {
      "cell_type": "code",
      "source": [
        "resposta = cliente.chat(\n",
        "  model = \"command-r-plus\",\n",
        "  chat_history = [\n",
        "    {\"role\": \"USER\", \"text\": \"What is Large Language Model?\"},\n",
        "    {\"role\": \"CHATBOT\", \"text\": \"Large Language Model is a type ...\"},\n",
        "  ],\n",
        "  message=\"How is this related to Artificial Intelligence? Answer in Portuguese.\"\n",
        ")\n",
        "\n",
        "print(resposta.text)"
      ],
      "metadata": {
        "colab": {
          "base_uri": "https://localhost:8080/"
        },
        "id": "Upj9pnn-57Q9",
        "outputId": "26ad0c6e-92cc-4c8e-f0a3-ee7146e82c53"
      },
      "execution_count": 14,
      "outputs": [
        {
          "output_type": "stream",
          "name": "stdout",
          "text": [
            "Large Language Models (LLMs) estão intimamente relacionados com a inteligência artificial, pois representam um avanço significativo no campo da processamento de linguagem natural (PLN). A PNL é uma área fundamental da IA que se concentra na interação entre computadores e humanos em linguagem natural, como o inglês ou o português.\n",
            "\n",
            "Os LLMs são modelos matemáticos sofisticados, geralmente baseados em redes neurais artificiais, que são treinados em grandes quantidades de dados de texto. Eles aprendem padrões, contextos e relacionamentos dentro da linguagem, imitando a maneira como os humanos entendem e geram linguagem.\n",
            "\n",
            "A principal meta por trás do desenvolvimento de LLMs é capacitar máquinas com uma compreensão profunda da linguagem, permitindo-lhes realizar uma variedade de tarefas, como:\n",
            "\n",
            "1. Processamento de Linguagem Natural (PNL): LLMs são usados para analisar e interpretar a linguagem humana, extraindo significados, sentimentos e intenções. Isso permite que os aplicativos de IA entendam consultas, comandos ou textos escritos pelos usuários e respondam de maneira apropriada.\n",
            "\n",
            "2. Geração de Linguagem: Esses modelos podem gerar texto coerente e contextualmente apropriado, o que é útil para aplicações como geração de conteúdo, respostas automatizadas de chat bots ou até mesmo criação de histórias.\n",
            "\n",
            "3. Compreensão de Linguagem: Os LLMs ajudam as máquinas a compreenderem a semântica e a sintaxe da linguagem, permitindo-lhes interpretar textos complexos, responder a perguntas e fornecer resumos ou explicações.\n",
            "\n",
            "4. Tradução de Linguagem: Eles também podem ser aplicados em tarefas de tradução, facilitando a comunicação em diferentes idiomas.\n",
            "\n",
            "5. Reconhecimento de Voz: Os LLMs contribuem para o reconhecimento de fala, permitindo que os dispositivos entendam comandos de voz e transcrevam a fala em texto escrito.\n",
            "\n",
            "Em resumo, os Large Language Models são ferramentas poderosas que impulsionam o campo da inteligência artificial, melhorando a capacidade das máquinas de compreender, interpretar e gerar linguagem de maneira semelhante aos humanos. Este avanço tem o potencial de revolucionar inúmeras indústrias, desde atendimento ao cliente até processamento de linguagem natural, tornando as interações entre humanos e máquinas mais intuitivas e acessíveis.\n"
          ]
        }
      ]
    },
    {
      "cell_type": "code",
      "source": [
        "from IPython.display import Markdown\n",
        "\n",
        "Markdown(resposta.text)"
      ],
      "metadata": {
        "colab": {
          "base_uri": "https://localhost:8080/",
          "height": 512
        },
        "id": "Qz4jR9rG6Zlj",
        "outputId": "afd47a3d-5a45-488c-eee6-30925b0e104a"
      },
      "execution_count": 15,
      "outputs": [
        {
          "output_type": "execute_result",
          "data": {
            "text/plain": [
              "<IPython.core.display.Markdown object>"
            ],
            "text/markdown": "Large Language Models (LLMs) estão intimamente relacionados com a inteligência artificial, pois representam um avanço significativo no campo da processamento de linguagem natural (PLN). A PNL é uma área fundamental da IA que se concentra na interação entre computadores e humanos em linguagem natural, como o inglês ou o português.\n\nOs LLMs são modelos matemáticos sofisticados, geralmente baseados em redes neurais artificiais, que são treinados em grandes quantidades de dados de texto. Eles aprendem padrões, contextos e relacionamentos dentro da linguagem, imitando a maneira como os humanos entendem e geram linguagem.\n\nA principal meta por trás do desenvolvimento de LLMs é capacitar máquinas com uma compreensão profunda da linguagem, permitindo-lhes realizar uma variedade de tarefas, como:\n\n1. Processamento de Linguagem Natural (PNL): LLMs são usados para analisar e interpretar a linguagem humana, extraindo significados, sentimentos e intenções. Isso permite que os aplicativos de IA entendam consultas, comandos ou textos escritos pelos usuários e respondam de maneira apropriada.\n\n2. Geração de Linguagem: Esses modelos podem gerar texto coerente e contextualmente apropriado, o que é útil para aplicações como geração de conteúdo, respostas automatizadas de chat bots ou até mesmo criação de histórias.\n\n3. Compreensão de Linguagem: Os LLMs ajudam as máquinas a compreenderem a semântica e a sintaxe da linguagem, permitindo-lhes interpretar textos complexos, responder a perguntas e fornecer resumos ou explicações.\n\n4. Tradução de Linguagem: Eles também podem ser aplicados em tarefas de tradução, facilitando a comunicação em diferentes idiomas.\n\n5. Reconhecimento de Voz: Os LLMs contribuem para o reconhecimento de fala, permitindo que os dispositivos entendam comandos de voz e transcrevam a fala em texto escrito.\n\nEm resumo, os Large Language Models são ferramentas poderosas que impulsionam o campo da inteligência artificial, melhorando a capacidade das máquinas de compreender, interpretar e gerar linguagem de maneira semelhante aos humanos. Este avanço tem o potencial de revolucionar inúmeras indústrias, desde atendimento ao cliente até processamento de linguagem natural, tornando as interações entre humanos e máquinas mais intuitivas e acessíveis."
          },
          "metadata": {},
          "execution_count": 15
        }
      ]
    },
    {
      "cell_type": "markdown",
      "source": [
        "Isso funciona muito bem, mas não é realista passar manualmente o `chat_history` para a API como fizemos no exemplo acima. Em vez de codificar o `chat_history` manualmente, podemos construí-lo dinamicamente à medida que a conversa acontece.\n",
        "\n",
        "Existem várias maneiras de fazer isso. A mais simples é usar o `conversation_id` na API. Vamos ver um exemplo:"
      ],
      "metadata": {
        "id": "lUixhRNO74tp"
      }
    },
    {
      "cell_type": "code",
      "source": [
        "# primeira mensagem\n",
        "resposta = cliente.chat(\n",
        "  model=\"command-r-plus\",\n",
        "  message=\"What is Large Language Model?\",\n",
        "  conversation_id='newuser1',\n",
        ")\n",
        "\n",
        "print(resposta.text)"
      ],
      "metadata": {
        "colab": {
          "base_uri": "https://localhost:8080/"
        },
        "id": "R1olqHHB8AWe",
        "outputId": "49224bf3-7109-4dec-cb04-c11bff8278e6"
      },
      "execution_count": 16,
      "outputs": [
        {
          "output_type": "stream",
          "name": "stdout",
          "text": [
            "Large Language Models (LLMs) are a type of artificial intelligence (AI) system that has been trained on massive amounts of text data, typically in the range of billions or even trillions of words. They use deep learning techniques, particularly transformer architectures, to process and generate human-like language.\n",
            "\n",
            "Here are some key characteristics and aspects of LLMs:\n",
            "\n",
            "1. Training Data: LLMs are trained on large-scale text datasets that can include books, articles, websites, social media posts, and more. The training data is used to teach the model the patterns, structures, and nuances of human language.\n",
            "\n",
            "2. Neural Network Architecture: LLMs typically use transformer-based neural network architectures, such as the Transformer model introduced by Vaswani et al. in 2017. Transformers excel at capturing long-range dependencies in text and can process input sequences in parallel, making them highly effective for language tasks.\n",
            "\n",
            "3. Size and Parameters: LLMs are distinguished by their size, which refers to the number of parameters or weights in the neural network. Larger models have a higher capacity to learn complex patterns and generate more sophisticated responses. Examples of well-known LLMs include GPT-3 (Generative Pre-trained Transformer 3) with 175 billion parameters and PaLM (Pathways Language Model) with 540 billion parameters.\n",
            "\n",
            "4. Pre-training and Fine-tuning: LLMs are typically pre-trained on large text corpora to learn general language patterns. This involves unsupervised learning tasks such as next-word prediction or masked language modeling. After pre-training, the models can be fine-tuned on specific downstream tasks, such as language translation, text classification, or question answering, using smaller task-specific datasets.\n",
            "\n",
            "5. Capabilities: LLMs have demonstrated impressive capabilities, including generating human-like text, answering questions, summarizing text, translating between languages, and even performing basic reasoning tasks. They can also adapt to a wide range of language-related applications with minimal additional training.\n",
            "\n",
            "6. Limitations and Concerns: While LLMs have achieved remarkable performance, they also have limitations. They can generate factually inaccurate or inappropriate responses, struggle with complex reasoning and understanding of abstract concepts, and may reflect biases present in the training data. There are ongoing research efforts to address these limitations and improve the robustness and ethical implications of LLMs.\n",
            "\n",
            "\n",
            "In summary, Large Language Models are powerful AI systems trained on vast amounts of text data to generate and understand human-like language. They have revolutionized natural language processing tasks and have the potential to impact a wide range of industries and applications. However, they also come with challenges and concerns that need to be carefully addressed to fully unlock their potential.\n"
          ]
        }
      ]
    },
    {
      "cell_type": "markdown",
      "source": [
        "E agora vamos enviar outra mensagem para o modelo — observe como o `conversation_id` é mantido consistente com a primeira mensagem. Enquanto o `conversation_id` for mantido consistente, a API usará automaticamente as mensagens anteriores como contexto."
      ],
      "metadata": {
        "id": "vh1f2CCZ8c6R"
      }
    },
    {
      "cell_type": "code",
      "source": [
        "# segunda mensagem\n",
        "resposta = cliente.chat(\n",
        "  model=\"command-r-plus\",\n",
        "  message=\"How is it related to Artificial Intelligence?\",\n",
        "  conversation_id='newuser1',\n",
        ")\n",
        "print(resposta.text)"
      ],
      "metadata": {
        "colab": {
          "base_uri": "https://localhost:8080/"
        },
        "id": "J8xxmFff8kHP",
        "outputId": "bde5b2cd-5f42-4b8f-aca2-c806d4710274"
      },
      "execution_count": 17,
      "outputs": [
        {
          "output_type": "stream",
          "name": "stdout",
          "text": [
            "Large Language Models (LLMs) are closely related to Artificial Intelligence (AI) and play a significant role in the field of AI. Here's how LLMs are connected to AI:\n",
            "\n",
            "1. AI as a Field: Artificial Intelligence is a broad field of computer science that focuses on creating intelligent systems that can perform tasks and solve problems similarly to or better than humans. AI aims to mimic or exceed human cognitive functions, such as learning, reasoning, problem-solving, perception, understanding natural language, and making decisions.\n",
            "\n",
            "2. Natural Language Processing (NLP): NLP is a subfield of AI that specifically deals with the interaction between computers and human language. It involves developing algorithms, models, and tools that enable machines to understand, interpret, and generate human language. LLMs are a product of advanced NLP techniques, as they are designed to process and generate human-like language.\n",
            "\n",
            "3. Machine Learning (ML): Machine Learning is another crucial subfield of AI, where algorithms are designed to learn from data and make predictions or decisions without being explicitly programmed. ML algorithms can automatically identify patterns, relationships, and insights from data. LLMs are a type of deep learning model, which is a subset of machine learning. They use neural networks and large amounts of training data to learn and improve over time.\n",
            "\n",
            "4. Deep Learning and Neural Networks: Deep learning is a subset of machine learning that uses artificial neural networks, which are inspired by the structure and function of biological neural networks in the human brain. Neural networks consist of interconnected nodes (artificial neurons) that process and transmit information. LLMs are built using deep learning techniques, particularly transformer architectures, which enable them to learn complex patterns and representations from large amounts of text data.\n",
            "\n",
            "5. Language Understanding and Generation: One of the key goals of AI is to enable machines to understand and generate human language naturally and contextually. LLMs contribute to this goal by providing a powerful framework for language understanding and generation. They can process and interpret human language input, generate coherent and contextually appropriate responses, and even engage in conversational interactions.\n",
            "\n",
            "6. Applications and Impact: LLMs have a wide range of applications in AI, including virtual assistants, chatbots, language translation, text summarization, question answering, content generation, sentiment analysis, and more. They have the potential to revolutionize industries such as healthcare, finance, customer service, education, and entertainment by enabling more natural and intelligent human-machine interactions.\n",
            "\n",
            "\n",
            "In summary, Large Language Models are a product of advanced machine learning and natural language processing techniques within the field of Artificial Intelligence. They represent a significant milestone in the quest to create intelligent systems that can understand, interpret, and generate human language, bringing AI closer to achieving human-like language capabilities.\n"
          ]
        }
      ]
    },
    {
      "cell_type": "markdown",
      "source": [
        "**Referências**:\n",
        "\n",
        "> https://docs.cohere.com/reference\n",
        "\n",
        "> https://www.datacamp.com/tutorial/cohere-api-tutorial\n",
        "\n"
      ],
      "metadata": {
        "id": "EY-qwpC64NL1"
      }
    }
  ],
  "metadata": {
    "colab": {
      "provenance": [],
      "authorship_tag": "ABX9TyOowVrkB+t99AI5B/q/a3ZJ",
      "include_colab_link": true
    },
    "kernelspec": {
      "display_name": "Python 3",
      "name": "python3"
    }
  },
  "nbformat": 4,
  "nbformat_minor": 0
}