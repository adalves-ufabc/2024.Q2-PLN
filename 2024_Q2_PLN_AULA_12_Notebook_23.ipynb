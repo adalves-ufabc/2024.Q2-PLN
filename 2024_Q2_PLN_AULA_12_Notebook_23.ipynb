{
  "cells": [
    {
      "cell_type": "markdown",
      "metadata": {
        "id": "view-in-github",
        "colab_type": "text"
      },
      "source": [
        "<a href=\"https://colab.research.google.com/github/adalves-ufabc/2024.Q2-PLN/blob/main/2024_Q2_PLN_AULA_12_Notebook_23.ipynb\" target=\"_parent\"><img src=\"https://colab.research.google.com/assets/colab-badge.svg\" alt=\"Open In Colab\"/></a>"
      ]
    },
    {
      "cell_type": "markdown",
      "metadata": {
        "id": "DOycdBmh0FBf"
      },
      "source": [
        "# **Processamento de Linguagem Natural [2024-Q2]**\n",
        "Prof. Alexandre Donizeti Alves\n"
      ]
    },
    {
      "cell_type": "markdown",
      "metadata": {
        "id": "79aRKKhlyLFK"
      },
      "source": [
        "## **LangChain [Engenharia de *Prompts*]**\n",
        "---\n"
      ]
    },
    {
      "cell_type": "code",
      "execution_count": 59,
      "metadata": {
        "id": "bcrn7QRyQXGj"
      },
      "outputs": [],
      "source": [
        "#@title Instalando o pacote LangChain\n",
        "!pip install -qU langchain"
      ]
    },
    {
      "cell_type": "code",
      "source": [
        "#@title Versão do LangChain\n",
        "\n",
        "import langchain\n",
        "\n",
        "print(langchain.__version__)"
      ],
      "metadata": {
        "colab": {
          "base_uri": "https://localhost:8080/"
        },
        "id": "uWcAnsTSj_5t",
        "outputId": "37631b56-9473-4b52-afe0-6ee230732ba4"
      },
      "execution_count": 60,
      "outputs": [
        {
          "output_type": "stream",
          "name": "stdout",
          "text": [
            "0.2.12\n"
          ]
        }
      ]
    },
    {
      "cell_type": "code",
      "source": [
        "#@title Integração com o pacote da OpenAI\n",
        "!pip install -qU langchain-openai"
      ],
      "metadata": {
        "id": "etyZ0sGcXvTK"
      },
      "execution_count": 61,
      "outputs": []
    },
    {
      "cell_type": "code",
      "execution_count": 62,
      "metadata": {
        "colab": {
          "base_uri": "https://localhost:8080/"
        },
        "id": "I_9TO0NGeVMw",
        "outputId": "53aef14f-433e-4061-a872-f9a9a182d30e"
      },
      "outputs": [
        {
          "name": "stdout",
          "output_type": "stream",
          "text": [
            "··········\n"
          ]
        }
      ],
      "source": [
        "#@title Definindo a chave da API da OpenAI\n",
        "\n",
        "import getpass\n",
        "import os\n",
        "\n",
        "os.environ[\"OPENAI_API_KEY\"] = getpass.getpass()"
      ]
    },
    {
      "cell_type": "markdown",
      "metadata": {
        "id": "nidY4aub_ZG3"
      },
      "source": [
        "## **Engenharia de *Prompts***"
      ]
    },
    {
      "cell_type": "markdown",
      "source": [
        "**Engenharia de *prompts*** é o processo de criar, ajustar e otimizar comandos (ou \"*prompts*\") dados a modelos de linguagem para obter respostas mais precisas, úteis ou relevantes.\n",
        "\n",
        "Essa prática envolve a formulação cuidadosa de perguntas ou instruções para garantir que o modelo compreenda e responda de maneira adequada ao que está sendo solicitado."
      ],
      "metadata": {
        "id": "IUIF3uk44z2x"
      }
    },
    {
      "cell_type": "code",
      "execution_count": null,
      "metadata": {
        "id": "ubeEOujkesfN"
      },
      "outputs": [],
      "source": [
        "from langchain_openai import ChatOpenAI\n",
        "from langchain.prompts import PromptTemplate"
      ]
    },
    {
      "cell_type": "code",
      "execution_count": null,
      "metadata": {
        "id": "6s721XY7eye6"
      },
      "outputs": [],
      "source": [
        "template = \"\"\"Question: {question}\n",
        "\n",
        "Answer: Let's think step by step.\"\"\"\n",
        "\n",
        "prompt = PromptTemplate(template=template, input_variables=[\"questao\"])"
      ]
    },
    {
      "cell_type": "code",
      "execution_count": null,
      "metadata": {
        "id": "T0EGLydye2Cu"
      },
      "outputs": [],
      "source": [
        "modelo = ChatOpenAI()"
      ]
    },
    {
      "cell_type": "code",
      "execution_count": null,
      "metadata": {
        "id": "18kklkilfBYQ"
      },
      "outputs": [],
      "source": [
        "chain = prompt | modelo"
      ]
    },
    {
      "cell_type": "code",
      "execution_count": null,
      "metadata": {
        "id": "AFVmhdZWfOhg"
      },
      "outputs": [],
      "source": [
        "questao = \"Quantos títulos Ayrton Senna ganhou na F1? Responda em português\"\n",
        "\n",
        "resposta = chain.invoke(questao)"
      ]
    },
    {
      "cell_type": "code",
      "source": [
        "resposta"
      ],
      "metadata": {
        "colab": {
          "base_uri": "https://localhost:8080/"
        },
        "id": "ex4UuZUKmOZj",
        "outputId": "b4dd1448-bf62-49bf-f51e-3b2ac5aeb74f"
      },
      "execution_count": null,
      "outputs": [
        {
          "output_type": "execute_result",
          "data": {
            "text/plain": [
              "AIMessage(content='\\nAyrton Senna ganhou três títulos na Fórmula 1, nos anos de 1988, 1990 e 1991.', response_metadata={'token_usage': {'completion_tokens': 35, 'prompt_tokens': 42, 'total_tokens': 77}, 'model_name': 'gpt-3.5-turbo-0125', 'system_fingerprint': None, 'finish_reason': 'stop', 'logprobs': None}, id='run-0446694b-6ac8-4e50-98ad-116ab3376f89-0', usage_metadata={'input_tokens': 42, 'output_tokens': 35, 'total_tokens': 77})"
            ]
          },
          "metadata": {},
          "execution_count": 11
        }
      ]
    },
    {
      "cell_type": "code",
      "source": [
        "resposta.content"
      ],
      "metadata": {
        "colab": {
          "base_uri": "https://localhost:8080/",
          "height": 35
        },
        "id": "aAh_YGPumQSc",
        "outputId": "d4ac900c-8904-49a4-cc92-187b473f3757"
      },
      "execution_count": null,
      "outputs": [
        {
          "output_type": "execute_result",
          "data": {
            "text/plain": [
              "'\\nAyrton Senna ganhou três títulos na Fórmula 1, nos anos de 1988, 1990 e 1991.'"
            ],
            "application/vnd.google.colaboratory.intrinsic+json": {
              "type": "string"
            }
          },
          "metadata": {},
          "execution_count": 12
        }
      ]
    },
    {
      "cell_type": "markdown",
      "source": [
        "Outro exemplo:"
      ],
      "metadata": {
        "id": "WN_2RauY5WKf"
      }
    },
    {
      "cell_type": "code",
      "source": [
        "from langchain.prompts import PromptTemplate\n",
        "from langchain_openai import ChatOpenAI\n",
        "\n",
        "template = \"\"\"Question: {question}\n",
        "\n",
        "Answer: Let's think step by step.\n",
        "1. Determine the number of terms (n) in the series.\n",
        "2. Use the formula for the sum of the first n natural numbers: S = n*(n+1)/2.\n",
        "3. Calculate the result based on the provided n.\"\"\"\n",
        "\n",
        "prompt = PromptTemplate(template=template, input_variables=[\"question\"])\n",
        "\n",
        "modelo = ChatOpenAI()\n",
        "\n",
        "chain = prompt | modelo\n",
        "\n",
        "question = \"What is the sum of the first 100 natural numbers?\"\n",
        "\n",
        "resposta = chain.invoke({\"question\": question})"
      ],
      "metadata": {
        "id": "CD8spWMw5ZYn"
      },
      "execution_count": 65,
      "outputs": []
    },
    {
      "cell_type": "code",
      "source": [
        "resposta.content"
      ],
      "metadata": {
        "colab": {
          "base_uri": "https://localhost:8080/",
          "height": 90
        },
        "id": "URYTnezm5vTy",
        "outputId": "e75482d9-fc72-4eca-8659-ed65d2c09cfc"
      },
      "execution_count": 66,
      "outputs": [
        {
          "output_type": "execute_result",
          "data": {
            "text/plain": [
              "'1. The number of terms in the series is 100.\\n2. Using the formula for the sum of the first n natural numbers: S = 100*(100+1)/2 = 100*101/2 = 5050.\\n3. Therefore, the sum of the first 100 natural numbers is 5050.'"
            ],
            "application/vnd.google.colaboratory.intrinsic+json": {
              "type": "string"
            }
          },
          "metadata": {},
          "execution_count": 66
        }
      ]
    },
    {
      "cell_type": "code",
      "source": [
        "from IPython.display import Markdown\n",
        "\n",
        "Markdown(resposta.content)"
      ],
      "metadata": {
        "colab": {
          "base_uri": "https://localhost:8080/",
          "height": 117
        },
        "id": "_lL_kqFx6eT4",
        "outputId": "f337b205-e211-4a72-c2ab-c911530cb87c"
      },
      "execution_count": 67,
      "outputs": [
        {
          "output_type": "execute_result",
          "data": {
            "text/plain": [
              "<IPython.core.display.Markdown object>"
            ],
            "text/markdown": "1. The number of terms in the series is 100.\n2. Using the formula for the sum of the first n natural numbers: S = 100*(100+1)/2 = 100*101/2 = 5050.\n3. Therefore, the sum of the first 100 natural numbers is 5050."
          },
          "metadata": {},
          "execution_count": 67
        }
      ]
    },
    {
      "cell_type": "markdown",
      "source": [
        "Quando executado, o código calculará a soma passo a passo, mostrando como o modelo determina `n` e aplica a fórmula para chegar à resposta final. Este exemplo é interessante porque demonstra como um problema matemático pode ser resolvido de maneira estruturada, guiando o modelo através do processo lógico de cálculo."
      ],
      "metadata": {
        "id": "RD986XD_65bW"
      }
    },
    {
      "cell_type": "markdown",
      "metadata": {
        "id": "allRJryt_2zb"
      },
      "source": [
        "**Extração de Informação**"
      ]
    },
    {
      "cell_type": "code",
      "execution_count": null,
      "metadata": {
        "id": "AiMNFC-A_jmr"
      },
      "outputs": [],
      "source": [
        "from langchain_openai import ChatOpenAI"
      ]
    },
    {
      "cell_type": "code",
      "execution_count": null,
      "metadata": {
        "id": "D3St-rk4_bud"
      },
      "outputs": [],
      "source": [
        "modelo = ChatOpenAI( temperature = 0.1, max_tokens = 256 )"
      ]
    },
    {
      "cell_type": "code",
      "execution_count": null,
      "metadata": {
        "id": "ejsi2yEe_vVN"
      },
      "outputs": [],
      "source": [
        "prompt = PromptTemplate(\n",
        "    input_variables=[\"texto\"],\n",
        "    template =\n",
        "    'TEXTO: {texto}\\n' \\\n",
        "    'Dado o texto acima, extraia informações importantes no formato abaixo:\\n' \\\n",
        "    '<CHAVE>: <VALOR>'\\\n",
        "    'Preserve a exata formatação apresentada.'\n",
        ")"
      ]
    },
    {
      "cell_type": "code",
      "execution_count": null,
      "metadata": {
        "id": "s9H8ZqZF_zUo"
      },
      "outputs": [],
      "source": [
        "texto = \"Alan Mathison Turing (Londres, 23 de junho de 1912 — Wilmslow, Cheshire, 7 de junho de 1954)\"\\\n",
        "        \"foi um matemático, cientista da computação, lógico, criptoanalista, filósofo e biólogo teórico \"\\\n",
        "        \"britânico. Turing foi altamente influente no desenvolvimento da moderna ciência da computação \"\\\n",
        "        \"teórica, proporcionando uma formalização dos conceitos de algoritmo e computação com a máquina \"\\\n",
        "        \"de Turing, que pode ser considerada um modelo de um computador de uso geral. Ele é amplamente \"\\\n",
        "        \"considerado o pai da ciência da computação teórica e da inteligência artificial. Apesar dessas \"\\\n",
        "        \"realizações ele nunca foi totalmente reconhecido em seu país de origem durante sua vida por ser \"\\\n",
        "        \"homossexual e porque grande parte de seu trabalho foi coberto pela Lei de Segredos Oficiais.\""
      ]
    },
    {
      "cell_type": "code",
      "execution_count": null,
      "metadata": {
        "id": "pWCeA7hv_5vP"
      },
      "outputs": [],
      "source": [
        "chain = prompt | modelo\n",
        "\n",
        "resposta = chain.invoke({\"texto\": texto})"
      ]
    },
    {
      "cell_type": "code",
      "source": [
        "resposta.content"
      ],
      "metadata": {
        "colab": {
          "base_uri": "https://localhost:8080/",
          "height": 177
        },
        "id": "_V9VGNViobzk",
        "outputId": "fa0638a6-a674-41fc-b2fc-ba0da15271bb"
      },
      "execution_count": null,
      "outputs": [
        {
          "output_type": "execute_result",
          "data": {
            "text/plain": [
              "'Nome: Alan Mathison Turing\\nData de nascimento: 23 de junho de 1912\\nLocal de nascimento: Londres\\nData de falecimento: 7 de junho de 1954\\nLocal de falecimento: Wilmslow, Cheshire\\nProfissões: matemático, cientista da computação, lógico, criptoanalista, filósofo e biólogo teórico\\nContribuições: desenvolvimento da moderna ciência da computação teórica, formalização dos conceitos de algoritmo e computação com a máquina de Turing, considerado o pai da ciência da computação teórica e da inteligência artificial\\nDesafios enfrentados: falta de reconhecimento em seu país de origem durante sua vida por ser homossexual e cobertura de parte de seu trabalho pela Lei de Segredos Oficiais.'"
            ],
            "application/vnd.google.colaboratory.intrinsic+json": {
              "type": "string"
            }
          },
          "metadata": {},
          "execution_count": 27
        }
      ]
    },
    {
      "cell_type": "code",
      "source": [
        "saida = resposta.content\n",
        "\n",
        "saida = saida.replace('\\n', '\\n\\n')"
      ],
      "metadata": {
        "id": "SCt682bdnieK"
      },
      "execution_count": null,
      "outputs": []
    },
    {
      "cell_type": "code",
      "execution_count": null,
      "metadata": {
        "colab": {
          "base_uri": "https://localhost:8080/",
          "height": 262
        },
        "id": "ZOCFITKN__E8",
        "outputId": "39faef2f-89fd-46fc-f31b-736583e561d8"
      },
      "outputs": [
        {
          "output_type": "execute_result",
          "data": {
            "text/plain": [
              "<IPython.core.display.Markdown object>"
            ],
            "text/markdown": "Nome: Alan Mathison Turing\n\nData de nascimento: 23 de junho de 1912\n\nLocal de nascimento: Londres\n\nData de falecimento: 7 de junho de 1954\n\nLocal de falecimento: Wilmslow, Cheshire\n\nProfissões: matemático, cientista da computação, lógico, criptoanalista, filósofo e biólogo teórico\n\nContribuições: desenvolvimento da moderna ciência da computação teórica, formalização dos conceitos de algoritmo e computação com a máquina de Turing, considerado o pai da ciência da computação teórica e da inteligência artificial\n\nDesafios enfrentados: falta de reconhecimento em seu país de origem durante sua vida por ser homossexual e cobertura de parte de seu trabalho pela Lei de Segredos Oficiais."
          },
          "metadata": {},
          "execution_count": 31
        }
      ],
      "source": [
        "from IPython.display import Markdown\n",
        "\n",
        "Markdown(saida)"
      ]
    },
    {
      "cell_type": "markdown",
      "metadata": {
        "id": "GiluDvBjAZLp"
      },
      "source": [
        "**Análise de Sentimentos**"
      ]
    },
    {
      "cell_type": "code",
      "execution_count": null,
      "metadata": {
        "id": "pqiTH0w5AbRO"
      },
      "outputs": [],
      "source": [
        "texto = \"1 - Minha Experiência na loja foi incrível.\"\\\n",
        "        \"2 - Eu acho que podiam melhorar o produto.\"\\\n",
        "        \"3 - O atendimento foi horrível!\"\\\n",
        "        \"4 - Não volto mais.\"\\\n",
        "        \"5 - Recomendo demais a banoffe. É uma delícia!\""
      ]
    },
    {
      "cell_type": "code",
      "execution_count": null,
      "metadata": {
        "id": "Vv8nmE8zAh53"
      },
      "outputs": [],
      "source": [
        "prompt = PromptTemplate(\n",
        "    input_variables=[\"texto\"],\n",
        "    template =\n",
        "    'Classifique os exemplos a seguir de acordo com as ' \\\n",
        "    'seguintes polaridades Positivo, Negativo e Neutro.\\n' \\\n",
        "    'EXEMPLOS:\\n{texto}'\n",
        ")"
      ]
    },
    {
      "cell_type": "code",
      "execution_count": null,
      "metadata": {
        "id": "8OPVz0_OAm3o"
      },
      "outputs": [],
      "source": [
        "chain = prompt | modelo\n",
        "\n",
        "resultado = chain.invoke({\"texto\": texto})"
      ]
    },
    {
      "cell_type": "code",
      "execution_count": null,
      "metadata": {
        "colab": {
          "base_uri": "https://localhost:8080/"
        },
        "id": "ZHrYlixWAoAz",
        "outputId": "7fb9c8c6-170d-4e11-861f-e7a504fe6e34"
      },
      "outputs": [
        {
          "output_type": "stream",
          "name": "stdout",
          "text": [
            "1 - Positivo\n",
            "2 - Neutro\n",
            "3 - Negativo\n",
            "4 - Negativo\n",
            "5 - Positivo\n"
          ]
        }
      ],
      "source": [
        "print(resultado.content)"
      ]
    },
    {
      "cell_type": "code",
      "source": [
        "prompt = PromptTemplate(\n",
        "    input_variables=[\"texto\"],\n",
        "    template =\n",
        "    'Classifique os exemplos a seguir de acordo com as polaridades Positivo, Negativo e Neutro.'\\\n",
        "    'Utilize o seguinte formato ###DECLARAÇÃO: <DECLARAÇÃO>\\n###POLARIDADE: <POLARIDADE>.\\n' \\\n",
        "    '{texto}'\n",
        ")"
      ],
      "metadata": {
        "id": "Td3OqZKs2bOV"
      },
      "execution_count": null,
      "outputs": []
    },
    {
      "cell_type": "code",
      "source": [
        "chain = prompt | modelo\n",
        "\n",
        "resultado = chain.invoke({\"texto\": texto})\n",
        "\n",
        "print(resultado.content)"
      ],
      "metadata": {
        "colab": {
          "base_uri": "https://localhost:8080/"
        },
        "id": "naXD5QWg2frU",
        "outputId": "cd61e6fc-bc75-4077-e786-1ab1c98d9652"
      },
      "execution_count": null,
      "outputs": [
        {
          "output_type": "stream",
          "name": "stdout",
          "text": [
            "###DECLARAÇÃO: Minha Experiência na loja foi incrível.\n",
            "###POLARIDADE: Positivo.\n",
            "\n",
            "###DECLARAÇÃO: Eu acho que podiam melhorar o produto.\n",
            "###POLARIDADE: Neutro.\n",
            "\n",
            "###DECLARAÇÃO: O atendimento foi horrível!\n",
            "###POLARIDADE: Negativo.\n",
            "\n",
            "###DECLARAÇÃO: Não volto mais.\n",
            "###POLARIDADE: Negativo.\n",
            "\n",
            "###DECLARAÇÃO: Recomendo demais a banoffe. É uma delícia!\n",
            "###POLARIDADE: Positivo.\n"
          ]
        }
      ]
    },
    {
      "cell_type": "markdown",
      "source": [
        "**Perguntas e Respostas**"
      ],
      "metadata": {
        "id": "cmO65a5R2r91"
      }
    },
    {
      "cell_type": "code",
      "source": [
        "modelo = ChatOpenAI( temperature = 0.1, max_tokens = 512)"
      ],
      "metadata": {
        "id": "kV6dvAdu2n_Y"
      },
      "execution_count": null,
      "outputs": []
    },
    {
      "cell_type": "code",
      "source": [
        "prompt = PromptTemplate(\n",
        "    input_variables=[\"texto\"],\n",
        "    template =\n",
        "    'Dado o texto a seguir: {texto}\\n' \\\n",
        "    'Gere quatro questões e suas respectivas respostas utilizando o template abaixo.\\n'\\\n",
        "    'Preserve a exata formatação do template apresentado:'\\\n",
        "    'PERGUNTA: <pergunta gerada>'\\\n",
        "    'RESPOSTA: <resposta>'\n",
        ")"
      ],
      "metadata": {
        "id": "OxCu3PV23Pm0"
      },
      "execution_count": null,
      "outputs": []
    },
    {
      "cell_type": "code",
      "source": [
        "texto = 'Alan Mathison Turing (Londres, 23 de junho de 1912 — Wilmslow, Cheshire, 7 de junho de 1954) '\\\n",
        "        'foi um matemático, cientista da computação, lógico, criptoanalista, filósofo e biólogo teórico '\\\n",
        "        'britânico. Turing foi altamente influente no desenvolvimento da moderna ciência da computação '\\\n",
        "        'teórica, proporcionando uma formalização dos conceitos de algoritmo e computação com a máquina '\\\n",
        "        'de Turing, que pode ser considerada um modelo de um computador de uso geral. Ele é amplamente '\\\n",
        "        'considerado o pai da ciência da computação teórica e da inteligência artificial. Apesar dessas '\\\n",
        "        'realizações ele nunca foi totalmente reconhecido em seu país de origem durante sua vida por ser '\\\n",
        "        'homossexual e porque grande parte de seu trabalho foi coberto pela Lei de Segredos Oficiais.'"
      ],
      "metadata": {
        "id": "n8fEw0EZ3To2"
      },
      "execution_count": null,
      "outputs": []
    },
    {
      "cell_type": "code",
      "source": [
        "chain = prompt | modelo\n",
        "\n",
        "resposta = chain.invoke({\"texto\": texto})"
      ],
      "metadata": {
        "id": "isL-NPsc3TqP"
      },
      "execution_count": null,
      "outputs": []
    },
    {
      "cell_type": "code",
      "source": [
        "from IPython.display import Markdown\n",
        "\n",
        "Markdown(resposta.content)"
      ],
      "metadata": {
        "colab": {
          "base_uri": "https://localhost:8080/",
          "height": 290
        },
        "id": "1YPVYMQFpYvL",
        "outputId": "2f1ffec2-10c7-4774-f3a0-31e73bb670c4"
      },
      "execution_count": null,
      "outputs": [
        {
          "output_type": "execute_result",
          "data": {
            "text/plain": [
              "<IPython.core.display.Markdown object>"
            ],
            "text/markdown": "PERGUNTA: Qual foi a contribuição de Alan Turing para a ciência da computação?\nRESPOSTA: Alan Turing foi altamente influente no desenvolvimento da moderna ciência da computação teórica, proporcionando uma formalização dos conceitos de algoritmo e computação com a máquina de Turing, que pode ser considerada um modelo de um computador de uso geral.\n\nPERGUNTA: Por que Alan Turing é considerado o pai da ciência da computação teórica e da inteligência artificial?\nRESPOSTA: Ele é amplamente considerado o pai da ciência da computação teórica e da inteligência artificial devido às suas contribuições significativas no desenvolvimento dessas áreas.\n\nPERGUNTA: Por que Alan Turing não foi totalmente reconhecido em seu país de origem durante sua vida?\nRESPOSTA: Alan Turing não foi totalmente reconhecido em seu país de origem durante sua vida por ser homossexual e porque grande parte de seu trabalho foi coberto pela Lei de Segredos Oficiais.\n\nPERGUNTA: Qual foi a principal invenção de Alan Turing que influenciou a ciência da computação?\nRESPOSTA: A principal invenção de Alan Turing que influenciou a ciência da computação foi a máquina de Turing, que formalizou os conceitos de algoritmo e computação e é considerada um modelo de um computador de uso geral."
          },
          "metadata": {},
          "execution_count": 43
        }
      ]
    },
    {
      "cell_type": "code",
      "source": [
        "prompt = PromptTemplate(\n",
        "    input_variables=[\"texto\"],\n",
        "    template =\n",
        "    'Dado o texto a seguir: {texto}\\n' \\\n",
        "    'Gere 3 questões com 4 alternativas cada e suas respectivas respostas utilizando o template abaixo.\\n'\\\n",
        "    'Preserve a exata formatação do template apresentado:'\\\n",
        "    'PERGUNTA: <pergunta gerada>'\\\n",
        "    'ALTERNATIVA <A>: <alternativa A>'\\\n",
        "    'ALTERNATIVA <B>: <alternativa B>'\\\n",
        "    'ALTERNATIVA <C>: <alternativa C>'\\\n",
        "    'ALTERNATIVA <D>: <alternativa D>'\\\n",
        "    'RESPOSTA: <ALTERNATIVA>'\n",
        ")"
      ],
      "metadata": {
        "id": "00Z5PJKGsARh"
      },
      "execution_count": null,
      "outputs": []
    },
    {
      "cell_type": "code",
      "source": [
        "chain = prompt | modelo\n",
        "\n",
        "resposta = chain.invoke({\"texto\": texto})"
      ],
      "metadata": {
        "id": "hCnrsboqsZMc"
      },
      "execution_count": null,
      "outputs": []
    },
    {
      "cell_type": "code",
      "source": [
        "saida = resposta.content\n",
        "\n",
        "saida = saida.replace('\\n', '\\n\\n')"
      ],
      "metadata": {
        "id": "W574bVKTsh4Q"
      },
      "execution_count": null,
      "outputs": []
    },
    {
      "cell_type": "code",
      "source": [
        "from IPython.display import Markdown\n",
        "\n",
        "Markdown(saida)"
      ],
      "metadata": {
        "colab": {
          "base_uri": "https://localhost:8080/",
          "height": 478
        },
        "id": "QmGxervlsc5j",
        "outputId": "0c33c58e-990a-490f-a15c-26b8914187a8"
      },
      "execution_count": null,
      "outputs": [
        {
          "output_type": "execute_result",
          "data": {
            "text/plain": [
              "<IPython.core.display.Markdown object>"
            ],
            "text/markdown": "PERGUNTA: Qual foi a contribuição de Alan Turing para a ciência da computação teórica?\n\nALTERNATIVA A: Desenvolvimento da máquina de Turing.\n\nALTERNATIVA B: Descoberta da penicilina.\n\nALTERNATIVA C: Criação da teoria da relatividade.\n\nALTERNATIVA D: Invenção do telefone.\n\nRESPOSTA: ALTERNATIVA A\n\n\n\nPERGUNTA: Por que Alan Turing não foi totalmente reconhecido em seu país de origem durante sua vida?\n\nALTERNATIVA A: Por ser homossexual.\n\nALTERNATIVA B: Por ser um cientista ruim.\n\nALTERNATIVA C: Por ter roubado ideias de outros cientistas.\n\nALTERNATIVA D: Por ser muito jovem.\n\nRESPOSTA: ALTERNATIVA A\n\n\n\nPERGUNTA: Qual é o apelido dado a Alan Turing por ser considerado o pai da ciência da computação teórica?\n\nALTERNATIVA A: Gênio da matemática.\n\nALTERNATIVA B: Mestre da lógica.\n\nALTERNATIVA C: Pai da inteligência artificial.\n\nALTERNATIVA D: Rei da criptografia.\n\nRESPOSTA: ALTERNATIVA C"
          },
          "metadata": {},
          "execution_count": 53
        }
      ]
    },
    {
      "cell_type": "markdown",
      "source": [
        "**Padrão Persona**\n",
        "\n",
        "\n",
        "* Introduz ao modelo uma representação fictícia ou não, normalmente a de um especialista em um domínio ou personalidade específica.\n",
        "\n",
        "* É usado para moldar a forma como o modelo responde, imitando características ou comportamentos de um tipo específico de usuário.\n",
        "\n"
      ],
      "metadata": {
        "id": "Q-gr5vCL3yBd"
      }
    },
    {
      "cell_type": "markdown",
      "source": [
        "**Um advogado especialista**"
      ],
      "metadata": {
        "id": "iKYPiHtK5BA9"
      }
    },
    {
      "cell_type": "code",
      "source": [
        "modelo = ChatOpenAI( temperature = 0.1, max_tokens = 512)"
      ],
      "metadata": {
        "id": "augxr9Yw4JIk"
      },
      "execution_count": null,
      "outputs": []
    },
    {
      "cell_type": "code",
      "source": [
        "texto = 'Escreva como se fosse um advogado brasileiro especialista em direito penal.'\\\n",
        "        'Pontue de forma resumida as possíveis penas para um caso de lesão corporal leve '\\\n",
        "        'sem contexto de violência doméstica.'\n",
        "\n",
        "resposta = modelo.invoke(texto)"
      ],
      "metadata": {
        "id": "qxZznbOr4Qud"
      },
      "execution_count": null,
      "outputs": []
    },
    {
      "cell_type": "code",
      "source": [
        "from IPython.display import Markdown\n",
        "\n",
        "Markdown(resposta.content)"
      ],
      "metadata": {
        "colab": {
          "base_uri": "https://localhost:8080/",
          "height": 180
        },
        "id": "huAdk8zbqb_i",
        "outputId": "413e60ef-0d2e-4374-95da-e3fe83785f03"
      },
      "execution_count": null,
      "outputs": [
        {
          "output_type": "execute_result",
          "data": {
            "text/plain": [
              "<IPython.core.display.Markdown object>"
            ],
            "text/markdown": "Como advogado especialista em direito penal, é importante ressaltar que a lesão corporal leve é um crime previsto no Código Penal Brasileiro, no artigo 129. A pena para esse tipo de crime pode variar de acordo com as circunstâncias do caso, mas geralmente inclui penas como prestação de serviços à comunidade, pagamento de multa, detenção de três meses a um ano, ou até mesmo a suspensão condicional da pena.\n\nÉ importante ressaltar que a pena pode ser agravada caso o crime seja cometido com violência doméstica, o que pode resultar em penas mais severas, como a detenção de seis meses a um ano.\n\nPortanto, é fundamental que o acusado busque a orientação de um advogado especializado em direito penal para garantir seus direitos e uma defesa adequada no processo judicial."
          },
          "metadata": {},
          "execution_count": 56
        }
      ]
    },
    {
      "cell_type": "markdown",
      "source": [
        "**Instrutor de História**"
      ],
      "metadata": {
        "id": "CXkE3HRtq0p5"
      }
    },
    {
      "cell_type": "code",
      "source": [
        "persona = \"\"\"\n",
        "Você é um professor de história muito experiente. Você explica conceitos históricos de forma clara e interessante,\n",
        "e sempre fornece contexto adicional para ajudar seus alunos a entenderem melhor o assunto.\n",
        "\"\"\"\n",
        "\n",
        "prompt = PromptTemplate(\n",
        "    input_variables = [\"pergunta\"],\n",
        "    template = persona + \"\\n\\nPergunta: {pergunta}\\nResposta:\"\n",
        ")\n",
        "\n",
        "chain = prompt | modelo\n",
        "\n",
        "pergunta = \"Qual foi o impacto da Revolução Francesa na Europa?\"\n",
        "\n",
        "resposta = chain.invoke({\"pergunta\": pergunta})"
      ],
      "metadata": {
        "id": "_2fi8reoq2CY"
      },
      "execution_count": null,
      "outputs": []
    },
    {
      "cell_type": "code",
      "source": [
        "from IPython.display import Markdown\n",
        "\n",
        "Markdown(resposta.content)"
      ],
      "metadata": {
        "colab": {
          "base_uri": "https://localhost:8080/",
          "height": 325
        },
        "id": "VrJB1YzlrXdN",
        "outputId": "7baebce8-a43e-40ca-fd66-aac591b97b58"
      },
      "execution_count": null,
      "outputs": [
        {
          "output_type": "execute_result",
          "data": {
            "text/plain": [
              "<IPython.core.display.Markdown object>"
            ],
            "text/markdown": "A Revolução Francesa teve um impacto profundo e duradouro na Europa. Em primeiro lugar, ela inspirou movimentos revolucionários em outros países europeus, como a Revolução de 1848, que buscavam derrubar monarquias absolutistas e estabelecer governos mais democráticos. Além disso, a Revolução Francesa promoveu ideais de liberdade, igualdade e fraternidade que influenciaram o pensamento político e social em toda a Europa.\n\nA Revolução Francesa também teve um impacto econômico significativo, pois levou à abolição do sistema feudal na França e à redistribuição de terras entre a população. Isso teve repercussões em outros países europeus, onde as elites dominantes começaram a temer revoltas populares e a buscar reformas para evitar a propagação da revolução.\n\nPor fim, a Revolução Francesa contribuiu para o surgimento do nacionalismo na Europa, à medida que as nações buscavam se unificar em torno de ideais comuns e se libertar do domínio estrangeiro. Isso levou a conflitos e guerras entre as potências europeias, como as Guerras Napoleônicas, que moldaram a geopolítica do continente por décadas.\n\nEm resumo, a Revolução Francesa teve um impacto profundo na Europa, influenciando não apenas a política e a economia, mas também a cultura e a sociedade como um todo. Seus efeitos foram sentidos por muitos anos após o seu término e continuam a ser estudados e debatidos até os dias de hoje."
          },
          "metadata": {},
          "execution_count": 58
        }
      ]
    },
    {
      "cell_type": "markdown",
      "source": [
        "**Referência:**\n",
        "\n",
        "Este notebook foi adaptado a partir do seguinte material:\n",
        "\n",
        "**Tutorial Prompting and Fine-Tuning Pre-trained Generative Language Models**\n",
        "\n",
        "*Johny Moreira, Altigran da Silva, Luciano Barbosa*\n",
        "\n",
        "SIMPÓSIO BRASILEIRO DE BANCO DE DADOS [SBBD 2023]\n",
        "\n",
        ">\n",
        "\n",
        "Disponível em: https://github.com/guardiaum/tutorial-sbbd2023\n"
      ],
      "metadata": {
        "id": "LR4xsBFH52hc"
      }
    }
  ],
  "metadata": {
    "colab": {
      "provenance": [],
      "include_colab_link": true
    },
    "kernelspec": {
      "display_name": "Python 3",
      "name": "python3"
    },
    "language_info": {
      "name": "python"
    }
  },
  "nbformat": 4,
  "nbformat_minor": 0
}