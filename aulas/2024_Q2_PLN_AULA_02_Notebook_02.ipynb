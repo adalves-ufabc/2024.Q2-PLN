{
  "cells": [
    {
      "cell_type": "markdown",
      "metadata": {
        "id": "view-in-github",
        "colab_type": "text"
      },
      "source": [
        "<a href=\"https://colab.research.google.com/github/adalves-ufabc/2024.Q2-PLN/blob/main/2024_Q2_PLN_AULA_02_Notebook_02.ipynb\" target=\"_parent\"><img src=\"https://colab.research.google.com/assets/colab-badge.svg\" alt=\"Open In Colab\"/></a>"
      ]
    },
    {
      "cell_type": "markdown",
      "metadata": {
        "id": "Y6QILOdpOjwv"
      },
      "source": [
        "# **Processamento de Linguagem Natural [2024-Q2]**\n",
        "Prof. Alexandre Donizeti Alves"
      ]
    },
    {
      "cell_type": "markdown",
      "metadata": {
        "id": "nmK05FgcOzL2"
      },
      "source": [
        "## **Expressões Regulares**\n",
        "---\n",
        "\n"
      ]
    },
    {
      "cell_type": "markdown",
      "metadata": {
        "id": "nY_1bKNcPQzR"
      },
      "source": [
        "### **Encontrando padrões de texto SEM USAR expressões regulares**\n"
      ]
    },
    {
      "cell_type": "code",
      "execution_count": null,
      "metadata": {
        "colab": {
          "base_uri": "https://localhost:8080/"
        },
        "id": "8nZjJG97Pq7V",
        "outputId": "9b23ba98-42d7-49c6-b6cd-0dc2312bb5bd"
      },
      "outputs": [
        {
          "name": "stdout",
          "output_type": "stream",
          "text": [
            "415-555-4242 is a phone number:\n",
            "True\n",
            "432-85-4578 is a phone number:\n",
            "False\n"
          ]
        }
      ],
      "source": [
        "# numero de telefone: 3 numeros, 1 hifen, 3 numeros, 1 hifen e 4 numeros\n",
        "# [999-9999999]\n",
        "\n",
        "def isPhoneNumber(text):\n",
        "    if len(text) != 12:\n",
        "        return False      # not phone number-sized\n",
        "    for i in range(0, 3):\n",
        "        if not text[i].isdecimal():\n",
        "            return False  # not an area code\n",
        "    if text[3] != '-':\n",
        "        return False      # does not have first hyphen\n",
        "    for i in range(4, 7):\n",
        "        if not text[i].isdecimal():\n",
        "            return False  # does not have first 3 digits\n",
        "    if text[7] != '-':\n",
        "        return False      # does not have second hyphen\n",
        "    for i in range(8, 12):\n",
        "        if not text[i].isdecimal():\n",
        "            return False  # does not have last 4 digits\n",
        "\n",
        "    return True           # \"text\" is a phone number!\n",
        "\n",
        "print('415-555-4242 is a phone number:')\n",
        "print(isPhoneNumber('415-555-4242'))\n",
        "\n",
        "print('432-85-4578 is a phone number:')\n",
        "print(isPhoneNumber('432-85-4578'))"
      ]
    },
    {
      "cell_type": "code",
      "execution_count": null,
      "metadata": {
        "colab": {
          "base_uri": "https://localhost:8080/"
        },
        "id": "8T-z_YBbQTNp",
        "outputId": "f1182960-06c9-4046-b4bd-f520be3338e1"
      },
      "outputs": [
        {
          "name": "stdout",
          "output_type": "stream",
          "text": [
            "Phone number found: 415-555-1011\n",
            "Phone number found: 415-555-9999\n",
            "Done\n"
          ]
        }
      ],
      "source": [
        "message = 'Call me at 415-555-1011 tomorrow. 415-555-9999 is my office.'\n",
        "for i in range(len(message)):\n",
        "  chunk = message[i:i+12]\n",
        "  if isPhoneNumber(chunk):\n",
        "    print('Phone number found: ' + chunk)\n",
        "print('Done')"
      ]
    },
    {
      "cell_type": "markdown",
      "metadata": {
        "id": "ImAq2ZP0Qx6s"
      },
      "source": [
        "### **Encontrando padrões de texto COM EXPRESSÕES REGULARES**\n"
      ]
    },
    {
      "cell_type": "code",
      "execution_count": null,
      "metadata": {
        "colab": {
          "base_uri": "https://localhost:8080/"
        },
        "id": "JaF0K3hZSMuL",
        "outputId": "6b5bf78f-4b0a-4b19-910f-36d2834034ae"
      },
      "outputs": [
        {
          "output_type": "stream",
          "name": "stdout",
          "text": [
            "Phone number found: 415-555-4242\n"
          ]
        }
      ],
      "source": [
        "import re\n",
        "\n",
        "# re.compile() fara um objeto 'Regex' de padrão ser retornado\n",
        "phoneNumRegex = re.compile(r'\\d\\d\\d-\\d\\d\\d-\\d\\d\\d\\d')\n",
        "\n",
        "#phoneNumRegex = re.compile('\\\\d\\\\d\\\\d-\\\\d\\\\d\\\\d-\\\\d\\\\d\\\\d\\\\d')\n",
        "#phoneNumRegex = re.compile(r'\\d{3}-\\d{3}-\\d{4}')\n",
        "\n",
        "# o metodo search retornara 'None' se o padrao regex nao for encontrado\n",
        "# Se o padrao for encontrado, o metodo search retornara um objeto 'Match'\n",
        "# Objetos 'Match' tem um metodo group() que retornara o texto correspondente\n",
        "# extraido da string pesquisada\n",
        "mo = phoneNumRegex.search('My number is 415-555-4242.')\n",
        "\n",
        "print('Phone number found: ' + mo.group(0))"
      ]
    },
    {
      "cell_type": "code",
      "execution_count": null,
      "metadata": {
        "colab": {
          "base_uri": "https://localhost:8080/",
          "height": 35
        },
        "id": "sYQ9Ma7hSU-8",
        "outputId": "ddd4aab5-1787-40b1-ebcb-526dd5940f79"
      },
      "outputs": [
        {
          "data": {
            "application/vnd.google.colaboratory.intrinsic+json": {
              "type": "string"
            },
            "text/plain": [
              "'415'"
            ]
          },
          "execution_count": 4,
          "metadata": {},
          "output_type": "execute_result"
        }
      ],
      "source": [
        "# agrupando com parênteses\n",
        "phoneNumRegex = re.compile(r'(\\d\\d\\d)-(\\d\\d\\d-\\d\\d\\d\\d)')\n",
        "mo = phoneNumRegex.search('My number is 415-555-4242.')\n",
        "\n",
        "mo.group(1)"
      ]
    },
    {
      "cell_type": "code",
      "execution_count": null,
      "metadata": {
        "colab": {
          "base_uri": "https://localhost:8080/",
          "height": 35
        },
        "id": "3VOzx_C2SvWY",
        "outputId": "a7b681f7-e7dc-43ae-dba8-f44021ba7f47"
      },
      "outputs": [
        {
          "data": {
            "application/vnd.google.colaboratory.intrinsic+json": {
              "type": "string"
            },
            "text/plain": [
              "'555-4242'"
            ]
          },
          "execution_count": 5,
          "metadata": {},
          "output_type": "execute_result"
        }
      ],
      "source": [
        "mo.group(2)"
      ]
    },
    {
      "cell_type": "code",
      "execution_count": null,
      "metadata": {
        "colab": {
          "base_uri": "https://localhost:8080/",
          "height": 35
        },
        "id": "5IC-aAJyS0Gp",
        "outputId": "83d5b986-c7e7-4d3a-ce31-465645ba2595"
      },
      "outputs": [
        {
          "data": {
            "application/vnd.google.colaboratory.intrinsic+json": {
              "type": "string"
            },
            "text/plain": [
              "'415-555-4242'"
            ]
          },
          "execution_count": 6,
          "metadata": {},
          "output_type": "execute_result"
        }
      ],
      "source": [
        "mo.group(0)"
      ]
    },
    {
      "cell_type": "code",
      "execution_count": null,
      "metadata": {
        "colab": {
          "base_uri": "https://localhost:8080/",
          "height": 35
        },
        "id": "k91jeKK8S2NT",
        "outputId": "c312f680-fbca-41a4-a8d5-efdd2567a70d"
      },
      "outputs": [
        {
          "data": {
            "application/vnd.google.colaboratory.intrinsic+json": {
              "type": "string"
            },
            "text/plain": [
              "'415-555-4242'"
            ]
          },
          "execution_count": 7,
          "metadata": {},
          "output_type": "execute_result"
        }
      ],
      "source": [
        "mo.group()"
      ]
    },
    {
      "cell_type": "code",
      "execution_count": null,
      "metadata": {
        "colab": {
          "base_uri": "https://localhost:8080/"
        },
        "id": "CVU3zT70S6CB",
        "outputId": "ee8e2965-f4c9-4e37-8c21-b22c1f273020"
      },
      "outputs": [
        {
          "name": "stdout",
          "output_type": "stream",
          "text": [
            "415\n",
            "555-4242\n"
          ]
        }
      ],
      "source": [
        "areaCode, mainNumber = mo.groups()\n",
        "print(areaCode)\n",
        "print(mainNumber)"
      ]
    },
    {
      "cell_type": "code",
      "execution_count": null,
      "metadata": {
        "colab": {
          "base_uri": "https://localhost:8080/",
          "height": 35
        },
        "id": "zNIq_OrkS_qA",
        "outputId": "14c433f7-ef9d-4ac2-885f-f5aaf64d1ec3"
      },
      "outputs": [
        {
          "data": {
            "application/vnd.google.colaboratory.intrinsic+json": {
              "type": "string"
            },
            "text/plain": [
              "'(415)'"
            ]
          },
          "execution_count": 9,
          "metadata": {},
          "output_type": "execute_result"
        }
      ],
      "source": [
        "# se for necessario usar '(' e ')' --> use '\\(' e '\\)'\n",
        "phoneNumRegex = re.compile(r'(\\(\\d\\d\\d\\)) (\\d\\d\\d-\\d\\d\\d\\d)')\n",
        "mo = phoneNumRegex.search('My phone number is (415) 555-4242.')\n",
        "mo.group(1)"
      ]
    },
    {
      "cell_type": "code",
      "execution_count": null,
      "metadata": {
        "colab": {
          "base_uri": "https://localhost:8080/",
          "height": 35
        },
        "id": "cmEWwwNqTHXE",
        "outputId": "0e5b8d67-d6be-4cf9-90ac-236502def8c7"
      },
      "outputs": [
        {
          "data": {
            "application/vnd.google.colaboratory.intrinsic+json": {
              "type": "string"
            },
            "text/plain": [
              "'555-4242'"
            ]
          },
          "execution_count": 10,
          "metadata": {},
          "output_type": "execute_result"
        }
      ],
      "source": [
        "mo.group(2)"
      ]
    },
    {
      "cell_type": "markdown",
      "metadata": {
        "id": "7AdxXFS1nbip"
      },
      "source": [
        "**O prefixo r**"
      ]
    },
    {
      "cell_type": "markdown",
      "metadata": {
        "id": "SfWZv5eandR-"
      },
      "source": [
        "O prefixo `r` antes da expressão regular evita o pré-processamento da ER pela linguagem."
      ]
    },
    {
      "cell_type": "markdown",
      "metadata": {
        "id": "EjQ0WpWCnq7X"
      },
      "source": [
        "Colocamos o modificador `r` (do inglês “*raw*”, crú) imediatamente antes das aspas, assim:"
      ]
    },
    {
      "cell_type": "code",
      "execution_count": null,
      "metadata": {
        "colab": {
          "base_uri": "https://localhost:8080/",
          "height": 35
        },
        "id": "CyhzUngmnuAb",
        "outputId": "41aaa0e8-5acc-41b0-8ac3-6ad7fe578e45"
      },
      "outputs": [
        {
          "data": {
            "application/vnd.google.colaboratory.intrinsic+json": {
              "type": "string"
            },
            "text/plain": [
              "'\\\\bdia\\\\b'"
            ]
          },
          "execution_count": 11,
          "metadata": {},
          "output_type": "execute_result"
        }
      ],
      "source": [
        "r'\\bdia\\b'"
      ]
    },
    {
      "cell_type": "code",
      "execution_count": null,
      "metadata": {
        "colab": {
          "base_uri": "https://localhost:8080/",
          "height": 35
        },
        "id": "hYWzINwNnyTR",
        "outputId": "1546b1ab-2730-4401-d998-ac84f66423a3"
      },
      "outputs": [
        {
          "data": {
            "application/vnd.google.colaboratory.intrinsic+json": {
              "type": "string"
            },
            "text/plain": [
              "'\\x08dia\\x08'"
            ]
          },
          "execution_count": 12,
          "metadata": {},
          "output_type": "execute_result"
        }
      ],
      "source": [
        "'\\bdia\\b'"
      ]
    },
    {
      "cell_type": "markdown",
      "metadata": {
        "id": "oNWsEQC6oC63"
      },
      "source": [
        "Nem sempre é preciso a presença do prefixo. Você irá se deparar com expressões que não utilizam o prefixo."
      ]
    },
    {
      "cell_type": "markdown",
      "metadata": {
        "id": "IaRVhwpgTP8X"
      },
      "source": [
        "### **Fazendo a correspondência de vários grupos com pipe**\n"
      ]
    },
    {
      "cell_type": "code",
      "execution_count": null,
      "metadata": {
        "colab": {
          "base_uri": "https://localhost:8080/",
          "height": 35
        },
        "id": "HIsxKZhUTaxw",
        "outputId": "3cf70cf0-ff51-4ea8-e354-39250916b5e1"
      },
      "outputs": [
        {
          "data": {
            "application/vnd.google.colaboratory.intrinsic+json": {
              "type": "string"
            },
            "text/plain": [
              "'Batman'"
            ]
          },
          "execution_count": 13,
          "metadata": {},
          "output_type": "execute_result"
        }
      ],
      "source": [
        "heroRegex = re.compile (r'Batman|Robin')\n",
        "mo1 = heroRegex.search('Batman and Robin')\n",
        "mo1.group()"
      ]
    },
    {
      "cell_type": "code",
      "execution_count": null,
      "metadata": {
        "colab": {
          "base_uri": "https://localhost:8080/",
          "height": 35
        },
        "id": "D3rbPCGWTeRg",
        "outputId": "87533e5e-11bd-49b8-a959-0a6a177f99d5"
      },
      "outputs": [
        {
          "data": {
            "application/vnd.google.colaboratory.intrinsic+json": {
              "type": "string"
            },
            "text/plain": [
              "'Robin'"
            ]
          },
          "execution_count": 14,
          "metadata": {},
          "output_type": "execute_result"
        }
      ],
      "source": [
        "mo2 = heroRegex.search('Robin and Batman')\n",
        "mo2.group()"
      ]
    },
    {
      "cell_type": "code",
      "execution_count": null,
      "metadata": {
        "colab": {
          "base_uri": "https://localhost:8080/",
          "height": 35
        },
        "id": "E4eyN8VKTKQQ",
        "outputId": "c4bab7d1-9fb0-4664-d2ed-3484466aad79"
      },
      "outputs": [
        {
          "data": {
            "application/vnd.google.colaboratory.intrinsic+json": {
              "type": "string"
            },
            "text/plain": [
              "'Batmobile'"
            ]
          },
          "execution_count": 15,
          "metadata": {},
          "output_type": "execute_result"
        }
      ],
      "source": [
        "batRegex = re.compile(r'Bat(man|mobile|copter|bat)')\n",
        "mo = batRegex.search('Batmobile lost a wheel')\n",
        "mo.group()"
      ]
    },
    {
      "cell_type": "code",
      "execution_count": null,
      "metadata": {
        "colab": {
          "base_uri": "https://localhost:8080/",
          "height": 35
        },
        "id": "CEFFFSklTjEc",
        "outputId": "193955b6-d987-45d4-fe4e-fc3c0c26ffdd"
      },
      "outputs": [
        {
          "data": {
            "application/vnd.google.colaboratory.intrinsic+json": {
              "type": "string"
            },
            "text/plain": [
              "'mobile'"
            ]
          },
          "execution_count": 16,
          "metadata": {},
          "output_type": "execute_result"
        }
      ],
      "source": [
        "mo.group(1)"
      ]
    },
    {
      "cell_type": "markdown",
      "metadata": {
        "id": "9agRVDi9Tm6S"
      },
      "source": [
        "### **Correspondência opcional usando ponto de interrogação**\n"
      ]
    },
    {
      "cell_type": "code",
      "execution_count": null,
      "metadata": {
        "colab": {
          "base_uri": "https://localhost:8080/",
          "height": 35
        },
        "id": "NAuFi4dwTwHd",
        "outputId": "ac51a95f-026d-4cfc-f993-1872953aa9ea"
      },
      "outputs": [
        {
          "data": {
            "application/vnd.google.colaboratory.intrinsic+json": {
              "type": "string"
            },
            "text/plain": [
              "'Batman'"
            ]
          },
          "execution_count": 17,
          "metadata": {},
          "output_type": "execute_result"
        }
      ],
      "source": [
        "batRegex = re.compile(r'Bat(wo)?man')\n",
        "mo1 = batRegex.search('The Adventures of Batman')\n",
        "mo1.group()"
      ]
    },
    {
      "cell_type": "code",
      "execution_count": null,
      "metadata": {
        "colab": {
          "base_uri": "https://localhost:8080/",
          "height": 35
        },
        "id": "AkV5v12wTzHZ",
        "outputId": "8b8c2f95-1098-4fb6-f131-27ed1facdaae"
      },
      "outputs": [
        {
          "data": {
            "application/vnd.google.colaboratory.intrinsic+json": {
              "type": "string"
            },
            "text/plain": [
              "'Batwoman'"
            ]
          },
          "execution_count": 18,
          "metadata": {},
          "output_type": "execute_result"
        }
      ],
      "source": [
        "mo2 = batRegex.search('The Adventures of Batwoman')\n",
        "mo2.group()"
      ]
    },
    {
      "cell_type": "code",
      "execution_count": null,
      "metadata": {
        "colab": {
          "base_uri": "https://localhost:8080/",
          "height": 35
        },
        "id": "yshbrd9ET1mQ",
        "outputId": "aa68cd33-3cb7-4288-ce92-ca896c72e935"
      },
      "outputs": [
        {
          "data": {
            "application/vnd.google.colaboratory.intrinsic+json": {
              "type": "string"
            },
            "text/plain": [
              "'415-555-4242'"
            ]
          },
          "execution_count": 19,
          "metadata": {},
          "output_type": "execute_result"
        }
      ],
      "source": [
        "phoneRegex = re.compile(r'(\\d\\d\\d-)?\\d\\d\\d-\\d\\d\\d\\d')\n",
        "mo1 = phoneRegex.search('My number is 415-555-4242')\n",
        "mo1.group()"
      ]
    },
    {
      "cell_type": "code",
      "execution_count": null,
      "metadata": {
        "colab": {
          "base_uri": "https://localhost:8080/",
          "height": 35
        },
        "id": "OamjQg-MT5o4",
        "outputId": "fe611cc8-61f4-4db7-a0e7-4cee21d27d3d"
      },
      "outputs": [
        {
          "data": {
            "application/vnd.google.colaboratory.intrinsic+json": {
              "type": "string"
            },
            "text/plain": [
              "'555-4242'"
            ]
          },
          "execution_count": 20,
          "metadata": {},
          "output_type": "execute_result"
        }
      ],
      "source": [
        "# nao tem codigo de area\n",
        "mo2 = phoneRegex.search('My number is 555-4242')\n",
        "mo2.group()"
      ]
    },
    {
      "cell_type": "markdown",
      "metadata": {
        "id": "InIywgyQT9l7"
      },
      "source": [
        "### **Correspondendo a zero ou mais ocorrências usando asterisco**\n"
      ]
    },
    {
      "cell_type": "code",
      "execution_count": null,
      "metadata": {
        "colab": {
          "base_uri": "https://localhost:8080/",
          "height": 35
        },
        "id": "O_7Q2c4hUIWn",
        "outputId": "3eec9038-0ab0-4a4b-cc0e-f1a89a1f0828"
      },
      "outputs": [
        {
          "data": {
            "application/vnd.google.colaboratory.intrinsic+json": {
              "type": "string"
            },
            "text/plain": [
              "'Batman'"
            ]
          },
          "execution_count": 28,
          "metadata": {},
          "output_type": "execute_result"
        }
      ],
      "source": [
        "batRegex = re.compile(r'Bat(wo)*man')\n",
        "mo1 = batRegex.search('The Adventures of Batman')\n",
        "mo1.group()"
      ]
    },
    {
      "cell_type": "code",
      "execution_count": null,
      "metadata": {
        "colab": {
          "base_uri": "https://localhost:8080/",
          "height": 35
        },
        "id": "d9-8a47DUMUY",
        "outputId": "1b8b5ad1-bb81-4e3d-9310-2ca84bae7476"
      },
      "outputs": [
        {
          "data": {
            "application/vnd.google.colaboratory.intrinsic+json": {
              "type": "string"
            },
            "text/plain": [
              "'Batwoman'"
            ]
          },
          "execution_count": 29,
          "metadata": {},
          "output_type": "execute_result"
        }
      ],
      "source": [
        "mo2 = batRegex.search('The Adventures of Batwoman')\n",
        "mo2.group()"
      ]
    },
    {
      "cell_type": "code",
      "execution_count": null,
      "metadata": {
        "colab": {
          "base_uri": "https://localhost:8080/",
          "height": 35
        },
        "id": "8qJS_BXEUOwn",
        "outputId": "0c9b8650-9519-401c-b46e-dad57be1b6cd"
      },
      "outputs": [
        {
          "data": {
            "application/vnd.google.colaboratory.intrinsic+json": {
              "type": "string"
            },
            "text/plain": [
              "'Batwowowowowowowoman'"
            ]
          },
          "execution_count": 30,
          "metadata": {},
          "output_type": "execute_result"
        }
      ],
      "source": [
        "mo3 = batRegex.search('The Adventures of Batwowowowowowowoman')\n",
        "mo3.group()"
      ]
    },
    {
      "cell_type": "markdown",
      "metadata": {
        "id": "YuAdHiDSUS7J"
      },
      "source": [
        "### **Correspondendo a uma ou mais ocorrências usando o sinal de adição**\n"
      ]
    },
    {
      "cell_type": "code",
      "execution_count": null,
      "metadata": {
        "colab": {
          "background_save": true,
          "base_uri": "https://localhost:8080/",
          "height": 35
        },
        "id": "mXYMceuuUaYH",
        "outputId": "2d3f49ae-f2ce-4423-bc67-88169a21538d"
      },
      "outputs": [
        {
          "data": {
            "application/vnd.google.colaboratory.intrinsic+json": {
              "type": "string"
            },
            "text/plain": [
              "'Batwoman'"
            ]
          },
          "execution_count": 24,
          "metadata": {},
          "output_type": "execute_result"
        }
      ],
      "source": [
        "batRegex = re.compile(r'Bat(wo)+man')\n",
        "mo1 = batRegex.search('The Adventures of Batwoman')\n",
        "mo1.group()"
      ]
    },
    {
      "cell_type": "code",
      "execution_count": null,
      "metadata": {
        "colab": {
          "base_uri": "https://localhost:8080/",
          "height": 35
        },
        "id": "yUiba72wUc48",
        "outputId": "99e1960e-dee6-4bd2-daf3-44a53b9ac8df"
      },
      "outputs": [
        {
          "data": {
            "application/vnd.google.colaboratory.intrinsic+json": {
              "type": "string"
            },
            "text/plain": [
              "'Batwowowowoman'"
            ]
          },
          "execution_count": 32,
          "metadata": {},
          "output_type": "execute_result"
        }
      ],
      "source": [
        "mo2 = batRegex.search('The Adventures of Batwowowowoman')\n",
        "mo2.group()"
      ]
    },
    {
      "cell_type": "code",
      "execution_count": null,
      "metadata": {
        "colab": {
          "base_uri": "https://localhost:8080/"
        },
        "id": "J3IjUzzUUgG1",
        "outputId": "12d3b692-59c1-4745-e021-a35a3615cb70"
      },
      "outputs": [
        {
          "data": {
            "text/plain": [
              "True"
            ]
          },
          "execution_count": 33,
          "metadata": {},
          "output_type": "execute_result"
        }
      ],
      "source": [
        "mo3 = batRegex.search('The Adventures of Batman')\n",
        "mo3 == None"
      ]
    },
    {
      "cell_type": "markdown",
      "metadata": {
        "id": "5xFWXfOpUjvG"
      },
      "source": [
        "### **Correspondendo a repetições específicas usando chaves**\n"
      ]
    },
    {
      "cell_type": "code",
      "execution_count": null,
      "metadata": {
        "colab": {
          "base_uri": "https://localhost:8080/",
          "height": 36
        },
        "id": "Zm5_mGOdUqLs",
        "outputId": "c2921556-12e3-4e7f-9680-8ec2d7e22bcd"
      },
      "outputs": [
        {
          "data": {
            "application/vnd.google.colaboratory.intrinsic+json": {
              "type": "string"
            },
            "text/plain": [
              "'HaHaHa'"
            ]
          },
          "execution_count": 28,
          "metadata": {},
          "output_type": "execute_result"
        }
      ],
      "source": [
        "haRegex = re.compile(r'(Ha){3}')\n",
        "mo1 = haRegex.search('HaHaHa')\n",
        "mo1.group()"
      ]
    },
    {
      "cell_type": "code",
      "execution_count": null,
      "metadata": {
        "colab": {
          "base_uri": "https://localhost:8080/"
        },
        "id": "pHh8NItHUs4z",
        "outputId": "c92cb74f-72d6-459d-eada-7b9cfc3369d4"
      },
      "outputs": [
        {
          "data": {
            "text/plain": [
              "True"
            ]
          },
          "execution_count": 29,
          "metadata": {},
          "output_type": "execute_result"
        }
      ],
      "source": [
        "mo2 = haRegex.search('HaHa')\n",
        "mo2 == None"
      ]
    },
    {
      "cell_type": "markdown",
      "metadata": {
        "id": "sDnq826QUzYB"
      },
      "source": [
        "### **Correspondências greedy (gulosas) e nongreedy (não gulosa)**\n"
      ]
    },
    {
      "cell_type": "code",
      "execution_count": null,
      "metadata": {
        "colab": {
          "base_uri": "https://localhost:8080/",
          "height": 36
        },
        "id": "ihdZTKN7U_1b",
        "outputId": "9d2d1027-7807-466e-a6cf-85da51c1c4d3"
      },
      "outputs": [
        {
          "data": {
            "application/vnd.google.colaboratory.intrinsic+json": {
              "type": "string"
            },
            "text/plain": [
              "'HaHaHaHaHa'"
            ]
          },
          "execution_count": 30,
          "metadata": {},
          "output_type": "execute_result"
        }
      ],
      "source": [
        "# as expressoes regulares em Python sao greedy (gulosas) por default,\n",
        "# o que significa que, em situacoes ambiguas, a correspondencia sera\n",
        "# feita com a maior string possivel\n",
        "greedyHaRegex = re.compile(r'(Ha){3,5}')\n",
        "mo1 = greedyHaRegex.search('HaHaHaHaHa')\n",
        "mo1.group()\n",
        "\n",
        "#(Ha){3,5}\n",
        "#((Ha)(Ha)(Ha))|((Ha)(Ha)(Ha)(Ha))|((Ha)(Ha)(Ha)(Ha)(Ha))"
      ]
    },
    {
      "cell_type": "code",
      "execution_count": null,
      "metadata": {
        "colab": {
          "base_uri": "https://localhost:8080/",
          "height": 36
        },
        "id": "JjYZtQJPVCbn",
        "outputId": "fe8f68d2-9d74-4d2d-a04f-6b407391a8b9"
      },
      "outputs": [
        {
          "data": {
            "application/vnd.google.colaboratory.intrinsic+json": {
              "type": "string"
            },
            "text/plain": [
              "'HaHaHa'"
            ]
          },
          "execution_count": 33,
          "metadata": {},
          "output_type": "execute_result"
        }
      ],
      "source": [
        "# na versao nongreedy (nao gulosa) das chaves, que faz a correspondencia\n",
        "# com a menor string possivel, um ponto de interrogacao '?' deve ser usado\n",
        "# depois da chave de fechamento\n",
        "nongreedyHaRegex = re.compile(r'(Ha){3,5}?')\n",
        "mo2 = nongreedyHaRegex.search('HaHaHaHaHa')\n",
        "mo2.group()"
      ]
    },
    {
      "cell_type": "markdown",
      "metadata": {
        "id": "MRAkWCmfVGqv"
      },
      "source": [
        "### **Método findall()**\n"
      ]
    },
    {
      "cell_type": "code",
      "execution_count": null,
      "metadata": {
        "colab": {
          "base_uri": "https://localhost:8080/",
          "height": 36
        },
        "id": "71ePZM9cVVEE",
        "outputId": "cf27ea0b-0530-485e-d4a1-a748a12b242c"
      },
      "outputs": [
        {
          "data": {
            "application/vnd.google.colaboratory.intrinsic+json": {
              "type": "string"
            },
            "text/plain": [
              "'415-555-9999'"
            ]
          },
          "execution_count": 34,
          "metadata": {},
          "output_type": "execute_result"
        }
      ],
      "source": [
        "phoneNumRegex = re.compile(r'\\d\\d\\d-\\d\\d\\d-\\d\\d\\d\\d')\n",
        "mo = phoneNumRegex.search('Cell: 415-555-9999 Work: 212-555-0000')\n",
        "mo.group()"
      ]
    },
    {
      "cell_type": "code",
      "execution_count": null,
      "metadata": {
        "colab": {
          "base_uri": "https://localhost:8080/"
        },
        "id": "T3EYDhADVpYp",
        "outputId": "86fdd0d7-b37e-496c-aa07-42d7721c1571"
      },
      "outputs": [
        {
          "data": {
            "text/plain": [
              "['415-555-9999', '212-555-0000']"
            ]
          },
          "execution_count": 36,
          "metadata": {},
          "output_type": "execute_result"
        }
      ],
      "source": [
        "# o metodo findall() retorna as strings de todas as correspondencias\n",
        "# na string pesquisada, ou seja, uma lista de strings - desde que\n",
        "# nao haja grupos na expressao regular\n",
        "phoneNumRegex = re.compile(r'\\d\\d\\d-\\d\\d\\d-\\d\\d\\d\\d')\n",
        "phoneNumRegex.findall('Cell: 415-555-9999 Work: 212-555-0000')"
      ]
    },
    {
      "cell_type": "code",
      "execution_count": null,
      "metadata": {
        "colab": {
          "base_uri": "https://localhost:8080/"
        },
        "id": "-u_3Po-1VsGg",
        "outputId": "01cf669e-9d8e-4625-fe96-3f89e5111415"
      },
      "outputs": [
        {
          "data": {
            "text/plain": [
              "[('415', '555', '9999'), ('212', '555', '0000')]"
            ]
          },
          "execution_count": 40,
          "metadata": {},
          "output_type": "execute_result"
        }
      ],
      "source": [
        "# se houver grupos na expressao regular, findall() retornara uma\n",
        "# lista de tuplas\n",
        "phoneNumRegex = re.compile(r'(\\d\\d\\d)-(\\d\\d\\d)-(\\d\\d\\d\\d)')\n",
        "phoneNumRegex.findall('Cell: 415-555-9999 Work: 212-555-0000')"
      ]
    },
    {
      "cell_type": "markdown",
      "metadata": {
        "id": "-gNatBpYVxyv"
      },
      "source": [
        "### **Classes de caracteres**\n"
      ]
    },
    {
      "cell_type": "code",
      "execution_count": null,
      "metadata": {
        "colab": {
          "base_uri": "https://localhost:8080/"
        },
        "id": "9zeudv8CV3x4",
        "outputId": "3a7c6f5c-e580-4ba7-9a75-523b5b90e34d"
      },
      "outputs": [
        {
          "data": {
            "text/plain": [
              "['12 drummers',\n",
              " '11 pipers',\n",
              " '10 lords',\n",
              " '9 ladies',\n",
              " '8 maids',\n",
              " '7 swans',\n",
              " '6 geese',\n",
              " '5 rings',\n",
              " '4 birds',\n",
              " '3 hens',\n",
              " '2 doves',\n",
              " '1 partridge']"
            ]
          },
          "execution_count": 41,
          "metadata": {},
          "output_type": "execute_result"
        }
      ],
      "source": [
        "# classes de caracteres sao convenientes para reduzir as\n",
        "# expressoes regulares\n",
        "\n",
        "# a classe de caracteres [0-5] correspondera somente aos numeros de\n",
        "# 0 a 5; isso é muito mais conciso do que digitar (0|1|2|3|4|5)\n",
        "\n",
        "# a expressao regular '\\d+\\s\\w+' correspondera a textos que tenham um ou mais\n",
        "# digitos (\\d+) seguidos de um caractere de espaco em branco (\\s) seguido\n",
        "# de um ou mais caracteres que sejam letra/digito/underscore (\\w+)\n",
        "\n",
        "xmasRegex = re.compile(r'\\d+\\s\\w+')\n",
        "xmasRegex.findall('12 drummers, 11 pipers, 10 lords, 9 ladies, 8 maids, 7 swans, 6 geese, 5 rings, 4 birds, 3 hens, 2 doves, 1 partridge')"
      ]
    },
    {
      "cell_type": "markdown",
      "metadata": {
        "id": "Y3qP8qatWFoA"
      },
      "source": [
        "### **Criando suas próprias classes de caracteres**\n"
      ]
    },
    {
      "cell_type": "code",
      "execution_count": null,
      "metadata": {
        "colab": {
          "base_uri": "https://localhost:8080/"
        },
        "id": "Qpe2e7Z_WO8v",
        "outputId": "0648fb8a-baca-4460-91ff-469cb23b2cf0"
      },
      "outputs": [
        {
          "data": {
            "text/plain": [
              "['o', 'o', 'o', 'e', 'a', 'a', 'o', 'o', 'A', 'O', 'O']"
            ]
          },
          "execution_count": 42,
          "metadata": {},
          "output_type": "execute_result"
        }
      ],
      "source": [
        "vowelRegex = re.compile(r'[aeiouAEIOU]')\n",
        "vowelRegex.findall('RoboCop eats baby food. BABY FOOD.')"
      ]
    },
    {
      "cell_type": "code",
      "execution_count": null,
      "metadata": {
        "colab": {
          "base_uri": "https://localhost:8080/"
        },
        "id": "DNgcmT7BWR1q",
        "outputId": "fab38a2d-7d1a-42a1-8aef-d8b0ca5c4690"
      },
      "outputs": [
        {
          "data": {
            "text/plain": [
              "['R',\n",
              " 'b',\n",
              " 'C',\n",
              " 'p',\n",
              " ' ',\n",
              " 't',\n",
              " 's',\n",
              " ' ',\n",
              " 'b',\n",
              " 'b',\n",
              " 'y',\n",
              " ' ',\n",
              " 'f',\n",
              " 'd',\n",
              " '.',\n",
              " ' ',\n",
              " 'B',\n",
              " 'B',\n",
              " 'Y',\n",
              " ' ',\n",
              " 'F',\n",
              " 'D',\n",
              " '.']"
            ]
          },
          "execution_count": 43,
          "metadata": {},
          "output_type": "execute_result"
        }
      ],
      "source": [
        "# a classe de caracteres [a-zA-Z0-9] correspondera a todas\n",
        "# as letras minusculas, as letras maisculas e aos numeros\n",
        "\n",
        "# Nos colchetes, os simbolos normais de expressao regular nao\n",
        "# sao interpretados. Por exemplo, a classe de caracteres [0-5.]\n",
        "# correspondera aos digitos de 0 a 5 e um ponto.\n",
        "# Nao eh necessario escrever essa classe como [0-5\\.]\n",
        "\n",
        "# Ao inserir um acento circunflexo (^) logo depois do colchete\n",
        "# de abertura da classe de caracters, podemos criar uma classe\n",
        "# negativa de caracteres\n",
        "consonantRegex = re.compile(r'[^aeiouAEIOU]')\n",
        "consonantRegex.findall('RoboCop eats baby food. BABY FOOD.')"
      ]
    },
    {
      "cell_type": "markdown",
      "metadata": {
        "id": "T76YBn1UWemZ"
      },
      "source": [
        "### **Acento circunflexo e o sinal de dólar**\n"
      ]
    },
    {
      "cell_type": "code",
      "execution_count": null,
      "metadata": {
        "colab": {
          "base_uri": "https://localhost:8080/",
          "height": 35
        },
        "id": "CW6MiVVGWphG",
        "outputId": "f39f2075-ebdc-47cd-ea1b-d8339f234996"
      },
      "outputs": [
        {
          "data": {
            "application/vnd.google.colaboratory.intrinsic+json": {
              "type": "string"
            },
            "text/plain": [
              "'Hello'"
            ]
          },
          "execution_count": 44,
          "metadata": {},
          "output_type": "execute_result"
        }
      ],
      "source": [
        "beginsWithHello = re.compile(r'^Hello')\n",
        "mo = beginsWithHello.search('Hello, world!')\n",
        "mo.group()"
      ]
    },
    {
      "cell_type": "code",
      "execution_count": null,
      "metadata": {
        "colab": {
          "base_uri": "https://localhost:8080/"
        },
        "id": "5xPx72gQWwkO",
        "outputId": "01017468-9b42-4e43-9928-277c933e57e4"
      },
      "outputs": [
        {
          "data": {
            "text/plain": [
              "True"
            ]
          },
          "execution_count": 45,
          "metadata": {},
          "output_type": "execute_result"
        }
      ],
      "source": [
        "beginsWithHello.search('He said hello.') == None"
      ]
    },
    {
      "cell_type": "code",
      "execution_count": null,
      "metadata": {
        "colab": {
          "base_uri": "https://localhost:8080/",
          "height": 36
        },
        "id": "nRg9FwUyW3X7",
        "outputId": "2544d2ef-d5ac-4618-fe8c-96998d7cba89"
      },
      "outputs": [
        {
          "data": {
            "application/vnd.google.colaboratory.intrinsic+json": {
              "type": "string"
            },
            "text/plain": [
              "'2'"
            ]
          },
          "execution_count": 40,
          "metadata": {},
          "output_type": "execute_result"
        }
      ],
      "source": [
        "endsWithNumber = re.compile(r'\\d$')\n",
        "mo = endsWithNumber.search('Your number is 42')\n",
        "mo.group()"
      ]
    },
    {
      "cell_type": "code",
      "execution_count": null,
      "metadata": {
        "colab": {
          "base_uri": "https://localhost:8080/"
        },
        "id": "urdDHKFUW6-F",
        "outputId": "ee8ed0e8-09f2-4ea5-d9c7-fadcbb44fbb3"
      },
      "outputs": [
        {
          "data": {
            "text/plain": [
              "True"
            ]
          },
          "execution_count": 47,
          "metadata": {},
          "output_type": "execute_result"
        }
      ],
      "source": [
        "endsWithNumber.search('Your number is forty two.') == None"
      ]
    },
    {
      "cell_type": "code",
      "execution_count": null,
      "metadata": {
        "colab": {
          "base_uri": "https://localhost:8080/",
          "height": 35
        },
        "id": "vM4ZJRr_W9yn",
        "outputId": "ee8cb83c-6c17-4b51-c2c7-82f2d285f7af"
      },
      "outputs": [
        {
          "data": {
            "application/vnd.google.colaboratory.intrinsic+json": {
              "type": "string"
            },
            "text/plain": [
              "'1234567890'"
            ]
          },
          "execution_count": 48,
          "metadata": {},
          "output_type": "execute_result"
        }
      ],
      "source": [
        "wholeStringIsNum = re.compile(r'^\\d+$')\n",
        "mo = wholeStringIsNum.search('1234567890')\n",
        "mo.group()"
      ]
    },
    {
      "cell_type": "code",
      "execution_count": null,
      "metadata": {
        "colab": {
          "base_uri": "https://localhost:8080/"
        },
        "id": "ckIPx24vXA8X",
        "outputId": "e01b5000-9386-483e-e766-8abb6410ef41"
      },
      "outputs": [
        {
          "data": {
            "text/plain": [
              "True"
            ]
          },
          "execution_count": 49,
          "metadata": {},
          "output_type": "execute_result"
        }
      ],
      "source": [
        "wholeStringIsNum.search('12345xyz67890') == None"
      ]
    },
    {
      "cell_type": "code",
      "execution_count": null,
      "metadata": {
        "colab": {
          "base_uri": "https://localhost:8080/"
        },
        "id": "dC_3F7LWXDho",
        "outputId": "9ea2cd19-1606-4385-dc9f-989217e8415c"
      },
      "outputs": [
        {
          "data": {
            "text/plain": [
              "True"
            ]
          },
          "execution_count": 50,
          "metadata": {},
          "output_type": "execute_result"
        }
      ],
      "source": [
        "wholeStringIsNum.search('123xyz 4567890') == None"
      ]
    },
    {
      "cell_type": "markdown",
      "metadata": {
        "id": "KjSy9a1CXGXI"
      },
      "source": [
        "### **Caractere curinga**\n"
      ]
    },
    {
      "cell_type": "code",
      "execution_count": null,
      "metadata": {
        "colab": {
          "base_uri": "https://localhost:8080/"
        },
        "id": "F4xkFaqNXPRf",
        "outputId": "3562cf5f-636f-4e1d-90d4-3cef5fa875a4"
      },
      "outputs": [
        {
          "data": {
            "text/plain": [
              "['cat', 'hat', 'sat', 'lat', 'mat']"
            ]
          },
          "execution_count": 51,
          "metadata": {},
          "output_type": "execute_result"
        }
      ],
      "source": [
        "atRegex = re.compile(r'.at')\n",
        "atRegex.findall('The cat in the hat sat on the flat mat.')"
      ]
    },
    {
      "cell_type": "markdown",
      "metadata": {
        "id": "E2Q20PzGXSQ6"
      },
      "source": [
        "### **Correspondendo a tudo usando ponto-asterisco**\n"
      ]
    },
    {
      "cell_type": "code",
      "execution_count": null,
      "metadata": {
        "colab": {
          "base_uri": "https://localhost:8080/",
          "height": 35
        },
        "id": "1wyg5qEUXb1l",
        "outputId": "19fdd501-1b48-4a89-be78-7717fed671c5"
      },
      "outputs": [
        {
          "data": {
            "application/vnd.google.colaboratory.intrinsic+json": {
              "type": "string"
            },
            "text/plain": [
              "'Alexandre'"
            ]
          },
          "execution_count": 52,
          "metadata": {},
          "output_type": "execute_result"
        }
      ],
      "source": [
        "# podemos usar ponto-asterisco (.*) para indicar \"qualquer caractere\"\n",
        "# Lembre-se que o caractere ponto quer dizer \"qualquer caractere unico,\n",
        "# exceto a quebra de linha\" e o caractere asterisco quer dizer\n",
        "# \"zero ou mais ocorrencias do caractere anterior\"\n",
        "nameRegex = re.compile(r'First Name: (.*) Last Name: (.*)')\n",
        "mo = nameRegex.search('First Name: Alexandre Last Name: Alves')\n",
        "mo.group(1)"
      ]
    },
    {
      "cell_type": "code",
      "execution_count": null,
      "metadata": {
        "colab": {
          "base_uri": "https://localhost:8080/",
          "height": 35
        },
        "id": "JdIss8goXjc9",
        "outputId": "8298d469-c020-42c1-f886-895554fe50db"
      },
      "outputs": [
        {
          "data": {
            "application/vnd.google.colaboratory.intrinsic+json": {
              "type": "string"
            },
            "text/plain": [
              "'Alves'"
            ]
          },
          "execution_count": 53,
          "metadata": {},
          "output_type": "execute_result"
        }
      ],
      "source": [
        "mo.group(2)"
      ]
    },
    {
      "cell_type": "code",
      "execution_count": null,
      "metadata": {
        "colab": {
          "base_uri": "https://localhost:8080/",
          "height": 36
        },
        "id": "xyxx7mxzXnZn",
        "outputId": "0114630f-8b85-4393-816c-38f85b491338"
      },
      "outputs": [
        {
          "data": {
            "application/vnd.google.colaboratory.intrinsic+json": {
              "type": "string"
            },
            "text/plain": [
              "'<To serve man>'"
            ]
          },
          "execution_count": 42,
          "metadata": {},
          "output_type": "execute_result"
        }
      ],
      "source": [
        "# versao nongreedy (nao gulosa)\n",
        "nongreedyRegex = re.compile(r'<.*?>')\n",
        "mo = nongreedyRegex.search('<To serve man> for dinner.>')\n",
        "mo.group()"
      ]
    },
    {
      "cell_type": "code",
      "execution_count": null,
      "metadata": {
        "colab": {
          "base_uri": "https://localhost:8080/",
          "height": 36
        },
        "id": "dUHRMC8YXpMe",
        "outputId": "62bd940b-7d5e-4b56-dfc6-b854cef72824"
      },
      "outputs": [
        {
          "data": {
            "application/vnd.google.colaboratory.intrinsic+json": {
              "type": "string"
            },
            "text/plain": [
              "'<To serve man> for dinner.>'"
            ]
          },
          "execution_count": 43,
          "metadata": {},
          "output_type": "execute_result"
        }
      ],
      "source": [
        "# versao greedy (gulosa)\n",
        "greedyRegex = re.compile(r'<.*>')\n",
        "mo = greedyRegex.search('<To serve man> for dinner.>')\n",
        "mo.group()"
      ]
    },
    {
      "cell_type": "markdown",
      "metadata": {
        "id": "cHPlGRI4XuHh"
      },
      "source": [
        "### **Correspondendo a quebras de linha com o caractere ponto**\n"
      ]
    },
    {
      "cell_type": "code",
      "execution_count": null,
      "metadata": {
        "colab": {
          "base_uri": "https://localhost:8080/",
          "height": 36
        },
        "id": "JnEQSiHhX4h7",
        "outputId": "d39e643f-3146-4b49-c3e8-a0eaef8b00eb"
      },
      "outputs": [
        {
          "data": {
            "application/vnd.google.colaboratory.intrinsic+json": {
              "type": "string"
            },
            "text/plain": [
              "'Serve the public trust.'"
            ]
          },
          "execution_count": 44,
          "metadata": {},
          "output_type": "execute_result"
        }
      ],
      "source": [
        "noNewlineRegex = re.compile('.*')\n",
        "noNewlineRegex.search('Serve the public trust.\\nProtect the innocent. \\nUphold the law.').group()"
      ]
    },
    {
      "cell_type": "code",
      "execution_count": null,
      "metadata": {
        "colab": {
          "base_uri": "https://localhost:8080/",
          "height": 35
        },
        "id": "d3ccLv6QX7ny",
        "outputId": "e44642e5-f07a-4a6c-9672-3cca76294a6f"
      },
      "outputs": [
        {
          "data": {
            "application/vnd.google.colaboratory.intrinsic+json": {
              "type": "string"
            },
            "text/plain": [
              "'Serve the public trust.\\nProtect the innocent.\\nUphold the law.'"
            ]
          },
          "execution_count": 57,
          "metadata": {},
          "output_type": "execute_result"
        }
      ],
      "source": [
        "# inclui newline (\\n)\n",
        "newlineRegex = re.compile('.*', re.DOTALL)\n",
        "newlineRegex.search('Serve the public trust.\\nProtect the innocent.\\nUphold the law.').group()"
      ]
    },
    {
      "cell_type": "markdown",
      "metadata": {
        "id": "sNEZzg_-YNFh"
      },
      "source": [
        "### **Correspondências sem diferenciar letras maiúsculas de minúsculas**\n"
      ]
    },
    {
      "cell_type": "code",
      "execution_count": null,
      "metadata": {
        "id": "Mje_oiaIYbzV"
      },
      "outputs": [],
      "source": [
        "regex1 = re.compile('RoboCop')\n",
        "regex2 = re.compile('ROBOCOP')\n",
        "regex3 = re.compile('robOcop')\n",
        "regex4 = re.compile('RobocOp')"
      ]
    },
    {
      "cell_type": "code",
      "execution_count": null,
      "metadata": {
        "colab": {
          "base_uri": "https://localhost:8080/",
          "height": 35
        },
        "id": "FqvyWIidYjOf",
        "outputId": "304306f2-53be-454d-ec2a-1f33b16aa894"
      },
      "outputs": [
        {
          "data": {
            "application/vnd.google.colaboratory.intrinsic+json": {
              "type": "string"
            },
            "text/plain": [
              "'RoboCop'"
            ]
          },
          "execution_count": 59,
          "metadata": {},
          "output_type": "execute_result"
        }
      ],
      "source": [
        "robocop = re.compile(r'robocop', re.I)\n",
        "#robocop = re.compile(r'robocop', re.IGNORECASE)\n",
        "robocop.search('RoboCop is part man, part machine, all cop.').group()"
      ]
    },
    {
      "cell_type": "code",
      "execution_count": null,
      "metadata": {
        "colab": {
          "base_uri": "https://localhost:8080/",
          "height": 35
        },
        "id": "umz6gjeUYDAQ",
        "outputId": "ff989ed9-026e-4d39-9f5c-08bc2a4390e1"
      },
      "outputs": [
        {
          "data": {
            "application/vnd.google.colaboratory.intrinsic+json": {
              "type": "string"
            },
            "text/plain": [
              "'ROBOCOP'"
            ]
          },
          "execution_count": 60,
          "metadata": {},
          "output_type": "execute_result"
        }
      ],
      "source": [
        "robocop.search('ROBOCOP protects the innocent.').group()"
      ]
    },
    {
      "cell_type": "code",
      "execution_count": null,
      "metadata": {
        "colab": {
          "base_uri": "https://localhost:8080/",
          "height": 35
        },
        "id": "cUwqXS8_Yo8D",
        "outputId": "7c05c7c4-b1da-4008-9aec-ac8ce767d7fa"
      },
      "outputs": [
        {
          "data": {
            "application/vnd.google.colaboratory.intrinsic+json": {
              "type": "string"
            },
            "text/plain": [
              "'robocop'"
            ]
          },
          "execution_count": 61,
          "metadata": {},
          "output_type": "execute_result"
        }
      ],
      "source": [
        "robocop.search('Al, why does your programming book talk about robocop so much?').group()"
      ]
    },
    {
      "cell_type": "markdown",
      "metadata": {
        "id": "0yDuIFWvYsyh"
      },
      "source": [
        "### **Substituindo strings com o método sub()**\n"
      ]
    },
    {
      "cell_type": "code",
      "execution_count": null,
      "metadata": {
        "colab": {
          "base_uri": "https://localhost:8080/",
          "height": 35
        },
        "id": "_JUVtvc3Y0UD",
        "outputId": "fb4487ef-5476-4f55-89c3-d0ca0e2f7c0e"
      },
      "outputs": [
        {
          "data": {
            "application/vnd.google.colaboratory.intrinsic+json": {
              "type": "string"
            },
            "text/plain": [
              "'CENSORED gave the secret documents to CENSORED.'"
            ]
          },
          "execution_count": 62,
          "metadata": {},
          "output_type": "execute_result"
        }
      ],
      "source": [
        "namesRegex = re.compile(r'Agent \\w+')\n",
        "namesRegex.sub('CENSORED', 'Agent Alice gave the secret documents to Agent Bob.')"
      ]
    },
    {
      "cell_type": "code",
      "execution_count": null,
      "metadata": {
        "colab": {
          "base_uri": "https://localhost:8080/",
          "height": 35
        },
        "id": "VNOusmWoY3mi",
        "outputId": "0f075aa1-c289-4136-a05e-a174cb6633a2"
      },
      "outputs": [
        {
          "data": {
            "application/vnd.google.colaboratory.intrinsic+json": {
              "type": "string"
            },
            "text/plain": [
              "'A**** told C**** that E**** knew B**** was a double agent.'"
            ]
          },
          "execution_count": 63,
          "metadata": {},
          "output_type": "execute_result"
        }
      ],
      "source": [
        " # \\1, \\2, \\3  - para grupos\n",
        "agentNamesRegex = re.compile(r'Agent (\\w)\\w*')\n",
        "agentNamesRegex.sub(r'\\1****', 'Agent Alice told Agent Carol that Agent Eve knew Agent Bob was a double agent.')"
      ]
    },
    {
      "cell_type": "markdown",
      "metadata": {
        "id": "x-jWt7xdY9Ri"
      },
      "source": [
        "### **Administrando expressões regulares (regexes) complexas**\n"
      ]
    },
    {
      "cell_type": "code",
      "execution_count": null,
      "metadata": {
        "id": "pTovVC0rZDRe"
      },
      "outputs": [],
      "source": [
        "phoneRegex = re.compile(r'((\\d{3}|\\(\\d{3}\\))?(\\s|-|\\.)?\\d{3}(\\s|-|\\.)\\d{4}(\\s*(ext|x|ext.)\\s*\\d{2,5})?)')"
      ]
    },
    {
      "cell_type": "code",
      "execution_count": null,
      "metadata": {
        "id": "P-8H-cZ5ZHJl"
      },
      "outputs": [],
      "source": [
        "phoneRegex = re.compile(r'''(\n",
        "    (\\d{3}|\\(\\d{3}\\))?            # codigo de area\n",
        "    (\\s|-|\\.)?                    # separador\n",
        "    \\d{3}                         # primeiros 3 digitos\n",
        "    (\\s|-|\\.)                     # separador\n",
        "    \\d{4}                         # ultimos 4 digitos\n",
        "    (\\s*(ext|x|ext.)\\s*\\d{2,5})?  # extensao\n",
        "    )''', re.VERBOSE)"
      ]
    },
    {
      "cell_type": "markdown",
      "metadata": {
        "id": "MqrsDGwM2Rq4"
      },
      "source": [
        "**Referência**:\n",
        "\n",
        "![image.png](data:image/png;base64,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)\n",
        "\n",
        "https://automatetheboringstuff.com/2e/chapter7/\n"
      ]
    }
  ],
  "metadata": {
    "colab": {
      "provenance": [],
      "authorship_tag": "ABX9TyP3Jqj5d3qS5Q4MKH6E6Z24",
      "include_colab_link": true
    },
    "kernelspec": {
      "display_name": "Python 3",
      "name": "python3"
    }
  },
  "nbformat": 4,
  "nbformat_minor": 0
}