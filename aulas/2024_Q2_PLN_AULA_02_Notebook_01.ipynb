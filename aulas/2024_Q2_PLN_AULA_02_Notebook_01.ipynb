{
  "cells": [
    {
      "cell_type": "markdown",
      "metadata": {
        "id": "view-in-github",
        "colab_type": "text"
      },
      "source": [
        "<a href=\"https://colab.research.google.com/github/adalves-ufabc/2024.Q2-PLN/blob/main/2024_Q2_PLN_AULA_02_Notebook_01.ipynb\" target=\"_parent\"><img src=\"https://colab.research.google.com/assets/colab-badge.svg\" alt=\"Open In Colab\"/></a>"
      ]
    },
    {
      "cell_type": "markdown",
      "metadata": {
        "id": "Y6QILOdpOjwv"
      },
      "source": [
        "# **Processamento de Linguagem Natural [2024-Q2]**\n",
        "Prof. Alexandre Donizeti Alves"
      ]
    },
    {
      "cell_type": "markdown",
      "metadata": {
        "id": "nmK05FgcOzL2"
      },
      "source": [
        "## **Expressões Regulares**\n",
        "---\n",
        "\n"
      ]
    },
    {
      "cell_type": "markdown",
      "metadata": {
        "id": "tGnNPFbOcmg-"
      },
      "source": [
        "**Exemplo 1**\n",
        "\n",
        "Busca por todas as sequências de caracteres `mal` em parte do poema \"Ainda que mal\" de Carlos Drummond de Andrade."
      ]
    },
    {
      "cell_type": "code",
      "metadata": {
        "colab": {
          "base_uri": "https://localhost:8080/"
        },
        "id": "O6OHK6hacSKz",
        "outputId": "49ee42bd-0f92-4c25-ecb7-2474b01e1432"
      },
      "source": [
        "import re\n",
        "\n",
        "poema = \"\"\"Ainda que mal pergunte,\n",
        "ainda que mal respondas;\n",
        "ainda que mal te entenda,\n",
        "ainda que mal repitas;\n",
        "ainda que mal insista,\n",
        "ainda que mal desculpes;\n",
        "ainda que mal me exprima,\n",
        "ainda que mal me julgues;\n",
        "ainda que mal me mostre,\n",
        "ainda que mal me vejas;\"\"\"\n",
        "\n",
        "re.findall(r\"mal\", poema)"
      ],
      "execution_count": null,
      "outputs": [
        {
          "output_type": "execute_result",
          "data": {
            "text/plain": [
              "['mal', 'mal', 'mal', 'mal', 'mal', 'mal', 'mal', 'mal', 'mal', 'mal']"
            ]
          },
          "metadata": {},
          "execution_count": 15
        }
      ]
    },
    {
      "cell_type": "code",
      "source": [
        "len(re.findall(r\"mal\", poema))"
      ],
      "metadata": {
        "colab": {
          "base_uri": "https://localhost:8080/"
        },
        "id": "SXib1RYRjO3k",
        "outputId": "aa94305a-5ca3-4282-f34a-9c7114a75b33"
      },
      "execution_count": null,
      "outputs": [
        {
          "output_type": "execute_result",
          "data": {
            "text/plain": [
              "10"
            ]
          },
          "metadata": {},
          "execution_count": 16
        }
      ]
    },
    {
      "cell_type": "markdown",
      "metadata": {
        "id": "Vy5O2i0hOZ3C"
      },
      "source": [
        "**Exemplo 2**\n",
        "\n",
        "Busca por todas as sequências de caracteres `ainda que mal` no mesmo trecho do poema anterior"
      ]
    },
    {
      "cell_type": "code",
      "metadata": {
        "colab": {
          "base_uri": "https://localhost:8080/"
        },
        "id": "xPXMtD9-ObN6",
        "outputId": "84ded16e-04f9-48db-b716-d9c19d7e4eef"
      },
      "source": [
        "import re\n",
        "\n",
        "poema = \"\"\"Ainda que mal pergunte,\n",
        "ainda que mal respondas;\n",
        "ainda que mal te entenda,\n",
        "ainda que mal repitas;\n",
        "ainda que mal insista,\n",
        "ainda que mal desculpes;\n",
        "ainda que mal me exprima,\n",
        "ainda que mal me julgues;\n",
        "ainda que mal me mostre,\n",
        "ainda que mal me vejas;\"\"\"\n",
        "\n",
        "re.findall(r\"ainda que mal\", poema)"
      ],
      "execution_count": null,
      "outputs": [
        {
          "output_type": "execute_result",
          "data": {
            "text/plain": [
              "['ainda que mal',\n",
              " 'ainda que mal',\n",
              " 'ainda que mal',\n",
              " 'ainda que mal',\n",
              " 'ainda que mal',\n",
              " 'ainda que mal',\n",
              " 'ainda que mal',\n",
              " 'ainda que mal',\n",
              " 'ainda que mal']"
            ]
          },
          "metadata": {},
          "execution_count": 19
        }
      ]
    },
    {
      "cell_type": "markdown",
      "metadata": {
        "id": "kKm_7TcKeDHD"
      },
      "source": [
        "**Disjunção**\n",
        "\n",
        "Busca por todas as sequências de caracteres `ainda que mal` com a primeira letra maiúscula e minúscula."
      ]
    },
    {
      "cell_type": "code",
      "metadata": {
        "colab": {
          "base_uri": "https://localhost:8080/"
        },
        "id": "u_oqPRjTc5GV",
        "outputId": "fc2d0358-b4b9-4582-c2d0-e0cff3881262"
      },
      "source": [
        "import re\n",
        "\n",
        "poema = \"\"\"Ainda que mal pergunte,\n",
        "ainda que mal respondas;\n",
        "ainda que mal te entenda,\n",
        "ainda que mal repitas;\n",
        "ainda que mal insista,\n",
        "ainda que mal desculpes;\n",
        "ainda que mal me exprima,\n",
        "ainda que mal me julgues;\n",
        "ainda que mal me mostre,\n",
        "ainda que mal me vejas;\"\"\"\n",
        "\n",
        "re.findall(r\"[Aa]inda que mal\", poema)"
      ],
      "execution_count": null,
      "outputs": [
        {
          "output_type": "execute_result",
          "data": {
            "text/plain": [
              "['Ainda que mal',\n",
              " 'ainda que mal',\n",
              " 'ainda que mal',\n",
              " 'ainda que mal',\n",
              " 'ainda que mal',\n",
              " 'ainda que mal',\n",
              " 'ainda que mal',\n",
              " 'ainda que mal',\n",
              " 'ainda que mal',\n",
              " 'ainda que mal']"
            ]
          },
          "metadata": {},
          "execution_count": 20
        }
      ]
    },
    {
      "cell_type": "markdown",
      "metadata": {
        "id": "1r9C4A_6fiE-"
      },
      "source": [
        "**Disjunção e Intervalos**\n",
        "\n",
        "Busca de todos os dígitos na descrição de dois produtos eletrônicos."
      ]
    },
    {
      "cell_type": "code",
      "metadata": {
        "colab": {
          "base_uri": "https://localhost:8080/"
        },
        "id": "cvdVI7POeP0j",
        "outputId": "dc21931a-ef52-4889-817c-1a5ad789584f"
      },
      "source": [
        "import re\n",
        "\n",
        "descricao = \"\"\"Smart TV LED 43\" LG 43UJ6525 Ultra HD 4K com Conversor Digital 4 HDMI 2 USB WebOS 3.5 Painel Ips HDR e Magic Mobile Connection\n",
        "Smartphone Motorola Moto G 5S Dual Chip Android 7.1.1 Nougat Tela 5.2\" Snapdragon 430 32GB 4G Câmera 16MP - Platinum\"\"\"\n",
        "\n",
        "print(re.findall(r\"[0-9]\", descricao))"
      ],
      "execution_count": null,
      "outputs": [
        {
          "output_type": "stream",
          "name": "stdout",
          "text": [
            "['4', '3', '4', '3', '6', '5', '2', '5', '4', '4', '2', '3', '5', '5', '7', '1', '1', '5', '2', '4', '3', '0', '3', '2', '4', '1', '6']\n"
          ]
        }
      ]
    },
    {
      "cell_type": "markdown",
      "metadata": {
        "id": "4qdMtjZqQZbV"
      },
      "source": [
        "Busca de todos os caracteres maiúsculos na descrição de dois produtos eletrônicos."
      ]
    },
    {
      "cell_type": "code",
      "metadata": {
        "colab": {
          "base_uri": "https://localhost:8080/"
        },
        "id": "Vbdo4X7AOm1T",
        "outputId": "cc6a7793-1078-45d1-c64b-0719a7f1fee8"
      },
      "source": [
        "import re\n",
        "\n",
        "descricao = \"\"\"Smart TV LED 43\" LG 43UJ6525 Ultra HD 4K com Conversor Digital 4 HDMI 2 USB WebOS 3.5 Painel Ips HDR e Magic Mobile Connection\n",
        "Smartphone Motorola Moto G 5S Dual Chip Android 7.1.1 Nougat Tela 5.2\" Snapdragon 430 32GB 4G Câmera 16MP - Platinum\"\"\"\n",
        "\n",
        "print(re.findall(r\"[A-Z]\", descricao))"
      ],
      "execution_count": null,
      "outputs": [
        {
          "output_type": "stream",
          "name": "stdout",
          "text": [
            "['S', 'T', 'V', 'L', 'E', 'D', 'L', 'G', 'U', 'J', 'U', 'H', 'D', 'K', 'C', 'D', 'H', 'D', 'M', 'I', 'U', 'S', 'B', 'W', 'O', 'S', 'P', 'I', 'H', 'D', 'R', 'M', 'M', 'C', 'S', 'M', 'M', 'G', 'S', 'D', 'C', 'A', 'N', 'T', 'S', 'G', 'B', 'G', 'C', 'M', 'P', 'P']\n"
          ]
        }
      ]
    },
    {
      "cell_type": "markdown",
      "metadata": {
        "id": "mvZi07csg1_3"
      },
      "source": [
        "**Negação na Disjunção**\n",
        "\n",
        "Busca de todos os elementos exceto caracteres minúsculos no trecho do poema \"Ofertas de Aninha (Aos moços)\" de Cora Coralina."
      ]
    },
    {
      "cell_type": "code",
      "metadata": {
        "colab": {
          "base_uri": "https://localhost:8080/"
        },
        "id": "sx6EySCNf1GZ",
        "outputId": "083d67cc-5bf4-4e99-d43f-bc826c27f49c"
      },
      "source": [
        "import re\n",
        "\n",
        "poema = \"\"\"Eu sou aquela mulher\n",
        "a quem o tempo\n",
        "muito ensinou.\n",
        "Ensinou a amar a vida.\n",
        "Não desistir da luta.\n",
        "Recomeçar na derrota.\"\"\"\n",
        "\n",
        "print(re.findall(r\"[^a-z]\", poema))"
      ],
      "execution_count": null,
      "outputs": [
        {
          "output_type": "stream",
          "name": "stdout",
          "text": [
            "['E', ' ', ' ', ' ', '\\n', ' ', ' ', ' ', '\\n', ' ', '.', '\\n', 'E', ' ', ' ', ' ', ' ', '.', '\\n', 'N', 'ã', ' ', ' ', ' ', '.', '\\n', 'R', 'ç', ' ', ' ', '.']\n"
          ]
        }
      ]
    },
    {
      "cell_type": "markdown",
      "metadata": {
        "id": "ShMf24kXQh9P"
      },
      "source": [
        "Busca pelo padrão `a^2` numa equação."
      ]
    },
    {
      "cell_type": "code",
      "metadata": {
        "colab": {
          "base_uri": "https://localhost:8080/"
        },
        "id": "dlL8WCY5Ovh7",
        "outputId": "a67b88a3-f3f2-428c-894d-8f820f99db89"
      },
      "source": [
        "import re\n",
        "\n",
        "equacao = \"\"\"a + b = 4\n",
        "a^2 = 9\n",
        "b = 1\"\"\"\n",
        "\n",
        "re.findall(r\"a\\^2\", equacao)"
      ],
      "execution_count": null,
      "outputs": [
        {
          "output_type": "execute_result",
          "data": {
            "text/plain": [
              "['a^2']"
            ]
          },
          "metadata": {},
          "execution_count": 26
        }
      ]
    },
    {
      "cell_type": "markdown",
      "metadata": {
        "id": "S53JxRvgiP78"
      },
      "source": [
        "**Múltiplos Padrões de Busca**\n",
        "\n",
        "Busca de todas as sequências `pedra`, `Tinha` ou `tinha`."
      ]
    },
    {
      "cell_type": "code",
      "metadata": {
        "colab": {
          "base_uri": "https://localhost:8080/"
        },
        "id": "8-wr7H1jhB8S",
        "outputId": "5479dff1-0e63-462e-cd88-5c367d71a828"
      },
      "source": [
        "import re\n",
        "\n",
        "poema = \"\"\"No meio do caminho tinha uma pedra\n",
        "Tinha uma pedra no meio do caminho\n",
        "Tinha uma pedra\n",
        "No meio do caminho tinha uma pedra\"\"\"\n",
        "\n",
        "re.findall(r\"pedra|[Tt]inha\", poema)"
      ],
      "execution_count": null,
      "outputs": [
        {
          "output_type": "execute_result",
          "data": {
            "text/plain": [
              "['tinha', 'pedra', 'Tinha', 'pedra', 'Tinha', 'pedra', 'tinha', 'pedra']"
            ]
          },
          "metadata": {
            "tags": []
          },
          "execution_count": 15
        }
      ]
    },
    {
      "cell_type": "markdown",
      "metadata": {
        "id": "QiWdxnZgPCoz"
      },
      "source": [
        "**Marcador de Início e Fim de Linha**\n",
        "\n",
        "Busca por todos `No` em início de documento.\n"
      ]
    },
    {
      "cell_type": "code",
      "metadata": {
        "colab": {
          "base_uri": "https://localhost:8080/"
        },
        "id": "LcFV-J6QPGyw",
        "outputId": "864bdef8-0923-45d0-e265-8af7db317ea3"
      },
      "source": [
        "import re\n",
        "\n",
        "poema = \"\"\"No meio do caminho tinha uma pedra\n",
        "Tinha uma pedra no meio do caminho\n",
        "Tinha uma pedra\n",
        "No meio do caminho tinha uma pedra\"\"\"\n",
        "\n",
        "re.findall(r\"^No\", poema)"
      ],
      "execution_count": null,
      "outputs": [
        {
          "output_type": "execute_result",
          "data": {
            "text/plain": [
              "['No']"
            ]
          },
          "metadata": {},
          "execution_count": 27
        }
      ]
    },
    {
      "cell_type": "markdown",
      "metadata": {
        "id": "smBTbAQvQ7QT"
      },
      "source": [
        "Busca por todos `pedra` no término de documento\n"
      ]
    },
    {
      "cell_type": "code",
      "metadata": {
        "colab": {
          "base_uri": "https://localhost:8080/"
        },
        "id": "eE7FRb2JPMlY",
        "outputId": "ae64f6ed-c9cf-46e1-a7d0-01a50108a9f1"
      },
      "source": [
        "import re\n",
        "\n",
        "poema = \"\"\"No meio do caminho tinha uma pedra\n",
        "Tinha uma pedra no meio do caminho\n",
        "Tinha uma pedra\n",
        "No meio do caminho tinha uma pedra\"\"\"\n",
        "\n",
        "re.findall(r\"pedra$\", poema)"
      ],
      "execution_count": null,
      "outputs": [
        {
          "output_type": "execute_result",
          "data": {
            "text/plain": [
              "['pedra']"
            ]
          },
          "metadata": {},
          "execution_count": 28
        }
      ]
    },
    {
      "cell_type": "markdown",
      "metadata": {
        "id": "IDRSQTh8Q_Tg"
      },
      "source": [
        "Busca por todos `No` em início de documento e `pedra` no término de documento\n"
      ]
    },
    {
      "cell_type": "code",
      "metadata": {
        "id": "o3MwV5o0RDWe",
        "colab": {
          "base_uri": "https://localhost:8080/"
        },
        "outputId": "7f498cf3-346d-4a42-944f-ec94dc141c15"
      },
      "source": [
        "import re\n",
        "\n",
        "poema = \"\"\"No meio do caminho tinha uma pedra\n",
        "Tinha uma pedra no meio do caminho\n",
        "Tinha uma pedra\n",
        "No meio do caminho tinha uma pedra\"\"\"\n",
        "\n",
        "re.findall(r\"^No|pedra$\", poema)"
      ],
      "execution_count": null,
      "outputs": [
        {
          "output_type": "execute_result",
          "data": {
            "text/plain": [
              "['No', 'pedra']"
            ]
          },
          "metadata": {},
          "execution_count": 29
        }
      ]
    },
    {
      "cell_type": "markdown",
      "metadata": {
        "id": "GSYJl-vCPRUo"
      },
      "source": [
        "**Marcador de Palavra**\n",
        "\n",
        "Todas ocorrências do artigo definido feminino singular no poema \"Acreditei que se amasse de novo\" de Ana Cristina Cesar."
      ]
    },
    {
      "cell_type": "code",
      "metadata": {
        "colab": {
          "base_uri": "https://localhost:8080/"
        },
        "id": "iXtye8cgPTdH",
        "outputId": "9347cb11-6010-44ac-e86c-220140babdfe"
      },
      "source": [
        "import re\n",
        "\n",
        "poema =  \"\"\"esqueceria outros\n",
        "pelo menos três ou quatro rostos que amei\n",
        "Num delírio de arquivística\n",
        "organizei a memória em alfabetos\n",
        "como quem conta carneiros e amansa\n",
        "no entanto flanco aberto não esqueço\n",
        "e amo em ti os outros rostos\"\"\"\n",
        "\n",
        "re.findall(r\"\\b[Aa]\\b\", poema)"
      ],
      "execution_count": null,
      "outputs": [
        {
          "output_type": "execute_result",
          "data": {
            "text/plain": [
              "['a']"
            ]
          },
          "metadata": {},
          "execution_count": 30
        }
      ]
    },
    {
      "cell_type": "markdown",
      "metadata": {
        "id": "60Q6_jI_r-vK"
      },
      "source": [
        "**Quantificadores**\n",
        "\n",
        "Expressão regular para detecção de números de contas no padrão 3 caracteres maiúsculos + 4 dígitos."
      ]
    },
    {
      "cell_type": "code",
      "metadata": {
        "colab": {
          "base_uri": "https://localhost:8080/"
        },
        "id": "a81586ydibZ5",
        "outputId": "05f45cf2-135e-45dc-f8d6-a8f32823b2f9"
      },
      "source": [
        "import re\n",
        "\n",
        "fala = \"\"\"Pode checar a conta ABC4323?\n",
        "Emitir segunda via do boleto de Dezembro da conta YIC9834.\n",
        "Meu nome é Thiago, portador da conta NHD8432. Quantos créditos tenho?\"\"\"\n",
        "\n",
        "re.findall(r\"\\b[A-Z]{3}[0-9]{4}\\b\", fala)"
      ],
      "execution_count": null,
      "outputs": [
        {
          "output_type": "execute_result",
          "data": {
            "text/plain": [
              "['ABC4323', 'YIC9834', 'NHD8432']"
            ]
          },
          "metadata": {},
          "execution_count": 31
        }
      ]
    },
    {
      "cell_type": "markdown",
      "metadata": {
        "id": "_IZJ94fJPgXe"
      },
      "source": [
        "Expressão regular para detecção de CEPs.\n"
      ]
    },
    {
      "cell_type": "code",
      "metadata": {
        "colab": {
          "base_uri": "https://localhost:8080/"
        },
        "id": "esQGAsZBsOlt",
        "outputId": "c2c594be-4956-4588-feaf-6b0801e24f0b"
      },
      "source": [
        "import re\n",
        "\n",
        "numeros = \"\"\"+55 11 98533-4532\n",
        "02127-090\n",
        "02184-746\n",
        "11 94739-0927\n",
        "93849-8732\n",
        "04532-828\"\"\"\n",
        "\n",
        "re.findall(r\"\\b[0-9]{5}-[0-9]{3}\\b\", numeros)"
      ],
      "execution_count": null,
      "outputs": [
        {
          "output_type": "execute_result",
          "data": {
            "text/plain": [
              "['02127-090', '02184-746', '04532-828']"
            ]
          },
          "metadata": {},
          "execution_count": 32
        }
      ]
    },
    {
      "cell_type": "markdown",
      "metadata": {
        "id": "ZrYXFCLeu2fC"
      },
      "source": [
        "**Agrupamento**\n",
        "\n",
        "Detecção de padrões de riso em mensagens textuais."
      ]
    },
    {
      "cell_type": "code",
      "metadata": {
        "colab": {
          "base_uri": "https://localhost:8080/"
        },
        "id": "miuDnSipsuqm",
        "outputId": "b07f6cb2-42c6-4357-8a71-022f7179abcf"
      },
      "source": [
        "import re\n",
        "\n",
        "amostras = \"\"\"Hahahahaha\n",
        "Huahuahuahuahua\n",
        "Haha\n",
        "kkkk\n",
        "hahahahahaha\n",
        "\"\"\"\n",
        "\n",
        "regex = re.compile(r\"k+|([Hh]a)+|([Hh]ua)+\")\n",
        "iterador = regex.finditer(amostras)\n",
        "\n",
        "for ex in iterador:\n",
        "  inicio, fim = ex.span()\n",
        "  print(inicio, fim, amostras[inicio:fim])"
      ],
      "execution_count": null,
      "outputs": [
        {
          "output_type": "stream",
          "name": "stdout",
          "text": [
            "0 10 Hahahahaha\n",
            "11 26 Huahuahuahuahua\n",
            "27 31 Haha\n",
            "32 36 kkkk\n",
            "37 49 hahahahahaha\n"
          ]
        }
      ]
    },
    {
      "cell_type": "markdown",
      "metadata": {
        "id": "g596zaAGxBbv"
      },
      "source": [
        "**Substituição**\n",
        "\n",
        "Substituição das pontuações do texto por um caractere vazio."
      ]
    },
    {
      "cell_type": "code",
      "metadata": {
        "colab": {
          "base_uri": "https://localhost:8080/"
        },
        "id": "SeNfZBiXwene",
        "outputId": "1bb31072-d706-4cd2-ca0c-dce4ac7b1623"
      },
      "source": [
        "import re\n",
        "\n",
        "texto = \"\"\"Reconheço que tomei decisões insatisfatórias recentemente,\n",
        "mas posso lhe garantir com absoluta certeza que meu trabalho voltará\n",
        "ao normal.\"\"\"\n",
        "\n",
        "print(re.sub(r\"[,;.!?:]\", \"\", texto))"
      ],
      "execution_count": null,
      "outputs": [
        {
          "output_type": "stream",
          "name": "stdout",
          "text": [
            "Reconheço que tomei decisões insatisfatórias recentemente\n",
            "mas posso lhe garantir com absoluta certeza que meu trabalho voltará\n",
            "ao normal\n"
          ]
        }
      ]
    },
    {
      "cell_type": "markdown",
      "metadata": {
        "id": "qdIGvNlNx8hL"
      },
      "source": [
        "**Memória**\n",
        "\n",
        "Inserção de um espaço antes das pontuações `,;.!?:`"
      ]
    },
    {
      "cell_type": "code",
      "metadata": {
        "colab": {
          "base_uri": "https://localhost:8080/"
        },
        "id": "u4XWMGqdxeFw",
        "outputId": "e554f9b2-26f3-47b5-b947-4bbf0cfd5553"
      },
      "source": [
        "import re\n",
        "\n",
        "texto = \"\"\"Reconheço que tomei decisões insatisfatórias recentemente,\n",
        "mas posso lhe garantir com absoluta certeza que meu trabalho voltará\n",
        "ao normal.\"\"\"\n",
        "\n",
        "print(re.sub(r'([,;.!?:])', r' \\1', texto))"
      ],
      "execution_count": null,
      "outputs": [
        {
          "output_type": "stream",
          "name": "stdout",
          "text": [
            "Reconheço que tomei decisões insatisfatórias recentemente ,\n",
            "mas posso lhe garantir com absoluta certeza que meu trabalho voltará\n",
            "ao normal .\n"
          ]
        }
      ]
    },
    {
      "cell_type": "markdown",
      "metadata": {
        "id": "mjvWB-dnQEy2"
      },
      "source": [
        "Detecção de CEPs e inversão de seus grupos antes e depois do hífen, utilizando a funcionalidade de memória."
      ]
    },
    {
      "cell_type": "code",
      "metadata": {
        "colab": {
          "base_uri": "https://localhost:8080/",
          "height": 55
        },
        "id": "ktqVfmoByaQZ",
        "outputId": "f2ce8649-5a9f-4dc7-f528-381eccc06e9f"
      },
      "source": [
        "import re\n",
        "\n",
        "cep = \"02125-000\"\n",
        "\n",
        "re.sub(r\"([0-9]{5})-([0-9]{3})\", r\"\\2-\\1\", cep)"
      ],
      "execution_count": null,
      "outputs": [
        {
          "output_type": "execute_result",
          "data": {
            "text/plain": [
              "'000-02125'"
            ],
            "application/vnd.google.colaboratory.intrinsic+json": {
              "type": "string"
            }
          },
          "metadata": {},
          "execution_count": 36
        }
      ]
    },
    {
      "cell_type": "markdown",
      "source": [
        "**Exercício**\n",
        "\n",
        "---\n",
        "\n"
      ],
      "metadata": {
        "id": "4e7i_ih4lXnP"
      }
    },
    {
      "cell_type": "markdown",
      "source": [
        "Expressões Regulares foram a essência dos primeiros mecanismos de busca da Internet. Neste exercício, você deve criar uma função **Python** `busca` que funcione como estes mecanismos. A função deve receber dois parâmetros de entrada: `query`, que representa uma lista de palavras de busca; e `documentos`, que representa uma lista de documentos textuais indexados pelo mecanismo de busca. Com base nestes parâmetros, a função deve retornar todos os textos de `documentos` que contenham todas as palavras da `query`.\n"
      ],
      "metadata": {
        "id": "IQSOW81Ulcx9"
      }
    },
    {
      "cell_type": "code",
      "source": [
        "import re\n",
        "\n",
        "def busca(query, documentos):\n",
        "    # converte as palavras da query em uma lista de padroes regex\n",
        "    patterns = [re.compile(r'\\b' + re.escape(palavra) + r'\\b', re.IGNORECASE) for palavra in query]\n",
        "\n",
        "    # funcao para verificar se todas as palavras da query estao presentes no documento\n",
        "    def contem_todas_as_palavras(documento):\n",
        "        return all(pattern.search(documento) for pattern in patterns)\n",
        "\n",
        "    # filtra e retorna os documentos que contem todas as palavras da query\n",
        "    return [doc for doc in documentos if contem_todas_as_palavras(doc)]"
      ],
      "metadata": {
        "id": "I1Ljicb9mtVS"
      },
      "execution_count": null,
      "outputs": []
    },
    {
      "cell_type": "code",
      "source": [
        "# Exemplo de uso\n",
        "query = [\"python\", \"código\"]\n",
        "documentos = [\n",
        "    \"Este é um código em python\",\n",
        "    \"Outro documento com código em python\",\n",
        "    \"Documento sem as palavras chave\",\n",
        "    \"Este documento contém a palavra código mas não python\"\n",
        "]\n",
        "\n",
        "resultados = busca(query, documentos)\n",
        "print(resultados)"
      ],
      "metadata": {
        "colab": {
          "base_uri": "https://localhost:8080/"
        },
        "id": "VOUGy6QimvHZ",
        "outputId": "2894bd28-f09c-466b-ed46-c4853cf357f4"
      },
      "execution_count": null,
      "outputs": [
        {
          "output_type": "stream",
          "name": "stdout",
          "text": [
            "['Este é um código em python', 'Outro documento com código em python', 'Este documento contém a palavra código mas não python']\n"
          ]
        }
      ]
    },
    {
      "cell_type": "markdown",
      "source": [
        "**Referência:**\n",
        "\n",
        "\n",
        "Prof. Thiago Castro Ferreira (UFMG)\n",
        "\n",
        "![image.png](data:image/png;base64,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)\n"
      ],
      "metadata": {
        "id": "OK3Hhv-YTXwO"
      }
    },
    {
      "cell_type": "code",
      "source": [
        "from IPython import display\n",
        "\n",
        "display.YouTubeVideo('QIbUCheDyro')\n"
      ],
      "metadata": {
        "colab": {
          "base_uri": "https://localhost:8080/",
          "height": 341
        },
        "id": "6EzpDUaVVTzq",
        "outputId": "0324a37a-d3be-4849-9ea2-471d8ce8b194"
      },
      "execution_count": null,
      "outputs": [
        {
          "output_type": "execute_result",
          "data": {
            "text/plain": [
              "<IPython.lib.display.YouTubeVideo at 0x7b38fc7468f0>"
            ],
            "text/html": [
              "\n",
              "        <iframe\n",
              "            width=\"400\"\n",
              "            height=\"300\"\n",
              "            src=\"https://www.youtube.com/embed/QIbUCheDyro\"\n",
              "            frameborder=\"0\"\n",
              "            allowfullscreen\n",
              "            \n",
              "        ></iframe>\n",
              "        "
            ],
            "image/jpeg": "[encoded data removed]"
          },
          "metadata": {},
          "execution_count": 10
        }
      ]
    }
  ],
  "metadata": {
    "colab": {
      "provenance": [],
      "authorship_tag": "ABX9TyN/OC/+KiK0ScnW8r5qDIKP",
      "include_colab_link": true
    },
    "kernelspec": {
      "display_name": "Python 3",
      "name": "python3"
    }
  },
  "nbformat": 4,
  "nbformat_minor": 0
}