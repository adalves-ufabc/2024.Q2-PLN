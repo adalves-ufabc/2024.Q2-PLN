{
  "cells": [
    {
      "cell_type": "markdown",
      "metadata": {
        "id": "view-in-github",
        "colab_type": "text"
      },
      "source": [
        "<a href=\"https://colab.research.google.com/github/adalves-ufabc/2024.Q2-PLN/blob/main/2024_Q2_PLN_AULA_14_Notebook_29.ipynb\" target=\"_parent\"><img src=\"https://colab.research.google.com/assets/colab-badge.svg\" alt=\"Open In Colab\"/></a>"
      ]
    },
    {
      "cell_type": "markdown",
      "metadata": {
        "id": "Y6QILOdpOjwv"
      },
      "source": [
        "# **Processamento de Linguagem Natural [2024-Q2]**\n",
        "Prof. Alexandre Donizeti Alves"
      ]
    },
    {
      "cell_type": "markdown",
      "metadata": {
        "id": "nmK05FgcOzL2"
      },
      "source": [
        "## **Classificação de Textos e Análise de Sentimentos**\n",
        "---\n",
        "\n"
      ]
    },
    {
      "cell_type": "markdown",
      "source": [
        "A **Classificação de Textos** é uma técnica de PLN que envolve a categorização automática de textos em classes ou rótulos predefinidos com base em seu conteúdo. O objetivo é atribuir um texto a uma ou mais categorias específicas de forma que o texto seja identificado e agrupado conforme suas características e tópicos.\n",
        "\n",
        "Essa técnica é amplamente utilizada em diversas aplicações, como:\n",
        "\n",
        "- **Filtragem de Spam:** identificar e classificar e-mails como spam ou não spam.\n",
        "- **Análise de Sentimento:** classificar textos em categorias como positivo, negativo ou neutro para entender o sentimento expresso.\n",
        "- **Classificação de Documentos:** categorizar documentos em diferentes tópicos ou áreas de interesse, como notícias, esportes ou tecnologia.\n",
        "- **Rotulagem de Dados:** atribuir *tags* a conteúdos com base em temas ou interesses."
      ],
      "metadata": {
        "id": "weHyVkwemRbE"
      }
    },
    {
      "cell_type": "markdown",
      "source": [
        "**Análise de Sentimentos** é uma técnica de PLN que visa identificar e extrair opiniões e emoções expressas em um texto. O objetivo é entender a atitude do autor em relação a um determinado assunto, produto ou serviço, determinando se o sentimento expresso é positivo, negativo ou neutro.\n",
        "\n",
        "**Tipos de Análise de Sentimentos:**\n",
        "\n",
        "1. **Análise Binária:**\n",
        "   - **Positivo vs. Negativo:** classifica o texto como positivo ou negativo, sem considerar nuances adicionais.\n",
        "\n",
        "2. **Análise de Polaridade:**\n",
        "   - **Positivo, Negativo e Neutro:** identifica se o sentimento é positivo, negativo ou neutro, permitindo uma visão mais equilibrada.\n",
        "\n",
        "3. **Análise de Escala (ou Gradual):**\n",
        "   - **Escalas de Intensidade:** avalia o grau de sentimento, como muito positivo, positivo, neutro, negativo e muito negativo. Pode fornecer uma análise mais detalhada sobre a intensidade do sentimento.\n",
        "\n",
        "4. **Análise baseada em Aspectos:**\n",
        "   - **Aspectos Específicos:** identifica sentimentos em relação a diferentes aspectos de um produto ou serviço, como qualidade, preço, atendimento ao cliente etc. Isso ajuda a entender quais áreas são mais valorizadas ou criticadas.\n",
        "\n",
        "5. **Detecção de Emoções:**\n",
        "   - **Identificação de Emoções Específicas:** classifica o texto com base em emoções específicas, como alegria, tristeza, raiva, surpresa etc. Fornece uma visão mais detalhada do estado emocional expresso.\n",
        "\n",
        "Cada tipo de análise de sentimentos tem suas aplicações e pode ser escolhida com base nas necessidades específicas da análise e na complexidade dos dados textuais."
      ],
      "metadata": {
        "id": "t9U8FGi7nAz0"
      }
    },
    {
      "cell_type": "markdown",
      "source": [
        "#### **LangChain**"
      ],
      "metadata": {
        "id": "fw0N-eZ4mTYG"
      }
    },
    {
      "cell_type": "code",
      "execution_count": null,
      "metadata": {
        "id": "cYKEbnlNTVlR",
        "colab": {
          "base_uri": "https://localhost:8080/"
        },
        "outputId": "a1da02f8-a259-4eb4-c5d5-0f8a9cdc7a2d"
      },
      "outputs": [
        {
          "output_type": "stream",
          "name": "stdout",
          "text": [
            "\u001b[2K     \u001b[90m━━━━━━━━━━━━━━━━━━━━━━━━━━━━━━━━━━━━━━━━\u001b[0m \u001b[32m50.4/50.4 kB\u001b[0m \u001b[31m705.3 kB/s\u001b[0m eta \u001b[36m0:00:00\u001b[0m\n",
            "\u001b[2K   \u001b[90m━━━━━━━━━━━━━━━━━━━━━━━━━━━━━━━━━━━━━━━━\u001b[0m \u001b[32m997.8/997.8 kB\u001b[0m \u001b[31m18.3 MB/s\u001b[0m eta \u001b[36m0:00:00\u001b[0m\n",
            "\u001b[2K   \u001b[90m━━━━━━━━━━━━━━━━━━━━━━━━━━━━━━━━━━━━━━━━\u001b[0m \u001b[32m384.8/384.8 kB\u001b[0m \u001b[31m13.5 MB/s\u001b[0m eta \u001b[36m0:00:00\u001b[0m\n",
            "\u001b[2K   \u001b[90m━━━━━━━━━━━━━━━━━━━━━━━━━━━━━━━━━━━━━━━━\u001b[0m \u001b[32m140.4/140.4 kB\u001b[0m \u001b[31m7.8 MB/s\u001b[0m eta \u001b[36m0:00:00\u001b[0m\n",
            "\u001b[2K   \u001b[90m━━━━━━━━━━━━━━━━━━━━━━━━━━━━━━━━━━━━━━━━\u001b[0m \u001b[32m141.9/141.9 kB\u001b[0m \u001b[31m2.4 MB/s\u001b[0m eta \u001b[36m0:00:00\u001b[0m\n",
            "\u001b[?25h"
          ]
        }
      ],
      "source": [
        "#@title Instalando o pacote LangChain\n",
        "!pip install -qU langchain"
      ]
    },
    {
      "cell_type": "code",
      "execution_count": null,
      "metadata": {
        "colab": {
          "base_uri": "https://localhost:8080/"
        },
        "id": "hJvs5RTcbE64",
        "outputId": "f893d94e-801d-4e5f-9d47-9620f74bca24"
      },
      "outputs": [
        {
          "output_type": "stream",
          "name": "stdout",
          "text": [
            "0.2.13\n"
          ]
        }
      ],
      "source": [
        "#@title Versão do LangChain\n",
        "\n",
        "import langchain\n",
        "\n",
        "print(langchain.__version__)"
      ]
    },
    {
      "cell_type": "code",
      "source": [
        "#@title Integração com o pacote da OpenAI\n",
        "\n",
        "!pip install -qU langchain-openai"
      ],
      "metadata": {
        "id": "8klfbjqKbUpp",
        "colab": {
          "base_uri": "https://localhost:8080/"
        },
        "outputId": "47f092c5-9ade-4a49-cedf-5715423521e5"
      },
      "execution_count": null,
      "outputs": [
        {
          "output_type": "stream",
          "name": "stdout",
          "text": [
            "\u001b[?25l   \u001b[90m━━━━━━━━━━━━━━━━━━━━━━━━━━━━━━━━━━━━━━━━\u001b[0m \u001b[32m0.0/49.8 kB\u001b[0m \u001b[31m?\u001b[0m eta \u001b[36m-:--:--\u001b[0m\r\u001b[2K   \u001b[90m━━━━━━━━━━━━━━━━━━━━━━━━━━━━━━━━━━━━━━━━\u001b[0m \u001b[32m49.8/49.8 kB\u001b[0m \u001b[31m3.2 MB/s\u001b[0m eta \u001b[36m0:00:00\u001b[0m\n",
            "\u001b[?25h\u001b[?25l   \u001b[90m━━━━━━━━━━━━━━━━━━━━━━━━━━━━━━━━━━━━━━━━\u001b[0m \u001b[32m0.0/361.3 kB\u001b[0m \u001b[31m?\u001b[0m eta \u001b[36m-:--:--\u001b[0m\r\u001b[2K   \u001b[90m━━━━━━━━━━━━━━━━━━━━━━━━━━━━━━━━━━━━━━━━\u001b[0m \u001b[32m361.3/361.3 kB\u001b[0m \u001b[31m19.0 MB/s\u001b[0m eta \u001b[36m0:00:00\u001b[0m\n",
            "\u001b[?25h\u001b[?25l   \u001b[90m━━━━━━━━━━━━━━━━━━━━━━━━━━━━━━━━━━━━━━━━\u001b[0m \u001b[32m0.0/1.1 MB\u001b[0m \u001b[31m?\u001b[0m eta \u001b[36m-:--:--\u001b[0m\r\u001b[2K   \u001b[90m━━━━━━━━━━━━━━━━━━━━━━━━━━━━━━━━━━━━━━━━\u001b[0m \u001b[32m1.1/1.1 MB\u001b[0m \u001b[31m45.4 MB/s\u001b[0m eta \u001b[36m0:00:00\u001b[0m\n",
            "\u001b[?25h\u001b[?25l   \u001b[90m━━━━━━━━━━━━━━━━━━━━━━━━━━━━━━━━━━━━━━━━\u001b[0m \u001b[32m0.0/75.6 kB\u001b[0m \u001b[31m?\u001b[0m eta \u001b[36m-:--:--\u001b[0m\r\u001b[2K   \u001b[90m━━━━━━━━━━━━━━━━━━━━━━━━━━━━━━━━━━━━━━━━\u001b[0m \u001b[32m75.6/75.6 kB\u001b[0m \u001b[31m4.5 MB/s\u001b[0m eta \u001b[36m0:00:00\u001b[0m\n",
            "\u001b[?25h\u001b[?25l   \u001b[90m━━━━━━━━━━━━━━━━━━━━━━━━━━━━━━━━━━━━━━━━\u001b[0m \u001b[32m0.0/77.9 kB\u001b[0m \u001b[31m?\u001b[0m eta \u001b[36m-:--:--\u001b[0m\r\u001b[2K   \u001b[90m━━━━━━━━━━━━━━━━━━━━━━━━━━━━━━━━━━━━━━━━\u001b[0m \u001b[32m77.9/77.9 kB\u001b[0m \u001b[31m5.0 MB/s\u001b[0m eta \u001b[36m0:00:00\u001b[0m\n",
            "\u001b[2K   \u001b[90m━━━━━━━━━━━━━━━━━━━━━━━━━━━━━━━━━━━━━━━━\u001b[0m \u001b[32m318.9/318.9 kB\u001b[0m \u001b[31m17.6 MB/s\u001b[0m eta \u001b[36m0:00:00\u001b[0m\n",
            "\u001b[2K   \u001b[90m━━━━━━━━━━━━━━━━━━━━━━━━━━━━━━━━━━━━━━━━\u001b[0m \u001b[32m58.3/58.3 kB\u001b[0m \u001b[31m3.6 MB/s\u001b[0m eta \u001b[36m0:00:00\u001b[0m\n",
            "\u001b[?25h"
          ]
        }
      ]
    },
    {
      "cell_type": "code",
      "execution_count": null,
      "metadata": {
        "colab": {
          "base_uri": "https://localhost:8080/"
        },
        "id": "RM5RnKClbPtQ",
        "outputId": "b1607c10-2d62-4085-fb4b-14d9e2ed5de7"
      },
      "outputs": [
        {
          "name": "stdout",
          "output_type": "stream",
          "text": [
            "··········\n"
          ]
        }
      ],
      "source": [
        "#@title Definindo a chave da API da OpenAI\n",
        "\n",
        "import getpass\n",
        "import os\n",
        "\n",
        "os.environ[\"OPENAI_API_KEY\"] = getpass.getpass()"
      ]
    },
    {
      "cell_type": "markdown",
      "source": [
        "#### **Exemplos**"
      ],
      "metadata": {
        "id": "48inXIgDTxlv"
      }
    },
    {
      "cell_type": "markdown",
      "source": [
        "**Classificar Texto em Rótulos**\n",
        "\n",
        "*Tagging* significa rotular um documento com classes como:\n",
        "\n",
        "- sentimento\n",
        "- idioma\n",
        "- estilo (formal, informal etc.)\n",
        "- tópicos abordados\n",
        "- tendência política"
      ],
      "metadata": {
        "id": "iCjNFEX4DNnR"
      }
    },
    {
      "cell_type": "markdown",
      "source": [
        "![tagging-93990e95451d92b715c2b47066384224.png](data:image/png;base64,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)"
      ],
      "metadata": {
        "id": "dxz-QPeuDuTf"
      }
    },
    {
      "cell_type": "markdown",
      "source": [
        "**Tagging possui alguns componentes:**\n",
        "\n",
        "- **função**: assim como na extração, o *tagging* usa funções para especificar como o modelo deve rotular um documento.\n",
        "- **esquema**: define como queremos rotular o documento."
      ],
      "metadata": {
        "id": "XB8r5D8vDx7k"
      }
    },
    {
      "cell_type": "markdown",
      "source": [
        "Vamos ver um exemplo muito simples de como podemos usar a chamada de ferramenta OpenAI para *tagging* no **LangChain**. Utilizaremos o método `with_structured_output` suportado pelos modelos OpenAI:"
      ],
      "metadata": {
        "id": "04i4-aCkEGqQ"
      }
    },
    {
      "cell_type": "code",
      "source": [
        "from langchain_core.prompts import ChatPromptTemplate\n",
        "from langchain_core.pydantic_v1 import BaseModel, Field\n",
        "from langchain_openai import ChatOpenAI\n",
        "\n",
        "prompt = ChatPromptTemplate.from_template(\n",
        "    \"\"\"\n",
        "Extraia as informações desejadas do seguinte texto.\n",
        "\n",
        "Extraia apenas as propriedades mencionadas na função 'Classificacao'.\n",
        "\n",
        "Texto:\n",
        "{input}\n",
        "\"\"\"\n",
        ")"
      ],
      "metadata": {
        "id": "GhK2nuuaKyLJ"
      },
      "execution_count": null,
      "outputs": []
    },
    {
      "cell_type": "code",
      "source": [
        "class Classificacao(BaseModel):\n",
        "    sentimento: str = Field(description=\"O sentimento do texto\")\n",
        "    agressividade: int = Field(\n",
        "        description=\"O quão agressivo o texto é em uma escala de 1 a 10\"\n",
        "    )\n",
        "    idioma: str = Field(description=\"O idioma em que o texto está escrito\")"
      ],
      "metadata": {
        "id": "QCNJuuhMExoB"
      },
      "execution_count": null,
      "outputs": []
    },
    {
      "cell_type": "code",
      "source": [
        "modelo = ChatOpenAI(temperature=0, model=\"gpt-4o-mini\").with_structured_output(Classificacao)\n",
        "\n",
        "chain = prompt | modelo"
      ],
      "metadata": {
        "id": "s5Gtj8sLFOFL"
      },
      "execution_count": null,
      "outputs": []
    },
    {
      "cell_type": "code",
      "source": [
        "texto = \"Estoy increiblemente contento de haberte conocido! Creo que seremos muy buenos amigos!\"\n",
        "chain.invoke({\"input\": texto})"
      ],
      "metadata": {
        "colab": {
          "base_uri": "https://localhost:8080/"
        },
        "id": "z6r9IYXRNHGh",
        "outputId": "abf0e09b-d1fe-4814-dd73-92ed64464f8c"
      },
      "execution_count": null,
      "outputs": [
        {
          "output_type": "execute_result",
          "data": {
            "text/plain": [
              "Classificacao(sentimento='positivo', agressividade=1, idioma='espanhol')"
            ]
          },
          "metadata": {},
          "execution_count": 9
        }
      ]
    },
    {
      "cell_type": "markdown",
      "source": [
        "Se quisermos a saída em JSON, podemos simplesmente chamar `.dict()`:"
      ],
      "metadata": {
        "id": "gGOjZdAvGJF4"
      }
    },
    {
      "cell_type": "code",
      "source": [
        "texto = \"Estoy muy enojado con vos! Te voy a dar tu merecido!\"\n",
        "\n",
        "resposta = chain.invoke({\"input\": texto})\n",
        "resposta.dict()"
      ],
      "metadata": {
        "colab": {
          "base_uri": "https://localhost:8080/"
        },
        "id": "jK795bFhNNwq",
        "outputId": "bcef46a3-2864-47aa-e01c-9c33b4e2b633"
      },
      "execution_count": null,
      "outputs": [
        {
          "output_type": "execute_result",
          "data": {
            "text/plain": [
              "{'sentimento': 'enojado', 'agressividade': 8, 'idioma': 'espanhol'}"
            ]
          },
          "metadata": {},
          "execution_count": 10
        }
      ]
    },
    {
      "cell_type": "markdown",
      "source": [
        "**Controle mais preciso**\n",
        "\n",
        "Uma definição cuidadosa do esquema nos dá mais controle sobre a saída do modelo.\n",
        "\n",
        "Especificamente, podemos definir:\n",
        "\n",
        "- valores possíveis para cada propriedade\n",
        "- descrição para garantir que o modelo entenda a propriedade\n",
        "- propriedades obrigatórias a serem retornadas\n",
        "\n",
        "Vamos redefinir nosso modelo `Pydantic` para controlar cada um dos aspectos mencionados anteriormente:"
      ],
      "metadata": {
        "id": "n1TdIZe7NiQA"
      }
    },
    {
      "cell_type": "code",
      "source": [
        "class Classificacao(BaseModel):\n",
        "    sentimento: str = Field(..., enum=[\"feliz\", \"neutro\", \"triste\"])\n",
        "    agressividade: int = Field(\n",
        "        ...,\n",
        "        description=\"descreve o quão agressiva é a afirmação; quanto maior o número, mais agressiva\",\n",
        "        enum=[1, 2, 3, 4, 5],\n",
        "    )\n",
        "    idioma: str = Field(\n",
        "        ..., enum=[\"Espanhol\", \"Inglês\", \"Francês\", \"Alemão\", \"Italiano\", \"Português\"]\n",
        "    )"
      ],
      "metadata": {
        "id": "o8Y05_EQNkBA"
      },
      "execution_count": null,
      "outputs": []
    },
    {
      "cell_type": "code",
      "source": [
        "prompt = ChatPromptTemplate.from_template(\n",
        "    \"\"\"\n",
        "Extraia as informações desejadas do seguinte texto.\n",
        "\n",
        "Extraia apenas as propriedades mencionadas na função 'Classificacao'.\n",
        "\n",
        "Texto:\n",
        "{input}\n",
        "\"\"\"\n",
        ")\n",
        "\n",
        "modelo = ChatOpenAI(temperature=0, model=\"gpt-4o-mini\").with_structured_output(Classificacao)\n",
        "\n",
        "chain = prompt | modelo"
      ],
      "metadata": {
        "id": "GRCxMMyjNnai"
      },
      "execution_count": null,
      "outputs": []
    },
    {
      "cell_type": "code",
      "source": [
        "texto = \"Estoy increiblemente contento de haberte conocido! Creo que seremos muy buenos amigos!\"\n",
        "chain.invoke({\"input\": texto})"
      ],
      "metadata": {
        "colab": {
          "base_uri": "https://localhost:8080/"
        },
        "id": "OpGsApD-NqMI",
        "outputId": "2e728ac7-1c86-4945-9e88-e05b6fd271e1"
      },
      "execution_count": null,
      "outputs": [
        {
          "output_type": "execute_result",
          "data": {
            "text/plain": [
              "Classificacao(sentimento='feliz', agressividade=1, idioma='Espanhol')"
            ]
          },
          "metadata": {},
          "execution_count": 14
        }
      ]
    },
    {
      "cell_type": "code",
      "source": [
        "texto = \"Estoy muy enojado con vos! Te voy a dar tu merecido!\"\n",
        "chain.invoke({\"input\": texto})"
      ],
      "metadata": {
        "colab": {
          "base_uri": "https://localhost:8080/"
        },
        "id": "1cS0ZTsYN0b5",
        "outputId": "c9580d20-a304-4381-ecf9-fad3199dd630"
      },
      "execution_count": null,
      "outputs": [
        {
          "output_type": "execute_result",
          "data": {
            "text/plain": [
              "Classificacao(sentimento='triste', agressividade=5, idioma='Espanhol')"
            ]
          },
          "metadata": {},
          "execution_count": 15
        }
      ]
    },
    {
      "cell_type": "code",
      "source": [
        "texto = \"Weather is ok here, I can go outside without much more than a coat\"\n",
        "chain.invoke({\"input\": texto})"
      ],
      "metadata": {
        "colab": {
          "base_uri": "https://localhost:8080/"
        },
        "id": "g0_Nk4pYN4Xk",
        "outputId": "d4ba7602-5e8b-4ae0-c1aa-738c5800f288"
      },
      "execution_count": null,
      "outputs": [
        {
          "output_type": "execute_result",
          "data": {
            "text/plain": [
              "Classificacao(sentimento='neutro', agressividade=1, idioma='Inglês')"
            ]
          },
          "metadata": {},
          "execution_count": 16
        }
      ]
    },
    {
      "cell_type": "code",
      "source": [
        "texto = \"O tempo está bom aqui, eu posso sair sem precisar de mais do que um casaco\"\n",
        "chain.invoke({\"input\": texto})"
      ],
      "metadata": {
        "colab": {
          "base_uri": "https://localhost:8080/"
        },
        "id": "mNIB1wLiHkZo",
        "outputId": "c56de40c-3e53-4696-92d8-910e41560e03"
      },
      "execution_count": null,
      "outputs": [
        {
          "output_type": "execute_result",
          "data": {
            "text/plain": [
              "Classificacao(sentimento='feliz', agressividade=1, idioma='Português')"
            ]
          },
          "metadata": {},
          "execution_count": 17
        }
      ]
    },
    {
      "cell_type": "markdown",
      "source": [
        "***Tagger* de Metadados OpenAI**\n",
        "\n",
        "Pode ser útil rotular documentos ingeridos com metadados estruturados, como o título, tom ou comprimento de um documento, para permitir uma busca por similaridade mais direcionada posteriormente. No entanto, para um grande número de documentos, realizar esse processo de rotulagem manualmente pode ser tedioso.\n",
        "\n",
        "O `OpenAIMetadataTagger` é um transformador de documentos que automatiza esse processo extraindo metadados de cada documento fornecido de acordo com um esquema fornecido.\n",
        "\n",
        "Por exemplo, vamos supor que você queira indexar um conjunto de críticas de filmes. Você poderia inicializar o transformador de documentos com um objeto JSON Schema válido da seguinte forma:"
      ],
      "metadata": {
        "id": "JK2E5nCIOAf8"
      }
    },
    {
      "cell_type": "code",
      "source": [
        "!pip install -qU langchain-community"
      ],
      "metadata": {
        "colab": {
          "base_uri": "https://localhost:8080/"
        },
        "id": "UZoYefrzOQOn",
        "outputId": "f1c6577c-0570-483d-b780-b89893cc7e48"
      },
      "execution_count": null,
      "outputs": [
        {
          "output_type": "stream",
          "name": "stdout",
          "text": [
            "\u001b[?25l   \u001b[90m━━━━━━━━━━━━━━━━━━━━━━━━━━━━━━━━━━━━━━━━\u001b[0m \u001b[32m0.0/2.3 MB\u001b[0m \u001b[31m?\u001b[0m eta \u001b[36m-:--:--\u001b[0m\r\u001b[2K   \u001b[91m━━━━━━━━━━━━━━━━━━━━━━━━━━━━━━━━━━━━━━━\u001b[0m\u001b[91m╸\u001b[0m \u001b[32m2.3/2.3 MB\u001b[0m \u001b[31m127.9 MB/s\u001b[0m eta \u001b[36m0:00:01\u001b[0m\r\u001b[2K   \u001b[90m━━━━━━━━━━━━━━━━━━━━━━━━━━━━━━━━━━━━━━━━\u001b[0m \u001b[32m2.3/2.3 MB\u001b[0m \u001b[31m50.9 MB/s\u001b[0m eta \u001b[36m0:00:00\u001b[0m\n",
            "\u001b[?25h\u001b[?25l   \u001b[90m━━━━━━━━━━━━━━━━━━━━━━━━━━━━━━━━━━━━━━━━\u001b[0m \u001b[32m0.0/49.2 kB\u001b[0m \u001b[31m?\u001b[0m eta \u001b[36m-:--:--\u001b[0m\r\u001b[2K   \u001b[90m━━━━━━━━━━━━━━━━━━━━━━━━━━━━━━━━━━━━━━━━\u001b[0m \u001b[32m49.2/49.2 kB\u001b[0m \u001b[31m3.1 MB/s\u001b[0m eta \u001b[36m0:00:00\u001b[0m\n",
            "\u001b[?25h"
          ]
        }
      ]
    },
    {
      "cell_type": "code",
      "source": [
        "from langchain_community.document_transformers.openai_functions import (\n",
        "    create_metadata_tagger,\n",
        ")\n",
        "from langchain_core.documents import Document\n",
        "from langchain_openai import ChatOpenAI"
      ],
      "metadata": {
        "id": "T8dDjDLtOCZd"
      },
      "execution_count": null,
      "outputs": []
    },
    {
      "cell_type": "code",
      "source": [
        "esquema = {\n",
        "    \"properties\": {\n",
        "        \"titulo_filme\": {\"type\": \"string\"},\n",
        "        \"critico\": {\"type\": \"string\"},\n",
        "        \"tom\": {\"type\": \"string\", \"enum\": [\"positivo\", \"negativo\"]},\n",
        "        \"avaliacao\": {\n",
        "            \"type\": \"integer\",\n",
        "            \"description\": \"O número de estrelas que o crítico deu para o filme\",\n",
        "        },\n",
        "    },\n",
        "    \"required\": [\"titulo_filme\", \"critico\", \"tom\"],\n",
        "}\n",
        "\n",
        "\n",
        "# deve ser um modelo OpenAI que suporte funções\n",
        "modelo = ChatOpenAI(temperature=0, model=\"gpt-4o-mini\")\n",
        "\n",
        "transformador_documento = create_metadata_tagger(metadata_schema = esquema, llm = modelo)"
      ],
      "metadata": {
        "id": "85Y-UvWyOYeX"
      },
      "execution_count": null,
      "outputs": []
    },
    {
      "cell_type": "code",
      "source": [
        "transformador_documento"
      ],
      "metadata": {
        "colab": {
          "base_uri": "https://localhost:8080/"
        },
        "id": "JvjeWxZ3J9xC",
        "outputId": "061dc43c-330a-41eb-cced-ae5c962fd336"
      },
      "execution_count": null,
      "outputs": [
        {
          "output_type": "execute_result",
          "data": {
            "text/plain": [
              "OpenAIMetadataTagger(tagging_chain=LLMChain(prompt=ChatPromptTemplate(input_variables=['input'], messages=[HumanMessagePromptTemplate(prompt=PromptTemplate(input_variables=['input'], template=\"Extract the desired information from the following passage.\\n\\nOnly extract the properties mentioned in the 'information_extraction' function.\\n\\nPassage:\\n{input}\\n\"))]), llm=ChatOpenAI(client=<openai.resources.chat.completions.Completions object at 0x78592cb107c0>, async_client=<openai.resources.chat.completions.AsyncCompletions object at 0x785923f5cdf0>, root_client=<openai.OpenAI object at 0x78592cd066b0>, root_async_client=<openai.AsyncOpenAI object at 0x78592cb10730>, model_name='gpt-4o-mini', temperature=0.0, openai_api_key=SecretStr('**********'), openai_proxy=''), output_parser=JsonOutputFunctionsParser(), llm_kwargs={'functions': [{'name': 'information_extraction', 'description': 'Extracts the relevant information from the passage.', 'parameters': {'type': 'object', 'properties': {'titulo_filme': {'title': 'titulo_filme', 'type': 'string'}, 'critico': {'title': 'critico', 'type': 'string'}, 'tom': {'title': 'tom', 'type': 'string', 'enum': ['positivo', 'negativo']}, 'avaliacao': {'title': 'avaliacao', 'type': 'integer', 'description': 'O número de estrelas que o crítico deu para o filme'}}, 'required': ['titulo_filme', 'critico', 'tom']}}], 'function_call': {'name': 'information_extraction'}}))"
            ]
          },
          "metadata": {},
          "execution_count": 21
        }
      ]
    },
    {
      "cell_type": "markdown",
      "source": [
        "Você pode então simplesmente passar ao transformador de documentos uma lista de documentos, e ele extrairá os metadados do conteúdo:"
      ],
      "metadata": {
        "id": "DkJzOzepJ_SJ"
      }
    },
    {
      "cell_type": "code",
      "source": [
        "documentos = [\n",
        "    Document(\n",
        "        page_content=\"Crítica de The Bee Movie\\nPor Roger Ebert\\n\\nEste é o melhor filme já feito. 4 de 5 estrelas.\"\n",
        "    ),\n",
        "    Document(\n",
        "        page_content=\"Crítica de O Poderoso Chefão\\nPor Anônimo\\n\\nEste filme foi super entediante. 1 de 5 estrelas.\",\n",
        "        metadata={\"confiável\": False},\n",
        "    ),\n",
        "]\n",
        "\n",
        "resposta = transformador_documento.transform_documents(documentos)"
      ],
      "metadata": {
        "id": "AF-1Lb4IOiAE"
      },
      "execution_count": null,
      "outputs": []
    },
    {
      "cell_type": "code",
      "source": [
        "resposta"
      ],
      "metadata": {
        "colab": {
          "base_uri": "https://localhost:8080/"
        },
        "id": "KO31qbKoKdr2",
        "outputId": "0e8ed484-a85c-430e-861c-2e1ec10b603d"
      },
      "execution_count": null,
      "outputs": [
        {
          "output_type": "execute_result",
          "data": {
            "text/plain": [
              "[Document(metadata={'titulo_filme': 'The Bee Movie', 'critico': 'Roger Ebert', 'tom': 'positivo', 'avaliacao': 4}, page_content='Crítica de The Bee Movie\\nPor Roger Ebert\\n\\nEste é o melhor filme já feito. 4 de 5 estrelas.'),\n",
              " Document(metadata={'titulo_filme': 'O Poderoso Chefão', 'critico': 'Anônimo', 'tom': 'negativo', 'avaliacao': 1, 'confiável': False}, page_content='Crítica de O Poderoso Chefão\\nPor Anônimo\\n\\nEste filme foi super entediante. 1 de 5 estrelas.')]"
            ]
          },
          "metadata": {},
          "execution_count": 23
        }
      ]
    },
    {
      "cell_type": "code",
      "source": [
        "import json\n",
        "\n",
        "print(\n",
        "    *[d.page_content + \"\\n\\n\" + json.dumps(d.metadata) for d in resposta],\n",
        "    sep=\"\\n\\n---------------\\n\\n\",\n",
        ")"
      ],
      "metadata": {
        "colab": {
          "base_uri": "https://localhost:8080/"
        },
        "id": "nTy-OIpgOtgf",
        "outputId": "208ef3d3-0c91-47a0-e25f-d7693edbab76"
      },
      "execution_count": null,
      "outputs": [
        {
          "output_type": "stream",
          "name": "stdout",
          "text": [
            "Crítica de The Bee Movie\n",
            "Por Roger Ebert\n",
            "\n",
            "Este é o melhor filme já feito. 4 de 5 estrelas.\n",
            "\n",
            "{\"titulo_filme\": \"The Bee Movie\", \"critico\": \"Roger Ebert\", \"tom\": \"positivo\", \"avaliacao\": 4}\n",
            "\n",
            "---------------\n",
            "\n",
            "Crítica de O Poderoso Chefão\n",
            "Por Anônimo\n",
            "\n",
            "Este filme foi super entediante. 1 de 5 estrelas.\n",
            "\n",
            "{\"titulo_filme\": \"O Poderoso Chef\\u00e3o\", \"critico\": \"An\\u00f4nimo\", \"tom\": \"negativo\", \"avaliacao\": 1, \"confi\\u00e1vel\": false}\n"
          ]
        }
      ]
    },
    {
      "cell_type": "markdown",
      "source": [
        "Você também pode inicializar o transformador de documentos com um esquema `Pydantic`:"
      ],
      "metadata": {
        "id": "1GYVwBnVLAlR"
      }
    },
    {
      "cell_type": "code",
      "source": [
        "from typing import Literal\n",
        "\n",
        "from pydantic import BaseModel, Field\n",
        "\n",
        "class Propriedades(BaseModel):\n",
        "    titulo_filme: str\n",
        "    critico: str\n",
        "    tom: Literal[\"positivo\", \"negativo\"]\n",
        "    avaliacao: int = Field(description=\"Avaliação de 5 estrelas\")"
      ],
      "metadata": {
        "id": "TCnMoV7tO_bJ"
      },
      "execution_count": null,
      "outputs": []
    },
    {
      "cell_type": "code",
      "source": [
        "transformador_documento = create_metadata_tagger(Propriedades, modelo)\n",
        "resposta = transformador_documento.transform_documents(documentos)\n",
        "\n",
        "print(\n",
        "    *[d.page_content + \"\\n\\n\" + json.dumps(d.metadata) for d in resposta],\n",
        "    sep=\"\\n\\n---------------\\n\\n\",\n",
        ")"
      ],
      "metadata": {
        "colab": {
          "base_uri": "https://localhost:8080/"
        },
        "id": "vh1QX4YRLjMO",
        "outputId": "fcd2c685-0704-44b2-c673-d0bbe3ebcceb"
      },
      "execution_count": null,
      "outputs": [
        {
          "output_type": "stream",
          "name": "stdout",
          "text": [
            "Crítica de The Bee Movie\n",
            "Por Roger Ebert\n",
            "\n",
            "Este é o melhor filme já feito. 4 de 5 estrelas.\n",
            "\n",
            "{\"titulo_filme\": \"The Bee Movie\", \"critico\": \"Roger Ebert\", \"tom\": \"positivo\", \"avaliacao\": 4}\n",
            "\n",
            "---------------\n",
            "\n",
            "Crítica de O Poderoso Chefão\n",
            "Por Anônimo\n",
            "\n",
            "Este filme foi super entediante. 1 de 5 estrelas.\n",
            "\n",
            "{\"titulo_filme\": \"O Poderoso Chef\\u00e3o\", \"critico\": \"An\\u00f4nimo\", \"tom\": \"negativo\", \"avaliacao\": 1, \"confi\\u00e1vel\": false}\n"
          ]
        }
      ]
    },
    {
      "cell_type": "code",
      "source": [
        "for d in resposta:\n",
        "    print(d.metadata)"
      ],
      "metadata": {
        "colab": {
          "base_uri": "https://localhost:8080/"
        },
        "id": "AUaQCyT7L_kC",
        "outputId": "8c6e9e7a-8090-4bc6-9672-776c0f40872d"
      },
      "execution_count": null,
      "outputs": [
        {
          "output_type": "stream",
          "name": "stdout",
          "text": [
            "{'titulo_filme': 'The Bee Movie', 'critico': 'Roger Ebert', 'tom': 'positivo', 'avaliacao': 4}\n",
            "{'titulo_filme': 'O Poderoso Chefão', 'critico': 'Anônimo', 'tom': 'negativo', 'avaliacao': 1, 'confiável': False}\n"
          ]
        }
      ]
    },
    {
      "cell_type": "markdown",
      "source": [
        "**Análise de Sentimentos**"
      ],
      "metadata": {
        "id": "kQ5ttCwIMQjy"
      }
    },
    {
      "cell_type": "code",
      "source": [
        "from langchain_core.messages import HumanMessage, SystemMessage\n",
        "from langchain.prompts import ChatPromptTemplate\n",
        "from langchain.prompts import HumanMessagePromptTemplate\n",
        "\n",
        "prompt_template = ChatPromptTemplate.from_messages(\n",
        "    [\n",
        "        SystemMessage(\n",
        "            content=(\n",
        "                \"retorne o sentimento do texto fornecido no formato JSON. O valor do sentimento pode ser 'negativo' ou 'positivo'.\"\n",
        "            )\n",
        "        ),\n",
        "        HumanMessagePromptTemplate.from_template(\"{texto}\"),\n",
        "    ]\n",
        ")\n",
        "\n",
        "mensagens =  prompt_template.format_messages(texto=\"Eu não gosto do tempo hoje.\")"
      ],
      "metadata": {
        "id": "p_b4_VyTMTcb"
      },
      "execution_count": null,
      "outputs": []
    },
    {
      "cell_type": "code",
      "source": [
        "mensagens"
      ],
      "metadata": {
        "colab": {
          "base_uri": "https://localhost:8080/"
        },
        "id": "XX5EOEnyNEUC",
        "outputId": "0a4cefff-732d-412d-d2af-fb6ab4f81a25"
      },
      "execution_count": null,
      "outputs": [
        {
          "output_type": "execute_result",
          "data": {
            "text/plain": [
              "[SystemMessage(content=\"retorne o sentimento do texto fornecido no formato JSON. O valor do sentimento pode ser 'negativo' ou 'positivo'.\"),\n",
              " HumanMessage(content='Eu não gosto do tempo hoje.')]"
            ]
          },
          "metadata": {},
          "execution_count": 29
        }
      ]
    },
    {
      "cell_type": "code",
      "source": [
        "from langchain_openai import ChatOpenAI\n",
        "\n",
        "modelo = ChatOpenAI(model=\"gpt-4o-mini\", temperature=0)"
      ],
      "metadata": {
        "id": "iruuDjwuNK7A"
      },
      "execution_count": null,
      "outputs": []
    },
    {
      "cell_type": "code",
      "source": [
        "resposta = modelo.invoke(mensagens)"
      ],
      "metadata": {
        "id": "sE8L_Wt7NfXe"
      },
      "execution_count": null,
      "outputs": []
    },
    {
      "cell_type": "code",
      "source": [
        "resposta"
      ],
      "metadata": {
        "colab": {
          "base_uri": "https://localhost:8080/"
        },
        "id": "92eOHr9Estxz",
        "outputId": "12cdef7f-1857-4fe9-db9b-374a8bf42b00"
      },
      "execution_count": null,
      "outputs": [
        {
          "output_type": "execute_result",
          "data": {
            "text/plain": [
              "AIMessage(content='```json\\n{\\n  \"sentimento\": \"negativo\"\\n}\\n```', additional_kwargs={'refusal': None}, response_metadata={'token_usage': {'completion_tokens': 15, 'prompt_tokens': 44, 'total_tokens': 59}, 'model_name': 'gpt-4o-mini-2024-07-18', 'system_fingerprint': 'fp_507c9469a1', 'finish_reason': 'stop', 'logprobs': None}, id='run-c22ebc42-5120-49b0-9d00-7fb0a5b68223-0', usage_metadata={'input_tokens': 44, 'output_tokens': 15, 'total_tokens': 59})"
            ]
          },
          "metadata": {},
          "execution_count": 33
        }
      ]
    },
    {
      "cell_type": "code",
      "source": [
        "resposta.content"
      ],
      "metadata": {
        "colab": {
          "base_uri": "https://localhost:8080/",
          "height": 35
        },
        "id": "tGeNf1aAsvtw",
        "outputId": "acd07b81-67da-4afe-f464-0a0c13dabf87"
      },
      "execution_count": null,
      "outputs": [
        {
          "output_type": "execute_result",
          "data": {
            "text/plain": [
              "'```json\\n{\\n  \"sentimento\": \"negativo\"\\n}\\n```'"
            ],
            "application/vnd.google.colaboratory.intrinsic+json": {
              "type": "string"
            }
          },
          "metadata": {},
          "execution_count": 34
        }
      ]
    },
    {
      "cell_type": "code",
      "source": [
        "from langchain_core.output_parsers import JsonOutputParser\n",
        "\n",
        "chain =  modelo | JsonOutputParser()\n",
        "\n",
        "sentimento = chain.invoke(mensagens)\n",
        "\n",
        "print(sentimento)"
      ],
      "metadata": {
        "colab": {
          "base_uri": "https://localhost:8080/"
        },
        "id": "VdYdyXy8N9GC",
        "outputId": "8691206c-d876-4ce7-ad6d-44d35689c97e"
      },
      "execution_count": null,
      "outputs": [
        {
          "output_type": "stream",
          "name": "stdout",
          "text": [
            "{'sentimento': 'negativo'}\n"
          ]
        }
      ]
    },
    {
      "cell_type": "markdown",
      "source": [
        "Um exemplo com vários textos para serem analisados:"
      ],
      "metadata": {
        "id": "MCRmqCVvOdk3"
      }
    },
    {
      "cell_type": "code",
      "source": [
        "from langchain_core.messages import HumanMessage, SystemMessage\n",
        "from langchain.prompts import ChatPromptTemplate\n",
        "from langchain.prompts import HumanMessagePromptTemplate\n",
        "\n",
        "prompt_template = ChatPromptTemplate.from_messages(\n",
        "    [\n",
        "        SystemMessage(\n",
        "            content=(\n",
        "                \"retorne o sentimento dos textos fornecidos no formato JSON. O valor do sentimento pode ser 'negativo' ou 'positivo'.\"\n",
        "            )\n",
        "        ),\n",
        "        HumanMessagePromptTemplate.from_template(\"{texto}\"),\n",
        "    ]\n",
        ")\n",
        "\n",
        "textos = [\n",
        "    \"Estou muito feliz com o progresso no trabalho hoje.\",\n",
        "    \"A comida estava horrível e o atendimento foi péssimo.\",\n",
        "    \"O clima está perfeito para uma caminhada ao ar livre.\",\n",
        "    \"Sinto-me frustrado com o atraso no projeto.\",\n",
        "    \"O filme que assisti ontem foi absolutamente incrível.\"\n",
        "]\n",
        "\n",
        "# formata as mensagens para cada texto usando o template\n",
        "mensagens = [prompt_template.format_messages(texto=texto) for texto in textos]\n",
        "\n",
        "# exibe as mensagens formatadas para cada texto\n",
        "for i, mensagem in enumerate(mensagens):\n",
        "    print(f\"Texto {i + 1}: {mensagem}\")"
      ],
      "metadata": {
        "colab": {
          "base_uri": "https://localhost:8080/"
        },
        "id": "Dy6e-o80OVsA",
        "outputId": "fd14c36a-e0a4-442a-e7c1-d761c666a930"
      },
      "execution_count": null,
      "outputs": [
        {
          "output_type": "stream",
          "name": "stdout",
          "text": [
            "Texto 1: [SystemMessage(content=\"retorne o sentimento dos textos fornecidos no formato JSON. O valor do sentimento pode ser 'negativo' ou 'positivo'.\"), HumanMessage(content='Estou muito feliz com o progresso no trabalho hoje.')]\n",
            "Texto 2: [SystemMessage(content=\"retorne o sentimento dos textos fornecidos no formato JSON. O valor do sentimento pode ser 'negativo' ou 'positivo'.\"), HumanMessage(content='A comida estava horrível e o atendimento foi péssimo.')]\n",
            "Texto 3: [SystemMessage(content=\"retorne o sentimento dos textos fornecidos no formato JSON. O valor do sentimento pode ser 'negativo' ou 'positivo'.\"), HumanMessage(content='O clima está perfeito para uma caminhada ao ar livre.')]\n",
            "Texto 4: [SystemMessage(content=\"retorne o sentimento dos textos fornecidos no formato JSON. O valor do sentimento pode ser 'negativo' ou 'positivo'.\"), HumanMessage(content='Sinto-me frustrado com o atraso no projeto.')]\n",
            "Texto 5: [SystemMessage(content=\"retorne o sentimento dos textos fornecidos no formato JSON. O valor do sentimento pode ser 'negativo' ou 'positivo'.\"), HumanMessage(content='O filme que assisti ontem foi absolutamente incrível.')]\n"
          ]
        }
      ]
    },
    {
      "cell_type": "code",
      "source": [
        "from langchain_core.output_parsers import JsonOutputParser\n",
        "\n",
        "chain =  modelo | JsonOutputParser()\n",
        "\n",
        "for mensagem in mensagens:\n",
        "    print(chain.invoke(mensagem))"
      ],
      "metadata": {
        "colab": {
          "base_uri": "https://localhost:8080/"
        },
        "id": "chMB3Y7UO63q",
        "outputId": "7ab819e5-385f-42aa-d925-0c1fdac26d87"
      },
      "execution_count": null,
      "outputs": [
        {
          "output_type": "stream",
          "name": "stdout",
          "text": [
            "{'sentimento': 'positivo'}\n",
            "{'sentimento': 'negativo'}\n",
            "{'sentimento': 'positivo'}\n",
            "{'sentimento': 'negativo'}\n",
            "{'sentimento': 'positivo'}\n"
          ]
        }
      ]
    },
    {
      "cell_type": "markdown",
      "source": [
        "## **Referências**"
      ],
      "metadata": {
        "id": "5pj7Z41eZ_3e"
      }
    },
    {
      "cell_type": "markdown",
      "source": [
        "> https://python.langchain.com/v0.2/docs/tutorials/classification/\n",
        "\n",
        "> https://python.langchain.com/v0.2/docs/integrations/document_transformers/openai_metadata_tagger/\n",
        "\n",
        "> https://www.geeksforgeeks.org/what-is-sentiment-analysis/\n"
      ],
      "metadata": {
        "id": "flIjGY2Lrm25"
      }
    },
    {
      "cell_type": "markdown",
      "source": [
        ">"
      ],
      "metadata": {
        "id": "oe14pd2FVNcC"
      }
    }
  ],
  "metadata": {
    "colab": {
      "provenance": [],
      "authorship_tag": "ABX9TyNsxYaIxfCIvBWqs4mhEaSk",
      "include_colab_link": true
    },
    "kernelspec": {
      "display_name": "Python 3",
      "name": "python3"
    }
  },
  "nbformat": 4,
  "nbformat_minor": 0
}