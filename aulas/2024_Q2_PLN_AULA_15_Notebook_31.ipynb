{
  "cells": [
    {
      "cell_type": "markdown",
      "metadata": {
        "id": "view-in-github",
        "colab_type": "text"
      },
      "source": [
        "<a href=\"https://colab.research.google.com/github/adalves-ufabc/2024.Q2-PLN/blob/main/2024_Q2_PLN_AULA_15_Notebook_31.ipynb\" target=\"_parent\"><img src=\"https://colab.research.google.com/assets/colab-badge.svg\" alt=\"Open In Colab\"/></a>"
      ]
    },
    {
      "cell_type": "markdown",
      "metadata": {
        "id": "Y6QILOdpOjwv"
      },
      "source": [
        "# **Processamento de Linguagem Natural [2024-Q2]**\n",
        "Prof. Alexandre Donizeti Alves"
      ]
    },
    {
      "cell_type": "markdown",
      "metadata": {
        "id": "nmK05FgcOzL2"
      },
      "source": [
        "## **Geração de Dados Sintéticos**\n",
        "---\n",
        "\n"
      ]
    },
    {
      "cell_type": "markdown",
      "source": [
        "**Dados sintéticos** são dados gerados artificialmente, em vez de dados coletados de eventos do mundo real. São usados para simular dados reais sem comprometer a privacidade ou enfrentar limitações do mundo real.\n",
        "\n"
      ],
      "metadata": {
        "id": "g_D8SQPxluOb"
      }
    },
    {
      "cell_type": "markdown",
      "source": [
        "Benefícios dos Dados Sintéticos:\n",
        "\n",
        "- **Privacidade e Segurança**: sem dados pessoais reais em risco de vazamentos.\n",
        "- **Aumento de Dados**: expande conjuntos de dados para aprendizado de máquina.\n",
        "- **Flexibilidade**: cria cenários específicos ou raros.\n",
        "- **Custo-efetivo**: muitas vezes mais barato do que a coleta de dados reais.\n",
        "- **Conformidade Regulatória**: ajuda a navegar em leis rigorosas de proteção de dados.\n",
        "- **Robustez do Modelo**: pode levar a modelos de IA que generalizam melhor.\n",
        "- **Prototipagem Rápida**: permite testes rápidos sem dados reais.\n",
        "- **Experimentação Controlada**: simula condições específicas.\n",
        "- **Acesso a Dados**: alternativa quando dados reais não estão disponíveis.\n",
        "\n",
        "**NOTA**: apesar dos benefícios, os dados sintéticos devem ser usados com cuidado, pois podem não capturar sempre as complexidades do mundo real."
      ],
      "metadata": {
        "id": "LrYopoqwmIm2"
      }
    },
    {
      "cell_type": "markdown",
      "source": [
        "#### **LangChain**"
      ],
      "metadata": {
        "id": "YpDxby3ZlvtC"
      }
    },
    {
      "cell_type": "code",
      "execution_count": null,
      "metadata": {
        "id": "cYKEbnlNTVlR",
        "colab": {
          "base_uri": "https://localhost:8080/"
        },
        "outputId": "da083399-6449-40f9-a301-d110dc3727cb"
      },
      "outputs": [
        {
          "output_type": "stream",
          "name": "stdout",
          "text": [
            "\u001b[2K     \u001b[90m━━━━━━━━━━━━━━━━━━━━━━━━━━━━━━━━━━━━━━━━\u001b[0m \u001b[32m50.4/50.4 kB\u001b[0m \u001b[31m1.0 MB/s\u001b[0m eta \u001b[36m0:00:00\u001b[0m\n",
            "\u001b[2K   \u001b[90m━━━━━━━━━━━━━━━━━━━━━━━━━━━━━━━━━━━━━━━━\u001b[0m \u001b[32m997.8/997.8 kB\u001b[0m \u001b[31m14.9 MB/s\u001b[0m eta \u001b[36m0:00:00\u001b[0m\n",
            "\u001b[2K   \u001b[90m━━━━━━━━━━━━━━━━━━━━━━━━━━━━━━━━━━━━━━━━\u001b[0m \u001b[32m384.8/384.8 kB\u001b[0m \u001b[31m18.2 MB/s\u001b[0m eta \u001b[36m0:00:00\u001b[0m\n",
            "\u001b[2K   \u001b[90m━━━━━━━━━━━━━━━━━━━━━━━━━━━━━━━━━━━━━━━━\u001b[0m \u001b[32m140.4/140.4 kB\u001b[0m \u001b[31m8.1 MB/s\u001b[0m eta \u001b[36m0:00:00\u001b[0m\n",
            "\u001b[2K   \u001b[90m━━━━━━━━━━━━━━━━━━━━━━━━━━━━━━━━━━━━━━━━\u001b[0m \u001b[32m141.9/141.9 kB\u001b[0m \u001b[31m8.0 MB/s\u001b[0m eta \u001b[36m0:00:00\u001b[0m\n",
            "\u001b[?25h"
          ]
        }
      ],
      "source": [
        "#@title Instalando o pacote LangChain\n",
        "!pip install -qU langchain"
      ]
    },
    {
      "cell_type": "code",
      "execution_count": null,
      "metadata": {
        "colab": {
          "base_uri": "https://localhost:8080/"
        },
        "id": "hJvs5RTcbE64",
        "outputId": "9b92b23d-f933-4823-b4db-3b879e1d6afa"
      },
      "outputs": [
        {
          "output_type": "stream",
          "name": "stdout",
          "text": [
            "0.2.13\n"
          ]
        }
      ],
      "source": [
        "@title Versão do LangChain\n",
        "\n",
        "import langchain\n",
        "\n",
        "print(langchain.__version__)"
      ]
    },
    {
      "cell_type": "code",
      "source": [
        "#@title Integração com o pacote da OpenAI\n",
        "\n",
        "!pip install -qU langchain-openai"
      ],
      "metadata": {
        "id": "8klfbjqKbUpp",
        "colab": {
          "base_uri": "https://localhost:8080/"
        },
        "outputId": "6c3399e2-f343-4904-a953-a8515960c0ee"
      },
      "execution_count": null,
      "outputs": [
        {
          "output_type": "stream",
          "name": "stdout",
          "text": [
            "\u001b[?25l   \u001b[90m━━━━━━━━━━━━━━━━━━━━━━━━━━━━━━━━━━━━━━━━\u001b[0m \u001b[32m0.0/49.8 kB\u001b[0m \u001b[31m?\u001b[0m eta \u001b[36m-:--:--\u001b[0m\r\u001b[2K   \u001b[90m━━━━━━━━━━━━━━━━━━━━━━━━━━━━━━━━━━━━━━━━\u001b[0m \u001b[32m49.8/49.8 kB\u001b[0m \u001b[31m2.3 MB/s\u001b[0m eta \u001b[36m0:00:00\u001b[0m\n",
            "\u001b[?25h\u001b[?25l   \u001b[90m━━━━━━━━━━━━━━━━━━━━━━━━━━━━━━━━━━━━━━━━\u001b[0m \u001b[32m0.0/361.3 kB\u001b[0m \u001b[31m?\u001b[0m eta \u001b[36m-:--:--\u001b[0m\r\u001b[2K   \u001b[90m━━━━━━━━━━━━━━━━━━━━━━━━━━━━━━━━━━━━━━━━\u001b[0m \u001b[32m361.3/361.3 kB\u001b[0m \u001b[31m11.0 MB/s\u001b[0m eta \u001b[36m0:00:00\u001b[0m\n",
            "\u001b[?25h\u001b[?25l   \u001b[90m━━━━━━━━━━━━━━━━━━━━━━━━━━━━━━━━━━━━━━━━\u001b[0m \u001b[32m0.0/1.1 MB\u001b[0m \u001b[31m?\u001b[0m eta \u001b[36m-:--:--\u001b[0m\r\u001b[2K   \u001b[90m━━━━━━━━━━━━━━━━━━━━━━━━━━━━━━━━━━━━━━━━\u001b[0m \u001b[32m1.1/1.1 MB\u001b[0m \u001b[31m37.5 MB/s\u001b[0m eta \u001b[36m0:00:00\u001b[0m\n",
            "\u001b[2K   \u001b[90m━━━━━━━━━━━━━━━━━━━━━━━━━━━━━━━━━━━━━━━━\u001b[0m \u001b[32m75.6/75.6 kB\u001b[0m \u001b[31m4.8 MB/s\u001b[0m eta \u001b[36m0:00:00\u001b[0m\n",
            "\u001b[2K   \u001b[90m━━━━━━━━━━━━━━━━━━━━━━━━━━━━━━━━━━━━━━━━\u001b[0m \u001b[32m77.9/77.9 kB\u001b[0m \u001b[31m5.8 MB/s\u001b[0m eta \u001b[36m0:00:00\u001b[0m\n",
            "\u001b[2K   \u001b[90m━━━━━━━━━━━━━━━━━━━━━━━━━━━━━━━━━━━━━━━━\u001b[0m \u001b[32m318.9/318.9 kB\u001b[0m \u001b[31m22.8 MB/s\u001b[0m eta \u001b[36m0:00:00\u001b[0m\n",
            "\u001b[2K   \u001b[90m━━━━━━━━━━━━━━━━━━━━━━━━━━━━━━━━━━━━━━━━\u001b[0m \u001b[32m58.3/58.3 kB\u001b[0m \u001b[31m4.3 MB/s\u001b[0m eta \u001b[36m0:00:00\u001b[0m\n",
            "\u001b[?25h"
          ]
        }
      ]
    },
    {
      "cell_type": "code",
      "execution_count": null,
      "metadata": {
        "colab": {
          "base_uri": "https://localhost:8080/"
        },
        "id": "RM5RnKClbPtQ",
        "outputId": "77e29f63-a3ba-4f74-b63f-37e0f96c7af1"
      },
      "outputs": [
        {
          "name": "stdout",
          "output_type": "stream",
          "text": [
            "··········\n"
          ]
        }
      ],
      "source": [
        "#@title Definindo a chave da API da OpenAI\n",
        "\n",
        "import getpass\n",
        "import os\n",
        "\n",
        "os.environ[\"OPENAI_API_KEY\"] = getpass.getpass()"
      ]
    },
    {
      "cell_type": "markdown",
      "source": [
        "#### **Exemplo**"
      ],
      "metadata": {
        "id": "48inXIgDTxlv"
      }
    },
    {
      "cell_type": "markdown",
      "source": [
        "Neste notebook, vamos nos aprofundar na geração de registros de faturamento médico sintéticos usando a biblioteca `LangChain`. Esta ferramenta é particularmente útil quando você deseja desenvolver ou testar algoritmos, mas não quer usar dados reais de pacientes devido a preocupações com a privacidade ou problemas de disponibilidade de dados.\n",
        "\n"
      ],
      "metadata": {
        "id": "by7h539cnRXP"
      }
    },
    {
      "cell_type": "markdown",
      "source": [
        "**Configuração**\n",
        ">\n",
        "\n",
        "Primeiro, você precisará ter a biblioteca `LangChain` instalada, juntamente com suas dependências. Como estamos usando a cadeia de geradores da OpenAI, também a instalaremos. Como esta é uma biblioteca experimental, precisaremos incluir `langchain_experimental` em nossas instalações."
      ],
      "metadata": {
        "id": "SGDiAjAxnbZi"
      }
    },
    {
      "cell_type": "code",
      "source": [
        "!pip install -qU langchain_experimental"
      ],
      "metadata": {
        "id": "GhK2nuuaKyLJ",
        "colab": {
          "base_uri": "https://localhost:8080/"
        },
        "outputId": "f9c53915-eb90-4208-c577-204060bb8d2c"
      },
      "execution_count": null,
      "outputs": [
        {
          "output_type": "stream",
          "name": "stdout",
          "text": [
            "\u001b[?25l   \u001b[90m━━━━━━━━━━━━━━━━━━━━━━━━━━━━━━━━━━━━━━━━\u001b[0m \u001b[32m0.0/204.3 kB\u001b[0m \u001b[31m?\u001b[0m eta \u001b[36m-:--:--\u001b[0m\r\u001b[2K   \u001b[90m━━━━━━━━━━━━━━━━━━━━━━━━━━━━━━━━━━━━━━━━\u001b[0m \u001b[32m204.3/204.3 kB\u001b[0m \u001b[31m6.7 MB/s\u001b[0m eta \u001b[36m0:00:00\u001b[0m\n",
            "\u001b[2K   \u001b[90m━━━━━━━━━━━━━━━━━━━━━━━━━━━━━━━━━━━━━━━━\u001b[0m \u001b[32m2.3/2.3 MB\u001b[0m \u001b[31m45.6 MB/s\u001b[0m eta \u001b[36m0:00:00\u001b[0m\n",
            "\u001b[2K   \u001b[90m━━━━━━━━━━━━━━━━━━━━━━━━━━━━━━━━━━━━━━━━\u001b[0m \u001b[32m49.2/49.2 kB\u001b[0m \u001b[31m3.5 MB/s\u001b[0m eta \u001b[36m0:00:00\u001b[0m\n",
            "\u001b[?25h"
          ]
        }
      ]
    },
    {
      "cell_type": "code",
      "source": [
        "from langchain.prompts import FewShotPromptTemplate, PromptTemplate\n",
        "from langchain_core.pydantic_v1 import BaseModel\n",
        "from langchain_experimental.tabular_synthetic_data.openai import (\n",
        "    OPENAI_TEMPLATE,\n",
        "    create_openai_data_generator,\n",
        ")\n",
        "from langchain_experimental.tabular_synthetic_data.prompts import (\n",
        "    SYNTHETIC_FEW_SHOT_PREFIX,\n",
        "    SYNTHETIC_FEW_SHOT_SUFFIX,\n",
        ")\n",
        "from langchain_openai import ChatOpenAI"
      ],
      "metadata": {
        "id": "MNW_QM84ZwkG"
      },
      "execution_count": null,
      "outputs": []
    },
    {
      "cell_type": "markdown",
      "source": [
        "**1. Defina Seu Modelo de Dados**\n",
        "\n",
        ">\n",
        "Cada conjunto de dados tem uma estrutura ou um `esquema`. A classe `FaturamentoMedico` abaixo serve como nosso esquema para os dados sintéticos. Ao definir isso, estamos informando nosso gerador de dados sintéticos sobre a forma e a natureza dos dados que esperamos."
      ],
      "metadata": {
        "id": "md3rcdcInymq"
      }
    },
    {
      "cell_type": "code",
      "source": [
        "class FaturamentoMedico(BaseModel):\n",
        "    id_paciente: int\n",
        "    nome_paciente: str\n",
        "    codigo_diagnostico: str\n",
        "    codigo_procedimento: str\n",
        "    custo_total: float\n",
        "    valor_reclamacao_seguro: float"
      ],
      "metadata": {
        "id": "vEFa8hnHZ0PJ"
      },
      "execution_count": null,
      "outputs": []
    },
    {
      "cell_type": "markdown",
      "source": [
        "**2. Amostra de Dados**\n",
        ">\n",
        "\n",
        "Para orientar o gerador de dados sintéticos, é útil fornecer alguns exemplos que se assemelhem ao mundo real. Esses exemplos servem como uma \"semente\" - eles são representativos do tipo de dados que você deseja, e o gerador os usará para criar mais dados que se pareçam com eles.\n",
        "\n",
        ">\n",
        "Aqui estão alguns registros fictícios de faturamento médico:"
      ],
      "metadata": {
        "id": "DS9XMK3-p9Ms"
      }
    },
    {
      "cell_type": "code",
      "source": [
        "exemplos = [\n",
        "    {\n",
        "        \"example\": \"\"\"ID Paciente ID: 123456, Nome Paciente: John Doe, Código Diagnóstico:\n",
        "        J20.9, Código Procedimento: 99203, Custo Total: R$2500, Valor reclamação seguro: R$1350\"\"\"\n",
        "    },\n",
        "    {\n",
        "        \"example\": \"\"\"ID Paciente: 789012, Nome Pacientee: Johnson Smith, Código Diagnóstico:\n",
        "        M54.5, Código Procedimento: 99213, Custo Total: R$1515, Valor reclamação seguro: R$820\"\"\"\n",
        "    },\n",
        "    {\n",
        "        \"example\": \"\"\"ID Paciente: 345678, Nome Paciente: Emily Stone, Código Diagnóstico:\n",
        "        E11.9, Código Procedimento: 99214, Custo Total: R$3300, Valor reclamação seguro: R$2250\"\"\"\n",
        "    },\n",
        "]"
      ],
      "metadata": {
        "id": "AaQ9Cr1tZ2o9"
      },
      "execution_count": null,
      "outputs": []
    },
    {
      "cell_type": "code",
      "source": [
        "exemplos"
      ],
      "metadata": {
        "colab": {
          "base_uri": "https://localhost:8080/"
        },
        "id": "erykxg5TvsNB",
        "outputId": "70975926-04e8-4043-ee4c-ec3b12044e6a"
      },
      "execution_count": null,
      "outputs": [
        {
          "output_type": "execute_result",
          "data": {
            "text/plain": [
              "[{'example': 'ID Paciente ID: 123456, Nome Paciente: John Doe, Código Diagnóstico:\\n        J20.9, Código Procedimento: 99203, Custo Total: R$2500, Valor reclamação seguro: R$1350'},\n",
              " {'example': 'ID Paciente: 789012, Nome Pacientee: Johnson Smith, Código Diagnóstico:\\n        M54.5, Código Procedimento: 99213, Custo Total: R$1515, Valor reclamação seguro: R$820'},\n",
              " {'example': 'ID Paciente: 345678, Nome Paciente: Emily Stone, Código Diagnóstico:\\n        E11.9, Código Procedimento: 99214, Custo Total: R$3300, Valor reclamação seguro: R$2250'}]"
            ]
          },
          "metadata": {},
          "execution_count": 9
        }
      ]
    },
    {
      "cell_type": "markdown",
      "source": [
        "**3. Crie um Template de Prompt**\n",
        ">\n",
        "O gerador não sabe magicamente como criar nossos dados; precisamos guiá-lo. Fazemos isso criando um template de *prompt*. Esse template ajuda a instruir o modelo de linguagem subjacente sobre como produzir dados sintéticos no formato desejado."
      ],
      "metadata": {
        "id": "FeFQVis_qTsQ"
      }
    },
    {
      "cell_type": "code",
      "source": [
        "OPENAI_TEMPLATE = PromptTemplate(input_variables=[\"example\"], template=\"{example}\")\n",
        "\n",
        "prompt_template = FewShotPromptTemplate(\n",
        "    prefix = SYNTHETIC_FEW_SHOT_PREFIX,\n",
        "    examples = exemplos,\n",
        "    suffix = SYNTHETIC_FEW_SHOT_SUFFIX,\n",
        "    input_variables = [\"subject\", \"extra\"],\n",
        "    example_prompt = OPENAI_TEMPLATE,\n",
        ")"
      ],
      "metadata": {
        "id": "NoadhJihZ5dk"
      },
      "execution_count": null,
      "outputs": []
    },
    {
      "cell_type": "markdown",
      "source": [
        "O `FewShotPromptTemplate` inclui:\n",
        "\n",
        "- **`prefix` e `suffix`**: estes provavelmente contêm contexto ou instruções orientadoras.\n",
        "- **`examples`**: os dados de amostra que definimos anteriormente.\n",
        "- **`input_variables`**: essas variáveis (`\"subject\"`, `\"extra\"`) são espaços reservados que você pode preencher dinamicamente mais tarde. Por exemplo, `\"subject\"` pode ser preenchido com `\"faturamento_medico\"` para orientar ainda mais o modelo.\n",
        "- **`example_prompt`**: este modelo de *prompt* é o formato que queremos que cada linha de exemplo tenha em nosso *prompt*."
      ],
      "metadata": {
        "id": "jdLZ9xXwq8fk"
      }
    },
    {
      "cell_type": "markdown",
      "source": [
        "**4. Criando o Gerador de Dados**\n",
        "\n",
        ">\n",
        "Com o esquema e o *prompt* prontos, o próximo passo é criar o gerador de dados. Este objeto sabe como se comunicar com o modelo de linguagem subjacente para obter dados sintéticos."
      ],
      "metadata": {
        "id": "cckbFZlervaq"
      }
    },
    {
      "cell_type": "code",
      "source": [
        "gerador_dados = create_openai_data_generator(\n",
        "    output_schema = FaturamentoMedico,\n",
        "    llm = ChatOpenAI(\n",
        "        temperature = 1\n",
        "    ),\n",
        "    prompt = prompt_template,\n",
        ")"
      ],
      "metadata": {
        "id": "5GuTn1H7Z8VX"
      },
      "execution_count": null,
      "outputs": []
    },
    {
      "cell_type": "markdown",
      "source": [
        "**5. Gerar Dados Sintéticos**\n",
        "\n",
        ">\n",
        "Finalmente, vamos obter nossos dados sintéticos!"
      ],
      "metadata": {
        "id": "L0gxUkzhsF43"
      }
    },
    {
      "cell_type": "code",
      "source": [
        "resposta = gerador_dados.generate(\n",
        "    subject=\"faturamento_medico\",\n",
        "    extra=\"o nome deve ser escolhido aleatoriamente. Escolha algo que você normalmente não escolheria.\",\n",
        "    runs=10\n",
        ")"
      ],
      "metadata": {
        "id": "7lG8dfkaaCIc"
      },
      "execution_count": null,
      "outputs": []
    },
    {
      "cell_type": "markdown",
      "source": [
        "Este comando solicita ao gerador que produza 10 registros sintéticos de faturamento médico. A saída será uma lista dos modelos Pydantic `FaturamentoMedico`."
      ],
      "metadata": {
        "id": "1GaVw578sUdY"
      }
    },
    {
      "cell_type": "code",
      "source": [
        "resposta"
      ],
      "metadata": {
        "colab": {
          "base_uri": "https://localhost:8080/"
        },
        "id": "3ngPa7MYaJDb",
        "outputId": "bd058310-0892-4752-ae74-1f9af9011f39"
      },
      "execution_count": null,
      "outputs": [
        {
          "output_type": "execute_result",
          "data": {
            "text/plain": [
              "[FaturamentoMedico(id_paciente=7890123, nome_paciente='Luna Rodriguez', codigo_diagnostico='I50.9', codigo_procedimento='99204', custo_total=2750.0, valor_reclamacao_seguro=1500.0),\n",
              " FaturamentoMedico(id_paciente=456789, nome_paciente='Ezekiel Blackwood', codigo_diagnostico='R07.9', codigo_procedimento='99205', custo_total=2100.0, valor_reclamacao_seguro=1200.0),\n",
              " FaturamentoMedico(id_paciente=123456, nome_paciente='Felicity Goldenshine', codigo_diagnostico='N40.0', codigo_procedimento='99213', custo_total=2800.0, valor_reclamacao_seguro=1900.0),\n",
              " FaturamentoMedico(id_paciente=7890123, nome_paciente='Rufus McFly', codigo_diagnostico='K29.7', codigo_procedimento='99214', custo_total=2600.0, valor_reclamacao_seguro=1400.0),\n",
              " FaturamentoMedico(id_paciente=9876543, nome_paciente='Harper Thornwhistle', codigo_diagnostico='M71.12', codigo_procedimento='99204', custo_total=1800.0, valor_reclamacao_seguro=1000.0),\n",
              " FaturamentoMedico(id_paciente=4567890, nome_paciente='Mortimer Puddlewhip', codigo_diagnostico='G47.0', codigo_procedimento='99203', custo_total=2200.0, valor_reclamacao_seguro=1200.0),\n",
              " FaturamentoMedico(id_paciente=2468135, nome_paciente='Zephyrine Featherstone', codigo_diagnostico='T07.1', codigo_procedimento='99205', custo_total=1900.0, valor_reclamacao_seguro=1050.0),\n",
              " FaturamentoMedico(id_paciente=1357924, nome_paciente='Elowen Pumpernickel', codigo_diagnostico='R55.0', codigo_procedimento='99202', custo_total=2000.0, valor_reclamacao_seguro=1100.0),\n",
              " FaturamentoMedico(id_paciente=7890123, nome_paciente='Balthazar Snodgrass', codigo_diagnostico='F12.9', codigo_procedimento='99204', custo_total=1800.0, valor_reclamacao_seguro=1000.0),\n",
              " FaturamentoMedico(id_paciente=1234567, nome_paciente='Saffron McAllister', codigo_diagnostico='M42.4', codigo_procedimento='99203', custo_total=2100.0, valor_reclamacao_seguro=1150.0)]"
            ]
          },
          "metadata": {},
          "execution_count": 13
        }
      ]
    },
    {
      "cell_type": "markdown",
      "source": [
        "## **Referências**"
      ],
      "metadata": {
        "id": "5pj7Z41eZ_3e"
      }
    },
    {
      "cell_type": "markdown",
      "source": [
        "https://python.langchain.com/v0.2/docs/tutorials/data_generation/\n"
      ],
      "metadata": {
        "id": "flIjGY2Lrm25"
      }
    },
    {
      "cell_type": "markdown",
      "source": [
        ">"
      ],
      "metadata": {
        "id": "oe14pd2FVNcC"
      }
    }
  ],
  "metadata": {
    "colab": {
      "provenance": [],
      "authorship_tag": "ABX9TyM6KsG77Tourm/iklV9CkE8",
      "include_colab_link": true
    },
    "kernelspec": {
      "display_name": "Python 3",
      "name": "python3"
    }
  },
  "nbformat": 4,
  "nbformat_minor": 0
}