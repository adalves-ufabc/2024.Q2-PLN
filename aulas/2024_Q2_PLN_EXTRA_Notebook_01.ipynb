{
  "cells": [
    {
      "cell_type": "markdown",
      "metadata": {
        "id": "view-in-github",
        "colab_type": "text"
      },
      "source": [
        "<a href=\"https://colab.research.google.com/github/adalves-ufabc/2024.Q2-PLN/blob/main/2024_Q2_PLN_EXTRA_Notebook_01.ipynb\" target=\"_parent\"><img src=\"https://colab.research.google.com/assets/colab-badge.svg\" alt=\"Open In Colab\"/></a>"
      ]
    },
    {
      "cell_type": "markdown",
      "metadata": {
        "id": "Y6QILOdpOjwv"
      },
      "source": [
        "# **Processamento de Linguagem Natural [2024-Q2]**\n",
        "Prof. Alexandre Donizeti Alves"
      ]
    },
    {
      "cell_type": "markdown",
      "metadata": {
        "id": "nmK05FgcOzL2"
      },
      "source": [
        "## **APIs**\n",
        "---\n",
        "\n"
      ]
    },
    {
      "cell_type": "markdown",
      "source": [
        "**API** (*Application Programming Interface*) é um conjunto de definições e protocolos que permite a comunicação entre diferentes sistemas de software. As APIs facilitam a integração e a interação entre aplicações, serviços e dispositivos, fornecendo métodos padronizados para acessar funcionalidades ou dados de um sistema a partir de outro."
      ],
      "metadata": {
        "id": "2JTIeNTFK3wT"
      }
    },
    {
      "cell_type": "markdown",
      "source": [
        "![image.png](data:image/png;base64,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)"
      ],
      "metadata": {
        "id": "2WUq4i4gLO4x"
      }
    },
    {
      "cell_type": "markdown",
      "source": [
        "https://newsapi.org/"
      ],
      "metadata": {
        "id": "UeeYTN4kis-P"
      }
    },
    {
      "cell_type": "markdown",
      "source": [
        "A API `News` fornece resultados de pesquisa em formato JSON para artigos de notícias atuais e históricos."
      ],
      "metadata": {
        "id": "hJjJi3EIM0F3"
      }
    },
    {
      "cell_type": "code",
      "source": [
        "from getpass import getpass\n",
        "\n",
        "NEWS_API_KEY = getpass()"
      ],
      "metadata": {
        "colab": {
          "base_uri": "https://localhost:8080/"
        },
        "id": "Pcrk7kb-ODx2",
        "outputId": "6bc394c9-1155-49f2-b235-a5a38b85024d"
      },
      "execution_count": null,
      "outputs": [
        {
          "name": "stdout",
          "output_type": "stream",
          "text": [
            "··········\n"
          ]
        }
      ]
    },
    {
      "cell_type": "markdown",
      "source": [
        "**Pesquise artigos de notícias que mencionem um tópico ou palavra-chave específica**"
      ],
      "metadata": {
        "id": "4CmNleNkRSwA"
      }
    },
    {
      "cell_type": "markdown",
      "source": [
        "`https://newsapi.org/docs/endpoints/everything`"
      ],
      "metadata": {
        "id": "8TPshrGGRnYk"
      }
    },
    {
      "cell_type": "code",
      "source": [
        "import requests\n",
        "\n",
        "url = ('https://newsapi.org/v2/everything?'\n",
        "       'q=Olímpiada&'\n",
        "       'from=2024-07-28&'\n",
        "       'to=2024-07-29&'\n",
        "       'language=pt&' #ar de en es fr he it nl no pt ru sv ud zh\n",
        "       'sortBy=popularity&' # relevancy popularity publishedAt\n",
        "       'apiKey=' + NEWS_API_KEY)\n",
        "\n",
        "resposta = requests.get(url)"
      ],
      "metadata": {
        "id": "cYKEbnlNTVlR"
      },
      "execution_count": null,
      "outputs": []
    },
    {
      "cell_type": "code",
      "source": [
        "resposta.json()"
      ],
      "metadata": {
        "colab": {
          "base_uri": "https://localhost:8080/"
        },
        "id": "9zQosdlWOixz",
        "outputId": "7baed840-5625-4e53-9c7f-96825e07cbe6"
      },
      "execution_count": null,
      "outputs": [
        {
          "output_type": "execute_result",
          "data": {
            "text/plain": [
              "{'status': 'ok',\n",
              " 'totalResults': 7,\n",
              " 'articles': [{'source': {'id': None, 'name': 'Uol.com.br'},\n",
              "   'author': 'Igor Nishikiori',\n",
              "   'title': 'Brasil x Japão: onde assistir ao jogo da seleção feminina de futebol',\n",
              "   'description': 'Equipes se enfrentam pela fase de grupos da Olimpíada neste domingo (28) em Paris. Veja quem transmite! \\nThe post Brasil x Japão: onde assistir ao jogo da seleção feminina de futebol appeared first on Giz Brasil.',\n",
              "   'url': 'https://gizmodo.uol.com.br/onde-assistir-brasil-japao-futebol-feminino-paris-2024/',\n",
              "   'urlToImage': 'https://gizmodo.uol.com.br/wp-content/blogs.dir/8/files/2024/07/bras.jpg',\n",
              "   'publishedAt': '2024-07-28T10:00:14Z',\n",
              "   'content': 'A seleção feminina de futebol enfrenta o Japão neste domingo (28) pela segunda rodada da fase de grupos dos Jogos Olímpicos de Paris, no Parc des Princes. A seleção Canarinho está na vice-liderança d… [+1679 chars]'},\n",
              "  {'source': {'id': None, 'name': 'Terra.com.br'},\n",
              "   'author': 'Redação Terra',\n",
              "   'title': 'Como assim o Taiti é na França? Conheça a Polinésia Francesa, palco das provas de surfe de Paris-2024',\n",
              "   'description': \"Disputas do surfe ocorrem na praia de Teahupo'o, no Taiti, a 15 mil quilômetros de distância da cidade-sede dos Jogos Olímpicos\",\n",
              "   'url': 'https://www.terra.com.br/noticias/educacao/como-assim-o-taiti-e-na-franca-conheca-a-polinesia-francesa-palco-das-provas-de-surfe-de-paris-2024,a32830991ff0c0819432143746a1b297stgh19q2.html',\n",
              "   'urlToImage': 'https://p2.trrsf.com/image/fget/cf/1200/630/middle/images.terra.com/2024/07/29/2024-07-29t194057z_1480157723_rc2759aba9av_rtrmadp_3_olympics-2024-surfing-ubjnfkfgrp7p.JPG',\n",
              "   'publishedAt': '2024-07-29T23:27:28Z',\n",
              "   'content': \"Antes mesmo do início das provas, a disputa do surfe nos Jogos Olímpicos de Paris já começou com a quebra de recorde histórico. Isso porque a modalidade ocorre nas praias de Teahupo'o, no Taiti, a\\xa015… [+2224 chars]\"},\n",
              "  {'source': {'id': None, 'name': 'Ig.com.br'},\n",
              "   'author': 'Felipe Nunes, Felipe Nunes',\n",
              "   'title': 'Céline Dion deixa Paris e agradece por retorno com show na abertura das Olimpíadas',\n",
              "   'description': 'Artista voltou aos palcos após cinco anos e já havia cantado na abertura de outro evento olímpico; relembre',\n",
              "   'url': 'https://gente.ig.com.br/celebridades/2024-07-28/celine-dion-deixa-paris-e-agradece-por-retorno-com-show-na-abertura-das-olimpiadas.html',\n",
              "   'urlToImage': 'https://i0.statig.com.br/bancodeimagens/ed/gx/z3/edgxz3ou2p8q2t8d34l7nh1qz.jpg',\n",
              "   'publishedAt': '2024-07-28T12:36:44Z',\n",
              "   'content': 'A cantora e compositora\\xa0 Céline Dion, de 56 anos,\\r\\nusou as redes sociais no último sábado (28) para\\xa0se despedir de Paris e falar de sua apresentação.\\xa0Longe dos palcos desde 2019,\\xa0ela\\xa0 viajou para a c… [+1063 chars]'},\n",
              "  {'source': {'id': None, 'name': 'Ig.com.br'},\n",
              "   'author': 'iG Esporte, iG Esporte',\n",
              "   'title': 'Esgrima:\\xa0Guilherme\\nToldo perde na estreia e é eliminado dos Jogos Olímpicos',\n",
              "   'description': 'Atleta brasileiro disputava sua quarta edição da Olímpiada',\n",
              "   'url': 'https://esporte.ig.com.br/olimpiadas/2024-07-29/esgrima--guilherme-toldo-perde-na-estreia-e-e-eliminado-dos-jogos-olimpicos.html',\n",
              "   'urlToImage': 'https://i0.statig.com.br/bancodeimagens/9d/1g/f3/9d1gf36y0tq06t335s82k78os.jpg',\n",
              "   'publishedAt': '2024-07-29T11:55:20Z',\n",
              "   'content': 'O esgrimista Guilherme Toldo\\r\\nfoi eliminado dos Jogos Olímpicos\\r\\nde Paris 2024 nesta segunda-feira (29). Em duelo contra o chinês Mo Ziwei, o brasileiro saiu derrotado por 15 a 7 e deu adeus ao sonho… [+639 chars]'},\n",
              "  {'source': {'id': None, 'name': 'Ig.com.br'},\n",
              "   'author': 'iG Esporte, iG Esporte',\n",
              "   'title': 'Olímpiada: Guilherme Cachorrão fica fora da final dos 800m',\n",
              "   'description': 'Nadador brasileiro não conseguiu emplacar bom tempo para avançar de fase na etapa',\n",
              "   'url': 'https://esporte.ig.com.br/olimpiadas/2024-07-29/olimpiada--guilherme-cachorrao-fica-fora-da-final-dos-800m.html',\n",
              "   'urlToImage': 'https://i0.statig.com.br/bancodeimagens/99/hz/d0/99hzd0hubh0enly757b4c4pos.jpg',\n",
              "   'publishedAt': '2024-07-29T10:54:18Z',\n",
              "   'content': 'Guilherme Costa,\\r\\no popular Cachorrão,\\r\\nnão conseguiu se classificar para a final 800m nas Olimpíadas\\r\\nde Paris 2024. O nadador terminou a fase eliminatória na 20ª posição com o tempo de 7m54s, fora … [+1537 chars]'},\n",
              "  {'source': {'id': None, 'name': 'Ig.com.br'},\n",
              "   'author': 'iG Esporte, iG Esporte',\n",
              "   'title': 'Olímpiada: treino do triatlo é novamente cancelado por conta\\nda qualidade da água',\n",
              "   'description': 'Decisão foi anunciada após testes da água e reuniões entre autoridades',\n",
              "   'url': 'https://esporte.ig.com.br/olimpiadas/2024-07-29/olimpiada--treino-do-triatlo-e-novamente-cancelado-por-conta-da-qualidade-da-agua.html',\n",
              "   'urlToImage': 'https://i0.statig.com.br/bancodeimagens/02/hq/9g/02hq9gudtxyjbkwa6ceswaj5r.jpg',\n",
              "   'publishedAt': '2024-07-29T10:26:40Z',\n",
              "   'content': 'O\\xa0Comitê Olímpico Internacional (COI)\\xa0confirmou que o treino preparatório para os atletas de triatlo no\\xa0Rio Sena\\xa0foi novamente cancelado.\\xa0 Assim como aconteceu neste domingo (28), a qualidade da água… [+1687 chars]'},\n",
              "  {'source': {'id': None, 'name': 'Terra.com.br'},\n",
              "   'author': 'Mais Novela',\n",
              "   'title': 'Rayssa Leal pode sofrer punição após gesto proibido nas Olimpíadas de Paris',\n",
              "   'description': 'Skatista Rayssa Leal faz gesto proibido nas Olimpíadas de Paris e pode sofrer punição severa; saiba detalhes!',\n",
              "   'url': 'https://www.terra.com.br/diversao/gente/rayssa-leal-pode-sofrer-punicao-apos-gesto-proibido-nas-olimpiadas-de-paris,d729eca4afb5574140ea6a4ebd491563mermq3ij.html',\n",
              "   'urlToImage': 'https://p2.trrsf.com/image/fget/cf/1200/630/middle/images.terra.com/2024/07/29/204178024-rayssa-leal-olimpiadas.jpg',\n",
              "   'publishedAt': '2024-07-29T17:40:57Z',\n",
              "   'content': 'A skatista Rayssa Leal, que conquistou a medalha de bronze ao ficar em terceiro lugar na competição de skate street, gerou polêmica no último domingo, 28/07. A jovem de apenas 16 anos teria quebrado … [+885 chars]'}]}"
            ]
          },
          "metadata": {},
          "execution_count": 8
        }
      ]
    },
    {
      "cell_type": "code",
      "source": [
        "import pandas as pd\n",
        "\n",
        "# carregar o JSON\n",
        "dados = resposta.json()\n",
        "\n",
        "# converter JSON em DataFrame\n",
        "df = pd.json_normalize(dados['articles'])\n",
        "\n",
        "# exibir o DataFrame\n",
        "print(df.head())"
      ],
      "metadata": {
        "colab": {
          "base_uri": "https://localhost:8080/"
        },
        "id": "GuH4GzEzQFGJ",
        "outputId": "f857a39b-aaf4-4b8e-9600-d77aa64cf1bf"
      },
      "execution_count": null,
      "outputs": [
        {
          "output_type": "stream",
          "name": "stdout",
          "text": [
            "                       author  \\\n",
            "0             Igor Nishikiori   \n",
            "1               Redação Terra   \n",
            "2  Felipe Nunes, Felipe Nunes   \n",
            "3      iG Esporte, iG Esporte   \n",
            "4      iG Esporte, iG Esporte   \n",
            "\n",
            "                                               title  \\\n",
            "0  Brasil x Japão: onde assistir ao jogo da seleç...   \n",
            "1  Como assim o Taiti é na França? Conheça a Poli...   \n",
            "2  Céline Dion deixa Paris e agradece por retorno...   \n",
            "3  Esgrima: Guilherme\\nToldo perde na estreia e é...   \n",
            "4  Olímpiada: Guilherme Cachorrão fica fora da fi...   \n",
            "\n",
            "                                         description  \\\n",
            "0  Equipes se enfrentam pela fase de grupos da Ol...   \n",
            "1  Disputas do surfe ocorrem na praia de Teahupo'...   \n",
            "2  Artista voltou aos palcos após cinco anos e já...   \n",
            "3  Atleta brasileiro disputava sua quarta edição ...   \n",
            "4  Nadador brasileiro não conseguiu emplacar bom ...   \n",
            "\n",
            "                                                 url  \\\n",
            "0  https://gizmodo.uol.com.br/onde-assistir-brasi...   \n",
            "1  https://www.terra.com.br/noticias/educacao/com...   \n",
            "2  https://gente.ig.com.br/celebridades/2024-07-2...   \n",
            "3  https://esporte.ig.com.br/olimpiadas/2024-07-2...   \n",
            "4  https://esporte.ig.com.br/olimpiadas/2024-07-2...   \n",
            "\n",
            "                                          urlToImage           publishedAt  \\\n",
            "0  https://gizmodo.uol.com.br/wp-content/blogs.di...  2024-07-28T10:00:14Z   \n",
            "1  https://p2.trrsf.com/image/fget/cf/1200/630/mi...  2024-07-29T23:27:28Z   \n",
            "2  https://i0.statig.com.br/bancodeimagens/ed/gx/...  2024-07-28T12:36:44Z   \n",
            "3  https://i0.statig.com.br/bancodeimagens/9d/1g/...  2024-07-29T11:55:20Z   \n",
            "4  https://i0.statig.com.br/bancodeimagens/99/hz/...  2024-07-29T10:54:18Z   \n",
            "\n",
            "                                             content source.id   source.name  \n",
            "0  A seleção feminina de futebol enfrenta o Japão...      None    Uol.com.br  \n",
            "1  Antes mesmo do início das provas, a disputa do...      None  Terra.com.br  \n",
            "2  A cantora e compositora  Céline Dion, de 56 an...      None     Ig.com.br  \n",
            "3  O esgrimista Guilherme Toldo\\r\\nfoi eliminado ...      None     Ig.com.br  \n",
            "4  Guilherme Costa,\\r\\no popular Cachorrão,\\r\\nnã...      None     Ig.com.br  \n"
          ]
        }
      ]
    },
    {
      "cell_type": "code",
      "source": [
        "print(dados['totalResults'])"
      ],
      "metadata": {
        "colab": {
          "base_uri": "https://localhost:8080/"
        },
        "id": "ATqzyOpxQ-bW",
        "outputId": "f2aa995d-9dc8-459d-a27e-5f27580e7da4"
      },
      "execution_count": null,
      "outputs": [
        {
          "output_type": "stream",
          "name": "stdout",
          "text": [
            "7\n"
          ]
        }
      ]
    },
    {
      "cell_type": "markdown",
      "source": [
        "**Obtenha as principais manchetes atuais de um país ou categoria**"
      ],
      "metadata": {
        "id": "I63eikpuRX7J"
      }
    },
    {
      "cell_type": "markdown",
      "source": [
        "`https://newsapi.org/docs/endpoints/top-headlines`"
      ],
      "metadata": {
        "id": "077XXtm3UISB"
      }
    },
    {
      "cell_type": "code",
      "source": [
        "import requests\n",
        "\n",
        "url = ('https://newsapi.org/v2/top-headlines?country=br&'\n",
        "       'pageSize=100&'\n",
        "       'apiKey=' + NEWS_API_KEY)\n",
        "\n",
        "resposta = requests.get(url)"
      ],
      "metadata": {
        "id": "Fum3m1YgReMA"
      },
      "execution_count": null,
      "outputs": []
    },
    {
      "cell_type": "code",
      "source": [
        "dados = resposta.json()\n",
        "\n",
        "print(dados['totalResults'])"
      ],
      "metadata": {
        "colab": {
          "base_uri": "https://localhost:8080/"
        },
        "id": "4Zw4PMZ8TGJU",
        "outputId": "2da998f4-4cc9-4d7d-c7ef-558b6e58f478"
      },
      "execution_count": null,
      "outputs": [
        {
          "output_type": "stream",
          "name": "stdout",
          "text": [
            "34\n"
          ]
        }
      ]
    },
    {
      "cell_type": "code",
      "source": [
        "dados"
      ],
      "metadata": {
        "colab": {
          "base_uri": "https://localhost:8080/"
        },
        "id": "Hte5S06JTRD4",
        "outputId": "32c24005-10d4-4a22-dda1-fbef95f08f9d"
      },
      "execution_count": null,
      "outputs": [
        {
          "output_type": "execute_result",
          "data": {
            "text/plain": [
              "{'status': 'ok',\n",
              " 'totalResults': 34,\n",
              " 'articles': [{'source': {'id': 'google-news', 'name': 'Google News'},\n",
              "   'author': 'UOL Confere',\n",
              "   'title': 'Motociclista é morto atropelado por motorista de Porsche na zona sul de SP - UOL Confere',\n",
              "   'description': None,\n",
              "   'url': 'https://news.google.com/rss/articles/CBMikAFodHRwczovL25vdGljaWFzLnVvbC5jb20uYnIvY290aWRpYW5vL3VsdGltYXMtbm90aWNpYXMvMjAyNC8wNy8yOS9tb3RvY2ljbGlzdGEtZS1tb3J0by1hdHJvcGVsYWRvLXBvci1tb3RvcmlzdGEtZGUtcG9yc2NoZS1uYS16b25hLXN1bC1kZS1zcC5odG3SAQA?oc=5',\n",
              "   'urlToImage': None,\n",
              "   'publishedAt': '2024-07-29T12:05:12Z',\n",
              "   'content': None},\n",
              "  {'source': {'id': 'google-news', 'name': 'Google News'},\n",
              "   'author': 'UOL Confere',\n",
              "   'title': 'Reinaldo Azevedo: Maduro e a \"democracia do inimigo\". Ou: Fascistas que falam com aves e cães - UOL Confere',\n",
              "   'description': None,\n",
              "   'url': 'https://news.google.com/rss/articles/CBMiiwFodHRwczovL25vdGljaWFzLnVvbC5jb20uYnIvY29sdW5hcy9yZWluYWxkby1hemV2ZWRvLzIwMjQvMDcvMjkvbWFkdXJvLWUtYS1kZW1vY3JhY2lhLWRvLWluaW1pZ28tb3UtZmFzY2lzdGFzLXF1ZS1mYWxhbS1jb20tYXZlcy1lLWNhZXMuaHRt0gEA?oc=5',\n",
              "   'urlToImage': None,\n",
              "   'publishedAt': '2024-07-29T12:03:22Z',\n",
              "   'content': None},\n",
              "  {'source': {'id': 'google-news', 'name': 'Google News'},\n",
              "   'author': 'O Antagonista',\n",
              "   'title': 'Atlético-MG vence o Corinthians e se recupera no Brasileirão - O Antagonista',\n",
              "   'description': None,\n",
              "   'url': 'https://news.google.com/rss/articles/CBMiYmh0dHBzOi8vb2FudGFnb25pc3RhLmNvbS5ici9lc3BvcnRlcy9hdGxldGljby1tZy12ZW5jZS1vLWNvcmludGhpYW5zLWUtc2UtcmVjdXBlcmEtbm8tYnJhc2lsZWlyYW8v0gEA?oc=5',\n",
              "   'urlToImage': None,\n",
              "   'publishedAt': '2024-07-29T11:45:00Z',\n",
              "   'content': None},\n",
              "  {'source': {'id': 'google-news', 'name': 'Google News'},\n",
              "   'author': 'Splash',\n",
              "   'title': 'Nicole Kidman foi muito gente como a gente nas Olimpíadas - Splash',\n",
              "   'description': None,\n",
              "   'url': 'https://news.google.com/rss/articles/CBMiTmh0dHBzOi8vd3d3LnVvbC5jb20uYnIvc3BsYXNoL25vdGljaWFzLzIwMjQvMDcvMjkvbmljb2xlLWtpZG1hbi1vbGltcGlhZGFzLmh0bdIBAA?oc=5',\n",
              "   'urlToImage': None,\n",
              "   'publishedAt': '2024-07-29T11:44:00Z',\n",
              "   'content': None},\n",
              "  {'source': {'id': 'google-news', 'name': 'Google News'},\n",
              "   'author': 'Globo.com',\n",
              "   'title': 'Classificada para a semi, Rafaela Silva jamais tomou um golpe em Olimpíadas - Globo.com',\n",
              "   'description': None,\n",
              "   'url': 'https://news.google.com/rss/articles/CBMigwFodHRwczovL2dlLmdsb2JvLmNvbS9vbGltcGlhZGFzL25vdGljaWEvMjAyNC8wNy8yOS9jbGFzc2lmaWNhZGEtcGFyYS1hLXNlbWktcmFmYWVsYS1zaWx2YS1qYW1haXMtdG9tb3UtdW0tZ29scGUtZW0tb2xpbXBpYWRhcy5naHRtbNIBjgFodHRwczovL2dlLmdsb2JvLmNvbS9nb29nbGUvYW1wL29saW1waWFkYXMvbm90aWNpYS8yMDI0LzA3LzI5L2NsYXNzaWZpY2FkYS1wYXJhLWEtc2VtaS1yYWZhZWxhLXNpbHZhLWphbWFpcy10b21vdS11bS1nb2xwZS1lbS1vbGltcGlhZGFzLmdodG1s?oc=5',\n",
              "   'urlToImage': None,\n",
              "   'publishedAt': '2024-07-29T11:25:05Z',\n",
              "   'content': None},\n",
              "  {'source': {'id': 'google-news', 'name': 'Google News'},\n",
              "   'author': 'InfoMoney',\n",
              "   'title': 'Ibovespa Ao Vivo: Confira o que movimenta Bolsa, Dólar e Juros nesta segunda - InfoMoney',\n",
              "   'description': None,\n",
              "   'url': 'https://news.google.com/rss/articles/CBMiVmh0dHBzOi8vd3d3LmluZm9tb25leS5jb20uYnIvbWVyY2Fkb3MvaWJvdmVzcGEtaG9qZS1ib2xzYS1kZS12YWxvcmVzLWFvLXZpdm8tMjkwNzIwMjQv0gEA?oc=5',\n",
              "   'urlToImage': None,\n",
              "   'publishedAt': '2024-07-29T11:00:00Z',\n",
              "   'content': None},\n",
              "  {'source': {'id': 'google-news', 'name': 'Google News'},\n",
              "   'author': 'Metrópoles',\n",
              "   'title': 'Nova sabotagem nas Olimpíadas atinge fibras óticas e afeta a internet - Metrópoles',\n",
              "   'description': None,\n",
              "   'url': 'https://news.google.com/rss/articles/CBMiZmh0dHBzOi8vd3d3Lm1ldHJvcG9sZXMuY29tL211bmRvL25vdmEtc2Fib3RhZ2VtLW5hcy1vbGltcGlhZGFzLWF0aW5nZS1maWJyYXMtb3RpY2FzLWUtYWZldGEtYS1pbnRlcm5ldNIBAA?oc=5',\n",
              "   'urlToImage': None,\n",
              "   'publishedAt': '2024-07-29T10:41:48Z',\n",
              "   'content': None},\n",
              "  {'source': {'id': 'google-news', 'name': 'Google News'},\n",
              "   'author': 'Itatiaia',\n",
              "   'title': 'Ônibus para com defeito em cima de linha férrea e é atropelado por trem em MG - Itatiaia',\n",
              "   'description': None,\n",
              "   'url': 'https://news.google.com/rss/articles/CBMifGh0dHBzOi8vd3d3Lml0YXRpYWlhLmNvbS5ici9jaWRhZGVzLzIwMjQvMDcvMjkvb25pYnVzLXBhcmEtY29tLWRlZmVpdG8tZW0tY2ltYS1kZS1saW5oYS1mZXJyZWEtZS1lLWF0cm9wZWxhZG8tcG9yLXRyZW0tZW0tbWfSAQA?oc=5',\n",
              "   'urlToImage': None,\n",
              "   'publishedAt': '2024-07-29T10:27:00Z',\n",
              "   'content': None},\n",
              "  {'source': {'id': 'google-news', 'name': 'Google News'},\n",
              "   'author': 'G1',\n",
              "   'title': 'iPhone: veja 5 dicas para melhorar o uso e a segurança do celular da Apple - G1',\n",
              "   'description': None,\n",
              "   'url': 'https://news.google.com/rss/articles/CBMijAFodHRwczovL2cxLmdsb2JvLmNvbS9ndWlhL2d1aWEtZGUtY29tcHJhcy90ZWNub2xvZ2lhL2NlbHVsYXJlcy9pcGhvbmUtdmVqYS1kaWNhcy1wYXJhLW1lbGhvcmFyLW8tdXNvLWUtYS1zZWd1cmFuY2EtZG8tY2VsdWxhci1kYS1hcHBsZS5naHRtbNIBlwFodHRwczovL2cxLmdsb2JvLmNvbS9nb29nbGUvYW1wL2d1aWEvZ3VpYS1kZS1jb21wcmFzL3RlY25vbG9naWEvY2VsdWxhcmVzL2lwaG9uZS12ZWphLWRpY2FzLXBhcmEtbWVsaG9yYXItby11c28tZS1hLXNlZ3VyYW5jYS1kby1jZWx1bGFyLWRhLWFwcGxlLmdodG1s?oc=5',\n",
              "   'urlToImage': None,\n",
              "   'publishedAt': '2024-07-29T10:00:11Z',\n",
              "   'content': None},\n",
              "  {'source': {'id': 'google-news', 'name': 'Google News'},\n",
              "   'author': 'Notícias da TV',\n",
              "   'title': \"Fábio Porchat chora ao lembrar de relação conturbada com Jô Soares: 'Só porrada' - Notícias da TV\",\n",
              "   'description': None,\n",
              "   'url': 'https://news.google.com/rss/articles/CBMihgFodHRwczovL25vdGljaWFzZGF0di51b2wuY29tLmJyL25vdGljaWEvdGVsZXZpc2FvL2ZhYmlvLXBvcmNoYXQtY2hvcmEtYW8tbGVtYnJhci1kZS1yZWxhY2FvLWNvbnR1cmJhZGEtY29tLWpvLXNvYXJlcy1zby1wb3JyYWRhLTEyMzEzMtIBkQFodHRwczovL25vdGljaWFzZGF0di51b2wuY29tLmJyL21vYmlsZS9ub3RpY2lhL3RlbGV2aXNhby9mYWJpby1wb3JjaGF0LWNob3JhLWFvLWxlbWJyYXItZGUtcmVsYWNhby1jb250dXJiYWRhLWNvbS1qby1zb2FyZXMtc28tcG9ycmFkYS0xMjMxMzIuYW1w?oc=5',\n",
              "   'urlToImage': None,\n",
              "   'publishedAt': '2024-07-29T09:56:00Z',\n",
              "   'content': None},\n",
              "  {'source': {'id': 'google-news', 'name': 'Google News'},\n",
              "   'author': 'BNews',\n",
              "   'title': 'José Eduardo gera ciúmes na Globo por causa de Davi Brito; entenda - BNews',\n",
              "   'description': None,\n",
              "   'url': 'https://news.google.com/rss/articles/CBMid2h0dHBzOi8vd3d3LmJuZXdzLmNvbS5ici9ub3RpY2lhcy9lbnRyZXRlbmltZW50by9qb3NlLWVkdWFyZG8tZ2VyYS1jaXVtZXMtbmEtZ2xvYm8tcG9yLWNhdXNhLWRlLWRhdmktYnJpdG8tZW50ZW5kYS5odG1s0gF7aHR0cHM6Ly93d3cuYm5ld3MuY29tLmJyL2FtcC9ub3RpY2lhcy9lbnRyZXRlbmltZW50by9qb3NlLWVkdWFyZG8tZ2VyYS1jaXVtZXMtbmEtZ2xvYm8tcG9yLWNhdXNhLWRlLWRhdmktYnJpdG8tZW50ZW5kYS5odG1s?oc=5',\n",
              "   'urlToImage': None,\n",
              "   'publishedAt': '2024-07-29T09:43:21Z',\n",
              "   'content': None},\n",
              "  {'source': {'id': 'google-news', 'name': 'Google News'},\n",
              "   'author': 'O Antagonista',\n",
              "   'title': 'Bispo chama paródia da Última Ceia nas Olimpíadas de \"hedionda\" - O Antagonista',\n",
              "   'description': None,\n",
              "   'url': 'https://news.google.com/rss/articles/CBMiZGh0dHBzOi8vb2FudGFnb25pc3RhLmNvbS5ici9zb2NpZWRhZGUvYmlzcG8tY2hhbWEtcGFyb2RpYS1kYS11bHRpbWEtY2VpYS1uYXMtb2xpbXBpYWRhcy1kZS1oZWRpb25kYS_SAQA?oc=5',\n",
              "   'urlToImage': None,\n",
              "   'publishedAt': '2024-07-29T09:38:00Z',\n",
              "   'content': None},\n",
              "  {'source': {'id': 'google-news', 'name': 'Google News'},\n",
              "   'author': 'BBC News Brasil',\n",
              "   'title': 'Eleição na Venezuela: Maduro vence, segundo conselho, mas oposição contesta - BBC News Brasil',\n",
              "   'description': None,\n",
              "   'url': 'https://news.google.com/rss/articles/CBMiNGh0dHBzOi8vd3d3LmJiYy5jb20vcG9ydHVndWVzZS9hcnRpY2xlcy9jeHgyNTN5M2Q5Mm_SAThodHRwczovL3d3dy5iYmMuY29tL3BvcnR1Z3Vlc2UvYXJ0aWNsZXMvY3h4MjUzeTNkOTJvLmFtcA?oc=5',\n",
              "   'urlToImage': None,\n",
              "   'publishedAt': '2024-07-29T09:37:49Z',\n",
              "   'content': None},\n",
              "  {'source': {'id': 'google-news', 'name': 'Google News'},\n",
              "   'author': 'Terra',\n",
              "   'title': 'Márcia Fu acredita que Brasil vai conquistar ouro no vôlei feminino nos Jogos de Paris - Terra',\n",
              "   'description': None,\n",
              "   'url': 'https://news.google.com/rss/articles/CBMitgFodHRwczovL3d3dy50ZXJyYS5jb20uYnIvZXNwb3J0ZXMvam9nb3Mtb2xpbXBpY29zL21hcmNpYS1mdS1hY3JlZGl0YS1xdWUtYnJhc2lsLXZhaS1jb25xdWlzdGFyLW91cm8tbm8tdm9sZWktZmVtaW5pbm8tbm9zLWpvZ29zLWRlLXBhcmlzLDU3YjBhYTlmZjBhMGRmM2QxY2NjMzI5OWMwMjdkNTYyNWRja3B6dDQuaHRtbNIBAA?oc=5',\n",
              "   'urlToImage': None,\n",
              "   'publishedAt': '2024-07-29T09:37:00Z',\n",
              "   'content': None},\n",
              "  {'source': {'id': 'google-news', 'name': 'Google News'},\n",
              "   'author': 'Metrópoles',\n",
              "   'title': 'Chefão do PSDB fala sobre destino de Datena após confusão em convenção - Metrópoles',\n",
              "   'description': None,\n",
              "   'url': 'https://news.google.com/rss/articles/CBMiTmh0dHBzOi8vd3d3Lm1ldHJvcG9sZXMuY29tL2NvbHVuYXMvaWdvci1nYWRlbGhhL2NoZWZhby1kby1wc2RiLWRhdGVuYS1jb25mdXNhb9IBAA?oc=5',\n",
              "   'urlToImage': None,\n",
              "   'publishedAt': '2024-07-29T08:30:12Z',\n",
              "   'content': None},\n",
              "  {'source': {'id': 'google-news', 'name': 'Google News'},\n",
              "   'author': 'G1',\n",
              "   'title': 'Tesouro IPCA+ 6% ao ano: veja como investir e riscos de um dos títulos mais vantajosos do momento - G1',\n",
              "   'description': None,\n",
              "   'url': 'https://news.google.com/rss/articles/CBMisAFodHRwczovL2cxLmdsb2JvLmNvbS9lY29ub21pYS9lZHVjYWNhby1maW5hbmNlaXJhL25vdGljaWEvMjAyNC8wNy8yOS90ZXNvdXJvLWlwY2EtNnBlcmNlbnQtYW8tYW5vLXZlamEtY29tby1pbnZlc3Rpci1lLXJpc2Nvcy1kZS11bS1kb3MtdGl0dWxvcy1tYWlzLXZhbnRham9zb3MtZG8tbW9tZW50by5naHRtbNIBuwFodHRwczovL2cxLmdsb2JvLmNvbS9nb29nbGUvYW1wL2Vjb25vbWlhL2VkdWNhY2FvLWZpbmFuY2VpcmEvbm90aWNpYS8yMDI0LzA3LzI5L3Rlc291cm8taXBjYS02cGVyY2VudC1hby1hbm8tdmVqYS1jb21vLWludmVzdGlyLWUtcmlzY29zLWRlLXVtLWRvcy10aXR1bG9zLW1haXMtdmFudGFqb3Nvcy1kby1tb21lbnRvLmdodG1s?oc=5',\n",
              "   'urlToImage': None,\n",
              "   'publishedAt': '2024-07-29T08:03:26Z',\n",
              "   'content': None},\n",
              "  {'source': {'id': 'google-news', 'name': 'Google News'},\n",
              "   'author': 'G1',\n",
              "   'title': 'Cânceres silenciosos: eis o que você precisa saber quando não há sintomas óbvios - G1',\n",
              "   'description': None,\n",
              "   'url': 'https://news.google.com/rss/articles/CBMigwFodHRwczovL2cxLmdsb2JvLmNvbS9zYXVkZS9ub3RpY2lhLzIwMjQvMDcvMjkvY2FuY2VyZXMtc2lsZW5jaW9zb3MtZWlzLW8tcXVlLXZvY2UtcHJlY2lzYS1zYWJlci1xdWFuZG8tbmFvLWhhLXNpbnRvbWFzLW9idmlvcy5naHRtbNIBAA?oc=5',\n",
              "   'urlToImage': None,\n",
              "   'publishedAt': '2024-07-29T07:55:00Z',\n",
              "   'content': None},\n",
              "  {'source': {'id': 'google-news', 'name': 'Google News'},\n",
              "   'author': 'Tilt',\n",
              "   'title': 'SearchGPT: a ferramenta de inteligência artificial que quer desafiar Google - Tilt',\n",
              "   'description': None,\n",
              "   'url': 'https://news.google.com/rss/articles/CBMiamh0dHBzOi8vd3d3LnVvbC5jb20uYnIvdGlsdC9ub3RpY2lhcy9hZnAvMjAyNC8wNy8yOS9vcGVuYWktZGVzYWZpYXJhLWdvb2dsZS1jb20tbm92YXMtZnVuY29lcy1kZS1idXNjYS5odG3SAQA?oc=5',\n",
              "   'urlToImage': None,\n",
              "   'publishedAt': '2024-07-29T07:00:00Z',\n",
              "   'content': None},\n",
              "  {'source': {'id': 'google-news', 'name': 'Google News'},\n",
              "   'author': 'G1',\n",
              "   'title': 'A volta emocionante de Celine Dion, afastada dos palcos por causa de uma doença degenerativa grave - G1',\n",
              "   'description': None,\n",
              "   'url': 'https://news.google.com/rss/articles/CBMipwFodHRwczovL2cxLmdsb2JvLmNvbS9mYW50YXN0aWNvL25vdGljaWEvMjAyNC8wNy8yOC9hLXZvbHRhLWVtb2Npb25hbnRlLWRlLWNlbGluZS1kaW9uLWFmYXN0YWRhLWhhLWRvaXMtYW5vcy1kb3MtcGFsY29zLXBvci1jYXVzYS1kZS11bWEtZG9lbmNhLWRlZ2VuZXJhdGl2YS1ncmF2ZS5naHRtbNIBsgFodHRwczovL2cxLmdsb2JvLmNvbS9nb29nbGUvYW1wL2ZhbnRhc3RpY28vbm90aWNpYS8yMDI0LzA3LzI4L2Etdm9sdGEtZW1vY2lvbmFudGUtZGUtY2VsaW5lLWRpb24tYWZhc3RhZGEtaGEtZG9pcy1hbm9zLWRvcy1wYWxjb3MtcG9yLWNhdXNhLWRlLXVtYS1kb2VuY2EtZGVnZW5lcmF0aXZhLWdyYXZlLmdodG1s?oc=5',\n",
              "   'urlToImage': None,\n",
              "   'publishedAt': '2024-07-29T02:43:00Z',\n",
              "   'content': None},\n",
              "  {'source': {'id': 'google-news', 'name': 'Google News'},\n",
              "   'author': 'G1',\n",
              "   'title': 'Mãe que teve a filha recém-nascida sequestrada por uma médica em MG fala ao Fantástico: ‘a gente está muito transtornado’ - G1',\n",
              "   'description': None,\n",
              "   'url': 'https://news.google.com/rss/articles/CBMimgFodHRwczovL2cxLmdsb2JvLmNvbS9mYW50YXN0aWNvL25vdGljaWEvMjAyNC8wNy8yOC9lbnRyZXZpc3RhLWV4Y2x1c2l2YS1jb20tYS1tYWUtZGEtYmViZS1yZWNlbS1uYXNjaWRhLXNlcXVlc3RyYWRhLXBvci11bWEtbWVkaWNhLWVtLWhvc3BpdGFsLWRlLW1nLmdodG1s0gGlAWh0dHBzOi8vZzEuZ2xvYm8uY29tL2dvb2dsZS9hbXAvZmFudGFzdGljby9ub3RpY2lhLzIwMjQvMDcvMjgvZW50cmV2aXN0YS1leGNsdXNpdmEtY29tLWEtbWFlLWRhLWJlYmUtcmVjZW0tbmFzY2lkYS1zZXF1ZXN0cmFkYS1wb3ItdW1hLW1lZGljYS1lbS1ob3NwaXRhbC1kZS1tZy5naHRtbA?oc=5',\n",
              "   'urlToImage': None,\n",
              "   'publishedAt': '2024-07-29T01:59:00Z',\n",
              "   'content': None},\n",
              "  {'source': {'id': 'google-news', 'name': 'Google News'},\n",
              "   'author': 'G1',\n",
              "   'title': \"Após testemunhar atropelamento do marido, viúva revela detalhes do acidente: 'foi muito rápido, muito de repente' - G1\",\n",
              "   'description': None,\n",
              "   'url': 'https://news.google.com/rss/articles/CBMipQFodHRwczovL2cxLmdsb2JvLmNvbS9mYW50YXN0aWNvL25vdGljaWEvMjAyNC8wNy8yOC9hcG9zLXRlc3RlbXVuaGFyLWF0cm9wZWxhbWVudG8tZG8tbWFyaWRvLXZpdXZhLXJldmVsYS1kZXRhbGhlcy1kby1hY2lkZW50ZS1mb2ktbXVpdG8tcmFwaWRvLW11aXRvLWRlLXJlcGVudGUuZ2h0bWzSAbABaHR0cHM6Ly9nMS5nbG9iby5jb20vZ29vZ2xlL2FtcC9mYW50YXN0aWNvL25vdGljaWEvMjAyNC8wNy8yOC9hcG9zLXRlc3RlbXVuaGFyLWF0cm9wZWxhbWVudG8tZG8tbWFyaWRvLXZpdXZhLXJldmVsYS1kZXRhbGhlcy1kby1hY2lkZW50ZS1mb2ktbXVpdG8tcmFwaWRvLW11aXRvLWRlLXJlcGVudGUuZ2h0bWw?oc=5',\n",
              "   'urlToImage': None,\n",
              "   'publishedAt': '2024-07-29T01:02:00Z',\n",
              "   'content': None},\n",
              "  {'source': {'id': 'google-news', 'name': 'Google News'},\n",
              "   'author': 'UOL',\n",
              "   'title': 'Exame de sangue detecta Alzheimer com mais precisão do que médicos, diz estudo - UOL',\n",
              "   'description': None,\n",
              "   'url': 'https://news.google.com/rss/articles/CBMiigFodHRwczovL3d3dzEuZm9saGEudW9sLmNvbS5ici9lcXVpbGlicmlvZXNhdWRlLzIwMjQvMDcvZXhhbWUtZGUtc2FuZ3VlLWRldGVjdGEtYWx6aGVpbWVyLWNvbS1tYWlzLXByZWNpc2FvLWRvLXF1ZS1tZWRpY29zLWRpei1lc3R1ZG8uc2h0bWzSAY4BaHR0cHM6Ly93d3cxLmZvbGhhLnVvbC5jb20uYnIvYW1wL2VxdWlsaWJyaW9lc2F1ZGUvMjAyNC8wNy9leGFtZS1kZS1zYW5ndWUtZGV0ZWN0YS1hbHpoZWltZXItY29tLW1haXMtcHJlY2lzYW8tZG8tcXVlLW1lZGljb3MtZGl6LWVzdHVkby5zaHRtbA?oc=5',\n",
              "   'urlToImage': None,\n",
              "   'publishedAt': '2024-07-29T00:42:00Z',\n",
              "   'content': None},\n",
              "  {'source': {'id': 'google-news', 'name': 'Google News'},\n",
              "   'author': 'Gazeta do Povo',\n",
              "   'title': 'Lula faz balanço com reforço de promessas e ataques a Bolsonaro - Gazeta do Povo',\n",
              "   'description': None,\n",
              "   'url': 'https://news.google.com/rss/articles/CBMidWh0dHBzOi8vd3d3LmdhemV0YWRvcG92by5jb20uYnIvcmVwdWJsaWNhL2x1bGEtZmF6LWJhbGFuY28tZG8tZ292ZXJuby1jb20tcmVmb3Jjby1kZS1wcm9tZXNzYXMtZS1hdGFxdWVzLWEtYm9sc29uYXJvL9IBeWh0dHBzOi8vd3d3LmdhemV0YWRvcG92by5jb20uYnIvcmVwdWJsaWNhL2x1bGEtZmF6LWJhbGFuY28tZG8tZ292ZXJuby1jb20tcmVmb3Jjby1kZS1wcm9tZXNzYXMtZS1hdGFxdWVzLWEtYm9sc29uYXJvL2FtcC8?oc=5',\n",
              "   'urlToImage': None,\n",
              "   'publishedAt': '2024-07-29T00:37:00Z',\n",
              "   'content': None},\n",
              "  {'source': {'id': 'google-news', 'name': 'Google News'},\n",
              "   'author': 'Poder360',\n",
              "   'title': 'Kamala Harris ganhou popularidade após desistência de Biden - Poder360',\n",
              "   'description': None,\n",
              "   'url': 'https://news.google.com/rss/articles/CBMia2h0dHBzOi8vd3d3LnBvZGVyMzYwLmNvbS5ici9wb2Rlci1pbnRlcm5hY2lvbmFsLzQzLXNhby1mYXZvcmF2ZWlzLWEta2FtYWxhLWUtNDItbmFvLXNhby1kaXotYWJjLW5ld3MtaXBzb3Mv0gEA?oc=5',\n",
              "   'urlToImage': None,\n",
              "   'publishedAt': '2024-07-29T00:19:21Z',\n",
              "   'content': None},\n",
              "  {'source': {'id': 'google-news', 'name': 'Google News'},\n",
              "   'author': 'UOL',\n",
              "   'title': 'Gabinete de guerra de Israel autoriza Netanyahu a retaliar ataque do Hezbollah - UOL',\n",
              "   'description': None,\n",
              "   'url': 'https://news.google.com/rss/articles/CBMigAFodHRwczovL3d3dzEuZm9saGEudW9sLmNvbS5ici9tdW5kby8yMDI0LzA3L2dhYmluZXRlLWRlLWd1ZXJyYS1kZS1pc3JhZWwtYXV0b3JpemEtbmV0YW55YWh1LWEtcmV0YWxpYXItYXRhcXVlLWRvLWhlemJvbGxhaC5zaHRtbNIBhAFodHRwczovL3d3dzEuZm9saGEudW9sLmNvbS5ici9hbXAvbXVuZG8vMjAyNC8wNy9nYWJpbmV0ZS1kZS1ndWVycmEtZGUtaXNyYWVsLWF1dG9yaXphLW5ldGFueWFodS1hLXJldGFsaWFyLWF0YXF1ZS1kby1oZXpib2xsYWguc2h0bWw?oc=5',\n",
              "   'urlToImage': None,\n",
              "   'publishedAt': '2024-07-28T23:28:00Z',\n",
              "   'content': None},\n",
              "  {'source': {'id': 'google-news', 'name': 'Google News'},\n",
              "   'author': 'BM&C NEWS',\n",
              "   'title': 'Os impostos \"Taxa das Blusinhas\" e seu impacto nas lojas virtuais - BM&C NEWS',\n",
              "   'description': None,\n",
              "   'url': 'https://news.google.com/rss/articles/CBMiYmh0dHBzOi8vYm1jbmV3cy5jb20uYnIvMjAyNC8wNy8yOC9vcy1pbXBvc3Rvcy10YXhhLWRhcy1ibHVzaW5oYXMtZS1zZXUtaW1wYWN0by1uYXMtbG9qYXMtdmlydHVhaXMv0gEA?oc=5',\n",
              "   'urlToImage': None,\n",
              "   'publishedAt': '2024-07-28T20:30:50Z',\n",
              "   'content': None},\n",
              "  {'source': {'id': 'google-news', 'name': 'Google News'},\n",
              "   'author': 'Climatempo',\n",
              "   'title': 'Última segunda de julho com frente fria avançando no Brasil - Climatempo',\n",
              "   'description': None,\n",
              "   'url': 'https://news.google.com/rss/articles/CBMicWh0dHBzOi8vd3d3LmNsaW1hdGVtcG8uY29tLmJyL25vdGljaWEvMjAyNC8wNy8yOC91bHRpbWEtc2VndW5kYS1kZS1qdWxoby1jb20tZnJlbnRlLWZyaWEtYXZhbmNhbmRvLW5vLWJyYXNpbC01ODU10gEA?oc=5',\n",
              "   'urlToImage': None,\n",
              "   'publishedAt': '2024-07-28T15:22:00Z',\n",
              "   'content': None},\n",
              "  {'source': {'id': 'google-news', 'name': 'Google News'},\n",
              "   'author': 'Tempo.com',\n",
              "   'title': 'Brasil confirma as primeiras mortes por febre do Oropouche no mundo - Tempo.com',\n",
              "   'description': None,\n",
              "   'url': 'https://news.google.com/rss/articles/CBMic2h0dHBzOi8vd3d3LnRlbXBvLmNvbS9ub3RpY2lhcy9hY3R1YWxpZGFkZS9icmFzaWwtY29uZmlybWEtYXMtcHJpbWVpcmFzLW1vcnRlcy1wb3ItZmVicmUtZG8tb3JvcG91Y2hlLW5vLW11bmRvLmh0bWzSAQA?oc=5',\n",
              "   'urlToImage': None,\n",
              "   'publishedAt': '2024-07-28T14:48:01Z',\n",
              "   'content': None},\n",
              "  {'source': {'id': 'google-news', 'name': 'Google News'},\n",
              "   'author': 'Agência Brasil',\n",
              "   'title': 'Dia Mundial contra as Hepatites Virais traz alerta para prevenção - Agência Brasil',\n",
              "   'description': None,\n",
              "   'url': 'https://news.google.com/rss/articles/CBMidWh0dHBzOi8vYWdlbmNpYWJyYXNpbC5lYmMuY29tLmJyL3NhdWRlL25vdGljaWEvMjAyNC0wNy9kaWEtbXVuZGlhbC1jb250cmEtaGVwYXRpdGVzLXZpcmFpcy10cmF6LWFsZXJ0YS1wYXJhLXByZXZlbmNhb9IBAA?oc=5',\n",
              "   'urlToImage': None,\n",
              "   'publishedAt': '2024-07-28T14:46:00Z',\n",
              "   'content': None},\n",
              "  {'source': {'id': 'google-news', 'name': 'Google News'},\n",
              "   'author': 'NSC Total',\n",
              "   'title': 'Duas apostas de SC são premiadas em sorteio da Mega-Sena - NSC Total',\n",
              "   'description': None,\n",
              "   'url': 'https://news.google.com/rss/articles/CBMiXWh0dHBzOi8vd3d3Lm5zY3RvdGFsLmNvbS5ici9ub3RpY2lhcy9kdWFzLWFwb3N0YXMtZGUtc2Mtc2FvLXByZW1pYWRhcy1lbS1zb3J0ZWlvLWRhLW1lZ2Etc2VuYdIBAA?oc=5',\n",
              "   'urlToImage': None,\n",
              "   'publishedAt': '2024-07-28T14:44:00Z',\n",
              "   'content': None},\n",
              "  {'source': {'id': 'google-news', 'name': 'Google News'},\n",
              "   'author': 'UOL',\n",
              "   'title': 'F1: Russell vence na Bélgica em 1-2 da Mercedes; Verstappen P5 - UOL',\n",
              "   'description': None,\n",
              "   'url': 'https://news.google.com/rss/articles/CBMikwFodHRwczovL21vdG9yc3BvcnQudW9sLmNvbS5ici9mMS9uZXdzL2YxLXJ1c3NlbGwtZGEtYXVsYS1kZS1lc3RyYXRlZ2lhLWUtdmVuY2UtZGUtZm9ybWEtaW5jcml2ZWwtby1ncC1kYS1iZWxnaWNhLWVtLWRvYnJhZGluaGEtZGEtbWVyY2VkZS8xMDYzOTgzNi_SAQA?oc=5',\n",
              "   'urlToImage': None,\n",
              "   'publishedAt': '2024-07-28T14:23:31Z',\n",
              "   'content': None},\n",
              "  {'source': {'id': 'google-news', 'name': 'Google News'},\n",
              "   'author': 'TudoCelular.com',\n",
              "   'title': 'Google Pixel 9 Pro XL ganha review em vídeo antes do lançamento - TudoCelular.com',\n",
              "   'description': None,\n",
              "   'url': 'https://news.google.com/rss/articles/CBMieGh0dHBzOi8vd3d3LnR1ZG9jZWx1bGFyLmNvbS9nb29nbGUvbm90aWNpYXMvbjIyNDIyNS9nb29nbGUtcGl4ZWwtOS1wcm8teGwtZ2FuaGEtcmV2aWV3LWVtLXZpZGVvLWFudGVzLWRvLWxhbmNhbWVudG8uaHRtbNIBAA?oc=5',\n",
              "   'urlToImage': None,\n",
              "   'publishedAt': '2024-07-28T13:30:06Z',\n",
              "   'content': None},\n",
              "  {'source': {'id': 'google-news', 'name': 'Google News'},\n",
              "   'author': 'Euronews',\n",
              "   'title': 'Rússia captura aldeia na região de Donetsk - Euronews',\n",
              "   'description': None,\n",
              "   'url': 'https://news.google.com/rss/articles/CBMiTWh0dHBzOi8vcHQuZXVyb25ld3MuY29tLzIwMjQvMDcvMjgvcnVzc2lhLWNhcHR1cmEtYWxkZWlhLW5hLXJlZ2lhby1kZS1kb25ldHNr0gEA?oc=5',\n",
              "   'urlToImage': None,\n",
              "   'publishedAt': '2024-07-28T08:59:08Z',\n",
              "   'content': None},\n",
              "  {'source': {'id': 'google-news', 'name': 'Google News'},\n",
              "   'author': 'Flow Games',\n",
              "   'title': 'Xbox 360: 9 jogos que marcaram sua história - Flow Games',\n",
              "   'description': None,\n",
              "   'url': 'https://news.google.com/rss/articles/CBMiRGh0dHBzOi8vd3d3LmZsb3dnYW1lcy5nZy94Ym94LTM2MC05LWpvZ29zLXF1ZS1tYXJjYXJhbS1zdWEtaGlzdG9yaWEv0gEA?oc=5',\n",
              "   'urlToImage': None,\n",
              "   'publishedAt': '2024-07-27T18:00:46Z',\n",
              "   'content': None}]}"
            ]
          },
          "metadata": {},
          "execution_count": 22
        }
      ]
    },
    {
      "cell_type": "code",
      "source": [
        "# Extrair e listar títulos dos artigos\n",
        "titulos = [article['title'] for article in dados['articles']]\n",
        "\n",
        "# Exibir os títulos\n",
        "for title in titulos:\n",
        "    print(title)"
      ],
      "metadata": {
        "colab": {
          "base_uri": "https://localhost:8080/"
        },
        "id": "kLtpDoFwVmIx",
        "outputId": "67e1389d-8f9e-478f-c5b1-b872a4f3bc09"
      },
      "execution_count": null,
      "outputs": [
        {
          "output_type": "stream",
          "name": "stdout",
          "text": [
            "Motociclista é morto atropelado por motorista de Porsche na zona sul de SP - UOL Confere\n",
            "Reinaldo Azevedo: Maduro e a \"democracia do inimigo\". Ou: Fascistas que falam com aves e cães - UOL Confere\n",
            "Atlético-MG vence o Corinthians e se recupera no Brasileirão - O Antagonista\n",
            "Nicole Kidman foi muito gente como a gente nas Olimpíadas - Splash\n",
            "Classificada para a semi, Rafaela Silva jamais tomou um golpe em Olimpíadas - Globo.com\n",
            "Ibovespa Ao Vivo: Confira o que movimenta Bolsa, Dólar e Juros nesta segunda - InfoMoney\n",
            "Nova sabotagem nas Olimpíadas atinge fibras óticas e afeta a internet - Metrópoles\n",
            "Ônibus para com defeito em cima de linha férrea e é atropelado por trem em MG - Itatiaia\n",
            "iPhone: veja 5 dicas para melhorar o uso e a segurança do celular da Apple - G1\n",
            "Fábio Porchat chora ao lembrar de relação conturbada com Jô Soares: 'Só porrada' - Notícias da TV\n",
            "José Eduardo gera ciúmes na Globo por causa de Davi Brito; entenda - BNews\n",
            "Bispo chama paródia da Última Ceia nas Olimpíadas de \"hedionda\" - O Antagonista\n",
            "Eleição na Venezuela: Maduro vence, segundo conselho, mas oposição contesta - BBC News Brasil\n",
            "Márcia Fu acredita que Brasil vai conquistar ouro no vôlei feminino nos Jogos de Paris - Terra\n",
            "Chefão do PSDB fala sobre destino de Datena após confusão em convenção - Metrópoles\n",
            "Tesouro IPCA+ 6% ao ano: veja como investir e riscos de um dos títulos mais vantajosos do momento - G1\n",
            "Cânceres silenciosos: eis o que você precisa saber quando não há sintomas óbvios - G1\n",
            "SearchGPT: a ferramenta de inteligência artificial que quer desafiar Google - Tilt\n",
            "A volta emocionante de Celine Dion, afastada dos palcos por causa de uma doença degenerativa grave - G1\n",
            "Mãe que teve a filha recém-nascida sequestrada por uma médica em MG fala ao Fantástico: ‘a gente está muito transtornado’ - G1\n",
            "Após testemunhar atropelamento do marido, viúva revela detalhes do acidente: 'foi muito rápido, muito de repente' - G1\n",
            "Exame de sangue detecta Alzheimer com mais precisão do que médicos, diz estudo - UOL\n",
            "Lula faz balanço com reforço de promessas e ataques a Bolsonaro - Gazeta do Povo\n",
            "Kamala Harris ganhou popularidade após desistência de Biden - Poder360\n",
            "Gabinete de guerra de Israel autoriza Netanyahu a retaliar ataque do Hezbollah - UOL\n",
            "Os impostos \"Taxa das Blusinhas\" e seu impacto nas lojas virtuais - BM&C NEWS\n",
            "Última segunda de julho com frente fria avançando no Brasil - Climatempo\n",
            "Brasil confirma as primeiras mortes por febre do Oropouche no mundo - Tempo.com\n",
            "Dia Mundial contra as Hepatites Virais traz alerta para prevenção - Agência Brasil\n",
            "Duas apostas de SC são premiadas em sorteio da Mega-Sena - NSC Total\n",
            "F1: Russell vence na Bélgica em 1-2 da Mercedes; Verstappen P5 - UOL\n",
            "Google Pixel 9 Pro XL ganha review em vídeo antes do lançamento - TudoCelular.com\n",
            "Rússia captura aldeia na região de Donetsk - Euronews\n",
            "Xbox 360: 9 jogos que marcaram sua história - Flow Games\n"
          ]
        }
      ]
    },
    {
      "cell_type": "markdown",
      "source": [
        "`https://newsapi.org/docs/endpoints/sources`"
      ],
      "metadata": {
        "id": "KPMeKp-YUGcB"
      }
    },
    {
      "cell_type": "code",
      "source": [
        "import requests\n",
        "\n",
        "url = ('https://newsapi.org/v2/top-headlines?'\n",
        "       'sources=bbc-news&'\n",
        "       'apiKey=' + NEWS_API_KEY)\n",
        "\n",
        "resposta = requests.get(url)"
      ],
      "metadata": {
        "id": "wZogq9VMTtF6"
      },
      "execution_count": null,
      "outputs": []
    },
    {
      "cell_type": "code",
      "source": [
        "resposta.json()"
      ],
      "metadata": {
        "colab": {
          "base_uri": "https://localhost:8080/"
        },
        "id": "DmAOAbHiUb8F",
        "outputId": "c2ccbd78-e220-49cf-bbd1-4be5ba93cf9e"
      },
      "execution_count": null,
      "outputs": [
        {
          "output_type": "execute_result",
          "data": {
            "text/plain": [
              "{'status': 'ok',\n",
              " 'totalResults': 10,\n",
              " 'articles': [{'source': {'id': 'bbc-news', 'name': 'BBC News'},\n",
              "   'author': 'BBC News',\n",
              "   'title': 'Biden calls for Supreme Court term limits and ethics rules',\n",
              "   'description': \"The US president's proposals are unlikely to pass Congress but the aim is to galvanise Democratic voters.\",\n",
              "   'url': 'https://www.bbc.co.uk/news/articles/cw4yz3nw0vyo',\n",
              "   'urlToImage': 'https://ichef.bbci.co.uk/news/1024/branded_news/d0f2/live/ce9992b0-4d9d-11ef-ba3c-e10a62be783c.jpg',\n",
              "   'publishedAt': '2024-07-29T12:22:17.0801377Z',\n",
              "   'content': 'Democrats, however, hope that pushing for reform can help galvanise voters ahead of the November 2024 election. \\r\\nThe Supreme Court has ruled on a string of historic cases in the last two years, star… [+1284 chars]'},\n",
              "  {'source': {'id': 'bbc-news', 'name': 'BBC News'},\n",
              "   'author': 'BBC News',\n",
              "   'title': 'Man arrested in France over suspected railway vandalism',\n",
              "   'description': 'Police sources told local media the 28-year-old was found acting suspiciously near a railway site.',\n",
              "   'url': 'https://www.bbc.co.uk/news/articles/c903431qejqo',\n",
              "   'urlToImage': 'https://ichef.bbci.co.uk/news/1024/branded_news/535d/live/9c5c0380-4d90-11ef-a2f4-53168add8738.jpg',\n",
              "   'publishedAt': '2024-07-29T11:22:19.7522974Z',\n",
              "   'content': 'The acts of sabotage paralysed high-speed TGV lines running to and from Paris and heavily disrupted travel in France.\\r\\nOn Monday morning, Frances Minister of the Interior Gerald Darmanin said that a … [+2122 chars]'},\n",
              "  {'source': {'id': 'bbc-news', 'name': 'BBC News'},\n",
              "   'author': 'BBC News',\n",
              "   'title': 'Israeli ministers authorise Netanyahu response to Golan attack',\n",
              "   'description': 'Israel is expected to retaliate after a rocket attack blamed on Hezbollah killed 12 young people.',\n",
              "   'url': 'https://www.bbc.co.uk/news/articles/cw5y49rv174o',\n",
              "   'urlToImage': 'https://ichef.bbci.co.uk/news/1024/branded_news/90d0/live/d867c450-4d7b-11ef-aebc-6de4d31bf5cd.jpg',\n",
              "   'publishedAt': '2024-07-29T09:52:14.7521061Z',\n",
              "   'content': \"Israel's security cabinet has authorised Prime Minister Benjamin Netanyahu and his defence minister to decide when and how to retaliate for a deadly rocket attack Israel and the US say was carried ou… [+3449 chars]\"},\n",
              "  {'source': {'id': 'bbc-news', 'name': 'BBC News'},\n",
              "   'author': 'BBC News',\n",
              "   'title': 'Lady Gaga plays new music in Paris, as engagement rumours swirl',\n",
              "   'description': 'Fans get the first glimpse of her seventh album, hours after Gaga appears to confirm her engagement.',\n",
              "   'url': 'https://www.bbc.co.uk/news/articles/cd1691jzx19o',\n",
              "   'urlToImage': 'https://ichef.bbci.co.uk/news/1024/branded_news/6ade/live/a1e78060-4d84-11ef-8f0f-0577398c3339.jpg',\n",
              "   'publishedAt': '2024-07-29T09:37:15.9554912Z',\n",
              "   'content': 'The first snippet lasted about 20 seconds, with the star pumping her fist in the air as she popped out of the sunroof of her limousine.\\r\\nThen, with a giggle and a kiss, she closed the laptop and disa… [+472 chars]'},\n",
              "  {'source': {'id': 'bbc-news', 'name': 'BBC News'},\n",
              "   'author': 'BBC News',\n",
              "   'title': \"North Korea: Thousands stranded as Kim declares 'emergency'\",\n",
              "   'description': 'A photograph taken by state media shows Kim Jong Un travelling through a flooded area in a Lexus.',\n",
              "   'url': 'https://www.bbc.co.uk/news/articles/c84jnn9llgzo',\n",
              "   'urlToImage': 'https://ichef.bbci.co.uk/news/1024/branded_news/04e3/live/4dc8b0a0-4d82-11ef-b2d2-cdb23d5d7c5b.jpg',\n",
              "   'publishedAt': '2024-07-29T08:22:16.1272071Z',\n",
              "   'content': 'The secretive state - which is perhaps better known for concealing negative issues happening within its borders to the outside world - appears to have been relatively open about this latest disaster,… [+1216 chars]'},\n",
              "  {'source': {'id': 'bbc-news', 'name': 'BBC News'},\n",
              "   'author': 'BBC News',\n",
              "   'title': 'Mum jailed for forcing daughter into fatal marriage in Australia',\n",
              "   'description': 'Sakina Muhammad Jan is the first person in Australia to be jailed over its forced marriage laws.',\n",
              "   'url': 'https://www.bbc.co.uk/news/articles/cx72ll7460vo',\n",
              "   'urlToImage': 'https://ichef.bbci.co.uk/news/1024/branded_news/5170/live/6d87a810-4d64-11ef-8ce2-ade40fd42703.jpg',\n",
              "   'publishedAt': '2024-07-29T06:22:17.9548412Z',\n",
              "   'content': 'Forced marriage laws were introduced in Australia in 2013 and carry a maximum penalty of seven years imprisonment. There are several cases pending, but Jan is the first person to be sentenced for the… [+1656 chars]'},\n",
              "  {'source': {'id': 'bbc-news', 'name': 'BBC News'},\n",
              "   'author': 'BBC News',\n",
              "   'title': \"Norway's oil brings wealth but for some a sense of guilt\",\n",
              "   'description': \"Norway's oil wealth has made it one of the world's richest countries, but some feel bad about it.\",\n",
              "   'url': 'https://www.bbc.co.uk/news/articles/cz5r2mk18k1o',\n",
              "   'urlToImage': 'https://ichef.bbci.co.uk/news/1024/branded_news/3fa1/live/39f3c770-49c4-11ef-8717-1911c42aa067.jpg',\n",
              "   'publishedAt': '2024-07-29T05:22:14.7275981Z',\n",
              "   'content': 'The Norwegian peoples guilt trips have also been egged on by a variety of people and organisations eager to question whether Norways wealth is based on ethical practices.\\r\\nIn January this year, The F… [+1142 chars]'},\n",
              "  {'source': {'id': 'bbc-news', 'name': 'BBC News'},\n",
              "   'author': 'BBC News',\n",
              "   'title': 'Bob Ballard: Olympics commentator axed over sexist remark',\n",
              "   'description': \"Bob Ballard was referencing the Australian women's swimming team who had won gold in a freestyle relay.\",\n",
              "   'url': 'https://www.bbc.co.uk/news/articles/cprq880yz0xo',\n",
              "   'urlToImage': 'https://ichef.bbci.co.uk/news/1024/branded_news/010c/live/9d843f60-4d5a-11ef-b2d2-cdb23d5d7c5b.jpg',\n",
              "   'publishedAt': '2024-07-29T04:37:16.0325152Z',\n",
              "   'content': \"Mollie OCallaghan, Emma McKeon, Meg Harris and Shayna Jack won gold at the women's 4x100 meter freestyle relay on Saturday. \\r\\nThey were making their way out of the Paris Aquatic Centre when Mr Ballar… [+917 chars]\"},\n",
              "  {'source': {'id': 'bbc-news', 'name': 'BBC News'},\n",
              "   'author': 'BBC News',\n",
              "   'title': 'Venezuela election: Maduro declared winner in disputed vote',\n",
              "   'description': 'Election officials, who are close Maduro allies, say he has an unassailable lead - but the opposition has vowed to contest the result.',\n",
              "   'url': 'https://www.bbc.co.uk/news/articles/cz5rj2mzgevo',\n",
              "   'urlToImage': 'https://ichef.bbci.co.uk/news/1024/branded_news/5d0f/live/0e2bc320-4d31-11ef-b70f-19fb584b8db8.jpg',\n",
              "   'publishedAt': '2024-07-29T04:37:15.3764282Z',\n",
              "   'content': 'Opinion polls had given Mr González a wide lead over Mr Maduro.\\r\\nMany voters said that they wanted change after 25 years in which the socialist PSUV party has been in power - first under the leadersh… [+1352 chars]'},\n",
              "  {'source': {'id': 'bbc-news', 'name': 'BBC News'},\n",
              "   'author': 'BBC News',\n",
              "   'title': 'Theory says complex life on Earth may be much older than thought',\n",
              "   'description': 'Scientists say they have new evidence that complex life on Earth began much earlier than thought',\n",
              "   'url': 'https://www.bbc.co.uk/news/articles/c3geyvpxpeyo',\n",
              "   'urlToImage': 'https://ichef.bbci.co.uk/news/1024/branded_news/2c83/live/30b685b0-4b5b-11ef-aebc-6de4d31bf5cd.jpg',\n",
              "   'publishedAt': '2024-07-29T00:37:11.6579751Z',\n",
              "   'content': 'A group of scientists say they have found new evidence to back up their theory that complex life on Earth may have begun 1.5bn years earlier than thought.\\r\\nThe team, working in Gabon, say they discov… [+1674 chars]'}]}"
            ]
          },
          "metadata": {},
          "execution_count": 28
        }
      ]
    }
  ],
  "metadata": {
    "colab": {
      "provenance": [],
      "authorship_tag": "ABX9TyMZGhdYc448j2R2MXfa4dly",
      "include_colab_link": true
    },
    "kernelspec": {
      "display_name": "Python 3",
      "name": "python3"
    }
  },
  "nbformat": 4,
  "nbformat_minor": 0
}