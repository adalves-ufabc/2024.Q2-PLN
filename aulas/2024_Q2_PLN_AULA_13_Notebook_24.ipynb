{
  "cells": [
    {
      "cell_type": "markdown",
      "metadata": {
        "id": "view-in-github",
        "colab_type": "text"
      },
      "source": [
        "<a href=\"https://colab.research.google.com/github/adalves-ufabc/2024.Q2-PLN/blob/main/2024_Q2_PLN_AULA_13_Notebook_24.ipynb\" target=\"_parent\"><img src=\"https://colab.research.google.com/assets/colab-badge.svg\" alt=\"Open In Colab\"/></a>"
      ]
    },
    {
      "cell_type": "markdown",
      "metadata": {
        "id": "Y6QILOdpOjwv"
      },
      "source": [
        "# **Processamento de Linguagem Natural [2024-Q2]**\n",
        "Prof. Alexandre Donizeti Alves"
      ]
    },
    {
      "cell_type": "markdown",
      "metadata": {
        "id": "nmK05FgcOzL2"
      },
      "source": [
        "## **LangChain**\n",
        "---\n",
        "\n"
      ]
    },
    {
      "cell_type": "code",
      "execution_count": null,
      "metadata": {
        "id": "cYKEbnlNTVlR",
        "colab": {
          "base_uri": "https://localhost:8080/"
        },
        "outputId": "f1f61084-9afe-4aa6-ef7b-b7f74fa9f55a"
      },
      "outputs": [
        {
          "output_type": "stream",
          "name": "stdout",
          "text": [
            "\u001b[2K     \u001b[90m━━━━━━━━━━━━━━━━━━━━━━━━━━━━━━━━━━━━━━━━\u001b[0m \u001b[32m50.4/50.4 kB\u001b[0m \u001b[31m643.6 kB/s\u001b[0m eta \u001b[36m0:00:00\u001b[0m\n",
            "\u001b[2K   \u001b[90m━━━━━━━━━━━━━━━━━━━━━━━━━━━━━━━━━━━━━━━━\u001b[0m \u001b[32m990.6/990.6 kB\u001b[0m \u001b[31m6.7 MB/s\u001b[0m eta \u001b[36m0:00:00\u001b[0m\n",
            "\u001b[2K   \u001b[90m━━━━━━━━━━━━━━━━━━━━━━━━━━━━━━━━━━━━━━━━\u001b[0m \u001b[32m379.9/379.9 kB\u001b[0m \u001b[31m18.5 MB/s\u001b[0m eta \u001b[36m0:00:00\u001b[0m\n",
            "\u001b[2K   \u001b[90m━━━━━━━━━━━━━━━━━━━━━━━━━━━━━━━━━━━━━━━━\u001b[0m \u001b[32m140.2/140.2 kB\u001b[0m \u001b[31m5.5 MB/s\u001b[0m eta \u001b[36m0:00:00\u001b[0m\n",
            "\u001b[2K   \u001b[90m━━━━━━━━━━━━━━━━━━━━━━━━━━━━━━━━━━━━━━━━\u001b[0m \u001b[32m141.1/141.1 kB\u001b[0m \u001b[31m6.4 MB/s\u001b[0m eta \u001b[36m0:00:00\u001b[0m\n",
            "\u001b[?25h"
          ]
        }
      ],
      "source": [
        "#@title Instalando o pacote LangChain\n",
        "!pip install langchain -q U"
      ]
    },
    {
      "cell_type": "code",
      "execution_count": null,
      "metadata": {
        "colab": {
          "base_uri": "https://localhost:8080/"
        },
        "id": "hJvs5RTcbE64",
        "outputId": "1d4a2637-2ff0-4437-e493-76e57252d644"
      },
      "outputs": [
        {
          "output_type": "stream",
          "name": "stdout",
          "text": [
            "0.2.12\n"
          ]
        }
      ],
      "source": [
        "#@title Versão do LangChain\n",
        "\n",
        "import langchain\n",
        "\n",
        "print(langchain.__version__)"
      ]
    },
    {
      "cell_type": "code",
      "source": [
        "#@title Integração com o pacote da OpenAI\n",
        "\n",
        "!pip install -qU langchain-openai"
      ],
      "metadata": {
        "id": "8klfbjqKbUpp",
        "colab": {
          "base_uri": "https://localhost:8080/"
        },
        "outputId": "b27e3206-77a0-4569-8ff6-6866929c2e1a"
      },
      "execution_count": null,
      "outputs": [
        {
          "output_type": "stream",
          "name": "stdout",
          "text": [
            "\u001b[?25l   \u001b[90m━━━━━━━━━━━━━━━━━━━━━━━━━━━━━━━━━━━━━━━━\u001b[0m \u001b[32m0.0/48.2 kB\u001b[0m \u001b[31m?\u001b[0m eta \u001b[36m-:--:--\u001b[0m\r\u001b[2K   \u001b[90m━━━━━━━━━━━━━━━━━━━━━━━━━━━━━━━━━━━━━━━━\u001b[0m \u001b[32m48.2/48.2 kB\u001b[0m \u001b[31m1.5 MB/s\u001b[0m eta \u001b[36m0:00:00\u001b[0m\n",
            "\u001b[?25h\u001b[?25l   \u001b[90m━━━━━━━━━━━━━━━━━━━━━━━━━━━━━━━━━━━━━━━━\u001b[0m \u001b[32m0.0/360.4 kB\u001b[0m \u001b[31m?\u001b[0m eta \u001b[36m-:--:--\u001b[0m\r\u001b[2K   \u001b[91m━━━━━━━━━━━━━━━\u001b[0m\u001b[91m╸\u001b[0m\u001b[90m━━━━━━━━━━━━━━━━━━━━━━━━\u001b[0m \u001b[32m143.4/360.4 kB\u001b[0m \u001b[31m4.1 MB/s\u001b[0m eta \u001b[36m0:00:01\u001b[0m\r\u001b[2K   \u001b[91m━━━━━━━━━━━━━━━━━━━━━━━━━━━━━━━━━━━━━━━\u001b[0m\u001b[91m╸\u001b[0m \u001b[32m358.4/360.4 kB\u001b[0m \u001b[31m5.5 MB/s\u001b[0m eta \u001b[36m0:00:01\u001b[0m\r\u001b[2K   \u001b[90m━━━━━━━━━━━━━━━━━━━━━━━━━━━━━━━━━━━━━━━━\u001b[0m \u001b[32m360.4/360.4 kB\u001b[0m \u001b[31m4.3 MB/s\u001b[0m eta \u001b[36m0:00:00\u001b[0m\n",
            "\u001b[2K   \u001b[90m━━━━━━━━━━━━━━━━━━━━━━━━━━━━━━━━━━━━━━━━\u001b[0m \u001b[32m1.1/1.1 MB\u001b[0m \u001b[31m17.0 MB/s\u001b[0m eta \u001b[36m0:00:00\u001b[0m\n",
            "\u001b[2K   \u001b[90m━━━━━━━━━━━━━━━━━━━━━━━━━━━━━━━━━━━━━━━━\u001b[0m \u001b[32m75.6/75.6 kB\u001b[0m \u001b[31m4.3 MB/s\u001b[0m eta \u001b[36m0:00:00\u001b[0m\n",
            "\u001b[2K   \u001b[90m━━━━━━━━━━━━━━━━━━━━━━━━━━━━━━━━━━━━━━━━\u001b[0m \u001b[32m77.9/77.9 kB\u001b[0m \u001b[31m5.2 MB/s\u001b[0m eta \u001b[36m0:00:00\u001b[0m\n",
            "\u001b[2K   \u001b[90m━━━━━━━━━━━━━━━━━━━━━━━━━━━━━━━━━━━━━━━━\u001b[0m \u001b[32m318.9/318.9 kB\u001b[0m \u001b[31m18.9 MB/s\u001b[0m eta \u001b[36m0:00:00\u001b[0m\n",
            "\u001b[2K   \u001b[90m━━━━━━━━━━━━━━━━━━━━━━━━━━━━━━━━━━━━━━━━\u001b[0m \u001b[32m58.3/58.3 kB\u001b[0m \u001b[31m3.5 MB/s\u001b[0m eta \u001b[36m0:00:00\u001b[0m\n",
            "\u001b[?25h"
          ]
        }
      ]
    },
    {
      "cell_type": "code",
      "execution_count": null,
      "metadata": {
        "colab": {
          "base_uri": "https://localhost:8080/"
        },
        "id": "RM5RnKClbPtQ",
        "outputId": "0c8d705e-f905-4bb3-a023-b9b735afd39f"
      },
      "outputs": [
        {
          "name": "stdout",
          "output_type": "stream",
          "text": [
            "··········\n"
          ]
        }
      ],
      "source": [
        "#@title Definindo a chave da API da OpenAI\n",
        "\n",
        "import getpass\n",
        "import os\n",
        "\n",
        "os.environ[\"OPENAI_API_KEY\"] = getpass.getpass()"
      ]
    },
    {
      "cell_type": "markdown",
      "source": [
        "## **Dados Estruturados**"
      ],
      "metadata": {
        "id": "6IyxUVl4sqaV"
      }
    },
    {
      "cell_type": "markdown",
      "source": [
        "**Dados estruturados** são dados que são organizados e formatados de maneira sistemática, permitindo fácil acesso, análise e manipulação."
      ],
      "metadata": {
        "id": "s3YnWDZt4_Yj"
      }
    },
    {
      "cell_type": "markdown",
      "source": [
        "Frequentemente é útil ter um modelo que retorne uma saída que corresponda a um esquema específico."
      ],
      "metadata": {
        "id": "qDFadJzXpfWq"
      }
    },
    {
      "cell_type": "markdown",
      "source": [
        "**Método `.with_structured_output()`**"
      ],
      "metadata": {
        "id": "LTG1jw9RpqhP"
      }
    },
    {
      "cell_type": "markdown",
      "source": [
        "Esta é a maneira mais fácil e confiável de obter saídas estruturadas. O método `with_structured_output()` é implementado para modelos que fornecem APIs nativas para estruturar saídas, como chamadas de ferramentas/funções ou modo JSON, e utiliza essas capacidades internamente.\n",
        "\n",
        ">\n",
        "\n",
        "Este método recebe um esquema como entrada, que especifica os nomes, tipos e descrições dos atributos de saída desejados. O método retorna um `Runnable` semelhante a um modelo, exceto que, em vez de produzir strings ou Mensagens, ele produz objetos correspondentes ao esquema fornecido. O esquema pode ser especificado como uma classe `TypedDict`, um `JSON Schema` ou uma classe `Pydantic`. Se `TypedDict` ou `JSON Schema` forem usados, então um dicionário será retornado pelo `Runnable`, e se uma classe `Pydantic` for usada, então um objeto `Pydantic` será retornado.\n",
        "\n",
        ">\n",
        "\n",
        "Como exemplo, vamos fazer com que um modelo gere uma piada e separe a preparação do desfecho da piada:"
      ],
      "metadata": {
        "id": "ix6Cm19UpxIR"
      }
    },
    {
      "cell_type": "code",
      "source": [
        "from langchain_openai import ChatOpenAI\n",
        "\n",
        "modelo = ChatOpenAI(model=\"gpt-4o-mini\")"
      ],
      "metadata": {
        "id": "V_YgIYt9RQH-"
      },
      "execution_count": null,
      "outputs": []
    },
    {
      "cell_type": "markdown",
      "source": [
        "**Classe `Pydantic`**\n",
        "\n",
        "Se quisermos que o modelo retorne um objeto `Pydantic`, basta passar a classe `Pydantic` desejada. A principal vantagem de usar `Pydantic` é que a saída gerada pelo modelo será validada. O `Pydantic` levantará um erro se algum campo obrigatório estiver faltando ou se algum campo for do tipo errado."
      ],
      "metadata": {
        "id": "3XPr8xwdq2o-"
      }
    },
    {
      "cell_type": "code",
      "source": [
        "from typing import Optional\n",
        "\n",
        "from langchain_core.pydantic_v1 import BaseModel, Field\n",
        "\n",
        "# Pydantic\n",
        "class Piada(BaseModel):\n",
        "    \"\"\"Piada para contar ao usuário.\"\"\"\n",
        "\n",
        "    introducao: str = Field(description=\"A introdução da piada\")\n",
        "    arremate: str = Field(description=\"O desfecho da piada\")\n",
        "    avaliacao: Optional[int] = Field(\n",
        "        default=None, description=\"Quão engraçada é a piada, de 1 a 10\"\n",
        "    )"
      ],
      "metadata": {
        "id": "XeU2r0ZNRub2"
      },
      "execution_count": null,
      "outputs": []
    },
    {
      "cell_type": "code",
      "source": [
        "modelo_estruturado = modelo.with_structured_output(Piada)\n",
        "\n",
        "modelo_estruturado.invoke(\"Me conte uma piada sobre gatos\")"
      ],
      "metadata": {
        "colab": {
          "base_uri": "https://localhost:8080/"
        },
        "id": "DNHCO6QZRyiO",
        "outputId": "3a210128-f78d-486e-acd3-7ced24914ad0"
      },
      "execution_count": null,
      "outputs": [
        {
          "output_type": "execute_result",
          "data": {
            "text/plain": [
              "Piada(introducao='Por que os gatos não contam mentiras?', arremate='Porque eles sempre estão de patas dadas com a verdade!', avaliacao=7)"
            ]
          },
          "metadata": {},
          "execution_count": 7
        }
      ]
    },
    {
      "cell_type": "markdown",
      "source": [
        "Além da estrutura da classe `Pydantic`, o nome da classe, a *docstring* e os nomes e as descrições fornecidas dos parâmetros são muito importantes. Na maioria das vezes, `with_structured_output` está usando a API de chamada de funções/ferramentas de um modelo, e você pode pensar efetivamente em todas essas informações como sendo adicionadas ao *prompt* do modelo."
      ],
      "metadata": {
        "id": "cKhTN5oEsTCh"
      }
    },
    {
      "cell_type": "markdown",
      "source": [
        "**`TypedDict` ou `JSON Schema`**\n",
        "\n",
        "Se você não quiser usar `Pydantic`, explicitamente não quiser validação dos argumentos ou quiser ser capaz de transmitir as saídas do modelo, pode definir seu esquema usando uma classe `TypedDict`. Opcionalmente, podemos usar uma sintaxe especial `Annotated` suportada pelo **LangChain**, que permite especificar o valor padrão e a descrição de um campo. Observe que o valor padrão não é preenchido automaticamente se o modelo não o gerar; ele é usado apenas na definição do esquema que é passado para o modelo."
      ],
      "metadata": {
        "id": "kaxvKPWBss8e"
      }
    },
    {
      "cell_type": "code",
      "source": [
        "from typing_extensions import Annotated, TypedDict\n",
        "\n",
        "# TypedDict\n",
        "class Piada(TypedDict):\n",
        "    \"\"\"Piada para contar ao usuário.\"\"\"\n",
        "\n",
        "    introducao: Annotated[str, ..., \"introducao\"]\n",
        "    arremate: Annotated[str, ..., \"O desfecho da piada\"]\n",
        "    avaliacao: Annotated[Optional[int], None, \"Quão engraçada é a piada, de 1 a 10\"]"
      ],
      "metadata": {
        "id": "AyWxNISbSDDt"
      },
      "execution_count": null,
      "outputs": []
    },
    {
      "cell_type": "code",
      "source": [
        "modelo_estruturado = modelo.with_structured_output(Piada)\n",
        "\n",
        "modelo_estruturado.invoke(\"Me conte uma piada sobre gatos\")"
      ],
      "metadata": {
        "colab": {
          "base_uri": "https://localhost:8080/"
        },
        "id": "bfPM0qZrSHMs",
        "outputId": "955878ec-05a8-4832-f07d-75ed94c110c6"
      },
      "execution_count": null,
      "outputs": [
        {
          "output_type": "execute_result",
          "data": {
            "text/plain": [
              "{'introducao': 'Por que os gatos não jogam poker na selva?',\n",
              " 'arremate': 'Porque há muitos cheetahs!',\n",
              " 'avaliacao': 8}"
            ]
          },
          "metadata": {},
          "execution_count": 10
        }
      ]
    },
    {
      "cell_type": "markdown",
      "source": [
        "De maneira equivalente, podemos passar um dicionário `JSON Schema`. Isso não requer importações ou classes e torna muito claro como cada parâmetro é documentado, com o custo de ser um pouco mais verboso."
      ],
      "metadata": {
        "id": "eLoBmlzRuIq5"
      }
    },
    {
      "cell_type": "code",
      "source": [
        "json_schema = {\n",
        "    \"title\": \"piada\",\n",
        "    \"description\": \"Piada para contar ao usuário.\",\n",
        "    \"type\": \"object\",\n",
        "    \"properties\": {\n",
        "        \"introducao\": {\n",
        "            \"type\": \"string\",\n",
        "            \"description\": \"A introdução da piada\",\n",
        "        },\n",
        "        \"arremate\": {\n",
        "            \"type\": \"string\",\n",
        "            \"description\": \"O desfecho da piada\",\n",
        "        },\n",
        "        \"avaliacao\": {\n",
        "            \"type\": \"integer\",\n",
        "            \"description\": \"Quão engraçada é a piada, de 1 a 10\",\n",
        "            \"default\": None,\n",
        "        },\n",
        "    },\n",
        "    \"required\": [\"introducao\", \"arremate\"],\n",
        "}\n"
      ],
      "metadata": {
        "id": "6QgVXkkpud3n"
      },
      "execution_count": null,
      "outputs": []
    },
    {
      "cell_type": "code",
      "source": [
        "modelo_estruturado = modelo.with_structured_output(json_schema)\n",
        "\n",
        "modelo_estruturado.invoke(\"Me conte uma piada sobre gatos\")"
      ],
      "metadata": {
        "colab": {
          "base_uri": "https://localhost:8080/"
        },
        "id": "SUpPTbuSSO6n",
        "outputId": "01eb8830-4ea7-4b07-f552-3803c108228a"
      },
      "execution_count": null,
      "outputs": [
        {
          "output_type": "execute_result",
          "data": {
            "text/plain": [
              "{'introducao': 'Por que os gatos não jogam cartas?',\n",
              " 'arremate': 'Porque eles têm medo dos baralhos!',\n",
              " 'avaliacao': 7}"
            ]
          },
          "metadata": {},
          "execution_count": 12
        }
      ]
    },
    {
      "cell_type": "markdown",
      "source": [
        "**Escolhendo entre múltiplos esquemas**"
      ],
      "metadata": {
        "id": "9_uEqzTGvBPx"
      }
    },
    {
      "cell_type": "markdown",
      "source": [
        "A maneira mais simples de permitir que o modelo escolha entre vários esquemas é criar um esquema \"pai\" que tenha um atributo do tipo `Union`:"
      ],
      "metadata": {
        "id": "1Hz00jHevIoR"
      }
    },
    {
      "cell_type": "code",
      "source": [
        "from typing import Union\n",
        "\n",
        "# Pydantic\n",
        "\n",
        "class Piada(BaseModel):\n",
        "    \"\"\"Piada para contar ao usuário.\"\"\"\n",
        "\n",
        "    introducao: str = Field(description=\"A introdução da piada\")\n",
        "    arremate: str = Field(description=\"O desfecho da piada\")\n",
        "    avaliacao: Optional[int] = Field(\n",
        "        default=None, description=\"Quão engraçada é a piada, de 1 a 10\"\n",
        "    )\n",
        "\n",
        "class RespostaConversacional(BaseModel):\n",
        "    \"\"\"Responda de maneira conversacional. Seja gentil e prestativo.\"\"\"\n",
        "\n",
        "    resposta: str = Field(description=\"Uma resposta conversacional à pergunta do usuário\")\n",
        "\n",
        "class Resposta(BaseModel):\n",
        "    saida: Union[Piada, RespostaConversacional]"
      ],
      "metadata": {
        "id": "4It9eSpCSXT2"
      },
      "execution_count": null,
      "outputs": []
    },
    {
      "cell_type": "code",
      "source": [
        "modelo_estruturado = modelo.with_structured_output(Resposta)\n",
        "\n",
        "resposta = modelo_estruturado.invoke(\"Me conte uma piada sobre gatos\")"
      ],
      "metadata": {
        "id": "YyQZ9rEFSaTA"
      },
      "execution_count": null,
      "outputs": []
    },
    {
      "cell_type": "code",
      "source": [
        "resposta"
      ],
      "metadata": {
        "colab": {
          "base_uri": "https://localhost:8080/"
        },
        "id": "yX4wPoOwwWnp",
        "outputId": "e572d5f5-06b5-41b2-fc40-57552ae6c683"
      },
      "execution_count": null,
      "outputs": [
        {
          "output_type": "execute_result",
          "data": {
            "text/plain": [
              "Resposta(saida=Piada(introducao='Por que os gatos são ótimos músicos?', arremate='Porque eles têm um ótimo senso de miado!', avaliacao=7))"
            ]
          },
          "metadata": {},
          "execution_count": 16
        }
      ]
    },
    {
      "cell_type": "code",
      "source": [
        "resposta.saida"
      ],
      "metadata": {
        "colab": {
          "base_uri": "https://localhost:8080/"
        },
        "id": "5-nV0FhDwdJq",
        "outputId": "78dd448e-f9db-4fcc-96e0-c13fd704bfee"
      },
      "execution_count": null,
      "outputs": [
        {
          "output_type": "execute_result",
          "data": {
            "text/plain": [
              "Piada(introducao='Por que os gatos são ótimos músicos?', arremate='Porque eles têm um ótimo senso de miado!', avaliacao=7)"
            ]
          },
          "metadata": {},
          "execution_count": 18
        }
      ]
    },
    {
      "cell_type": "code",
      "source": [
        "resposta.saida.introducao"
      ],
      "metadata": {
        "colab": {
          "base_uri": "https://localhost:8080/",
          "height": 35
        },
        "id": "w5SWiT88wiqg",
        "outputId": "d5fdadcd-cbfa-4dc6-9955-ab23e98a5187"
      },
      "execution_count": null,
      "outputs": [
        {
          "output_type": "execute_result",
          "data": {
            "text/plain": [
              "'Por que os gatos são ótimos músicos?'"
            ],
            "application/vnd.google.colaboratory.intrinsic+json": {
              "type": "string"
            }
          },
          "metadata": {},
          "execution_count": 19
        }
      ]
    },
    {
      "cell_type": "code",
      "source": [
        "modelo_estruturado.invoke(\"Como você está hoje?\")"
      ],
      "metadata": {
        "colab": {
          "base_uri": "https://localhost:8080/"
        },
        "id": "p-J3wN4QSfW2",
        "outputId": "b93c5296-9f33-42b6-d58d-face6f380ec4"
      },
      "execution_count": null,
      "outputs": [
        {
          "output_type": "execute_result",
          "data": {
            "text/plain": [
              "Resposta(saida=RespostaConversacional(resposta='Estou aqui pronto para ajudar! E você, como está hoje?'))"
            ]
          },
          "metadata": {},
          "execution_count": 20
        }
      ]
    },
    {
      "cell_type": "markdown",
      "source": [
        "***Few-shot prompting***"
      ],
      "metadata": {
        "id": "iozPUz_PyUnp"
      }
    },
    {
      "cell_type": "markdown",
      "source": [
        "***Few-shot prompting*** é uma técnica onde se fornecem alguns exemplos específicos no *prompt* para guiar o modelo na geração de respostas. Em vez de treinar o modelo com uma nova base de dados completa, você apenas inclui alguns exemplos relevantes diretamente no *prompt*."
      ],
      "metadata": {
        "id": "-lA-SqH2yz_n"
      }
    },
    {
      "cell_type": "markdown",
      "source": [
        "Para esquemas mais complexos, é muito útil adicionar exemplos ao *prompt*.\n",
        "\n",
        "A maneira mais simples e universal é adicionar exemplos a uma mensagem do sistema no *prompt*:"
      ],
      "metadata": {
        "id": "x2SVsWbDyMit"
      }
    },
    {
      "cell_type": "code",
      "source": [
        "from langchain_core.prompts import ChatPromptTemplate\n",
        "\n",
        "sistema = \"\"\"Você é um comediante hilário. Sua especialidade são piadas do tipo \"knock-knock\".\n",
        "Retorne uma piada que tenha a introdução (a resposta para \"Quem está aí?\") e o arremate final (a resposta para \"<introdução> quem?\").\n",
        "\n",
        "Aqui estão alguns exemplos de piadas:\n",
        "\n",
        "exemplo_usuario: Me conte uma piada sobre gatos\n",
        "exemplo_assistente: {{\"introducao\": \"Por que os gatos não jogam cartas?\", \"arremate\": \"Porque eles têm medo dos cães que podem trapacear!\", \"avaliacao\": 8}}\n",
        "\n",
        "exemplo_usuario: Conte outra piada sobre cães\n",
        "exemplo_assistente: {{\"introducao\": \"Por que os cães levam uma bola para a escola?\", \"arremate\": \"Porque eles querem aprender a jogar!\", \"ratavaliacaoing\": 7}}\n",
        "\n",
        "exemplo_usuario: Agora sobre peixes\n",
        "exemplo_assistente: {{\"introducao\": \"Por que o peixe foi ao banco?\", \"arremate\": \"Para abrir uma conta corrente!\", \"avaliacao\": 9}}\"\"\"\n",
        "\n",
        "# template de prompt\n",
        "prompt = ChatPromptTemplate.from_messages([(\"system\", sistema), (\"human\", \"{input}\")])\n",
        "\n",
        "# uso do prompt com um modelo estruturado\n",
        "modelo_estruturado_few_shot = prompt | modelo_estruturado\n",
        "\n",
        "modelo_estruturado_few_shot.invoke(\"Me conte uma piada sobre elefantes\")"
      ],
      "metadata": {
        "colab": {
          "base_uri": "https://localhost:8080/"
        },
        "id": "q4rFakRh0kYC",
        "outputId": "32362091-2703-4ea4-b354-129c247e833e"
      },
      "execution_count": null,
      "outputs": [
        {
          "output_type": "execute_result",
          "data": {
            "text/plain": [
              "Resposta(saida=Piada(introducao='Knock, knock!', arremate='Quem está aí? Elefante. Elefante quem? Elefante que não para de pedir comida!', avaliacao=8))"
            ]
          },
          "metadata": {},
          "execution_count": 25
        }
      ]
    },
    {
      "cell_type": "markdown",
      "source": [
        "Outro exemplo:"
      ],
      "metadata": {
        "id": "7ee9wq0Y2P4p"
      }
    },
    {
      "cell_type": "code",
      "source": [
        "# Pydantic\n",
        "\n",
        "class Produto(BaseModel):\n",
        "    \"\"\"Descrição de um produto.\"\"\"\n",
        "\n",
        "    nome: str = Field(description=\"O nome do produto\")\n",
        "    descricao: str = Field(description=\"A descrição do produto\")"
      ],
      "metadata": {
        "id": "QMMaTjab28rB"
      },
      "execution_count": null,
      "outputs": []
    },
    {
      "cell_type": "code",
      "source": [
        "modelo_estruturado = modelo.with_structured_output(Produto)"
      ],
      "metadata": {
        "id": "rQpTkm6F3LQn"
      },
      "execution_count": null,
      "outputs": []
    },
    {
      "cell_type": "code",
      "source": [
        "from langchain_core.prompts import ChatPromptTemplate\n",
        "\n",
        "sistema = \"\"\"Você é um redator de descrições de produtos experiente. Sua tarefa é criar descrições detalhadas e envolventes para produtos.\n",
        "Cada descrição deve incluir informações sobre as principais características e benefícios do produto.\n",
        "\n",
        "Aqui estão alguns exemplos de descrições:\n",
        "\n",
        "exemplo_usuario: Descreva um smartphone moderno\n",
        "exemplo_assistente: {{\"nome\": \"Smartphone UltraX\", \"descricao\": \"O Smartphone UltraX é equipado com uma tela AMOLED de 6,7 polegadas, processador octa-core de última geração e câmera tripla de 64MP. Oferece um desempenho rápido e uma experiência de usuário excepcional com bateria de longa duração e carregamento rápido.\"}}\n",
        "\n",
        "exemplo_usuario: Descreva um aspirador de pó robô\n",
        "exemplo_assistente: {{\"nome\": \"Aspirador Robô CleanPro\", \"descricao\": \"O Aspirador Robô CleanPro é ideal para manter sua casa limpa sem esforço. Com tecnologia de navegação inteligente, ele limpa todos os cantos e vem com um sistema de filtragem HEPA que captura alérgenos e poeira. Compacto e silencioso, é fácil de usar e programar.\"}}\n",
        "\n",
        "exemplo_usuario: Agora sobre uma cafeteira\n",
        "exemplo_assistente: {{\"nome\": \"Cafeteira Espresso Elite\", \"descricao\": \"A Cafeteira Espresso Elite oferece uma experiência de café de qualidade barista no conforto de sua casa. Com um sistema de pressão de 15 bar, ela extrai o máximo sabor dos grãos. Possui um moinho integrado e controle de temperatura preciso para preparar o café perfeito a cada vez.\"}}\"\"\"\n",
        "\n",
        "# template de prompt\n",
        "prompt = ChatPromptTemplate.from_messages([(\"system\", sistema), (\"human\", \"{input}\")])\n",
        "\n",
        "# uso do prompt com um modelo estruturado\n",
        "modelo_estruturado_few_shot = prompt | modelo_estruturado\n",
        "\n",
        "modelo_estruturado_few_shot.invoke(\"Descreva um tablet moderno\")"
      ],
      "metadata": {
        "colab": {
          "base_uri": "https://localhost:8080/"
        },
        "id": "9KlnXwtc2RSd",
        "outputId": "a0bac296-a923-4fa9-f355-3c8c43ae0c69"
      },
      "execution_count": null,
      "outputs": [
        {
          "output_type": "execute_result",
          "data": {
            "text/plain": [
              "Produto(nome='Tablet ProMax', descricao='O Tablet ProMax combina um design elegante com tecnologia de ponta, apresentando uma tela de 12,9 polegadas Liquid Retina com resolução impressionante, ideal para assistir a vídeos e trabalhar em projetos criativos. Equipado com um processador potente e 8GB de RAM, ele garante desempenho fluido para multitarefas e jogos. Sua bateria de longa duração permite horas de uso contínuo, enquanto o suporte para caneta stylus e teclado magnético transforma o tablet em uma ferramenta versátil para produtividade e entretenimento.')"
            ]
          },
          "metadata": {},
          "execution_count": 30
        }
      ]
    },
    {
      "cell_type": "markdown",
      "source": [
        "Para modelos que suportam mais de um meio de estruturar saídas, você pode especificar qual método usar com o argumento `method=`."
      ],
      "metadata": {
        "id": "wkt2Pm_p5SSy"
      }
    },
    {
      "cell_type": "code",
      "source": [
        "modelo_estruturado = modelo.with_structured_output(None, method=\"json_mode\")\n",
        "\n",
        "modelo_estruturado.invoke(\n",
        "    \"Descreva um tablet moderno, responda em JSON com as chaves `nome` e `descricao`\"\n",
        ")"
      ],
      "metadata": {
        "colab": {
          "base_uri": "https://localhost:8080/"
        },
        "id": "x6mOsAWuS43A",
        "outputId": "dfb99fbd-f514-449a-9b06-97ebfcc6f4d5"
      },
      "execution_count": null,
      "outputs": [
        {
          "output_type": "execute_result",
          "data": {
            "text/plain": [
              "{'nome': 'Tablet Pro 2023',\n",
              " 'descricao': 'O Tablet Pro 2023 é um dispositivo ultrafino e leve, equipado com uma tela de alta definição de 12,9 polegadas, que oferece cores vibrantes e detalhes impressionantes. Possui um processador de última geração, garantindo desempenho rápido e eficiente para multitarefas e jogos. Com 256 GB de armazenamento interno e suporte a cartão microSD, oferece amplo espaço para aplicativos, fotos e vídeos. A bateria de longa duração permite até 12 horas de uso contínuo e a conectividade 5G garante acesso rápido à internet. O tablet também suporta caneta stylus e teclado, tornando-o ideal para produtividade e criatividade. Além disso, o sistema operacional mais recente oferece uma interface intuitiva e uma vasta gama de aplicativos disponíveis na loja.'}"
            ]
          },
          "metadata": {},
          "execution_count": 31
        }
      ]
    },
    {
      "cell_type": "markdown",
      "source": [
        "Modelos de linguagem não são perfeitos ao gerar saídas estruturadas, especialmente quando os esquemas se tornam complexos. Você pode evitar a geração de exceções e lidar com a saída bruta você mesmo passando `include_raw=True`. Isso altera o formato da saída para conter a mensagem bruta, o valor analisado (se bem-sucedido) e quaisquer erros resultantes."
      ],
      "metadata": {
        "id": "1h3UqxgM6Ch3"
      }
    },
    {
      "cell_type": "code",
      "source": [
        "modelo_estruturado = modelo.with_structured_output(Produto, include_raw=True)\n",
        "\n",
        "modelo_estruturado.invoke(\"Descreva um tablet moderno\")"
      ],
      "metadata": {
        "colab": {
          "base_uri": "https://localhost:8080/"
        },
        "id": "SXuncLbSS_dw",
        "outputId": "0eb0de41-2693-423f-eb8e-394508b6e94f"
      },
      "execution_count": null,
      "outputs": [
        {
          "output_type": "execute_result",
          "data": {
            "text/plain": [
              "{'raw': AIMessage(content='', additional_kwargs={'tool_calls': [{'id': 'call_DbR0a6bglkQP9XFK4QIRr22L', 'function': {'arguments': '{\"nome\":\"Tablet Moderno\",\"descricao\":\"Um tablet moderno é um dispositivo portátil e elegante, que combina a funcionalidade de um computador com a conveniência de um smartphone. Geralmente apresenta uma tela sensível ao toque de alta definição, permitindo uma experiência visual imersiva para assistir a vídeos, jogar e navegar na internet. Equipado com um processador potente e memória RAM generosa, proporciona desempenho ágil em multitarefas e execução de aplicativos exigentes. Os tablets modernos também contam com conectividade Wi-Fi e, em muitos casos, opções de conectividade 4G ou 5G, permitindo acesso à internet em qualquer lugar. Além disso, possuem câmeras de alta qualidade para fotos e videochamadas, e vêm com sistemas operacionais intuitivos, como Android ou iOS, oferecendo uma ampla gama de aplicativos para produtividade, entretenimento e criatividade. A bateria de longa duração garante horas de uso contínuo, tornando-os ideais para estudantes, profissionais e qualquer pessoa em movimento.\"}', 'name': 'Produto'}, 'type': 'function'}]}, response_metadata={'token_usage': {'completion_tokens': 203, 'prompt_tokens': 72, 'total_tokens': 275}, 'model_name': 'gpt-4o-mini-2024-07-18', 'system_fingerprint': 'fp_48196bc67a', 'finish_reason': 'stop', 'logprobs': None}, id='run-1871d273-5e49-4f48-8f4a-f62b5f5b3b9f-0', tool_calls=[{'name': 'Produto', 'args': {'nome': 'Tablet Moderno', 'descricao': 'Um tablet moderno é um dispositivo portátil e elegante, que combina a funcionalidade de um computador com a conveniência de um smartphone. Geralmente apresenta uma tela sensível ao toque de alta definição, permitindo uma experiência visual imersiva para assistir a vídeos, jogar e navegar na internet. Equipado com um processador potente e memória RAM generosa, proporciona desempenho ágil em multitarefas e execução de aplicativos exigentes. Os tablets modernos também contam com conectividade Wi-Fi e, em muitos casos, opções de conectividade 4G ou 5G, permitindo acesso à internet em qualquer lugar. Além disso, possuem câmeras de alta qualidade para fotos e videochamadas, e vêm com sistemas operacionais intuitivos, como Android ou iOS, oferecendo uma ampla gama de aplicativos para produtividade, entretenimento e criatividade. A bateria de longa duração garante horas de uso contínuo, tornando-os ideais para estudantes, profissionais e qualquer pessoa em movimento.'}, 'id': 'call_DbR0a6bglkQP9XFK4QIRr22L', 'type': 'tool_call'}], usage_metadata={'input_tokens': 72, 'output_tokens': 203, 'total_tokens': 275}),\n",
              " 'parsed': Produto(nome='Tablet Moderno', descricao='Um tablet moderno é um dispositivo portátil e elegante, que combina a funcionalidade de um computador com a conveniência de um smartphone. Geralmente apresenta uma tela sensível ao toque de alta definição, permitindo uma experiência visual imersiva para assistir a vídeos, jogar e navegar na internet. Equipado com um processador potente e memória RAM generosa, proporciona desempenho ágil em multitarefas e execução de aplicativos exigentes. Os tablets modernos também contam com conectividade Wi-Fi e, em muitos casos, opções de conectividade 4G ou 5G, permitindo acesso à internet em qualquer lugar. Além disso, possuem câmeras de alta qualidade para fotos e videochamadas, e vêm com sistemas operacionais intuitivos, como Android ou iOS, oferecendo uma ampla gama de aplicativos para produtividade, entretenimento e criatividade. A bateria de longa duração garante horas de uso contínuo, tornando-os ideais para estudantes, profissionais e qualquer pessoa em movimento.'),\n",
              " 'parsing_error': None}"
            ]
          },
          "metadata": {},
          "execution_count": 32
        }
      ]
    },
    {
      "cell_type": "markdown",
      "source": [
        "**Referência**:\n",
        "\n",
        "> https://python.langchain.com/v0.2/docs/how_to/structured_output/"
      ],
      "metadata": {
        "id": "k3Tkx9VP4Sjf"
      }
    }
  ],
  "metadata": {
    "colab": {
      "provenance": [],
      "authorship_tag": "ABX9TyOhHeI5cLlFMZ6VeRAFWhdk",
      "include_colab_link": true
    },
    "kernelspec": {
      "display_name": "Python 3",
      "name": "python3"
    }
  },
  "nbformat": 4,
  "nbformat_minor": 0
}