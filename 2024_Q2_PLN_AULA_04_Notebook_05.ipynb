{
  "nbformat": 4,
  "nbformat_minor": 0,
  "metadata": {
    "colab": {
      "provenance": [],
      "authorship_tag": "ABX9TyOvEtqo80dpObEjrlgzQYVs",
      "include_colab_link": true
    },
    "kernelspec": {
      "name": "python3",
      "display_name": "Python 3"
    },
    "widgets": {
      "application/vnd.jupyter.widget-state+json": {
        "a6273b9809904fc283fc2808bbeb287a": {
          "model_module": "@jupyter-widgets/controls",
          "model_name": "HBoxModel",
          "model_module_version": "1.5.0",
          "state": {
            "_dom_classes": [],
            "_model_module": "@jupyter-widgets/controls",
            "_model_module_version": "1.5.0",
            "_model_name": "HBoxModel",
            "_view_count": null,
            "_view_module": "@jupyter-widgets/controls",
            "_view_module_version": "1.5.0",
            "_view_name": "HBoxView",
            "box_style": "",
            "children": [
              "IPY_MODEL_72d601c1b7684c9bb40c4c15e5209002",
              "IPY_MODEL_e61cc1f7204b41a79f18edfce69d4835",
              "IPY_MODEL_5fe3eeb1d3344a9e8cce2d23c561f180"
            ],
            "layout": "IPY_MODEL_f52c372c05c747848173c43ec9117004"
          }
        },
        "72d601c1b7684c9bb40c4c15e5209002": {
          "model_module": "@jupyter-widgets/controls",
          "model_name": "HTMLModel",
          "model_module_version": "1.5.0",
          "state": {
            "_dom_classes": [],
            "_model_module": "@jupyter-widgets/controls",
            "_model_module_version": "1.5.0",
            "_model_name": "HTMLModel",
            "_view_count": null,
            "_view_module": "@jupyter-widgets/controls",
            "_view_module_version": "1.5.0",
            "_view_name": "HTMLView",
            "description": "",
            "description_tooltip": null,
            "layout": "IPY_MODEL_90803e9db9ae478399041d4f8481ee6c",
            "placeholder": "​",
            "style": "IPY_MODEL_61e2f48dda504cb6b617021e3cc82fc9",
            "value": "tokenizer_config.json: 100%"
          }
        },
        "e61cc1f7204b41a79f18edfce69d4835": {
          "model_module": "@jupyter-widgets/controls",
          "model_name": "FloatProgressModel",
          "model_module_version": "1.5.0",
          "state": {
            "_dom_classes": [],
            "_model_module": "@jupyter-widgets/controls",
            "_model_module_version": "1.5.0",
            "_model_name": "FloatProgressModel",
            "_view_count": null,
            "_view_module": "@jupyter-widgets/controls",
            "_view_module_version": "1.5.0",
            "_view_name": "ProgressView",
            "bar_style": "success",
            "description": "",
            "description_tooltip": null,
            "layout": "IPY_MODEL_066ee0d7ac8740b6bcaa6ee617587710",
            "max": 49,
            "min": 0,
            "orientation": "horizontal",
            "style": "IPY_MODEL_17ebd9cc43c44b568517c51efebfac6f",
            "value": 49
          }
        },
        "5fe3eeb1d3344a9e8cce2d23c561f180": {
          "model_module": "@jupyter-widgets/controls",
          "model_name": "HTMLModel",
          "model_module_version": "1.5.0",
          "state": {
            "_dom_classes": [],
            "_model_module": "@jupyter-widgets/controls",
            "_model_module_version": "1.5.0",
            "_model_name": "HTMLModel",
            "_view_count": null,
            "_view_module": "@jupyter-widgets/controls",
            "_view_module_version": "1.5.0",
            "_view_name": "HTMLView",
            "description": "",
            "description_tooltip": null,
            "layout": "IPY_MODEL_0840c76d72e342e1ae4ce5804046aab4",
            "placeholder": "​",
            "style": "IPY_MODEL_ebe589eb44cc48f2ae9f32791b396248",
            "value": " 49.0/49.0 [00:00&lt;00:00, 3.00kB/s]"
          }
        },
        "f52c372c05c747848173c43ec9117004": {
          "model_module": "@jupyter-widgets/base",
          "model_name": "LayoutModel",
          "model_module_version": "1.2.0",
          "state": {
            "_model_module": "@jupyter-widgets/base",
            "_model_module_version": "1.2.0",
            "_model_name": "LayoutModel",
            "_view_count": null,
            "_view_module": "@jupyter-widgets/base",
            "_view_module_version": "1.2.0",
            "_view_name": "LayoutView",
            "align_content": null,
            "align_items": null,
            "align_self": null,
            "border": null,
            "bottom": null,
            "display": null,
            "flex": null,
            "flex_flow": null,
            "grid_area": null,
            "grid_auto_columns": null,
            "grid_auto_flow": null,
            "grid_auto_rows": null,
            "grid_column": null,
            "grid_gap": null,
            "grid_row": null,
            "grid_template_areas": null,
            "grid_template_columns": null,
            "grid_template_rows": null,
            "height": null,
            "justify_content": null,
            "justify_items": null,
            "left": null,
            "margin": null,
            "max_height": null,
            "max_width": null,
            "min_height": null,
            "min_width": null,
            "object_fit": null,
            "object_position": null,
            "order": null,
            "overflow": null,
            "overflow_x": null,
            "overflow_y": null,
            "padding": null,
            "right": null,
            "top": null,
            "visibility": null,
            "width": null
          }
        },
        "90803e9db9ae478399041d4f8481ee6c": {
          "model_module": "@jupyter-widgets/base",
          "model_name": "LayoutModel",
          "model_module_version": "1.2.0",
          "state": {
            "_model_module": "@jupyter-widgets/base",
            "_model_module_version": "1.2.0",
            "_model_name": "LayoutModel",
            "_view_count": null,
            "_view_module": "@jupyter-widgets/base",
            "_view_module_version": "1.2.0",
            "_view_name": "LayoutView",
            "align_content": null,
            "align_items": null,
            "align_self": null,
            "border": null,
            "bottom": null,
            "display": null,
            "flex": null,
            "flex_flow": null,
            "grid_area": null,
            "grid_auto_columns": null,
            "grid_auto_flow": null,
            "grid_auto_rows": null,
            "grid_column": null,
            "grid_gap": null,
            "grid_row": null,
            "grid_template_areas": null,
            "grid_template_columns": null,
            "grid_template_rows": null,
            "height": null,
            "justify_content": null,
            "justify_items": null,
            "left": null,
            "margin": null,
            "max_height": null,
            "max_width": null,
            "min_height": null,
            "min_width": null,
            "object_fit": null,
            "object_position": null,
            "order": null,
            "overflow": null,
            "overflow_x": null,
            "overflow_y": null,
            "padding": null,
            "right": null,
            "top": null,
            "visibility": null,
            "width": null
          }
        },
        "61e2f48dda504cb6b617021e3cc82fc9": {
          "model_module": "@jupyter-widgets/controls",
          "model_name": "DescriptionStyleModel",
          "model_module_version": "1.5.0",
          "state": {
            "_model_module": "@jupyter-widgets/controls",
            "_model_module_version": "1.5.0",
            "_model_name": "DescriptionStyleModel",
            "_view_count": null,
            "_view_module": "@jupyter-widgets/base",
            "_view_module_version": "1.2.0",
            "_view_name": "StyleView",
            "description_width": ""
          }
        },
        "066ee0d7ac8740b6bcaa6ee617587710": {
          "model_module": "@jupyter-widgets/base",
          "model_name": "LayoutModel",
          "model_module_version": "1.2.0",
          "state": {
            "_model_module": "@jupyter-widgets/base",
            "_model_module_version": "1.2.0",
            "_model_name": "LayoutModel",
            "_view_count": null,
            "_view_module": "@jupyter-widgets/base",
            "_view_module_version": "1.2.0",
            "_view_name": "LayoutView",
            "align_content": null,
            "align_items": null,
            "align_self": null,
            "border": null,
            "bottom": null,
            "display": null,
            "flex": null,
            "flex_flow": null,
            "grid_area": null,
            "grid_auto_columns": null,
            "grid_auto_flow": null,
            "grid_auto_rows": null,
            "grid_column": null,
            "grid_gap": null,
            "grid_row": null,
            "grid_template_areas": null,
            "grid_template_columns": null,
            "grid_template_rows": null,
            "height": null,
            "justify_content": null,
            "justify_items": null,
            "left": null,
            "margin": null,
            "max_height": null,
            "max_width": null,
            "min_height": null,
            "min_width": null,
            "object_fit": null,
            "object_position": null,
            "order": null,
            "overflow": null,
            "overflow_x": null,
            "overflow_y": null,
            "padding": null,
            "right": null,
            "top": null,
            "visibility": null,
            "width": null
          }
        },
        "17ebd9cc43c44b568517c51efebfac6f": {
          "model_module": "@jupyter-widgets/controls",
          "model_name": "ProgressStyleModel",
          "model_module_version": "1.5.0",
          "state": {
            "_model_module": "@jupyter-widgets/controls",
            "_model_module_version": "1.5.0",
            "_model_name": "ProgressStyleModel",
            "_view_count": null,
            "_view_module": "@jupyter-widgets/base",
            "_view_module_version": "1.2.0",
            "_view_name": "StyleView",
            "bar_color": null,
            "description_width": ""
          }
        },
        "0840c76d72e342e1ae4ce5804046aab4": {
          "model_module": "@jupyter-widgets/base",
          "model_name": "LayoutModel",
          "model_module_version": "1.2.0",
          "state": {
            "_model_module": "@jupyter-widgets/base",
            "_model_module_version": "1.2.0",
            "_model_name": "LayoutModel",
            "_view_count": null,
            "_view_module": "@jupyter-widgets/base",
            "_view_module_version": "1.2.0",
            "_view_name": "LayoutView",
            "align_content": null,
            "align_items": null,
            "align_self": null,
            "border": null,
            "bottom": null,
            "display": null,
            "flex": null,
            "flex_flow": null,
            "grid_area": null,
            "grid_auto_columns": null,
            "grid_auto_flow": null,
            "grid_auto_rows": null,
            "grid_column": null,
            "grid_gap": null,
            "grid_row": null,
            "grid_template_areas": null,
            "grid_template_columns": null,
            "grid_template_rows": null,
            "height": null,
            "justify_content": null,
            "justify_items": null,
            "left": null,
            "margin": null,
            "max_height": null,
            "max_width": null,
            "min_height": null,
            "min_width": null,
            "object_fit": null,
            "object_position": null,
            "order": null,
            "overflow": null,
            "overflow_x": null,
            "overflow_y": null,
            "padding": null,
            "right": null,
            "top": null,
            "visibility": null,
            "width": null
          }
        },
        "ebe589eb44cc48f2ae9f32791b396248": {
          "model_module": "@jupyter-widgets/controls",
          "model_name": "DescriptionStyleModel",
          "model_module_version": "1.5.0",
          "state": {
            "_model_module": "@jupyter-widgets/controls",
            "_model_module_version": "1.5.0",
            "_model_name": "DescriptionStyleModel",
            "_view_count": null,
            "_view_module": "@jupyter-widgets/base",
            "_view_module_version": "1.2.0",
            "_view_name": "StyleView",
            "description_width": ""
          }
        },
        "0b607292105b4f76b95aea9a564e1298": {
          "model_module": "@jupyter-widgets/controls",
          "model_name": "HBoxModel",
          "model_module_version": "1.5.0",
          "state": {
            "_dom_classes": [],
            "_model_module": "@jupyter-widgets/controls",
            "_model_module_version": "1.5.0",
            "_model_name": "HBoxModel",
            "_view_count": null,
            "_view_module": "@jupyter-widgets/controls",
            "_view_module_version": "1.5.0",
            "_view_name": "HBoxView",
            "box_style": "",
            "children": [
              "IPY_MODEL_ca393e269f9d46778fe81964336d5b76",
              "IPY_MODEL_e93a947c9bba486bbdf8310f575ff098",
              "IPY_MODEL_57935bdc885745579fae5a550591dc4a"
            ],
            "layout": "IPY_MODEL_803c50351f9e4b1b9e4df06365ba42e2"
          }
        },
        "ca393e269f9d46778fe81964336d5b76": {
          "model_module": "@jupyter-widgets/controls",
          "model_name": "HTMLModel",
          "model_module_version": "1.5.0",
          "state": {
            "_dom_classes": [],
            "_model_module": "@jupyter-widgets/controls",
            "_model_module_version": "1.5.0",
            "_model_name": "HTMLModel",
            "_view_count": null,
            "_view_module": "@jupyter-widgets/controls",
            "_view_module_version": "1.5.0",
            "_view_name": "HTMLView",
            "description": "",
            "description_tooltip": null,
            "layout": "IPY_MODEL_1558dfe5515c445ba0b59cd07ec6ce01",
            "placeholder": "​",
            "style": "IPY_MODEL_eb25104211494136ae95d40336fa860a",
            "value": "vocab.txt: 100%"
          }
        },
        "e93a947c9bba486bbdf8310f575ff098": {
          "model_module": "@jupyter-widgets/controls",
          "model_name": "FloatProgressModel",
          "model_module_version": "1.5.0",
          "state": {
            "_dom_classes": [],
            "_model_module": "@jupyter-widgets/controls",
            "_model_module_version": "1.5.0",
            "_model_name": "FloatProgressModel",
            "_view_count": null,
            "_view_module": "@jupyter-widgets/controls",
            "_view_module_version": "1.5.0",
            "_view_name": "ProgressView",
            "bar_style": "success",
            "description": "",
            "description_tooltip": null,
            "layout": "IPY_MODEL_fc57c80e141545c1ba7a55b8be4eb358",
            "max": 213450,
            "min": 0,
            "orientation": "horizontal",
            "style": "IPY_MODEL_a7184cd0f98d419584a123f0687c1f11",
            "value": 213450
          }
        },
        "57935bdc885745579fae5a550591dc4a": {
          "model_module": "@jupyter-widgets/controls",
          "model_name": "HTMLModel",
          "model_module_version": "1.5.0",
          "state": {
            "_dom_classes": [],
            "_model_module": "@jupyter-widgets/controls",
            "_model_module_version": "1.5.0",
            "_model_name": "HTMLModel",
            "_view_count": null,
            "_view_module": "@jupyter-widgets/controls",
            "_view_module_version": "1.5.0",
            "_view_name": "HTMLView",
            "description": "",
            "description_tooltip": null,
            "layout": "IPY_MODEL_a5d1cc599c5b4bcaa682dcdd7b5e2a1a",
            "placeholder": "​",
            "style": "IPY_MODEL_9d98c9b14eec4830933f4ad717aa2c90",
            "value": " 213k/213k [00:00&lt;00:00, 776kB/s]"
          }
        },
        "803c50351f9e4b1b9e4df06365ba42e2": {
          "model_module": "@jupyter-widgets/base",
          "model_name": "LayoutModel",
          "model_module_version": "1.2.0",
          "state": {
            "_model_module": "@jupyter-widgets/base",
            "_model_module_version": "1.2.0",
            "_model_name": "LayoutModel",
            "_view_count": null,
            "_view_module": "@jupyter-widgets/base",
            "_view_module_version": "1.2.0",
            "_view_name": "LayoutView",
            "align_content": null,
            "align_items": null,
            "align_self": null,
            "border": null,
            "bottom": null,
            "display": null,
            "flex": null,
            "flex_flow": null,
            "grid_area": null,
            "grid_auto_columns": null,
            "grid_auto_flow": null,
            "grid_auto_rows": null,
            "grid_column": null,
            "grid_gap": null,
            "grid_row": null,
            "grid_template_areas": null,
            "grid_template_columns": null,
            "grid_template_rows": null,
            "height": null,
            "justify_content": null,
            "justify_items": null,
            "left": null,
            "margin": null,
            "max_height": null,
            "max_width": null,
            "min_height": null,
            "min_width": null,
            "object_fit": null,
            "object_position": null,
            "order": null,
            "overflow": null,
            "overflow_x": null,
            "overflow_y": null,
            "padding": null,
            "right": null,
            "top": null,
            "visibility": null,
            "width": null
          }
        },
        "1558dfe5515c445ba0b59cd07ec6ce01": {
          "model_module": "@jupyter-widgets/base",
          "model_name": "LayoutModel",
          "model_module_version": "1.2.0",
          "state": {
            "_model_module": "@jupyter-widgets/base",
            "_model_module_version": "1.2.0",
            "_model_name": "LayoutModel",
            "_view_count": null,
            "_view_module": "@jupyter-widgets/base",
            "_view_module_version": "1.2.0",
            "_view_name": "LayoutView",
            "align_content": null,
            "align_items": null,
            "align_self": null,
            "border": null,
            "bottom": null,
            "display": null,
            "flex": null,
            "flex_flow": null,
            "grid_area": null,
            "grid_auto_columns": null,
            "grid_auto_flow": null,
            "grid_auto_rows": null,
            "grid_column": null,
            "grid_gap": null,
            "grid_row": null,
            "grid_template_areas": null,
            "grid_template_columns": null,
            "grid_template_rows": null,
            "height": null,
            "justify_content": null,
            "justify_items": null,
            "left": null,
            "margin": null,
            "max_height": null,
            "max_width": null,
            "min_height": null,
            "min_width": null,
            "object_fit": null,
            "object_position": null,
            "order": null,
            "overflow": null,
            "overflow_x": null,
            "overflow_y": null,
            "padding": null,
            "right": null,
            "top": null,
            "visibility": null,
            "width": null
          }
        },
        "eb25104211494136ae95d40336fa860a": {
          "model_module": "@jupyter-widgets/controls",
          "model_name": "DescriptionStyleModel",
          "model_module_version": "1.5.0",
          "state": {
            "_model_module": "@jupyter-widgets/controls",
            "_model_module_version": "1.5.0",
            "_model_name": "DescriptionStyleModel",
            "_view_count": null,
            "_view_module": "@jupyter-widgets/base",
            "_view_module_version": "1.2.0",
            "_view_name": "StyleView",
            "description_width": ""
          }
        },
        "fc57c80e141545c1ba7a55b8be4eb358": {
          "model_module": "@jupyter-widgets/base",
          "model_name": "LayoutModel",
          "model_module_version": "1.2.0",
          "state": {
            "_model_module": "@jupyter-widgets/base",
            "_model_module_version": "1.2.0",
            "_model_name": "LayoutModel",
            "_view_count": null,
            "_view_module": "@jupyter-widgets/base",
            "_view_module_version": "1.2.0",
            "_view_name": "LayoutView",
            "align_content": null,
            "align_items": null,
            "align_self": null,
            "border": null,
            "bottom": null,
            "display": null,
            "flex": null,
            "flex_flow": null,
            "grid_area": null,
            "grid_auto_columns": null,
            "grid_auto_flow": null,
            "grid_auto_rows": null,
            "grid_column": null,
            "grid_gap": null,
            "grid_row": null,
            "grid_template_areas": null,
            "grid_template_columns": null,
            "grid_template_rows": null,
            "height": null,
            "justify_content": null,
            "justify_items": null,
            "left": null,
            "margin": null,
            "max_height": null,
            "max_width": null,
            "min_height": null,
            "min_width": null,
            "object_fit": null,
            "object_position": null,
            "order": null,
            "overflow": null,
            "overflow_x": null,
            "overflow_y": null,
            "padding": null,
            "right": null,
            "top": null,
            "visibility": null,
            "width": null
          }
        },
        "a7184cd0f98d419584a123f0687c1f11": {
          "model_module": "@jupyter-widgets/controls",
          "model_name": "ProgressStyleModel",
          "model_module_version": "1.5.0",
          "state": {
            "_model_module": "@jupyter-widgets/controls",
            "_model_module_version": "1.5.0",
            "_model_name": "ProgressStyleModel",
            "_view_count": null,
            "_view_module": "@jupyter-widgets/base",
            "_view_module_version": "1.2.0",
            "_view_name": "StyleView",
            "bar_color": null,
            "description_width": ""
          }
        },
        "a5d1cc599c5b4bcaa682dcdd7b5e2a1a": {
          "model_module": "@jupyter-widgets/base",
          "model_name": "LayoutModel",
          "model_module_version": "1.2.0",
          "state": {
            "_model_module": "@jupyter-widgets/base",
            "_model_module_version": "1.2.0",
            "_model_name": "LayoutModel",
            "_view_count": null,
            "_view_module": "@jupyter-widgets/base",
            "_view_module_version": "1.2.0",
            "_view_name": "LayoutView",
            "align_content": null,
            "align_items": null,
            "align_self": null,
            "border": null,
            "bottom": null,
            "display": null,
            "flex": null,
            "flex_flow": null,
            "grid_area": null,
            "grid_auto_columns": null,
            "grid_auto_flow": null,
            "grid_auto_rows": null,
            "grid_column": null,
            "grid_gap": null,
            "grid_row": null,
            "grid_template_areas": null,
            "grid_template_columns": null,
            "grid_template_rows": null,
            "height": null,
            "justify_content": null,
            "justify_items": null,
            "left": null,
            "margin": null,
            "max_height": null,
            "max_width": null,
            "min_height": null,
            "min_width": null,
            "object_fit": null,
            "object_position": null,
            "order": null,
            "overflow": null,
            "overflow_x": null,
            "overflow_y": null,
            "padding": null,
            "right": null,
            "top": null,
            "visibility": null,
            "width": null
          }
        },
        "9d98c9b14eec4830933f4ad717aa2c90": {
          "model_module": "@jupyter-widgets/controls",
          "model_name": "DescriptionStyleModel",
          "model_module_version": "1.5.0",
          "state": {
            "_model_module": "@jupyter-widgets/controls",
            "_model_module_version": "1.5.0",
            "_model_name": "DescriptionStyleModel",
            "_view_count": null,
            "_view_module": "@jupyter-widgets/base",
            "_view_module_version": "1.2.0",
            "_view_name": "StyleView",
            "description_width": ""
          }
        },
        "dcf20682cdd744a8964a699fe6af0cc3": {
          "model_module": "@jupyter-widgets/controls",
          "model_name": "HBoxModel",
          "model_module_version": "1.5.0",
          "state": {
            "_dom_classes": [],
            "_model_module": "@jupyter-widgets/controls",
            "_model_module_version": "1.5.0",
            "_model_name": "HBoxModel",
            "_view_count": null,
            "_view_module": "@jupyter-widgets/controls",
            "_view_module_version": "1.5.0",
            "_view_name": "HBoxView",
            "box_style": "",
            "children": [
              "IPY_MODEL_95ec6977a76a492a9d17196188a4bdab",
              "IPY_MODEL_ddae2ba91e874be7b5119c93e15b0366",
              "IPY_MODEL_17a3bec9a47340538ac13ffc132c6596"
            ],
            "layout": "IPY_MODEL_24efa40bd9ca480b98f46a1ec4182944"
          }
        },
        "95ec6977a76a492a9d17196188a4bdab": {
          "model_module": "@jupyter-widgets/controls",
          "model_name": "HTMLModel",
          "model_module_version": "1.5.0",
          "state": {
            "_dom_classes": [],
            "_model_module": "@jupyter-widgets/controls",
            "_model_module_version": "1.5.0",
            "_model_name": "HTMLModel",
            "_view_count": null,
            "_view_module": "@jupyter-widgets/controls",
            "_view_module_version": "1.5.0",
            "_view_name": "HTMLView",
            "description": "",
            "description_tooltip": null,
            "layout": "IPY_MODEL_b1494e5a73554ae185f19c0095532a64",
            "placeholder": "​",
            "style": "IPY_MODEL_04dab063b4214d7ba549bd262a676b00",
            "value": "tokenizer.json: 100%"
          }
        },
        "ddae2ba91e874be7b5119c93e15b0366": {
          "model_module": "@jupyter-widgets/controls",
          "model_name": "FloatProgressModel",
          "model_module_version": "1.5.0",
          "state": {
            "_dom_classes": [],
            "_model_module": "@jupyter-widgets/controls",
            "_model_module_version": "1.5.0",
            "_model_name": "FloatProgressModel",
            "_view_count": null,
            "_view_module": "@jupyter-widgets/controls",
            "_view_module_version": "1.5.0",
            "_view_name": "ProgressView",
            "bar_style": "success",
            "description": "",
            "description_tooltip": null,
            "layout": "IPY_MODEL_9d7b9991e826406ea9f0b8ee9248a834",
            "max": 435797,
            "min": 0,
            "orientation": "horizontal",
            "style": "IPY_MODEL_ae2a43280d5a49fa85afee74391efe3c",
            "value": 435797
          }
        },
        "17a3bec9a47340538ac13ffc132c6596": {
          "model_module": "@jupyter-widgets/controls",
          "model_name": "HTMLModel",
          "model_module_version": "1.5.0",
          "state": {
            "_dom_classes": [],
            "_model_module": "@jupyter-widgets/controls",
            "_model_module_version": "1.5.0",
            "_model_name": "HTMLModel",
            "_view_count": null,
            "_view_module": "@jupyter-widgets/controls",
            "_view_module_version": "1.5.0",
            "_view_name": "HTMLView",
            "description": "",
            "description_tooltip": null,
            "layout": "IPY_MODEL_eb21d2174baa4c19a9931499e2f015c0",
            "placeholder": "​",
            "style": "IPY_MODEL_bbb9e2c5cba04c27b6254c45b3a0380c",
            "value": " 436k/436k [00:00&lt;00:00, 7.58MB/s]"
          }
        },
        "24efa40bd9ca480b98f46a1ec4182944": {
          "model_module": "@jupyter-widgets/base",
          "model_name": "LayoutModel",
          "model_module_version": "1.2.0",
          "state": {
            "_model_module": "@jupyter-widgets/base",
            "_model_module_version": "1.2.0",
            "_model_name": "LayoutModel",
            "_view_count": null,
            "_view_module": "@jupyter-widgets/base",
            "_view_module_version": "1.2.0",
            "_view_name": "LayoutView",
            "align_content": null,
            "align_items": null,
            "align_self": null,
            "border": null,
            "bottom": null,
            "display": null,
            "flex": null,
            "flex_flow": null,
            "grid_area": null,
            "grid_auto_columns": null,
            "grid_auto_flow": null,
            "grid_auto_rows": null,
            "grid_column": null,
            "grid_gap": null,
            "grid_row": null,
            "grid_template_areas": null,
            "grid_template_columns": null,
            "grid_template_rows": null,
            "height": null,
            "justify_content": null,
            "justify_items": null,
            "left": null,
            "margin": null,
            "max_height": null,
            "max_width": null,
            "min_height": null,
            "min_width": null,
            "object_fit": null,
            "object_position": null,
            "order": null,
            "overflow": null,
            "overflow_x": null,
            "overflow_y": null,
            "padding": null,
            "right": null,
            "top": null,
            "visibility": null,
            "width": null
          }
        },
        "b1494e5a73554ae185f19c0095532a64": {
          "model_module": "@jupyter-widgets/base",
          "model_name": "LayoutModel",
          "model_module_version": "1.2.0",
          "state": {
            "_model_module": "@jupyter-widgets/base",
            "_model_module_version": "1.2.0",
            "_model_name": "LayoutModel",
            "_view_count": null,
            "_view_module": "@jupyter-widgets/base",
            "_view_module_version": "1.2.0",
            "_view_name": "LayoutView",
            "align_content": null,
            "align_items": null,
            "align_self": null,
            "border": null,
            "bottom": null,
            "display": null,
            "flex": null,
            "flex_flow": null,
            "grid_area": null,
            "grid_auto_columns": null,
            "grid_auto_flow": null,
            "grid_auto_rows": null,
            "grid_column": null,
            "grid_gap": null,
            "grid_row": null,
            "grid_template_areas": null,
            "grid_template_columns": null,
            "grid_template_rows": null,
            "height": null,
            "justify_content": null,
            "justify_items": null,
            "left": null,
            "margin": null,
            "max_height": null,
            "max_width": null,
            "min_height": null,
            "min_width": null,
            "object_fit": null,
            "object_position": null,
            "order": null,
            "overflow": null,
            "overflow_x": null,
            "overflow_y": null,
            "padding": null,
            "right": null,
            "top": null,
            "visibility": null,
            "width": null
          }
        },
        "04dab063b4214d7ba549bd262a676b00": {
          "model_module": "@jupyter-widgets/controls",
          "model_name": "DescriptionStyleModel",
          "model_module_version": "1.5.0",
          "state": {
            "_model_module": "@jupyter-widgets/controls",
            "_model_module_version": "1.5.0",
            "_model_name": "DescriptionStyleModel",
            "_view_count": null,
            "_view_module": "@jupyter-widgets/base",
            "_view_module_version": "1.2.0",
            "_view_name": "StyleView",
            "description_width": ""
          }
        },
        "9d7b9991e826406ea9f0b8ee9248a834": {
          "model_module": "@jupyter-widgets/base",
          "model_name": "LayoutModel",
          "model_module_version": "1.2.0",
          "state": {
            "_model_module": "@jupyter-widgets/base",
            "_model_module_version": "1.2.0",
            "_model_name": "LayoutModel",
            "_view_count": null,
            "_view_module": "@jupyter-widgets/base",
            "_view_module_version": "1.2.0",
            "_view_name": "LayoutView",
            "align_content": null,
            "align_items": null,
            "align_self": null,
            "border": null,
            "bottom": null,
            "display": null,
            "flex": null,
            "flex_flow": null,
            "grid_area": null,
            "grid_auto_columns": null,
            "grid_auto_flow": null,
            "grid_auto_rows": null,
            "grid_column": null,
            "grid_gap": null,
            "grid_row": null,
            "grid_template_areas": null,
            "grid_template_columns": null,
            "grid_template_rows": null,
            "height": null,
            "justify_content": null,
            "justify_items": null,
            "left": null,
            "margin": null,
            "max_height": null,
            "max_width": null,
            "min_height": null,
            "min_width": null,
            "object_fit": null,
            "object_position": null,
            "order": null,
            "overflow": null,
            "overflow_x": null,
            "overflow_y": null,
            "padding": null,
            "right": null,
            "top": null,
            "visibility": null,
            "width": null
          }
        },
        "ae2a43280d5a49fa85afee74391efe3c": {
          "model_module": "@jupyter-widgets/controls",
          "model_name": "ProgressStyleModel",
          "model_module_version": "1.5.0",
          "state": {
            "_model_module": "@jupyter-widgets/controls",
            "_model_module_version": "1.5.0",
            "_model_name": "ProgressStyleModel",
            "_view_count": null,
            "_view_module": "@jupyter-widgets/base",
            "_view_module_version": "1.2.0",
            "_view_name": "StyleView",
            "bar_color": null,
            "description_width": ""
          }
        },
        "eb21d2174baa4c19a9931499e2f015c0": {
          "model_module": "@jupyter-widgets/base",
          "model_name": "LayoutModel",
          "model_module_version": "1.2.0",
          "state": {
            "_model_module": "@jupyter-widgets/base",
            "_model_module_version": "1.2.0",
            "_model_name": "LayoutModel",
            "_view_count": null,
            "_view_module": "@jupyter-widgets/base",
            "_view_module_version": "1.2.0",
            "_view_name": "LayoutView",
            "align_content": null,
            "align_items": null,
            "align_self": null,
            "border": null,
            "bottom": null,
            "display": null,
            "flex": null,
            "flex_flow": null,
            "grid_area": null,
            "grid_auto_columns": null,
            "grid_auto_flow": null,
            "grid_auto_rows": null,
            "grid_column": null,
            "grid_gap": null,
            "grid_row": null,
            "grid_template_areas": null,
            "grid_template_columns": null,
            "grid_template_rows": null,
            "height": null,
            "justify_content": null,
            "justify_items": null,
            "left": null,
            "margin": null,
            "max_height": null,
            "max_width": null,
            "min_height": null,
            "min_width": null,
            "object_fit": null,
            "object_position": null,
            "order": null,
            "overflow": null,
            "overflow_x": null,
            "overflow_y": null,
            "padding": null,
            "right": null,
            "top": null,
            "visibility": null,
            "width": null
          }
        },
        "bbb9e2c5cba04c27b6254c45b3a0380c": {
          "model_module": "@jupyter-widgets/controls",
          "model_name": "DescriptionStyleModel",
          "model_module_version": "1.5.0",
          "state": {
            "_model_module": "@jupyter-widgets/controls",
            "_model_module_version": "1.5.0",
            "_model_name": "DescriptionStyleModel",
            "_view_count": null,
            "_view_module": "@jupyter-widgets/base",
            "_view_module_version": "1.2.0",
            "_view_name": "StyleView",
            "description_width": ""
          }
        },
        "ea12589f0bfd4052804a554e60db47b6": {
          "model_module": "@jupyter-widgets/controls",
          "model_name": "HBoxModel",
          "model_module_version": "1.5.0",
          "state": {
            "_dom_classes": [],
            "_model_module": "@jupyter-widgets/controls",
            "_model_module_version": "1.5.0",
            "_model_name": "HBoxModel",
            "_view_count": null,
            "_view_module": "@jupyter-widgets/controls",
            "_view_module_version": "1.5.0",
            "_view_name": "HBoxView",
            "box_style": "",
            "children": [
              "IPY_MODEL_83660c5a6a7c4858bc9ec66f1b5ded6c",
              "IPY_MODEL_ed4a023ab3ab45188f1b8a9ef97f65db",
              "IPY_MODEL_a71b9f0e7643415d9b3fa7b37142dbce"
            ],
            "layout": "IPY_MODEL_63ee8cff0e894523a5b6fc11e861f794"
          }
        },
        "83660c5a6a7c4858bc9ec66f1b5ded6c": {
          "model_module": "@jupyter-widgets/controls",
          "model_name": "HTMLModel",
          "model_module_version": "1.5.0",
          "state": {
            "_dom_classes": [],
            "_model_module": "@jupyter-widgets/controls",
            "_model_module_version": "1.5.0",
            "_model_name": "HTMLModel",
            "_view_count": null,
            "_view_module": "@jupyter-widgets/controls",
            "_view_module_version": "1.5.0",
            "_view_name": "HTMLView",
            "description": "",
            "description_tooltip": null,
            "layout": "IPY_MODEL_458f7687815b4ce7b92c6ca8c96f8c47",
            "placeholder": "​",
            "style": "IPY_MODEL_5ae6e9175d564d14bd700d2d419097ff",
            "value": "config.json: 100%"
          }
        },
        "ed4a023ab3ab45188f1b8a9ef97f65db": {
          "model_module": "@jupyter-widgets/controls",
          "model_name": "FloatProgressModel",
          "model_module_version": "1.5.0",
          "state": {
            "_dom_classes": [],
            "_model_module": "@jupyter-widgets/controls",
            "_model_module_version": "1.5.0",
            "_model_name": "FloatProgressModel",
            "_view_count": null,
            "_view_module": "@jupyter-widgets/controls",
            "_view_module_version": "1.5.0",
            "_view_name": "ProgressView",
            "bar_style": "success",
            "description": "",
            "description_tooltip": null,
            "layout": "IPY_MODEL_cd50d91e6da342e19a54d53f3282ae42",
            "max": 570,
            "min": 0,
            "orientation": "horizontal",
            "style": "IPY_MODEL_621cce9c3df64f27b735d8ffb7c21cea",
            "value": 570
          }
        },
        "a71b9f0e7643415d9b3fa7b37142dbce": {
          "model_module": "@jupyter-widgets/controls",
          "model_name": "HTMLModel",
          "model_module_version": "1.5.0",
          "state": {
            "_dom_classes": [],
            "_model_module": "@jupyter-widgets/controls",
            "_model_module_version": "1.5.0",
            "_model_name": "HTMLModel",
            "_view_count": null,
            "_view_module": "@jupyter-widgets/controls",
            "_view_module_version": "1.5.0",
            "_view_name": "HTMLView",
            "description": "",
            "description_tooltip": null,
            "layout": "IPY_MODEL_026bc127403848f78379c888d9b27570",
            "placeholder": "​",
            "style": "IPY_MODEL_493b45e7d16441a0ad79182cc4e7317d",
            "value": " 570/570 [00:00&lt;00:00, 43.0kB/s]"
          }
        },
        "63ee8cff0e894523a5b6fc11e861f794": {
          "model_module": "@jupyter-widgets/base",
          "model_name": "LayoutModel",
          "model_module_version": "1.2.0",
          "state": {
            "_model_module": "@jupyter-widgets/base",
            "_model_module_version": "1.2.0",
            "_model_name": "LayoutModel",
            "_view_count": null,
            "_view_module": "@jupyter-widgets/base",
            "_view_module_version": "1.2.0",
            "_view_name": "LayoutView",
            "align_content": null,
            "align_items": null,
            "align_self": null,
            "border": null,
            "bottom": null,
            "display": null,
            "flex": null,
            "flex_flow": null,
            "grid_area": null,
            "grid_auto_columns": null,
            "grid_auto_flow": null,
            "grid_auto_rows": null,
            "grid_column": null,
            "grid_gap": null,
            "grid_row": null,
            "grid_template_areas": null,
            "grid_template_columns": null,
            "grid_template_rows": null,
            "height": null,
            "justify_content": null,
            "justify_items": null,
            "left": null,
            "margin": null,
            "max_height": null,
            "max_width": null,
            "min_height": null,
            "min_width": null,
            "object_fit": null,
            "object_position": null,
            "order": null,
            "overflow": null,
            "overflow_x": null,
            "overflow_y": null,
            "padding": null,
            "right": null,
            "top": null,
            "visibility": null,
            "width": null
          }
        },
        "458f7687815b4ce7b92c6ca8c96f8c47": {
          "model_module": "@jupyter-widgets/base",
          "model_name": "LayoutModel",
          "model_module_version": "1.2.0",
          "state": {
            "_model_module": "@jupyter-widgets/base",
            "_model_module_version": "1.2.0",
            "_model_name": "LayoutModel",
            "_view_count": null,
            "_view_module": "@jupyter-widgets/base",
            "_view_module_version": "1.2.0",
            "_view_name": "LayoutView",
            "align_content": null,
            "align_items": null,
            "align_self": null,
            "border": null,
            "bottom": null,
            "display": null,
            "flex": null,
            "flex_flow": null,
            "grid_area": null,
            "grid_auto_columns": null,
            "grid_auto_flow": null,
            "grid_auto_rows": null,
            "grid_column": null,
            "grid_gap": null,
            "grid_row": null,
            "grid_template_areas": null,
            "grid_template_columns": null,
            "grid_template_rows": null,
            "height": null,
            "justify_content": null,
            "justify_items": null,
            "left": null,
            "margin": null,
            "max_height": null,
            "max_width": null,
            "min_height": null,
            "min_width": null,
            "object_fit": null,
            "object_position": null,
            "order": null,
            "overflow": null,
            "overflow_x": null,
            "overflow_y": null,
            "padding": null,
            "right": null,
            "top": null,
            "visibility": null,
            "width": null
          }
        },
        "5ae6e9175d564d14bd700d2d419097ff": {
          "model_module": "@jupyter-widgets/controls",
          "model_name": "DescriptionStyleModel",
          "model_module_version": "1.5.0",
          "state": {
            "_model_module": "@jupyter-widgets/controls",
            "_model_module_version": "1.5.0",
            "_model_name": "DescriptionStyleModel",
            "_view_count": null,
            "_view_module": "@jupyter-widgets/base",
            "_view_module_version": "1.2.0",
            "_view_name": "StyleView",
            "description_width": ""
          }
        },
        "cd50d91e6da342e19a54d53f3282ae42": {
          "model_module": "@jupyter-widgets/base",
          "model_name": "LayoutModel",
          "model_module_version": "1.2.0",
          "state": {
            "_model_module": "@jupyter-widgets/base",
            "_model_module_version": "1.2.0",
            "_model_name": "LayoutModel",
            "_view_count": null,
            "_view_module": "@jupyter-widgets/base",
            "_view_module_version": "1.2.0",
            "_view_name": "LayoutView",
            "align_content": null,
            "align_items": null,
            "align_self": null,
            "border": null,
            "bottom": null,
            "display": null,
            "flex": null,
            "flex_flow": null,
            "grid_area": null,
            "grid_auto_columns": null,
            "grid_auto_flow": null,
            "grid_auto_rows": null,
            "grid_column": null,
            "grid_gap": null,
            "grid_row": null,
            "grid_template_areas": null,
            "grid_template_columns": null,
            "grid_template_rows": null,
            "height": null,
            "justify_content": null,
            "justify_items": null,
            "left": null,
            "margin": null,
            "max_height": null,
            "max_width": null,
            "min_height": null,
            "min_width": null,
            "object_fit": null,
            "object_position": null,
            "order": null,
            "overflow": null,
            "overflow_x": null,
            "overflow_y": null,
            "padding": null,
            "right": null,
            "top": null,
            "visibility": null,
            "width": null
          }
        },
        "621cce9c3df64f27b735d8ffb7c21cea": {
          "model_module": "@jupyter-widgets/controls",
          "model_name": "ProgressStyleModel",
          "model_module_version": "1.5.0",
          "state": {
            "_model_module": "@jupyter-widgets/controls",
            "_model_module_version": "1.5.0",
            "_model_name": "ProgressStyleModel",
            "_view_count": null,
            "_view_module": "@jupyter-widgets/base",
            "_view_module_version": "1.2.0",
            "_view_name": "StyleView",
            "bar_color": null,
            "description_width": ""
          }
        },
        "026bc127403848f78379c888d9b27570": {
          "model_module": "@jupyter-widgets/base",
          "model_name": "LayoutModel",
          "model_module_version": "1.2.0",
          "state": {
            "_model_module": "@jupyter-widgets/base",
            "_model_module_version": "1.2.0",
            "_model_name": "LayoutModel",
            "_view_count": null,
            "_view_module": "@jupyter-widgets/base",
            "_view_module_version": "1.2.0",
            "_view_name": "LayoutView",
            "align_content": null,
            "align_items": null,
            "align_self": null,
            "border": null,
            "bottom": null,
            "display": null,
            "flex": null,
            "flex_flow": null,
            "grid_area": null,
            "grid_auto_columns": null,
            "grid_auto_flow": null,
            "grid_auto_rows": null,
            "grid_column": null,
            "grid_gap": null,
            "grid_row": null,
            "grid_template_areas": null,
            "grid_template_columns": null,
            "grid_template_rows": null,
            "height": null,
            "justify_content": null,
            "justify_items": null,
            "left": null,
            "margin": null,
            "max_height": null,
            "max_width": null,
            "min_height": null,
            "min_width": null,
            "object_fit": null,
            "object_position": null,
            "order": null,
            "overflow": null,
            "overflow_x": null,
            "overflow_y": null,
            "padding": null,
            "right": null,
            "top": null,
            "visibility": null,
            "width": null
          }
        },
        "493b45e7d16441a0ad79182cc4e7317d": {
          "model_module": "@jupyter-widgets/controls",
          "model_name": "DescriptionStyleModel",
          "model_module_version": "1.5.0",
          "state": {
            "_model_module": "@jupyter-widgets/controls",
            "_model_module_version": "1.5.0",
            "_model_name": "DescriptionStyleModel",
            "_view_count": null,
            "_view_module": "@jupyter-widgets/base",
            "_view_module_version": "1.2.0",
            "_view_name": "StyleView",
            "description_width": ""
          }
        }
      }
    }
  },
  "cells": [
    {
      "cell_type": "markdown",
      "metadata": {
        "id": "view-in-github",
        "colab_type": "text"
      },
      "source": [
        "<a href=\"https://colab.research.google.com/github/adalves-ufabc/2024.Q2-PLN/blob/main/2024_Q2_PLN_AULA_04_Notebook_05.ipynb\" target=\"_parent\"><img src=\"https://colab.research.google.com/assets/colab-badge.svg\" alt=\"Open In Colab\"/></a>"
      ]
    },
    {
      "cell_type": "markdown",
      "metadata": {
        "id": "Y6QILOdpOjwv"
      },
      "source": [
        "# **Processamento de Linguagem Natural [2024-Q2]**\n",
        "Prof. Alexandre Donizeti Alves"
      ]
    },
    {
      "cell_type": "markdown",
      "metadata": {
        "id": "nmK05FgcOzL2"
      },
      "source": [
        "### **Tokens e Vocabulário**\n",
        "---\n",
        "\n"
      ]
    },
    {
      "cell_type": "markdown",
      "source": [
        "Em Processamento de Linguagem Natural (PLN), um ***token*** refere-se a uma unidade básica de processamento de texto. Geralmente, um ***token*** é definido como uma sequência contígua de caracteres que forma uma unidade significativa em um texto. Essa unidade pode ser uma **palavra**, um **número**, um **símbolo de pontuação** ou até mesmo um **caractere individual**, dependendo do objetivo do processamento.\n",
        "\n"
      ],
      "metadata": {
        "id": "YKeqSx2qOxPW"
      }
    },
    {
      "cell_type": "markdown",
      "source": [
        "Por exemplo, na seguinte frase:\n",
        "\n",
        " > `O gato preto saltou sobre o muro`\n",
        "\n",
        "\n"
      ],
      "metadata": {
        "id": "FL-iWoxPUi3a"
      }
    },
    {
      "cell_type": "markdown",
      "source": [
        "Os ***tokens*** são:\n",
        "\n",
        "> `O`, `gato`, `preto`, `saltou`, `sobre`, `o`, `muro`"
      ],
      "metadata": {
        "id": "xRoekKpTmlA2"
      }
    },
    {
      "cell_type": "markdown",
      "source": [
        "O **vocabulário**, por sua vez, refere-se ao conjunto de todos os *tokens* únicos que ocorrem em um determinado córpus. Em outras palavras, o **vocabulário** é o conjunto de todas as palavras distintas em um determinado conjunto de textos."
      ],
      "metadata": {
        "id": "BG-0lrj1PjrQ"
      }
    },
    {
      "cell_type": "markdown",
      "source": [
        "O **vocabulário** é frequentemente usado em PLN para construir modelos estatísticos de linguagem, como modelos de linguagem de *n-gramas*, que podem ser usados ​​para tarefas como predição de palavras e geração de texto."
      ],
      "metadata": {
        "id": "4fsuJpafU5aq"
      }
    },
    {
      "cell_type": "markdown",
      "source": [
        "Por exemplo, se tivermos um conjunto de documentos que contenha as seguintes frases:\n",
        "\n",
        "    O gato preto saltou sobre o muro.\n",
        "    O cão correu no parque.\n",
        "    O gato e o cão são animais de estimação populares."
      ],
      "metadata": {
        "id": "Xy6XIhyDPwq2"
      }
    },
    {
      "cell_type": "markdown",
      "source": [
        "Quantidade de ***tokens*** e ***types*** (tipos):\n",
        "\n",
        "> ***Tokens***: conta todas as ocorrências\n",
        "\n",
        "> ***Types***: conta apenas uma ocorrência = **tamanho do vocabulário**"
      ],
      "metadata": {
        "id": "NDxG0UD3WmCB"
      }
    },
    {
      "cell_type": "markdown",
      "source": [
        "O **vocabulário** desses documentos seria composto pelas seguintes ***types*** (tipos):\n",
        "\n",
        "`O`, `gato`, `preto`, `saltou`, `sobre`, `o`, `muro`, `cão`, `correu`, `no`, `parque`, `e`, `são`, `animais`, `de`, `estimação`, `populares`."
      ],
      "metadata": {
        "id": "n0t4IVbmWgMD"
      }
    },
    {
      "cell_type": "markdown",
      "source": [
        "Note que alguns ***tokens*** aparecem em mais de uma frase, como **`O`** e **`gato`**, mas o **vocabulário** inclui apenas uma única ocorrência de cada ***token***, ou seja, apenas os ***types***."
      ],
      "metadata": {
        "id": "GXgvu2DTQEWb"
      }
    },
    {
      "cell_type": "markdown",
      "source": [
        "### **Tokenizadores**\n",
        "---"
      ],
      "metadata": {
        "id": "HMQGBMfNvWVa"
      }
    },
    {
      "cell_type": "markdown",
      "metadata": {
        "id": "MI3GMSOv26F2"
      },
      "source": [
        "**Tokenizador por Espaço**\n",
        "\n",
        "Desenvolvido com base no principal delimitador para uma grande parcela das línguas naturais humanas: `o espaço`"
      ]
    },
    {
      "cell_type": "code",
      "metadata": {
        "id": "uBiqYr4kGlLE",
        "colab": {
          "base_uri": "https://localhost:8080/"
        },
        "outputId": "4d99b85f-8089-4791-a2a6-943083914b22"
      },
      "source": [
        "texto = \"No meio do caminho tinha uma pedra.\"\n",
        "\n",
        "texto.split()"
      ],
      "execution_count": null,
      "outputs": [
        {
          "output_type": "execute_result",
          "data": {
            "text/plain": [
              "['No', 'meio', 'do', 'caminho', 'tinha', 'uma', 'pedra.']"
            ]
          },
          "metadata": {},
          "execution_count": 1
        }
      ]
    },
    {
      "cell_type": "markdown",
      "metadata": {
        "id": "ufM9ES0_3FwF"
      },
      "source": [
        "**Tokenizador baseado numa expressão regular**\n",
        "\n",
        "Segmenta as palavras de um texto com base em delimitadores como espaço, pontuações e início/fim de uma sequência (`\\b`)"
      ]
    },
    {
      "cell_type": "code",
      "metadata": {
        "id": "YIllpjMcCIOs",
        "colab": {
          "base_uri": "https://localhost:8080/"
        },
        "outputId": "b1eea3e7-1b67-4c14-ff62-6888b9a3c1bf"
      },
      "source": [
        "import re\n",
        "\n",
        "texto = \"No meio do caminho tinha uma pedra.\"\n",
        "\n",
        "re.sub(r\"(\\b)\", r\" \\1\", texto).split()"
      ],
      "execution_count": null,
      "outputs": [
        {
          "output_type": "execute_result",
          "data": {
            "text/plain": [
              "['No', 'meio', 'do', 'caminho', 'tinha', 'uma', 'pedra', '.']"
            ]
          },
          "metadata": {},
          "execution_count": 4
        }
      ]
    },
    {
      "cell_type": "markdown",
      "metadata": {
        "id": "qwGtvVJt3Nni"
      },
      "source": [
        "**Tokenizador baseado em Regras**\n",
        "\n",
        "1. Buscar todas as ocorrências de valores numéricos e financeiros (R$1,00; $46; etc.)\n",
        "\n",
        "2. Buscar todas as ocorrências de sequências de 1 ou mais caracteres\n",
        "\n",
        "3. Buscar todas as ocorrências de sequências sem espaço\n"
      ]
    },
    {
      "cell_type": "code",
      "metadata": {
        "id": "95ecY9vrFdph",
        "colab": {
          "base_uri": "https://localhost:8080/"
        },
        "outputId": "12b026be-f124-489f-e8a4-f6070103a7d8"
      },
      "source": [
        "texto = \"Eu paguei R$456,00 pelo setup. O que acha?\"\n",
        "regex = r\"R?\\$?[\\d\\.\\,]+|\\w+|\\S+\"\n",
        "re.findall(regex, texto)"
      ],
      "execution_count": null,
      "outputs": [
        {
          "output_type": "execute_result",
          "data": {
            "text/plain": [
              "['Eu', 'paguei', 'R$456,00', 'pelo', 'setup', '.', 'O', 'que', 'acha', '?']"
            ]
          },
          "metadata": {},
          "execution_count": 18
        }
      ]
    },
    {
      "cell_type": "markdown",
      "source": [
        "Aqui está um exemplo de código em `Python` que usa a biblioteca `NLTK` para tokenizar uma frase:"
      ],
      "metadata": {
        "id": "lNRetsXkQl4z"
      }
    },
    {
      "cell_type": "code",
      "source": [
        "import nltk\n",
        "\n",
        "# faz o download do tokenizador punkt da biblioteca nltk\n",
        "nltk.download('punkt')"
      ],
      "metadata": {
        "colab": {
          "base_uri": "https://localhost:8080/"
        },
        "id": "iQe36eIlQzWi",
        "outputId": "6610c480-64f3-4ee5-bdc7-4a663a9a6034"
      },
      "execution_count": null,
      "outputs": [
        {
          "output_type": "stream",
          "name": "stderr",
          "text": [
            "[nltk_data] Downloading package punkt to /root/nltk_data...\n",
            "[nltk_data]   Unzipping tokenizers/punkt.zip.\n"
          ]
        },
        {
          "output_type": "execute_result",
          "data": {
            "text/plain": [
              "True"
            ]
          },
          "metadata": {},
          "execution_count": 8
        }
      ]
    },
    {
      "cell_type": "markdown",
      "source": [
        "O código **`nltk.download('punkt')`** é usado para fazer o download do **tokenizador** **`punkt`** da biblioteca **`NLTK`** (*`Natural Language Toolkit`*).\n",
        "\n",
        "O **tokenizador** **`punkt`** é um algoritmo de tokenização pré-treinado para separar um texto em unidades menores, geralmente palavras ou sentenças, considerando regras específicas para diferentes idiomas."
      ],
      "metadata": {
        "id": "NPrTwgQIRGQc"
      }
    },
    {
      "cell_type": "code",
      "source": [
        "import nltk\n",
        "from nltk.tokenize import word_tokenize\n",
        "\n",
        "# definir a frase a ser tokenizada\n",
        "frase = \"Eu gosto de pizza de mussarela.\"\n",
        "\n",
        "# usar a funcao word_tokenize() para tokenizar a frase\n",
        "tokens = word_tokenize(frase)\n",
        "\n",
        "# imprimir os tokens\n",
        "print(tokens)"
      ],
      "metadata": {
        "colab": {
          "base_uri": "https://localhost:8080/"
        },
        "id": "USSErUfTQLCx",
        "outputId": "a79d3855-7178-4047-f504-8d14f7d8a462"
      },
      "execution_count": null,
      "outputs": [
        {
          "output_type": "stream",
          "name": "stdout",
          "text": [
            "['Eu', 'gosto', 'de', 'pizza', 'de', 'mussarela', '.']\n"
          ]
        }
      ]
    },
    {
      "cell_type": "code",
      "source": [
        "type(tokens)"
      ],
      "metadata": {
        "colab": {
          "base_uri": "https://localhost:8080/"
        },
        "id": "O7hTSKjk0mX3",
        "outputId": "a3eff0d3-c357-4a86-b6bf-eedee76e4f17"
      },
      "execution_count": null,
      "outputs": [
        {
          "output_type": "execute_result",
          "data": {
            "text/plain": [
              "list"
            ]
          },
          "metadata": {},
          "execution_count": 10
        }
      ]
    },
    {
      "cell_type": "markdown",
      "source": [
        "Note que a função **`word_tokenize`** separou a frase em uma lista de *tokens*, considerando pontuações e espaços em branco."
      ],
      "metadata": {
        "id": "u5RLBlhKRa3-"
      }
    },
    {
      "cell_type": "markdown",
      "source": [
        "Aqui está um exemplo de código em **`Python`** que usa o conceito de vocabulário para contar a frequência de cada token em um córpus:"
      ],
      "metadata": {
        "id": "4OfSfGFvRdIY"
      }
    },
    {
      "cell_type": "code",
      "source": [
        "import nltk\n",
        "from nltk.tokenize import word_tokenize\n",
        "\n",
        "# definir o corpus\n",
        "texto = \"O gato preto saltou sobre o muro. O cão correu no parque. O gato e o cão são animais de estimação populares.\"\n",
        "\n",
        "# tokenizar o corpus\n",
        "tokens = word_tokenize(texto)\n",
        "\n",
        "# criar vocabulario a partir dos tokens [set: evitar duplicatas]\n",
        "vocabulario = set(tokens)"
      ],
      "metadata": {
        "id": "kp4LqNEnRtFm"
      },
      "execution_count": null,
      "outputs": []
    },
    {
      "cell_type": "code",
      "source": [
        "# criar dicionario para contar frequencia de cada token\n",
        "word_frequency = {}\n",
        "for word in tokens:\n",
        "    if word not in word_frequency:\n",
        "        word_frequency[word] = 1\n",
        "    else:\n",
        "        word_frequency[word] += 1"
      ],
      "metadata": {
        "id": "nnO8e2EBZkNx"
      },
      "execution_count": null,
      "outputs": []
    },
    {
      "cell_type": "code",
      "source": [
        "# imprimir vocabulario\n",
        "print(vocabulario)"
      ],
      "metadata": {
        "colab": {
          "base_uri": "https://localhost:8080/"
        },
        "id": "2IKsDtv_ZfAi",
        "outputId": "b4dbca4b-645e-4b93-cfee-7d33704a88b4"
      },
      "execution_count": null,
      "outputs": [
        {
          "output_type": "stream",
          "name": "stdout",
          "text": [
            "{'e', 'cão', 'saltou', 'O', '.', 'no', 'estimação', 'populares', 'preto', 'parque', 'são', 'de', 'gato', 'o', 'muro', 'sobre', 'correu', 'animais'}\n"
          ]
        }
      ]
    },
    {
      "cell_type": "code",
      "source": [
        "print(len(vocabulario))"
      ],
      "metadata": {
        "colab": {
          "base_uri": "https://localhost:8080/"
        },
        "id": "yDdp_onA1EkQ",
        "outputId": "31bbc221-d965-46f8-eb0e-8a4de5617ea3"
      },
      "execution_count": null,
      "outputs": [
        {
          "output_type": "stream",
          "name": "stdout",
          "text": [
            "18\n"
          ]
        }
      ]
    },
    {
      "cell_type": "code",
      "source": [
        "# imprimir frequencia\n",
        "print(word_frequency)"
      ],
      "metadata": {
        "colab": {
          "base_uri": "https://localhost:8080/"
        },
        "id": "d1QBiNJMaGFp",
        "outputId": "fce9be97-ff5a-4349-f3c9-7b4b358b03ea"
      },
      "execution_count": null,
      "outputs": [
        {
          "output_type": "stream",
          "name": "stdout",
          "text": [
            "{'O': 3, 'gato': 2, 'preto': 1, 'saltou': 1, 'sobre': 1, 'o': 2, 'muro': 1, '.': 3, 'cão': 2, 'correu': 1, 'no': 1, 'parque': 1, 'e': 1, 'são': 1, 'animais': 1, 'de': 1, 'estimação': 1, 'populares': 1}\n"
          ]
        }
      ]
    },
    {
      "cell_type": "markdown",
      "source": [
        "Aqui está um exemplo que usa a biblioteca **`NLTK`** para tokenizar um texto em palavras e calcular a frequência de cada palavra no texto."
      ],
      "metadata": {
        "id": "XMn5y5gyS6sP"
      }
    },
    {
      "cell_type": "code",
      "source": [
        "import nltk\n",
        "from nltk.tokenize import word_tokenize\n",
        "from collections import Counter\n",
        "\n",
        "# definir o texto a ser processado\n",
        "texto = \"O Brasil é o país do futebol. O futebol é um esporte popular em todo o mundo.\"\n",
        "\n",
        "# tokenizar o texto em palavras\n",
        "palavras = word_tokenize(texto)\n",
        "\n",
        "# calcular a frequencia de cada palavra no texto\n",
        "frequencia = Counter(palavras)\n",
        "\n",
        "# imprimir as 5 palavras mais frequentes no texto\n",
        "print(frequencia.most_common(5))"
      ],
      "metadata": {
        "colab": {
          "base_uri": "https://localhost:8080/"
        },
        "id": "QjChZit4SlPG",
        "outputId": "fe769acc-7c14-4878-c7ed-223209baf6a8"
      },
      "execution_count": null,
      "outputs": [
        {
          "output_type": "stream",
          "name": "stdout",
          "text": [
            "[('O', 2), ('é', 2), ('o', 2), ('futebol', 2), ('.', 2)]\n"
          ]
        }
      ]
    },
    {
      "cell_type": "markdown",
      "source": [
        "Aqui está outro exemplo usando a biblioteca **`NLTK`**, que é similar ao exemplo anterior, mas usa a função **`nltk.FreqDist()`** para calcular as frequências de cada palavra."
      ],
      "metadata": {
        "id": "fhtJ--GzUMjF"
      }
    },
    {
      "cell_type": "code",
      "source": [
        "import nltk\n",
        "from nltk.tokenize import word_tokenize\n",
        "from nltk.probability import FreqDist\n",
        "\n",
        "# definir o texto a ser processado\n",
        "texto = \"O Brasil é o país do futebol. O futebol é um esporte popular em todo o mundo.\"\n",
        "\n",
        "# tokenizar o texto em palavras\n",
        "palavras = word_tokenize(texto, language='portuguese')\n",
        "\n",
        "# calcular a frequencia de cada palavra no texto\n",
        "frequencia = FreqDist(palavras)\n",
        "\n",
        "# imprimir as 5 palavras mais frequentes no texto\n",
        "print(frequencia.most_common(5))"
      ],
      "metadata": {
        "colab": {
          "base_uri": "https://localhost:8080/"
        },
        "id": "ZQOgroVwUHzi",
        "outputId": "34541ca0-1af7-4fb9-8937-983019876781"
      },
      "execution_count": null,
      "outputs": [
        {
          "output_type": "stream",
          "name": "stdout",
          "text": [
            "[('O', 2), ('é', 2), ('o', 2), ('futebol', 2), ('.', 2)]\n"
          ]
        }
      ]
    },
    {
      "cell_type": "markdown",
      "source": [
        "### **NLTK**"
      ],
      "metadata": {
        "id": "tHnlSBeDUzbc"
      }
    },
    {
      "cell_type": "markdown",
      "source": [
        "A biblioteca **`NLTK`** (*Natural Language Toolkit*)  é uma biblioteca de PLN em **`Python`**. Ela é amplamente usada em pesquisas acadêmicas e industriais, e também é uma das bibliotecas mais populares em PLN.\n",
        "\n",
        "A biblioteca **`NLTK`** contém um grande conjunto de ferramentas e recursos para processar e analisar textos em linguagem natural. Alguns dos recursos mais importantes da biblioteca são:\n",
        "\n",
        "   * **Tokenização**: a biblioteca fornece várias opções para tokenizar textos em palavras e sentenças. A tokenização é a primeira etapa do pré-processamento de dados em PLN.\n",
        "\n",
        "   * ***POS (Part-of-Speech)*** ***Tagging***: a biblioteca possui algoritmos para marcar as palavras em um texto com sua classe gramatical, como substantivos, verbos, adjetivos etc.\n",
        "\n",
        "   * **Análise sintática**: a biblioteca pode ser usada para analisar a estrutura sintática de uma frase, como a identificação do sujeito, objeto, verbo principal etc.\n",
        "\n",
        "   * **Dicionários e corpora**: a biblioteca fornece acesso a vários dicionários e corpora em linguagem natural, que podem ser usados para treinar modelos de PLN ou como referência em pesquisas."
      ],
      "metadata": {
        "id": "e7N9w27eWOca"
      }
    },
    {
      "cell_type": "markdown",
      "source": [
        "Uma das primeiras coisas a se testar é se o **`NLTK`** está disponível no **Google Colab**. Para isso, execute a seguinte instrução:"
      ],
      "metadata": {
        "id": "x_Y_AxstU0Hp"
      }
    },
    {
      "cell_type": "code",
      "source": [
        "import nltk"
      ],
      "metadata": {
        "id": "aEkOK0scVA2Q"
      },
      "execution_count": null,
      "outputs": []
    },
    {
      "cell_type": "markdown",
      "source": [
        "`NLTK` possui uma série de pacotes adicionais ou [corpora](#myfootnote1)  que podem ser facilmente adicionados na instalação básica da biblioteca.\n",
        "\n",
        "Para ter acesso ao download destes pacotes adicionais, basta utilizar o comando:\n",
        "\n",
        "`nltk.download()`\n",
        "\n",
        "<a name=\"myfootnote1\">Corpora</a>: plural de **córpus**, que em latim significa conjunto de uma obra. Termo que serve para designar um conjunto de textos, ou registros orais de uma língua para fins de análise."
      ],
      "metadata": {
        "id": "jzNlBBKLVHOO"
      }
    },
    {
      "cell_type": "code",
      "source": [
        "nltk.download()"
      ],
      "metadata": {
        "colab": {
          "base_uri": "https://localhost:8080/"
        },
        "id": "MhQHxzd0VTUi",
        "outputId": "f14184df-36a5-480a-8915-b2ae86f07174"
      },
      "execution_count": null,
      "outputs": [
        {
          "name": "stdout",
          "output_type": "stream",
          "text": [
            "NLTK Downloader\n",
            "---------------------------------------------------------------------------\n",
            "    d) Download   l) List    u) Update   c) Config   h) Help   q) Quit\n",
            "---------------------------------------------------------------------------\n",
            "Downloader> l\n",
            "\n",
            "Packages:\n",
            "  [ ] abc................. Australian Broadcasting Commission 2006\n",
            "  [ ] alpino.............. Alpino Dutch Treebank\n",
            "  [ ] averaged_perceptron_tagger Averaged Perceptron Tagger\n",
            "  [ ] averaged_perceptron_tagger_ru Averaged Perceptron Tagger (Russian)\n",
            "  [ ] basque_grammars..... Grammars for Basque\n",
            "  [ ] bcp47............... BCP-47 Language Tags\n",
            "  [ ] biocreative_ppi..... BioCreAtIvE (Critical Assessment of Information\n",
            "                           Extraction Systems in Biology)\n",
            "  [ ] bllip_wsj_no_aux.... BLLIP Parser: WSJ Model\n",
            "  [ ] book_grammars....... Grammars from NLTK Book\n",
            "  [ ] brown............... Brown Corpus\n",
            "  [ ] brown_tei........... Brown Corpus (TEI XML Version)\n",
            "  [ ] cess_cat............ CESS-CAT Treebank\n",
            "  [ ] cess_esp............ CESS-ESP Treebank\n",
            "  [ ] chat80.............. Chat-80 Data Files\n",
            "  [ ] city_database....... City Database\n",
            "  [ ] cmudict............. The Carnegie Mellon Pronouncing Dictionary (0.6)\n",
            "  [ ] comparative_sentences Comparative Sentence Dataset\n",
            "  [ ] comtrans............ ComTrans Corpus Sample\n",
            "  [ ] conll2000........... CONLL 2000 Chunking Corpus\n",
            "Hit Enter to continue: \n",
            "  [ ] conll2002........... CONLL 2002 Named Entity Recognition Corpus\n",
            "  [ ] conll2007........... Dependency Treebanks from CoNLL 2007 (Catalan\n",
            "                           and Basque Subset)\n",
            "  [ ] crubadan............ Crubadan Corpus\n",
            "  [ ] dependency_treebank. Dependency Parsed Treebank\n",
            "  [ ] dolch............... Dolch Word List\n",
            "  [ ] europarl_raw........ Sample European Parliament Proceedings Parallel\n",
            "                           Corpus\n",
            "  [ ] extended_omw........ Extended Open Multilingual WordNet\n",
            "  [ ] floresta............ Portuguese Treebank\n",
            "  [ ] framenet_v15........ FrameNet 1.5\n",
            "  [ ] framenet_v17........ FrameNet 1.7\n",
            "  [ ] gazetteers.......... Gazeteer Lists\n",
            "  [ ] genesis............. Genesis Corpus\n",
            "  [ ] gutenberg........... Project Gutenberg Selections\n",
            "  [ ] ieer................ NIST IE-ER DATA SAMPLE\n",
            "  [ ] inaugural........... C-Span Inaugural Address Corpus\n",
            "  [ ] indian.............. Indian Language POS-Tagged Corpus\n",
            "  [ ] jeita............... JEITA Public Morphologically Tagged Corpus (in\n",
            "                           ChaSen format)\n",
            "  [ ] kimmo............... PC-KIMMO Data Files\n",
            "Hit Enter to continue: \n",
            "  [ ] knbc................ KNB Corpus (Annotated blog corpus)\n",
            "  [ ] large_grammars...... Large context-free and feature-based grammars\n",
            "                           for parser comparison\n",
            "  [ ] lin_thesaurus....... Lin's Dependency Thesaurus\n",
            "  [ ] mac_morpho.......... MAC-MORPHO: Brazilian Portuguese news text with\n",
            "                           part-of-speech tags\n",
            "  [ ] machado............. Machado de Assis -- Obra Completa\n",
            "  [ ] masc_tagged......... MASC Tagged Corpus\n",
            "  [ ] maxent_ne_chunker... ACE Named Entity Chunker (Maximum entropy)\n",
            "  [ ] maxent_treebank_pos_tagger Treebank Part of Speech Tagger (Maximum entropy)\n",
            "  [ ] moses_sample........ Moses Sample Models\n",
            "  [ ] movie_reviews....... Sentiment Polarity Dataset Version 2.0\n",
            "  [ ] mte_teip5........... MULTEXT-East 1984 annotated corpus 4.0\n",
            "  [ ] mwa_ppdb............ The monolingual word aligner (Sultan et al.\n",
            "                           2015) subset of the Paraphrase Database.\n",
            "  [ ] names............... Names Corpus, Version 1.3 (1994-03-29)\n",
            "  [ ] nombank.1.0......... NomBank Corpus 1.0\n",
            "  [ ] nonbreaking_prefixes Non-Breaking Prefixes (Moses Decoder)\n",
            "  [ ] nps_chat............ NPS Chat\n",
            "  [*] omw-1.4............. Open Multilingual Wordnet\n",
            "  [ ] omw................. Open Multilingual Wordnet\n",
            "Hit Enter to continue: q\n",
            "\n",
            "---------------------------------------------------------------------------\n",
            "    d) Download   l) List    u) Update   c) Config   h) Help   q) Quit\n",
            "---------------------------------------------------------------------------\n",
            "Downloader> q\n"
          ]
        },
        {
          "output_type": "execute_result",
          "data": {
            "text/plain": [
              "True"
            ]
          },
          "metadata": {},
          "execution_count": 138
        }
      ]
    },
    {
      "cell_type": "markdown",
      "source": [
        "Um dos **corpora** disponibilizado pela biblioteca `NLTK` é a obra completa de **Machado de Assis**. O nome desse pacote é \"`machado`\"."
      ],
      "metadata": {
        "id": "8xcWLpvvVsbO"
      }
    },
    {
      "cell_type": "code",
      "source": [
        "from nltk.corpus import machado"
      ],
      "metadata": {
        "id": "NFMTH6B8Vz2-"
      },
      "execution_count": null,
      "outputs": []
    },
    {
      "cell_type": "markdown",
      "source": [
        "Aparentemente está disponível, mas caso não estivesse, bastaria realizar o download."
      ],
      "metadata": {
        "id": "25cayLuOV4EJ"
      }
    },
    {
      "cell_type": "code",
      "source": [
        "nltk.download(\"machado\")"
      ],
      "metadata": {
        "colab": {
          "base_uri": "https://localhost:8080/"
        },
        "id": "KnKGePnOV5Zg",
        "outputId": "96dcec29-027a-4391-fd6a-840cd0f487a3"
      },
      "execution_count": null,
      "outputs": [
        {
          "output_type": "stream",
          "name": "stderr",
          "text": [
            "[nltk_data] Downloading package machado to /root/nltk_data...\n"
          ]
        },
        {
          "output_type": "execute_result",
          "data": {
            "text/plain": [
              "True"
            ]
          },
          "metadata": {},
          "execution_count": 21
        }
      ]
    },
    {
      "cell_type": "markdown",
      "source": [
        "Agora é possível, por exemplo, obter algumas informações sobre o córpus:"
      ],
      "metadata": {
        "id": "ctnGkFroV_iJ"
      }
    },
    {
      "cell_type": "code",
      "source": [
        "print (\"Número de arquivos no corpora:\", len(machado.fileids()))\n",
        "print (\"Primeiros três textos do corpora\", machado.fileids()[0:3])\n",
        "print (\"Quantas palavras existem nesse corpora?\", len(machado.words()))"
      ],
      "metadata": {
        "colab": {
          "base_uri": "https://localhost:8080/"
        },
        "id": "l99xK4PTV_6k",
        "outputId": "01650fe9-a82c-4d77-c75f-f0d603394d78"
      },
      "execution_count": null,
      "outputs": [
        {
          "output_type": "stream",
          "name": "stdout",
          "text": [
            "Número de arquivos no corpora: 246\n",
            "Primeiros três textos do corpora ['contos/macn001.txt', 'contos/macn002.txt', 'contos/macn003.txt']\n",
            "Quantas palavras existem nesse corpora? 3121944\n"
          ]
        }
      ]
    },
    {
      "cell_type": "markdown",
      "source": [
        "**Outras bibliotecas**\n",
        "\n",
        "\n",
        "---\n",
        "\n"
      ],
      "metadata": {
        "id": "i6a9JXvjX13V"
      }
    },
    {
      "cell_type": "markdown",
      "source": [
        "**spaCy**"
      ],
      "metadata": {
        "id": "2g8hwV-1dn2P"
      }
    },
    {
      "cell_type": "markdown",
      "source": [
        "Aqui está um exemplo de como realizar a tokenização e criação do vocabulário usando a biblioteca `spaCy`:"
      ],
      "metadata": {
        "id": "4b5f5hAJX4Yf"
      }
    },
    {
      "cell_type": "code",
      "source": [
        "# as vezes eh necessario reiniciar o ambiente\n",
        "!python -m spacy download pt_core_news_sm"
      ],
      "metadata": {
        "id": "Gff8lCvTZ7EG",
        "colab": {
          "base_uri": "https://localhost:8080/"
        },
        "outputId": "a7a5bb2c-a01b-4e05-902f-58cc6ee5ee21"
      },
      "execution_count": null,
      "outputs": [
        {
          "output_type": "stream",
          "name": "stdout",
          "text": [
            "Collecting pt-core-news-sm==3.7.0\n",
            "  Downloading https://github.com/explosion/spacy-models/releases/download/pt_core_news_sm-3.7.0/pt_core_news_sm-3.7.0-py3-none-any.whl (13.0 MB)\n",
            "\u001b[2K     \u001b[90m━━━━━━━━━━━━━━━━━━━━━━━━━━━━━━━━━━━━━━━━\u001b[0m \u001b[32m13.0/13.0 MB\u001b[0m \u001b[31m21.2 MB/s\u001b[0m eta \u001b[36m0:00:00\u001b[0m\n",
            "\u001b[?25hRequirement already satisfied: spacy<3.8.0,>=3.7.0 in /usr/local/lib/python3.10/dist-packages (from pt-core-news-sm==3.7.0) (3.7.5)\n",
            "Requirement already satisfied: spacy-legacy<3.1.0,>=3.0.11 in /usr/local/lib/python3.10/dist-packages (from spacy<3.8.0,>=3.7.0->pt-core-news-sm==3.7.0) (3.0.12)\n",
            "Requirement already satisfied: spacy-loggers<2.0.0,>=1.0.0 in /usr/local/lib/python3.10/dist-packages (from spacy<3.8.0,>=3.7.0->pt-core-news-sm==3.7.0) (1.0.5)\n",
            "Requirement already satisfied: murmurhash<1.1.0,>=0.28.0 in /usr/local/lib/python3.10/dist-packages (from spacy<3.8.0,>=3.7.0->pt-core-news-sm==3.7.0) (1.0.10)\n",
            "Requirement already satisfied: cymem<2.1.0,>=2.0.2 in /usr/local/lib/python3.10/dist-packages (from spacy<3.8.0,>=3.7.0->pt-core-news-sm==3.7.0) (2.0.8)\n",
            "Requirement already satisfied: preshed<3.1.0,>=3.0.2 in /usr/local/lib/python3.10/dist-packages (from spacy<3.8.0,>=3.7.0->pt-core-news-sm==3.7.0) (3.0.9)\n",
            "Requirement already satisfied: thinc<8.3.0,>=8.2.2 in /usr/local/lib/python3.10/dist-packages (from spacy<3.8.0,>=3.7.0->pt-core-news-sm==3.7.0) (8.2.5)\n",
            "Requirement already satisfied: wasabi<1.2.0,>=0.9.1 in /usr/local/lib/python3.10/dist-packages (from spacy<3.8.0,>=3.7.0->pt-core-news-sm==3.7.0) (1.1.3)\n",
            "Requirement already satisfied: srsly<3.0.0,>=2.4.3 in /usr/local/lib/python3.10/dist-packages (from spacy<3.8.0,>=3.7.0->pt-core-news-sm==3.7.0) (2.4.8)\n",
            "Requirement already satisfied: catalogue<2.1.0,>=2.0.6 in /usr/local/lib/python3.10/dist-packages (from spacy<3.8.0,>=3.7.0->pt-core-news-sm==3.7.0) (2.0.10)\n",
            "Requirement already satisfied: weasel<0.5.0,>=0.1.0 in /usr/local/lib/python3.10/dist-packages (from spacy<3.8.0,>=3.7.0->pt-core-news-sm==3.7.0) (0.4.1)\n",
            "Requirement already satisfied: typer<1.0.0,>=0.3.0 in /usr/local/lib/python3.10/dist-packages (from spacy<3.8.0,>=3.7.0->pt-core-news-sm==3.7.0) (0.12.3)\n",
            "Requirement already satisfied: tqdm<5.0.0,>=4.38.0 in /usr/local/lib/python3.10/dist-packages (from spacy<3.8.0,>=3.7.0->pt-core-news-sm==3.7.0) (4.66.4)\n",
            "Requirement already satisfied: requests<3.0.0,>=2.13.0 in /usr/local/lib/python3.10/dist-packages (from spacy<3.8.0,>=3.7.0->pt-core-news-sm==3.7.0) (2.31.0)\n",
            "Requirement already satisfied: pydantic!=1.8,!=1.8.1,<3.0.0,>=1.7.4 in /usr/local/lib/python3.10/dist-packages (from spacy<3.8.0,>=3.7.0->pt-core-news-sm==3.7.0) (2.7.4)\n",
            "Requirement already satisfied: jinja2 in /usr/local/lib/python3.10/dist-packages (from spacy<3.8.0,>=3.7.0->pt-core-news-sm==3.7.0) (3.1.4)\n",
            "Requirement already satisfied: setuptools in /usr/local/lib/python3.10/dist-packages (from spacy<3.8.0,>=3.7.0->pt-core-news-sm==3.7.0) (67.7.2)\n",
            "Requirement already satisfied: packaging>=20.0 in /usr/local/lib/python3.10/dist-packages (from spacy<3.8.0,>=3.7.0->pt-core-news-sm==3.7.0) (24.1)\n",
            "Requirement already satisfied: langcodes<4.0.0,>=3.2.0 in /usr/local/lib/python3.10/dist-packages (from spacy<3.8.0,>=3.7.0->pt-core-news-sm==3.7.0) (3.4.0)\n",
            "Requirement already satisfied: numpy>=1.19.0 in /usr/local/lib/python3.10/dist-packages (from spacy<3.8.0,>=3.7.0->pt-core-news-sm==3.7.0) (1.25.2)\n",
            "Requirement already satisfied: language-data>=1.2 in /usr/local/lib/python3.10/dist-packages (from langcodes<4.0.0,>=3.2.0->spacy<3.8.0,>=3.7.0->pt-core-news-sm==3.7.0) (1.2.0)\n",
            "Requirement already satisfied: annotated-types>=0.4.0 in /usr/local/lib/python3.10/dist-packages (from pydantic!=1.8,!=1.8.1,<3.0.0,>=1.7.4->spacy<3.8.0,>=3.7.0->pt-core-news-sm==3.7.0) (0.7.0)\n",
            "Requirement already satisfied: pydantic-core==2.18.4 in /usr/local/lib/python3.10/dist-packages (from pydantic!=1.8,!=1.8.1,<3.0.0,>=1.7.4->spacy<3.8.0,>=3.7.0->pt-core-news-sm==3.7.0) (2.18.4)\n",
            "Requirement already satisfied: typing-extensions>=4.6.1 in /usr/local/lib/python3.10/dist-packages (from pydantic!=1.8,!=1.8.1,<3.0.0,>=1.7.4->spacy<3.8.0,>=3.7.0->pt-core-news-sm==3.7.0) (4.12.2)\n",
            "Requirement already satisfied: charset-normalizer<4,>=2 in /usr/local/lib/python3.10/dist-packages (from requests<3.0.0,>=2.13.0->spacy<3.8.0,>=3.7.0->pt-core-news-sm==3.7.0) (3.3.2)\n",
            "Requirement already satisfied: idna<4,>=2.5 in /usr/local/lib/python3.10/dist-packages (from requests<3.0.0,>=2.13.0->spacy<3.8.0,>=3.7.0->pt-core-news-sm==3.7.0) (3.7)\n",
            "Requirement already satisfied: urllib3<3,>=1.21.1 in /usr/local/lib/python3.10/dist-packages (from requests<3.0.0,>=2.13.0->spacy<3.8.0,>=3.7.0->pt-core-news-sm==3.7.0) (2.0.7)\n",
            "Requirement already satisfied: certifi>=2017.4.17 in /usr/local/lib/python3.10/dist-packages (from requests<3.0.0,>=2.13.0->spacy<3.8.0,>=3.7.0->pt-core-news-sm==3.7.0) (2024.6.2)\n",
            "Requirement already satisfied: blis<0.8.0,>=0.7.8 in /usr/local/lib/python3.10/dist-packages (from thinc<8.3.0,>=8.2.2->spacy<3.8.0,>=3.7.0->pt-core-news-sm==3.7.0) (0.7.11)\n",
            "Requirement already satisfied: confection<1.0.0,>=0.0.1 in /usr/local/lib/python3.10/dist-packages (from thinc<8.3.0,>=8.2.2->spacy<3.8.0,>=3.7.0->pt-core-news-sm==3.7.0) (0.1.5)\n",
            "Requirement already satisfied: click>=8.0.0 in /usr/local/lib/python3.10/dist-packages (from typer<1.0.0,>=0.3.0->spacy<3.8.0,>=3.7.0->pt-core-news-sm==3.7.0) (8.1.7)\n",
            "Requirement already satisfied: shellingham>=1.3.0 in /usr/local/lib/python3.10/dist-packages (from typer<1.0.0,>=0.3.0->spacy<3.8.0,>=3.7.0->pt-core-news-sm==3.7.0) (1.5.4)\n",
            "Requirement already satisfied: rich>=10.11.0 in /usr/local/lib/python3.10/dist-packages (from typer<1.0.0,>=0.3.0->spacy<3.8.0,>=3.7.0->pt-core-news-sm==3.7.0) (13.7.1)\n",
            "Requirement already satisfied: cloudpathlib<1.0.0,>=0.7.0 in /usr/local/lib/python3.10/dist-packages (from weasel<0.5.0,>=0.1.0->spacy<3.8.0,>=3.7.0->pt-core-news-sm==3.7.0) (0.18.1)\n",
            "Requirement already satisfied: smart-open<8.0.0,>=5.2.1 in /usr/local/lib/python3.10/dist-packages (from weasel<0.5.0,>=0.1.0->spacy<3.8.0,>=3.7.0->pt-core-news-sm==3.7.0) (7.0.4)\n",
            "Requirement already satisfied: MarkupSafe>=2.0 in /usr/local/lib/python3.10/dist-packages (from jinja2->spacy<3.8.0,>=3.7.0->pt-core-news-sm==3.7.0) (2.1.5)\n",
            "Requirement already satisfied: marisa-trie>=0.7.7 in /usr/local/lib/python3.10/dist-packages (from language-data>=1.2->langcodes<4.0.0,>=3.2.0->spacy<3.8.0,>=3.7.0->pt-core-news-sm==3.7.0) (1.2.0)\n",
            "Requirement already satisfied: markdown-it-py>=2.2.0 in /usr/local/lib/python3.10/dist-packages (from rich>=10.11.0->typer<1.0.0,>=0.3.0->spacy<3.8.0,>=3.7.0->pt-core-news-sm==3.7.0) (3.0.0)\n",
            "Requirement already satisfied: pygments<3.0.0,>=2.13.0 in /usr/local/lib/python3.10/dist-packages (from rich>=10.11.0->typer<1.0.0,>=0.3.0->spacy<3.8.0,>=3.7.0->pt-core-news-sm==3.7.0) (2.16.1)\n",
            "Requirement already satisfied: wrapt in /usr/local/lib/python3.10/dist-packages (from smart-open<8.0.0,>=5.2.1->weasel<0.5.0,>=0.1.0->spacy<3.8.0,>=3.7.0->pt-core-news-sm==3.7.0) (1.14.1)\n",
            "Requirement already satisfied: mdurl~=0.1 in /usr/local/lib/python3.10/dist-packages (from markdown-it-py>=2.2.0->rich>=10.11.0->typer<1.0.0,>=0.3.0->spacy<3.8.0,>=3.7.0->pt-core-news-sm==3.7.0) (0.1.2)\n",
            "Installing collected packages: pt-core-news-sm\n",
            "Successfully installed pt-core-news-sm-3.7.0\n",
            "\u001b[38;5;2m✔ Download and installation successful\u001b[0m\n",
            "You can now load the package via spacy.load('pt_core_news_sm')\n",
            "\u001b[38;5;3m⚠ Restart to reload dependencies\u001b[0m\n",
            "If you are in a Jupyter or Colab notebook, you may need to restart Python in\n",
            "order to load all the package's dependencies. You can do this by selecting the\n",
            "'Restart kernel' or 'Restart runtime' option.\n"
          ]
        }
      ]
    },
    {
      "cell_type": "markdown",
      "source": [
        "Aqui está um exemplo de como realizar a tokenização e criação do vocabulário usando a biblioteca `spaCy`:"
      ],
      "metadata": {
        "id": "9lEnWTZMaH1q"
      }
    },
    {
      "cell_type": "code",
      "source": [
        "import spacy\n",
        "\n",
        "# carregando modelo do spaCy para a lingua portuguesa\n",
        "nlp = spacy.load(\"pt_core_news_sm\")\n",
        "\n",
        "# definindo texto para ser processado\n",
        "texto = \"O Brasil é o país do futebol. O futebol é um esporte popular em todo o mundo.\"\n",
        "\n",
        "# criando um objeto Doc para o texto\n",
        "doc = nlp(texto)\n",
        "\n",
        "# imprimindo tokens e seus indices\n",
        "for token in doc:\n",
        "    print(token.text, token.idx)"
      ],
      "metadata": {
        "colab": {
          "base_uri": "https://localhost:8080/"
        },
        "id": "9qwQ4yexYCJ9",
        "outputId": "ca8c014c-e24e-4104-81da-292bda3e36a7"
      },
      "execution_count": null,
      "outputs": [
        {
          "output_type": "stream",
          "name": "stdout",
          "text": [
            "O 0\n",
            "Brasil 2\n",
            "é 9\n",
            "o 11\n",
            "país 13\n",
            "do 18\n",
            "futebol 21\n",
            ". 28\n",
            "O 30\n",
            "futebol 32\n",
            "é 40\n",
            "um 42\n",
            "esporte 45\n",
            "popular 53\n",
            "em 61\n",
            "todo 64\n",
            "o 69\n",
            "mundo 71\n",
            ". 76\n"
          ]
        }
      ]
    },
    {
      "cell_type": "code",
      "source": [
        "# criando o vocabulario a partir do objeto Doc\n",
        "vocabulario = set(token.text for token in doc)\n",
        "\n",
        "# imprimindo o vocabulario\n",
        "print(vocabulario)"
      ],
      "metadata": {
        "colab": {
          "base_uri": "https://localhost:8080/"
        },
        "id": "9qRpbySdeND5",
        "outputId": "f7959298-646e-4fea-fed1-239f058eac82"
      },
      "execution_count": null,
      "outputs": [
        {
          "output_type": "stream",
          "name": "stdout",
          "text": [
            "{'Brasil', 'O', '.', 'é', 'futebol', 'do', 'em', 'o', 'esporte', 'mundo', 'país', 'um', 'todo', 'popular'}\n"
          ]
        }
      ]
    },
    {
      "cell_type": "markdown",
      "source": [
        "**TextBlob**"
      ],
      "metadata": {
        "id": "1SZnJ1DWea6L"
      }
    },
    {
      "cell_type": "markdown",
      "source": [
        "Aqui está um exemplo de tokenização e criação de vocabulário usando a biblioteca `TextBlob`:"
      ],
      "metadata": {
        "id": "acM8w0eaali7"
      }
    },
    {
      "cell_type": "code",
      "source": [
        "from textblob import TextBlob\n",
        "\n",
        "# definindo o texto de exemplo\n",
        "texto = \"O cachorro correu no parque. O gato dormiu na cozinha.\"\n",
        "\n",
        "# criando um objeto TextBlob\n",
        "blob = TextBlob(texto)\n",
        "\n",
        "# tokenizacao\n",
        "tokens = blob.words\n",
        "\n",
        "# Imprimindo os tokens\n",
        "print(tokens)"
      ],
      "metadata": {
        "colab": {
          "base_uri": "https://localhost:8080/"
        },
        "id": "cfOipFm0bfxf",
        "outputId": "7d8020df-af4f-4448-be13-e30ce62882a5"
      },
      "execution_count": null,
      "outputs": [
        {
          "output_type": "stream",
          "name": "stdout",
          "text": [
            "['O', 'cachorro', 'correu', 'no', 'parque', 'O', 'gato', 'dormiu', 'na', 'cozinha']\n"
          ]
        }
      ]
    },
    {
      "cell_type": "code",
      "source": [
        "# Construindo o vocabulario\n",
        "vocabulario = set(tokens)\n",
        "\n",
        "# Imprimindo o vocabulario\n",
        "print(vocabulario)"
      ],
      "metadata": {
        "colab": {
          "base_uri": "https://localhost:8080/"
        },
        "id": "R8c5aDLJekbL",
        "outputId": "78656250-caf8-4d0f-97a8-43026f0a371b"
      },
      "execution_count": null,
      "outputs": [
        {
          "output_type": "stream",
          "name": "stdout",
          "text": [
            "{'O', 'no', 'cachorro', 'parque', 'gato', 'cozinha', 'na', 'correu', 'dormiu'}\n"
          ]
        }
      ]
    },
    {
      "cell_type": "markdown",
      "source": [
        "Aqui está um exemplo simples de tokenização de sentenças utilizando a biblioteca `TextBlob`:"
      ],
      "metadata": {
        "id": "XuSi1FDdbzFg"
      }
    },
    {
      "cell_type": "code",
      "source": [
        "from textblob import TextBlob\n",
        "\n",
        "# definindo o texto de exemplo\n",
        "texto = \"O cachorro correu no parque. O gato dormiu na cozinha.\"\n",
        "\n",
        "# criando um objeto TextBlob\n",
        "blob = TextBlob(texto)\n",
        "\n",
        "# tokenizacao de sentencas\n",
        "sentencas = blob.sentences"
      ],
      "metadata": {
        "id": "QHki7Zrzb0RP"
      },
      "execution_count": null,
      "outputs": []
    },
    {
      "cell_type": "code",
      "source": [
        "# imprimindo as sentencas\n",
        "print(sentencas)"
      ],
      "metadata": {
        "colab": {
          "base_uri": "https://localhost:8080/"
        },
        "id": "WyZnJbUjfFGl",
        "outputId": "8eec8690-b445-4877-beeb-ca2b687ffc45"
      },
      "execution_count": null,
      "outputs": [
        {
          "output_type": "stream",
          "name": "stdout",
          "text": [
            "[Sentence(\"O cachorro correu no parque.\"), Sentence(\"O gato dormiu na cozinha.\")]\n"
          ]
        }
      ]
    },
    {
      "cell_type": "code",
      "source": [
        "# imprimindo as sentencas\n",
        "for sentenca in sentencas:\n",
        "  print(sentenca)"
      ],
      "metadata": {
        "colab": {
          "base_uri": "https://localhost:8080/"
        },
        "id": "dhmIH2RNfLUo",
        "outputId": "a5a10b75-f050-4ccf-86af-2e53ae68873c"
      },
      "execution_count": null,
      "outputs": [
        {
          "output_type": "stream",
          "name": "stdout",
          "text": [
            "O cachorro correu no parque.\n",
            "O gato dormiu na cozinha.\n"
          ]
        }
      ]
    },
    {
      "cell_type": "markdown",
      "source": [
        "**Transformers**"
      ],
      "metadata": {
        "id": "elf-h3L2fY0Q"
      }
    },
    {
      "cell_type": "markdown",
      "source": [
        "`Transformers` é um pacote do `Python` que fornece uma API para trabalhar com modelos de linguagem baseados em redes neurais, especialmente modelos de linguagem pré-treinados. Foi desenvolvido pela **Hugging Face** e é construído em cima da biblioteca `PyTorch`."
      ],
      "metadata": {
        "id": "5wLO5j0rNc5k"
      }
    },
    {
      "cell_type": "markdown",
      "source": [
        "**Hugging Face** é uma empresa de tecnologia sediada em Nova York que se concentra em tecnologias de PLN. Eles são mais conhecidos por seus pacotes `Transformers` e `Datasets`, que se tornaram muito populares na comunidade de PLN.\n",
        "\n",
        "O **Hugging Face** se concentra em criar ferramentas e tecnologias para tornar o PLN mais acessível a todos. Eles oferecem uma ampla gama de modelos de linguagem pré-treinados em várias línguas e especializados em várias tarefas, como tradução, resumo de texto, classificação de texto e geração de texto. Eles também desenvolveram uma API fácil de usar e amigável para desenvolvedores para trabalhar com esses modelos, incluindo o pacote `Transformers`."
      ],
      "metadata": {
        "id": "_quW2ZcNOPyN"
      }
    },
    {
      "cell_type": "markdown",
      "source": [
        "Aqui está um exemplo de como usar o `Transformers` para tokenizar um córpus:"
      ],
      "metadata": {
        "id": "Nt_4GdF9H0Ci"
      }
    },
    {
      "cell_type": "code",
      "source": [
        "!pip install transformers"
      ],
      "metadata": {
        "id": "vfm8MXNtGXmS",
        "colab": {
          "base_uri": "https://localhost:8080/"
        },
        "outputId": "d79f10a0-2aed-44b1-c46a-f78ce9fa301f"
      },
      "execution_count": null,
      "outputs": [
        {
          "output_type": "stream",
          "name": "stdout",
          "text": [
            "Requirement already satisfied: transformers in /usr/local/lib/python3.10/dist-packages (4.41.2)\n",
            "Requirement already satisfied: filelock in /usr/local/lib/python3.10/dist-packages (from transformers) (3.15.4)\n",
            "Requirement already satisfied: huggingface-hub<1.0,>=0.23.0 in /usr/local/lib/python3.10/dist-packages (from transformers) (0.23.4)\n",
            "Requirement already satisfied: numpy>=1.17 in /usr/local/lib/python3.10/dist-packages (from transformers) (1.25.2)\n",
            "Requirement already satisfied: packaging>=20.0 in /usr/local/lib/python3.10/dist-packages (from transformers) (24.1)\n",
            "Requirement already satisfied: pyyaml>=5.1 in /usr/local/lib/python3.10/dist-packages (from transformers) (6.0.1)\n",
            "Requirement already satisfied: regex!=2019.12.17 in /usr/local/lib/python3.10/dist-packages (from transformers) (2024.5.15)\n",
            "Requirement already satisfied: requests in /usr/local/lib/python3.10/dist-packages (from transformers) (2.31.0)\n",
            "Requirement already satisfied: tokenizers<0.20,>=0.19 in /usr/local/lib/python3.10/dist-packages (from transformers) (0.19.1)\n",
            "Requirement already satisfied: safetensors>=0.4.1 in /usr/local/lib/python3.10/dist-packages (from transformers) (0.4.3)\n",
            "Requirement already satisfied: tqdm>=4.27 in /usr/local/lib/python3.10/dist-packages (from transformers) (4.66.4)\n",
            "Requirement already satisfied: fsspec>=2023.5.0 in /usr/local/lib/python3.10/dist-packages (from huggingface-hub<1.0,>=0.23.0->transformers) (2023.6.0)\n",
            "Requirement already satisfied: typing-extensions>=3.7.4.3 in /usr/local/lib/python3.10/dist-packages (from huggingface-hub<1.0,>=0.23.0->transformers) (4.12.2)\n",
            "Requirement already satisfied: charset-normalizer<4,>=2 in /usr/local/lib/python3.10/dist-packages (from requests->transformers) (3.3.2)\n",
            "Requirement already satisfied: idna<4,>=2.5 in /usr/local/lib/python3.10/dist-packages (from requests->transformers) (3.7)\n",
            "Requirement already satisfied: urllib3<3,>=1.21.1 in /usr/local/lib/python3.10/dist-packages (from requests->transformers) (2.0.7)\n",
            "Requirement already satisfied: certifi>=2017.4.17 in /usr/local/lib/python3.10/dist-packages (from requests->transformers) (2024.6.2)\n"
          ]
        }
      ]
    },
    {
      "cell_type": "code",
      "source": [
        "from transformers import BertTokenizer\n",
        "\n",
        "# criar um novo tokenizador\n",
        "tokenizador = BertTokenizer.from_pretrained('bert-base-cased')\n",
        "\n",
        "# treinar o tokenizador em um corpus\n",
        "corpus = [\"Esta é a primeira frase.\", \"Esta é a segunda frase.\"]\n",
        "tokenizador.add_tokens(corpus)"
      ],
      "metadata": {
        "colab": {
          "base_uri": "https://localhost:8080/",
          "height": 324,
          "referenced_widgets": [
            "a6273b9809904fc283fc2808bbeb287a",
            "72d601c1b7684c9bb40c4c15e5209002",
            "e61cc1f7204b41a79f18edfce69d4835",
            "5fe3eeb1d3344a9e8cce2d23c561f180",
            "f52c372c05c747848173c43ec9117004",
            "90803e9db9ae478399041d4f8481ee6c",
            "61e2f48dda504cb6b617021e3cc82fc9",
            "066ee0d7ac8740b6bcaa6ee617587710",
            "17ebd9cc43c44b568517c51efebfac6f",
            "0840c76d72e342e1ae4ce5804046aab4",
            "ebe589eb44cc48f2ae9f32791b396248",
            "0b607292105b4f76b95aea9a564e1298",
            "ca393e269f9d46778fe81964336d5b76",
            "e93a947c9bba486bbdf8310f575ff098",
            "57935bdc885745579fae5a550591dc4a",
            "803c50351f9e4b1b9e4df06365ba42e2",
            "1558dfe5515c445ba0b59cd07ec6ce01",
            "eb25104211494136ae95d40336fa860a",
            "fc57c80e141545c1ba7a55b8be4eb358",
            "a7184cd0f98d419584a123f0687c1f11",
            "a5d1cc599c5b4bcaa682dcdd7b5e2a1a",
            "9d98c9b14eec4830933f4ad717aa2c90",
            "dcf20682cdd744a8964a699fe6af0cc3",
            "95ec6977a76a492a9d17196188a4bdab",
            "ddae2ba91e874be7b5119c93e15b0366",
            "17a3bec9a47340538ac13ffc132c6596",
            "24efa40bd9ca480b98f46a1ec4182944",
            "b1494e5a73554ae185f19c0095532a64",
            "04dab063b4214d7ba549bd262a676b00",
            "9d7b9991e826406ea9f0b8ee9248a834",
            "ae2a43280d5a49fa85afee74391efe3c",
            "eb21d2174baa4c19a9931499e2f015c0",
            "bbb9e2c5cba04c27b6254c45b3a0380c",
            "ea12589f0bfd4052804a554e60db47b6",
            "83660c5a6a7c4858bc9ec66f1b5ded6c",
            "ed4a023ab3ab45188f1b8a9ef97f65db",
            "a71b9f0e7643415d9b3fa7b37142dbce",
            "63ee8cff0e894523a5b6fc11e861f794",
            "458f7687815b4ce7b92c6ca8c96f8c47",
            "5ae6e9175d564d14bd700d2d419097ff",
            "cd50d91e6da342e19a54d53f3282ae42",
            "621cce9c3df64f27b735d8ffb7c21cea",
            "026bc127403848f78379c888d9b27570",
            "493b45e7d16441a0ad79182cc4e7317d"
          ]
        },
        "id": "SdgYsF1HG_5G",
        "outputId": "f8627d8e-b142-4c29-8d57-8da9653b14e2"
      },
      "execution_count": null,
      "outputs": [
        {
          "output_type": "stream",
          "name": "stderr",
          "text": [
            "/usr/local/lib/python3.10/dist-packages/huggingface_hub/utils/_token.py:89: UserWarning: \n",
            "The secret `HF_TOKEN` does not exist in your Colab secrets.\n",
            "To authenticate with the Hugging Face Hub, create a token in your settings tab (https://huggingface.co/settings/tokens), set it as secret in your Google Colab and restart your session.\n",
            "You will be able to reuse this secret in all of your notebooks.\n",
            "Please note that authentication is recommended but still optional to access public models or datasets.\n",
            "  warnings.warn(\n"
          ]
        },
        {
          "output_type": "display_data",
          "data": {
            "text/plain": [
              "tokenizer_config.json:   0%|          | 0.00/49.0 [00:00<?, ?B/s]"
            ],
            "application/vnd.jupyter.widget-view+json": {
              "version_major": 2,
              "version_minor": 0,
              "model_id": "a6273b9809904fc283fc2808bbeb287a"
            }
          },
          "metadata": {}
        },
        {
          "output_type": "display_data",
          "data": {
            "text/plain": [
              "vocab.txt:   0%|          | 0.00/213k [00:00<?, ?B/s]"
            ],
            "application/vnd.jupyter.widget-view+json": {
              "version_major": 2,
              "version_minor": 0,
              "model_id": "0b607292105b4f76b95aea9a564e1298"
            }
          },
          "metadata": {}
        },
        {
          "output_type": "display_data",
          "data": {
            "text/plain": [
              "tokenizer.json:   0%|          | 0.00/436k [00:00<?, ?B/s]"
            ],
            "application/vnd.jupyter.widget-view+json": {
              "version_major": 2,
              "version_minor": 0,
              "model_id": "dcf20682cdd744a8964a699fe6af0cc3"
            }
          },
          "metadata": {}
        },
        {
          "output_type": "stream",
          "name": "stderr",
          "text": [
            "/usr/local/lib/python3.10/dist-packages/huggingface_hub/file_download.py:1132: FutureWarning: `resume_download` is deprecated and will be removed in version 1.0.0. Downloads always resume when possible. If you want to force a new download, use `force_download=True`.\n",
            "  warnings.warn(\n"
          ]
        },
        {
          "output_type": "display_data",
          "data": {
            "text/plain": [
              "config.json:   0%|          | 0.00/570 [00:00<?, ?B/s]"
            ],
            "application/vnd.jupyter.widget-view+json": {
              "version_major": 2,
              "version_minor": 0,
              "model_id": "ea12589f0bfd4052804a554e60db47b6"
            }
          },
          "metadata": {}
        },
        {
          "output_type": "execute_result",
          "data": {
            "text/plain": [
              "2"
            ]
          },
          "metadata": {},
          "execution_count": 32
        }
      ]
    },
    {
      "cell_type": "code",
      "source": [
        "# codificar uma string de texto\n",
        "text = \"Esta é a terceira frase.\"\n",
        "encoded = tokenizador.encode(text, add_special_tokens=False)\n",
        "tokens = tokenizador.convert_ids_to_tokens(encoded)"
      ],
      "metadata": {
        "id": "z96w2iD6f95A"
      },
      "execution_count": null,
      "outputs": []
    },
    {
      "cell_type": "code",
      "source": [
        "print(f\"Texto: {text}\")\n",
        "print(f\"Tokens: {tokens}\")"
      ],
      "metadata": {
        "colab": {
          "base_uri": "https://localhost:8080/"
        },
        "id": "Nyb_i8MvgEIl",
        "outputId": "89cfecd5-6a21-4f61-dcc5-17f4b9d528a4"
      },
      "execution_count": null,
      "outputs": [
        {
          "output_type": "stream",
          "name": "stdout",
          "text": [
            "Texto: Esta é a terceira frase.\n",
            "Tokens: ['E', '##sta', 'é', 'a', 'te', '##rc', '##eira', 'f', '##rase', '.']\n"
          ]
        }
      ]
    },
    {
      "cell_type": "code",
      "source": [
        "# decodificar a string de texto codificada\n",
        "decoded = tokenizador.decode(encoded)\n",
        "print(decoded)"
      ],
      "metadata": {
        "colab": {
          "base_uri": "https://localhost:8080/"
        },
        "id": "0oN4amvCgAgh",
        "outputId": "e569ca89-1b66-4f1b-cf78-9a149e1ef492"
      },
      "execution_count": null,
      "outputs": [
        {
          "output_type": "stream",
          "name": "stdout",
          "text": [
            "Esta é a terceira frase.\n"
          ]
        }
      ]
    },
    {
      "cell_type": "markdown",
      "source": [
        "Neste exemplo, o método `encode` é usado com o argumento `add_special_tokens=False` para não incluir os *tokens* especiais adicionados pelo tokenizador (como [`CLS`] e [`SEP`]) na lista de *tokens*.\n",
        "\n"
      ],
      "metadata": {
        "id": "nMfUF9MKMNLG"
      }
    },
    {
      "cell_type": "markdown",
      "source": [
        "Em seguida, o método `convert_ids_to_tokens` é usado para converter os IDs de *token* codificados de volta em sua forma textual."
      ],
      "metadata": {
        "id": "1bO_nXGhgn3A"
      }
    },
    {
      "cell_type": "markdown",
      "source": [
        "O caractere \"#\" que você está vendo nos *tokens* representa o início de uma nova subpalavra que foi dividida a partir de uma palavra original durante a tokenização. Isso ocorre porque muitos modelos de linguagem, incluindo BERT, usam uma técnica chamada \"tokenização por subpalavra\" (*subword tokenization*) para lidar com palavras desconhecidas ou raras que não aparecem no vocabulário do modelo.\n",
        "\n"
      ],
      "metadata": {
        "id": "1wyl8E-GMUzZ"
      }
    },
    {
      "cell_type": "markdown",
      "source": [
        "A **tokenização por subpalavra** divide palavras em subpalavras menores que são mais comuns no córpus de treinamento. Por exemplo, a palavra \"gatos\" pode ser dividida em duas subpalavras, \"gat\" e \"##os\", onde \"##\" indica que a subpalavra faz parte de uma palavra maior.\n",
        "\n"
      ],
      "metadata": {
        "id": "NOiykJnBgyor"
      }
    },
    {
      "cell_type": "markdown",
      "source": [
        "Essa técnica permite que o modelo de linguagem lide com palavras que não estão presentes em seu vocabulário e capture melhor a semântica das palavras. No entanto, o resultado é que as subpalavras podem aparecer com o caractere \"#\" na frente para indicar que são partes de uma palavra maior."
      ],
      "metadata": {
        "id": "X39fvrwMg6oI"
      }
    },
    {
      "cell_type": "code",
      "source": [
        "from transformers import BertTokenizer\n",
        "\n",
        "# criar um tokenizador do modelo BERT pre-treinado\n",
        "tokenizador = BertTokenizer.from_pretrained('bert-base-uncased')\n",
        "\n",
        "# texto de exemplo para tokenizar\n",
        "texto = \"O cachorro correu feliz no parque.\"\n",
        "\n",
        "# tokenizar o texto\n",
        "tokens = tokenizador.tokenize(texto)"
      ],
      "metadata": {
        "id": "my6spvoFJQ8Q"
      },
      "execution_count": null,
      "outputs": []
    },
    {
      "cell_type": "code",
      "source": [
        "print(\"Tokens:\", tokens)"
      ],
      "metadata": {
        "colab": {
          "base_uri": "https://localhost:8080/"
        },
        "id": "uly85LQ3hKZg",
        "outputId": "65c28a45-4dc6-4c00-ba3b-a0fba8f2fbbd"
      },
      "execution_count": null,
      "outputs": [
        {
          "output_type": "stream",
          "name": "stdout",
          "text": [
            "Tokens: ['o', 'ca', '##cho', '##rro', 'co', '##rre', '##u', 'fe', '##li', '##z', 'no', 'par', '##que', '.']\n"
          ]
        }
      ]
    },
    {
      "cell_type": "code",
      "source": [
        "# criar um vocabulario usando o tokenizador\n",
        "vocabulario = tokenizador.get_vocab()"
      ],
      "metadata": {
        "id": "t0UHw01qhPOg"
      },
      "execution_count": null,
      "outputs": []
    },
    {
      "cell_type": "code",
      "source": [
        "type(vocabulario)"
      ],
      "metadata": {
        "colab": {
          "base_uri": "https://localhost:8080/"
        },
        "id": "LMYzp9FkjEA1",
        "outputId": "21785762-9073-4dbe-c013-d2e3a92113bc"
      },
      "execution_count": null,
      "outputs": [
        {
          "output_type": "execute_result",
          "data": {
            "text/plain": [
              "dict"
            ]
          },
          "metadata": {},
          "execution_count": 49
        }
      ]
    },
    {
      "cell_type": "code",
      "source": [
        "# tamanho do vocabulario\n",
        "print(len(vocabulario))"
      ],
      "metadata": {
        "colab": {
          "base_uri": "https://localhost:8080/"
        },
        "id": "-p4-HtexiWFm",
        "outputId": "1b92f7e4-ac91-4a78-9337-b991a900f90e"
      },
      "execution_count": null,
      "outputs": [
        {
          "output_type": "stream",
          "name": "stdout",
          "text": [
            "30522\n"
          ]
        }
      ]
    },
    {
      "cell_type": "code",
      "source": [
        "k = 5\n",
        "\n",
        "print(list(vocabulario.items())[0: k])"
      ],
      "metadata": {
        "colab": {
          "base_uri": "https://localhost:8080/"
        },
        "id": "CCD9dIiLjg_p",
        "outputId": "61cbdc0f-5e4e-4374-8641-82e73dd4f56d"
      },
      "execution_count": null,
      "outputs": [
        {
          "output_type": "stream",
          "name": "stdout",
          "text": [
            "[('[PAD]', 0), ('[unused0]', 1), ('[unused1]', 2), ('[unused2]', 3), ('[unused3]', 4)]\n"
          ]
        }
      ]
    },
    {
      "cell_type": "markdown",
      "source": [
        "O vocabulário contém alguns *tokens* especiais, como [`PAD`], [`UNK`], [`CLS`], [`SEP`] e [`MASK`]. Esses *tokens* são usados pelo modelo BERT para tarefas como, por exemplo, Classificação de Textos."
      ],
      "metadata": {
        "id": "Wm7_u98-LY2c"
      }
    },
    {
      "cell_type": "markdown",
      "source": [
        "Aqui está um exemplo mais interessante de como usar o tokenizador do pacote `transformers` para codificar um conjunto de frases e construir um vocabulário:"
      ],
      "metadata": {
        "id": "STv6WeuxOv9T"
      }
    },
    {
      "cell_type": "code",
      "source": [
        "from transformers import AutoTokenizer\n",
        "\n",
        "# carregar um modelo pre-treinado com seu tokenizador\n",
        "modelo = \"bert-base-uncased\"\n",
        "tokenizador = AutoTokenizer.from_pretrained(modelo)\n",
        "\n",
        "# definir um conjunto de frases de exemplo\n",
        "sentencas = [\n",
        "    \"Esta é uma frase de exemplo.\",\n",
        "    \"Isso é um teste.\",\n",
        "    \"Você já experimentou isso antes?\",\n",
        "    \"Estou ansioso para o final de semana.\",\n",
        "    \"Não consigo parar de pensar nisso.\",\n",
        "    \"Que tempo maravilhoso hoje!\",\n",
        "]"
      ],
      "metadata": {
        "id": "82EMIqoqNwZm"
      },
      "execution_count": null,
      "outputs": []
    },
    {
      "cell_type": "code",
      "source": [
        "# codificar todas as frases do conjunto\n",
        "encoded_sentencas = [tokenizador.encode(sentenca, add_special_tokens=True) for sentenca in sentencas]\n",
        "\n",
        "# construir o vocabulario a partir do conjunto de frases codificadas\n",
        "vocabulario = set(tokenizador.convert_ids_to_tokens([token for sentenca in encoded_sentencas for token in sentenca]))"
      ],
      "metadata": {
        "id": "zXv50q2okedp"
      },
      "execution_count": null,
      "outputs": []
    },
    {
      "cell_type": "code",
      "source": [
        "# imprimir os tokens de todas as frases do conjunto\n",
        "print(\"Tokens das frases:\")\n",
        "for i, sentenca in enumerate(sentencas):\n",
        "    print(f\"Frase {i+1}: {tokenizador.tokenize(sentenca)}\")"
      ],
      "metadata": {
        "colab": {
          "base_uri": "https://localhost:8080/"
        },
        "id": "gBRhFi0KsIvS",
        "outputId": "5dc418f4-2cc2-4541-c910-3906508e5e95"
      },
      "execution_count": null,
      "outputs": [
        {
          "output_type": "stream",
          "name": "stdout",
          "text": [
            "Tokens das frases:\n",
            "Frase 1: ['est', '##a', 'e', 'um', '##a', 'fra', '##se', 'de', 'ex', '##em', '##pl', '##o', '.']\n",
            "Frase 2: ['iss', '##o', 'e', 'um', 'test', '##e', '.']\n",
            "Frase 3: ['vo', '##ce', 'ja', 'experiment', '##ou', 'iss', '##o', 'ant', '##es', '?']\n",
            "Frase 4: ['est', '##ou', 'an', '##sio', '##so', 'para', 'o', 'final', 'de', 'se', '##mana', '.']\n",
            "Frase 5: ['na', '##o', 'con', '##si', '##go', 'para', '##r', 'de', 'pens', '##ar', 'ni', '##sso', '.']\n",
            "Frase 6: ['que', 'tempo', 'mara', '##vil', '##hos', '##o', 'ho', '##je', '!']\n"
          ]
        }
      ]
    },
    {
      "cell_type": "code",
      "source": [
        "# imprimir tamanho do vocabulario\n",
        "print(\"Tamanho do Vocabulario:\")\n",
        "print(len(vocabulario))"
      ],
      "metadata": {
        "colab": {
          "base_uri": "https://localhost:8080/"
        },
        "id": "EfvQ-ntSsK7F",
        "outputId": "9a4365d3-a279-4ac8-bfb5-59fa839f8d18"
      },
      "execution_count": null,
      "outputs": [
        {
          "output_type": "stream",
          "name": "stdout",
          "text": [
            "Tamanho do Vocabulario:\n",
            "50\n"
          ]
        }
      ]
    },
    {
      "cell_type": "code",
      "source": [
        "# imprimir vocabulario\n",
        "print(\"Vocabulário:\")\n",
        "print(vocabulario)"
      ],
      "metadata": {
        "colab": {
          "base_uri": "https://localhost:8080/"
        },
        "id": "RUb_WgUns1FG",
        "outputId": "d6c1f550-c27d-4e06-ad4f-573a789e2a77"
      },
      "execution_count": null,
      "outputs": [
        {
          "output_type": "stream",
          "name": "stdout",
          "text": [
            "Vocabulário:\n",
            "{'##go', 'o', '##pl', 'fra', 'um', 'se', 'con', '##sso', '##es', 'e', '##si', 'ni', 'final', 'est', 'iss', '##ou', '##r', '##mana', 'ho', 'mara', 'para', 'vo', 'an', 'pens', '##ar', '##hos', '##sio', '##e', '[CLS]', 'ant', '.', '##vil', 'test', '[SEP]', 'experiment', '##je', 'tempo', 'que', '?', 'de', '##a', '##o', 'ex', 'na', '##em', '##ce', '!', 'ja', '##se', '##so'}\n"
          ]
        }
      ]
    },
    {
      "cell_type": "markdown",
      "source": [
        "## **Stopwords**\n",
        "---"
      ],
      "metadata": {
        "id": "bxllvVx4PVIe"
      }
    },
    {
      "cell_type": "markdown",
      "source": [
        "***Stopwords*** (palavras de parada, em português) são palavras comuns em um idioma que geralmente são removidas do texto durante o processamento de linguagem natural, pois elas não fornecem muita informação sobre o significado do texto. Essas palavras geralmente incluem artigos, preposições, conjunções e outras palavras comuns, como `o`, `a`, `de`, `para`, `com`, `em`, entre outras."
      ],
      "metadata": {
        "id": "5Ah3yyY5PkP9"
      }
    },
    {
      "cell_type": "markdown",
      "source": [
        "Aqui está um exemplo de *stopwords* em português usando a biblioteca `NLTK`:"
      ],
      "metadata": {
        "id": "0QJBb-PJP4qZ"
      }
    },
    {
      "cell_type": "code",
      "source": [
        "import nltk\n",
        "nltk.download('stopwords')"
      ],
      "metadata": {
        "colab": {
          "base_uri": "https://localhost:8080/"
        },
        "id": "cfZ-cgu3QIWS",
        "outputId": "19acfe46-a3bd-43c3-c61b-8cd848c2056b"
      },
      "execution_count": null,
      "outputs": [
        {
          "output_type": "stream",
          "name": "stderr",
          "text": [
            "[nltk_data] Downloading package stopwords to /root/nltk_data...\n",
            "[nltk_data]   Unzipping corpora/stopwords.zip.\n"
          ]
        },
        {
          "output_type": "execute_result",
          "data": {
            "text/plain": [
              "True"
            ]
          },
          "metadata": {},
          "execution_count": 52
        }
      ]
    },
    {
      "cell_type": "code",
      "source": [
        "from nltk.corpus import stopwords\n",
        "\n",
        "stopwords = stopwords.words('portuguese')"
      ],
      "metadata": {
        "id": "6-xY6FNgQRsg"
      },
      "execution_count": null,
      "outputs": []
    },
    {
      "cell_type": "code",
      "source": [
        "print(len(stopwords))"
      ],
      "metadata": {
        "colab": {
          "base_uri": "https://localhost:8080/"
        },
        "id": "BAMNe2cdy9O0",
        "outputId": "b081356e-818b-40da-faf6-cb0eff98dcbe"
      },
      "execution_count": null,
      "outputs": [
        {
          "output_type": "stream",
          "name": "stdout",
          "text": [
            "207\n"
          ]
        }
      ]
    },
    {
      "cell_type": "code",
      "source": [
        "print(stopwords)"
      ],
      "metadata": {
        "colab": {
          "base_uri": "https://localhost:8080/"
        },
        "id": "OUHFClYGzIYb",
        "outputId": "717c689c-c14b-44d7-f340-3c03173508c5"
      },
      "execution_count": null,
      "outputs": [
        {
          "output_type": "stream",
          "name": "stdout",
          "text": [
            "['a', 'à', 'ao', 'aos', 'aquela', 'aquelas', 'aquele', 'aqueles', 'aquilo', 'as', 'às', 'até', 'com', 'como', 'da', 'das', 'de', 'dela', 'delas', 'dele', 'deles', 'depois', 'do', 'dos', 'e', 'é', 'ela', 'elas', 'ele', 'eles', 'em', 'entre', 'era', 'eram', 'éramos', 'essa', 'essas', 'esse', 'esses', 'esta', 'está', 'estamos', 'estão', 'estar', 'estas', 'estava', 'estavam', 'estávamos', 'este', 'esteja', 'estejam', 'estejamos', 'estes', 'esteve', 'estive', 'estivemos', 'estiver', 'estivera', 'estiveram', 'estivéramos', 'estiverem', 'estivermos', 'estivesse', 'estivessem', 'estivéssemos', 'estou', 'eu', 'foi', 'fomos', 'for', 'fora', 'foram', 'fôramos', 'forem', 'formos', 'fosse', 'fossem', 'fôssemos', 'fui', 'há', 'haja', 'hajam', 'hajamos', 'hão', 'havemos', 'haver', 'hei', 'houve', 'houvemos', 'houver', 'houvera', 'houverá', 'houveram', 'houvéramos', 'houverão', 'houverei', 'houverem', 'houveremos', 'houveria', 'houveriam', 'houveríamos', 'houvermos', 'houvesse', 'houvessem', 'houvéssemos', 'isso', 'isto', 'já', 'lhe', 'lhes', 'mais', 'mas', 'me', 'mesmo', 'meu', 'meus', 'minha', 'minhas', 'muito', 'na', 'não', 'nas', 'nem', 'no', 'nos', 'nós', 'nossa', 'nossas', 'nosso', 'nossos', 'num', 'numa', 'o', 'os', 'ou', 'para', 'pela', 'pelas', 'pelo', 'pelos', 'por', 'qual', 'quando', 'que', 'quem', 'são', 'se', 'seja', 'sejam', 'sejamos', 'sem', 'ser', 'será', 'serão', 'serei', 'seremos', 'seria', 'seriam', 'seríamos', 'seu', 'seus', 'só', 'somos', 'sou', 'sua', 'suas', 'também', 'te', 'tem', 'tém', 'temos', 'tenha', 'tenham', 'tenhamos', 'tenho', 'terá', 'terão', 'terei', 'teremos', 'teria', 'teriam', 'teríamos', 'teu', 'teus', 'teve', 'tinha', 'tinham', 'tínhamos', 'tive', 'tivemos', 'tiver', 'tivera', 'tiveram', 'tivéramos', 'tiverem', 'tivermos', 'tivesse', 'tivessem', 'tivéssemos', 'tu', 'tua', 'tuas', 'um', 'uma', 'você', 'vocês', 'vos']\n"
          ]
        }
      ]
    },
    {
      "cell_type": "markdown",
      "source": [
        "Aqui está um exemplo de remoção de *stopwords* usando a biblioteca `NLTK`:"
      ],
      "metadata": {
        "id": "SfZlY0-yRjID"
      }
    },
    {
      "cell_type": "code",
      "source": [
        "from nltk.corpus import stopwords\n",
        "\n",
        "stopwords = set(stopwords.words('portuguese'))\n",
        "\n",
        "texto = \"Eu gosto muito de estudar E aprender novos conhecimentos.\"\n",
        "\n",
        "# remover stopwords e transformar para minusculo\n",
        "tokens = [token.lower() for token in texto.split() if token.lower() not in stopwords]"
      ],
      "metadata": {
        "id": "3uBbyrSLSHYu"
      },
      "execution_count": null,
      "outputs": []
    },
    {
      "cell_type": "code",
      "source": [
        "print(tokens)"
      ],
      "metadata": {
        "colab": {
          "base_uri": "https://localhost:8080/"
        },
        "id": "VsTVKvVQzcX7",
        "outputId": "890394d3-3371-475d-9dc9-3aa786303ae4"
      },
      "execution_count": null,
      "outputs": [
        {
          "output_type": "stream",
          "name": "stdout",
          "text": [
            "['gosto', 'estudar', 'aprender', 'novos', 'conhecimentos.']\n"
          ]
        }
      ]
    },
    {
      "cell_type": "markdown",
      "source": [
        "Note que as *stopwords* `Eu`, `muito`, `de` e `e` foram removidas da frase."
      ],
      "metadata": {
        "id": "awgCFw4aSc4R"
      }
    },
    {
      "cell_type": "markdown",
      "source": [
        "Aqui está uma exemplo de como adicionar novas *stopwords*:"
      ],
      "metadata": {
        "id": "b1CZ003G9yBp"
      }
    },
    {
      "cell_type": "code",
      "source": [
        "from nltk.corpus import stopwords\n",
        "\n",
        "# criar uma lista com as stopwords em portugues\n",
        "stopwords = stopwords.words('portuguese')\n",
        "\n",
        "def remover_stopwords(texto, stopwords):\n",
        "    # dividir o texto em palavras\n",
        "    words = texto.split()\n",
        "\n",
        "    # remover as stopwords\n",
        "    words_clean = [word for word in words if word.lower() not in stopwords]\n",
        "\n",
        "    # junta as palavras novamente em uma string\n",
        "    text_clean = ' '.join(words_clean)\n",
        "\n",
        "    return text_clean"
      ],
      "metadata": {
        "id": "-AKzvABQ8Qgb"
      },
      "execution_count": null,
      "outputs": []
    },
    {
      "cell_type": "code",
      "source": [
        "# exemplo de uso\n",
        "\n",
        "texto = \"O rato roeu a roupa do rei de Roma\"\n",
        "print(\"Texto original:\", texto)\n",
        "\n",
        "texto_limpo = remover_stopwords(texto, stopwords)\n",
        "print(\"Texto sem stopwords:\", texto_limpo)"
      ],
      "metadata": {
        "colab": {
          "base_uri": "https://localhost:8080/"
        },
        "id": "KBnKl4OW0WjE",
        "outputId": "6ea6eee6-85ea-4ca1-c938-c2b513ecf1b2"
      },
      "execution_count": null,
      "outputs": [
        {
          "output_type": "stream",
          "name": "stdout",
          "text": [
            "Texto original: O rato roeu a roupa do rei de Roma\n",
            "Texto sem stopwords: rato roeu roupa rei Roma\n"
          ]
        }
      ]
    },
    {
      "cell_type": "code",
      "source": [
        "# adicionar novas stopwords\n",
        "stopwords_novas = [\"rei\", \"de\"]\n",
        "stopwords.extend(stopwords_novas)\n",
        "\n",
        "texto_limpo = remover_stopwords(texto, stopwords)\n",
        "print(\"Texto sem stopwords e novas stopwords:\", texto_limpo)"
      ],
      "metadata": {
        "colab": {
          "base_uri": "https://localhost:8080/"
        },
        "id": "dmoBydwu0oqC",
        "outputId": "45044c66-bedc-4825-db7b-a7083c0978cc"
      },
      "execution_count": null,
      "outputs": [
        {
          "output_type": "stream",
          "name": "stdout",
          "text": [
            "Texto sem stopwords e novas stopwords: rato roeu roupa Roma\n"
          ]
        }
      ]
    },
    {
      "cell_type": "code",
      "source": [
        "# remover as novas stopwords\n",
        "stopwords = [word for word in stopwords if word not in stopwords_novas]\n",
        "\n",
        "# remover apenas as stopwords\n",
        "texto_limpo = remover_stopwords(texto, stopwords)\n",
        "print(\"Texto sem as novas stopwords:\", texto_limpo)"
      ],
      "metadata": {
        "colab": {
          "base_uri": "https://localhost:8080/"
        },
        "id": "ncnO-OEa065E",
        "outputId": "1b7fb958-e35d-42ce-eaff-118d6924b4fd"
      },
      "execution_count": null,
      "outputs": [
        {
          "output_type": "stream",
          "name": "stdout",
          "text": [
            "Texto sem as novas stopwords: rato roeu roupa rei de Roma\n"
          ]
        }
      ]
    },
    {
      "cell_type": "markdown",
      "source": [
        "**spaCy**"
      ],
      "metadata": {
        "id": "o0HAzcas1n-Y"
      }
    },
    {
      "cell_type": "markdown",
      "source": [
        "Também é possível usar a biblioteca `spaCy` para remover *stopwords*. A seguir um exemplo que permite remover as *stopwords* em português e exibir as palavras restantes em uma nuvem de palavras."
      ],
      "metadata": {
        "id": "cNUGhHZcTXSl"
      }
    },
    {
      "cell_type": "markdown",
      "source": [
        "Para isso, é necessário instalar o pacote `spaCy` e o modelo em português usando as seguintes instruções:"
      ],
      "metadata": {
        "id": "uJ0IzkrBTd_4"
      }
    },
    {
      "cell_type": "code",
      "source": [
        "!pip install spacy"
      ],
      "metadata": {
        "id": "PgCvsQZaSf_i",
        "colab": {
          "base_uri": "https://localhost:8080/"
        },
        "outputId": "cd4bf65d-5101-4411-dda1-c6470bfbe98d"
      },
      "execution_count": null,
      "outputs": [
        {
          "output_type": "stream",
          "name": "stdout",
          "text": [
            "Requirement already satisfied: spacy in /usr/local/lib/python3.10/dist-packages (3.7.5)\n",
            "Requirement already satisfied: spacy-legacy<3.1.0,>=3.0.11 in /usr/local/lib/python3.10/dist-packages (from spacy) (3.0.12)\n",
            "Requirement already satisfied: spacy-loggers<2.0.0,>=1.0.0 in /usr/local/lib/python3.10/dist-packages (from spacy) (1.0.5)\n",
            "Requirement already satisfied: murmurhash<1.1.0,>=0.28.0 in /usr/local/lib/python3.10/dist-packages (from spacy) (1.0.10)\n",
            "Requirement already satisfied: cymem<2.1.0,>=2.0.2 in /usr/local/lib/python3.10/dist-packages (from spacy) (2.0.8)\n",
            "Requirement already satisfied: preshed<3.1.0,>=3.0.2 in /usr/local/lib/python3.10/dist-packages (from spacy) (3.0.9)\n",
            "Requirement already satisfied: thinc<8.3.0,>=8.2.2 in /usr/local/lib/python3.10/dist-packages (from spacy) (8.2.5)\n",
            "Requirement already satisfied: wasabi<1.2.0,>=0.9.1 in /usr/local/lib/python3.10/dist-packages (from spacy) (1.1.3)\n",
            "Requirement already satisfied: srsly<3.0.0,>=2.4.3 in /usr/local/lib/python3.10/dist-packages (from spacy) (2.4.8)\n",
            "Requirement already satisfied: catalogue<2.1.0,>=2.0.6 in /usr/local/lib/python3.10/dist-packages (from spacy) (2.0.10)\n",
            "Requirement already satisfied: weasel<0.5.0,>=0.1.0 in /usr/local/lib/python3.10/dist-packages (from spacy) (0.4.1)\n",
            "Requirement already satisfied: typer<1.0.0,>=0.3.0 in /usr/local/lib/python3.10/dist-packages (from spacy) (0.12.3)\n",
            "Requirement already satisfied: tqdm<5.0.0,>=4.38.0 in /usr/local/lib/python3.10/dist-packages (from spacy) (4.66.4)\n",
            "Requirement already satisfied: requests<3.0.0,>=2.13.0 in /usr/local/lib/python3.10/dist-packages (from spacy) (2.31.0)\n",
            "Requirement already satisfied: pydantic!=1.8,!=1.8.1,<3.0.0,>=1.7.4 in /usr/local/lib/python3.10/dist-packages (from spacy) (2.7.4)\n",
            "Requirement already satisfied: jinja2 in /usr/local/lib/python3.10/dist-packages (from spacy) (3.1.4)\n",
            "Requirement already satisfied: setuptools in /usr/local/lib/python3.10/dist-packages (from spacy) (67.7.2)\n",
            "Requirement already satisfied: packaging>=20.0 in /usr/local/lib/python3.10/dist-packages (from spacy) (24.1)\n",
            "Requirement already satisfied: langcodes<4.0.0,>=3.2.0 in /usr/local/lib/python3.10/dist-packages (from spacy) (3.4.0)\n",
            "Requirement already satisfied: numpy>=1.19.0 in /usr/local/lib/python3.10/dist-packages (from spacy) (1.25.2)\n",
            "Requirement already satisfied: language-data>=1.2 in /usr/local/lib/python3.10/dist-packages (from langcodes<4.0.0,>=3.2.0->spacy) (1.2.0)\n",
            "Requirement already satisfied: annotated-types>=0.4.0 in /usr/local/lib/python3.10/dist-packages (from pydantic!=1.8,!=1.8.1,<3.0.0,>=1.7.4->spacy) (0.7.0)\n",
            "Requirement already satisfied: pydantic-core==2.18.4 in /usr/local/lib/python3.10/dist-packages (from pydantic!=1.8,!=1.8.1,<3.0.0,>=1.7.4->spacy) (2.18.4)\n",
            "Requirement already satisfied: typing-extensions>=4.6.1 in /usr/local/lib/python3.10/dist-packages (from pydantic!=1.8,!=1.8.1,<3.0.0,>=1.7.4->spacy) (4.12.2)\n",
            "Requirement already satisfied: charset-normalizer<4,>=2 in /usr/local/lib/python3.10/dist-packages (from requests<3.0.0,>=2.13.0->spacy) (3.3.2)\n",
            "Requirement already satisfied: idna<4,>=2.5 in /usr/local/lib/python3.10/dist-packages (from requests<3.0.0,>=2.13.0->spacy) (3.7)\n",
            "Requirement already satisfied: urllib3<3,>=1.21.1 in /usr/local/lib/python3.10/dist-packages (from requests<3.0.0,>=2.13.0->spacy) (2.0.7)\n",
            "Requirement already satisfied: certifi>=2017.4.17 in /usr/local/lib/python3.10/dist-packages (from requests<3.0.0,>=2.13.0->spacy) (2024.6.2)\n",
            "Requirement already satisfied: blis<0.8.0,>=0.7.8 in /usr/local/lib/python3.10/dist-packages (from thinc<8.3.0,>=8.2.2->spacy) (0.7.11)\n",
            "Requirement already satisfied: confection<1.0.0,>=0.0.1 in /usr/local/lib/python3.10/dist-packages (from thinc<8.3.0,>=8.2.2->spacy) (0.1.5)\n",
            "Requirement already satisfied: click>=8.0.0 in /usr/local/lib/python3.10/dist-packages (from typer<1.0.0,>=0.3.0->spacy) (8.1.7)\n",
            "Requirement already satisfied: shellingham>=1.3.0 in /usr/local/lib/python3.10/dist-packages (from typer<1.0.0,>=0.3.0->spacy) (1.5.4)\n",
            "Requirement already satisfied: rich>=10.11.0 in /usr/local/lib/python3.10/dist-packages (from typer<1.0.0,>=0.3.0->spacy) (13.7.1)\n",
            "Requirement already satisfied: cloudpathlib<1.0.0,>=0.7.0 in /usr/local/lib/python3.10/dist-packages (from weasel<0.5.0,>=0.1.0->spacy) (0.18.1)\n",
            "Requirement already satisfied: smart-open<8.0.0,>=5.2.1 in /usr/local/lib/python3.10/dist-packages (from weasel<0.5.0,>=0.1.0->spacy) (7.0.4)\n",
            "Requirement already satisfied: MarkupSafe>=2.0 in /usr/local/lib/python3.10/dist-packages (from jinja2->spacy) (2.1.5)\n",
            "Requirement already satisfied: marisa-trie>=0.7.7 in /usr/local/lib/python3.10/dist-packages (from language-data>=1.2->langcodes<4.0.0,>=3.2.0->spacy) (1.2.0)\n",
            "Requirement already satisfied: markdown-it-py>=2.2.0 in /usr/local/lib/python3.10/dist-packages (from rich>=10.11.0->typer<1.0.0,>=0.3.0->spacy) (3.0.0)\n",
            "Requirement already satisfied: pygments<3.0.0,>=2.13.0 in /usr/local/lib/python3.10/dist-packages (from rich>=10.11.0->typer<1.0.0,>=0.3.0->spacy) (2.16.1)\n",
            "Requirement already satisfied: wrapt in /usr/local/lib/python3.10/dist-packages (from smart-open<8.0.0,>=5.2.1->weasel<0.5.0,>=0.1.0->spacy) (1.14.1)\n",
            "Requirement already satisfied: mdurl~=0.1 in /usr/local/lib/python3.10/dist-packages (from markdown-it-py>=2.2.0->rich>=10.11.0->typer<1.0.0,>=0.3.0->spacy) (0.1.2)\n"
          ]
        }
      ]
    },
    {
      "cell_type": "code",
      "source": [
        "!python -m spacy download pt_core_news_sm"
      ],
      "metadata": {
        "colab": {
          "base_uri": "https://localhost:8080/"
        },
        "id": "A1DzNrH_2bZX",
        "outputId": "a2b050d2-22dc-4f79-f2fa-4815e83fcc33"
      },
      "execution_count": null,
      "outputs": [
        {
          "output_type": "stream",
          "name": "stdout",
          "text": [
            "Collecting pt-core-news-sm==3.7.0\n",
            "  Downloading https://github.com/explosion/spacy-models/releases/download/pt_core_news_sm-3.7.0/pt_core_news_sm-3.7.0-py3-none-any.whl (13.0 MB)\n",
            "\u001b[2K     \u001b[90m━━━━━━━━━━━━━━━━━━━━━━━━━━━━━━━━━━━━━━━━\u001b[0m \u001b[32m13.0/13.0 MB\u001b[0m \u001b[31m31.6 MB/s\u001b[0m eta \u001b[36m0:00:00\u001b[0m\n",
            "\u001b[?25hRequirement already satisfied: spacy<3.8.0,>=3.7.0 in /usr/local/lib/python3.10/dist-packages (from pt-core-news-sm==3.7.0) (3.7.5)\n",
            "Requirement already satisfied: spacy-legacy<3.1.0,>=3.0.11 in /usr/local/lib/python3.10/dist-packages (from spacy<3.8.0,>=3.7.0->pt-core-news-sm==3.7.0) (3.0.12)\n",
            "Requirement already satisfied: spacy-loggers<2.0.0,>=1.0.0 in /usr/local/lib/python3.10/dist-packages (from spacy<3.8.0,>=3.7.0->pt-core-news-sm==3.7.0) (1.0.5)\n",
            "Requirement already satisfied: murmurhash<1.1.0,>=0.28.0 in /usr/local/lib/python3.10/dist-packages (from spacy<3.8.0,>=3.7.0->pt-core-news-sm==3.7.0) (1.0.10)\n",
            "Requirement already satisfied: cymem<2.1.0,>=2.0.2 in /usr/local/lib/python3.10/dist-packages (from spacy<3.8.0,>=3.7.0->pt-core-news-sm==3.7.0) (2.0.8)\n",
            "Requirement already satisfied: preshed<3.1.0,>=3.0.2 in /usr/local/lib/python3.10/dist-packages (from spacy<3.8.0,>=3.7.0->pt-core-news-sm==3.7.0) (3.0.9)\n",
            "Requirement already satisfied: thinc<8.3.0,>=8.2.2 in /usr/local/lib/python3.10/dist-packages (from spacy<3.8.0,>=3.7.0->pt-core-news-sm==3.7.0) (8.2.5)\n",
            "Requirement already satisfied: wasabi<1.2.0,>=0.9.1 in /usr/local/lib/python3.10/dist-packages (from spacy<3.8.0,>=3.7.0->pt-core-news-sm==3.7.0) (1.1.3)\n",
            "Requirement already satisfied: srsly<3.0.0,>=2.4.3 in /usr/local/lib/python3.10/dist-packages (from spacy<3.8.0,>=3.7.0->pt-core-news-sm==3.7.0) (2.4.8)\n",
            "Requirement already satisfied: catalogue<2.1.0,>=2.0.6 in /usr/local/lib/python3.10/dist-packages (from spacy<3.8.0,>=3.7.0->pt-core-news-sm==3.7.0) (2.0.10)\n",
            "Requirement already satisfied: weasel<0.5.0,>=0.1.0 in /usr/local/lib/python3.10/dist-packages (from spacy<3.8.0,>=3.7.0->pt-core-news-sm==3.7.0) (0.4.1)\n",
            "Requirement already satisfied: typer<1.0.0,>=0.3.0 in /usr/local/lib/python3.10/dist-packages (from spacy<3.8.0,>=3.7.0->pt-core-news-sm==3.7.0) (0.12.3)\n",
            "Requirement already satisfied: tqdm<5.0.0,>=4.38.0 in /usr/local/lib/python3.10/dist-packages (from spacy<3.8.0,>=3.7.0->pt-core-news-sm==3.7.0) (4.66.4)\n",
            "Requirement already satisfied: requests<3.0.0,>=2.13.0 in /usr/local/lib/python3.10/dist-packages (from spacy<3.8.0,>=3.7.0->pt-core-news-sm==3.7.0) (2.31.0)\n",
            "Requirement already satisfied: pydantic!=1.8,!=1.8.1,<3.0.0,>=1.7.4 in /usr/local/lib/python3.10/dist-packages (from spacy<3.8.0,>=3.7.0->pt-core-news-sm==3.7.0) (2.7.4)\n",
            "Requirement already satisfied: jinja2 in /usr/local/lib/python3.10/dist-packages (from spacy<3.8.0,>=3.7.0->pt-core-news-sm==3.7.0) (3.1.4)\n",
            "Requirement already satisfied: setuptools in /usr/local/lib/python3.10/dist-packages (from spacy<3.8.0,>=3.7.0->pt-core-news-sm==3.7.0) (67.7.2)\n",
            "Requirement already satisfied: packaging>=20.0 in /usr/local/lib/python3.10/dist-packages (from spacy<3.8.0,>=3.7.0->pt-core-news-sm==3.7.0) (24.1)\n",
            "Requirement already satisfied: langcodes<4.0.0,>=3.2.0 in /usr/local/lib/python3.10/dist-packages (from spacy<3.8.0,>=3.7.0->pt-core-news-sm==3.7.0) (3.4.0)\n",
            "Requirement already satisfied: numpy>=1.19.0 in /usr/local/lib/python3.10/dist-packages (from spacy<3.8.0,>=3.7.0->pt-core-news-sm==3.7.0) (1.25.2)\n",
            "Requirement already satisfied: language-data>=1.2 in /usr/local/lib/python3.10/dist-packages (from langcodes<4.0.0,>=3.2.0->spacy<3.8.0,>=3.7.0->pt-core-news-sm==3.7.0) (1.2.0)\n",
            "Requirement already satisfied: annotated-types>=0.4.0 in /usr/local/lib/python3.10/dist-packages (from pydantic!=1.8,!=1.8.1,<3.0.0,>=1.7.4->spacy<3.8.0,>=3.7.0->pt-core-news-sm==3.7.0) (0.7.0)\n",
            "Requirement already satisfied: pydantic-core==2.18.4 in /usr/local/lib/python3.10/dist-packages (from pydantic!=1.8,!=1.8.1,<3.0.0,>=1.7.4->spacy<3.8.0,>=3.7.0->pt-core-news-sm==3.7.0) (2.18.4)\n",
            "Requirement already satisfied: typing-extensions>=4.6.1 in /usr/local/lib/python3.10/dist-packages (from pydantic!=1.8,!=1.8.1,<3.0.0,>=1.7.4->spacy<3.8.0,>=3.7.0->pt-core-news-sm==3.7.0) (4.12.2)\n",
            "Requirement already satisfied: charset-normalizer<4,>=2 in /usr/local/lib/python3.10/dist-packages (from requests<3.0.0,>=2.13.0->spacy<3.8.0,>=3.7.0->pt-core-news-sm==3.7.0) (3.3.2)\n",
            "Requirement already satisfied: idna<4,>=2.5 in /usr/local/lib/python3.10/dist-packages (from requests<3.0.0,>=2.13.0->spacy<3.8.0,>=3.7.0->pt-core-news-sm==3.7.0) (3.7)\n",
            "Requirement already satisfied: urllib3<3,>=1.21.1 in /usr/local/lib/python3.10/dist-packages (from requests<3.0.0,>=2.13.0->spacy<3.8.0,>=3.7.0->pt-core-news-sm==3.7.0) (2.0.7)\n",
            "Requirement already satisfied: certifi>=2017.4.17 in /usr/local/lib/python3.10/dist-packages (from requests<3.0.0,>=2.13.0->spacy<3.8.0,>=3.7.0->pt-core-news-sm==3.7.0) (2024.6.2)\n",
            "Requirement already satisfied: blis<0.8.0,>=0.7.8 in /usr/local/lib/python3.10/dist-packages (from thinc<8.3.0,>=8.2.2->spacy<3.8.0,>=3.7.0->pt-core-news-sm==3.7.0) (0.7.11)\n",
            "Requirement already satisfied: confection<1.0.0,>=0.0.1 in /usr/local/lib/python3.10/dist-packages (from thinc<8.3.0,>=8.2.2->spacy<3.8.0,>=3.7.0->pt-core-news-sm==3.7.0) (0.1.5)\n",
            "Requirement already satisfied: click>=8.0.0 in /usr/local/lib/python3.10/dist-packages (from typer<1.0.0,>=0.3.0->spacy<3.8.0,>=3.7.0->pt-core-news-sm==3.7.0) (8.1.7)\n",
            "Requirement already satisfied: shellingham>=1.3.0 in /usr/local/lib/python3.10/dist-packages (from typer<1.0.0,>=0.3.0->spacy<3.8.0,>=3.7.0->pt-core-news-sm==3.7.0) (1.5.4)\n",
            "Requirement already satisfied: rich>=10.11.0 in /usr/local/lib/python3.10/dist-packages (from typer<1.0.0,>=0.3.0->spacy<3.8.0,>=3.7.0->pt-core-news-sm==3.7.0) (13.7.1)\n",
            "Requirement already satisfied: cloudpathlib<1.0.0,>=0.7.0 in /usr/local/lib/python3.10/dist-packages (from weasel<0.5.0,>=0.1.0->spacy<3.8.0,>=3.7.0->pt-core-news-sm==3.7.0) (0.18.1)\n",
            "Requirement already satisfied: smart-open<8.0.0,>=5.2.1 in /usr/local/lib/python3.10/dist-packages (from weasel<0.5.0,>=0.1.0->spacy<3.8.0,>=3.7.0->pt-core-news-sm==3.7.0) (7.0.4)\n",
            "Requirement already satisfied: MarkupSafe>=2.0 in /usr/local/lib/python3.10/dist-packages (from jinja2->spacy<3.8.0,>=3.7.0->pt-core-news-sm==3.7.0) (2.1.5)\n",
            "Requirement already satisfied: marisa-trie>=0.7.7 in /usr/local/lib/python3.10/dist-packages (from language-data>=1.2->langcodes<4.0.0,>=3.2.0->spacy<3.8.0,>=3.7.0->pt-core-news-sm==3.7.0) (1.2.0)\n",
            "Requirement already satisfied: markdown-it-py>=2.2.0 in /usr/local/lib/python3.10/dist-packages (from rich>=10.11.0->typer<1.0.0,>=0.3.0->spacy<3.8.0,>=3.7.0->pt-core-news-sm==3.7.0) (3.0.0)\n",
            "Requirement already satisfied: pygments<3.0.0,>=2.13.0 in /usr/local/lib/python3.10/dist-packages (from rich>=10.11.0->typer<1.0.0,>=0.3.0->spacy<3.8.0,>=3.7.0->pt-core-news-sm==3.7.0) (2.16.1)\n",
            "Requirement already satisfied: wrapt in /usr/local/lib/python3.10/dist-packages (from smart-open<8.0.0,>=5.2.1->weasel<0.5.0,>=0.1.0->spacy<3.8.0,>=3.7.0->pt-core-news-sm==3.7.0) (1.14.1)\n",
            "Requirement already satisfied: mdurl~=0.1 in /usr/local/lib/python3.10/dist-packages (from markdown-it-py>=2.2.0->rich>=10.11.0->typer<1.0.0,>=0.3.0->spacy<3.8.0,>=3.7.0->pt-core-news-sm==3.7.0) (0.1.2)\n",
            "\u001b[38;5;2m✔ Download and installation successful\u001b[0m\n",
            "You can now load the package via spacy.load('pt_core_news_sm')\n",
            "\u001b[38;5;3m⚠ Restart to reload dependencies\u001b[0m\n",
            "If you are in a Jupyter or Colab notebook, you may need to restart Python in\n",
            "order to load all the package's dependencies. You can do this by selecting the\n",
            "'Restart kernel' or 'Restart runtime' option.\n"
          ]
        }
      ]
    },
    {
      "cell_type": "markdown",
      "source": [
        "Depois disso, é possível usar o seguinte código `Python`:"
      ],
      "metadata": {
        "id": "DKh9lcfNTo-I"
      }
    },
    {
      "cell_type": "code",
      "source": [
        "import spacy\n",
        "from spacy.lang.pt.stop_words import STOP_WORDS\n",
        "\n",
        "# exemplo de texto para remocao de stopwords\n",
        "texto = \"\"\"Em um lugar de destaque na Serra da Mantiqueira, cercado por montanhas e belas paisagens,\n",
        "o Hotel Parador Casa da Montanha oferece conforto, tranquilidade e lazer para toda a família.\n",
        "Com arquitetura inspirada nas montanhas, o hotel oferece suítes aconchegantes, restaurante com\n",
        "gastronomia de qualidade e diversas opções de lazer para crianças e adultos.\"\"\"\n",
        "\n",
        "# carregar o modelo em portugues\n",
        "nlp = spacy.load(\"pt_core_news_sm\")\n",
        "\n",
        "# remover as stopwords do texto\n",
        "tokens = nlp(texto)\n",
        "resultado = [token.text for token in tokens if not token.is_stop]"
      ],
      "metadata": {
        "id": "tNkstcp0THmA"
      },
      "execution_count": null,
      "outputs": []
    },
    {
      "cell_type": "code",
      "source": [
        "print(resultado)"
      ],
      "metadata": {
        "colab": {
          "base_uri": "https://localhost:8080/"
        },
        "id": "J7bvxP-r29BA",
        "outputId": "7d85bf19-e38c-45b6-fcea-e14c8cc76d58"
      },
      "execution_count": null,
      "outputs": [
        {
          "output_type": "stream",
          "name": "stdout",
          "text": [
            "['destaque', 'Serra', 'Mantiqueira', ',', 'cercado', 'montanhas', 'belas', 'paisagens', ',', '\\n', 'Hotel', 'Parador', 'Casa', 'Montanha', 'oferece', 'conforto', ',', 'tranquilidade', 'lazer', 'família', '.', '\\n', 'arquitetura', 'inspirada', 'montanhas', ',', 'hotel', 'oferece', 'suítes', 'aconchegantes', ',', 'restaurante', '\\n', 'gastronomia', 'qualidade', 'diversas', 'opções', 'lazer', 'crianças', 'adultos', '.']\n"
          ]
        }
      ]
    },
    {
      "cell_type": "code",
      "source": [
        "from wordcloud import WordCloud\n",
        "import matplotlib.pyplot as plt\n",
        "\n",
        "# criar a nuvem de palavras\n",
        "nuvem_palavras = WordCloud(width=800, height=500,\n",
        "                           background_color='white',\n",
        "                           random_state=42).generate(\" \".join(resultado))\n",
        "\n",
        "# exibir a nuvem de palavras\n",
        "plt.figure(figsize=(10,8))\n",
        "plt.imshow(nuvem_palavras)\n",
        "plt.axis(\"off\")\n",
        "plt.show()"
      ],
      "metadata": {
        "colab": {
          "base_uri": "https://localhost:8080/",
          "height": 521
        },
        "id": "4hoxhZZ620dR",
        "outputId": "cbb19663-8823-411e-dda4-e0d6840b77ba"
      },
      "execution_count": null,
      "outputs": [
        {
          "output_type": "display_data",
          "data": {
            "text/plain": [
              "<Figure size 1000x800 with 1 Axes>"
            ],
            "image/png": "[encoded data removed]"
          },
          "metadata": {}
        }
      ]
    },
    {
      "cell_type": "markdown",
      "source": [
        "A seguir é apresentado outro exemplo em que a biblioteca `NLTK` é usada para remover `stopwords` de um conjunto de tweets em português e criar um gráfico de barras com as palavras mais frequentes."
      ],
      "metadata": {
        "id": "PkofMAOaURUL"
      }
    },
    {
      "cell_type": "code",
      "source": [
        "import nltk\n",
        "nltk.download('punkt')"
      ],
      "metadata": {
        "colab": {
          "base_uri": "https://localhost:8080/"
        },
        "id": "FhJWSmI4UGa_",
        "outputId": "f95f5b9b-fd8a-4a8b-9f12-eaf4bce1a94f"
      },
      "execution_count": null,
      "outputs": [
        {
          "output_type": "stream",
          "name": "stderr",
          "text": [
            "[nltk_data] Downloading package punkt to /root/nltk_data...\n",
            "[nltk_data]   Package punkt is already up-to-date!\n"
          ]
        },
        {
          "output_type": "execute_result",
          "data": {
            "text/plain": [
              "True"
            ]
          },
          "metadata": {},
          "execution_count": 72
        }
      ]
    },
    {
      "cell_type": "code",
      "source": [
        "import nltk\n",
        "from nltk.corpus import stopwords\n",
        "from collections import Counter\n",
        "\n",
        "# exemplo de conjunto de tweets\n",
        "tweets = [\n",
        "    \"Acabei de assistir um filme incrível no cinema!\",\n",
        "    \"Hoje é um dia muito especial para mim. Estou muito feliz!\",\n",
        "    \"Preciso estudar para a prova de matemática que será amanhã.\",\n",
        "    \"Comprei um livro novo que estou ansioso para ler.\",\n",
        "    \"Estou cansado de ficar em casa o tempo todo. Preciso sair um pouco.\"\n",
        "]\n",
        "\n",
        "# carregar as stopwords em portugues\n",
        "stopwords = set(stopwords.words('portuguese'))\n",
        "\n",
        "# tokenizar e removee as stopwords dos tweets\n",
        "palavras = []\n",
        "for tweet in tweets:\n",
        "    tokens = nltk.word_tokenize(tweet.lower())\n",
        "    palavras.extend([token for token in tokens if not token in stopwords])\n",
        "\n",
        "# contar a frequencia das palavras\n",
        "frequencia = Counter(palavras)\n",
        "\n",
        "# selecionar as 10 palavras mais frequentes\n",
        "mais_frequentes = frequencia.most_common(10)"
      ],
      "metadata": {
        "id": "M1cCbxf9T_PW"
      },
      "execution_count": null,
      "outputs": []
    },
    {
      "cell_type": "code",
      "source": [
        "print(mais_frequentes)"
      ],
      "metadata": {
        "colab": {
          "base_uri": "https://localhost:8080/"
        },
        "id": "sTe79PYX3xtS",
        "outputId": "bc3c4dc2-3cd5-4ade-b32c-f19dbc78455b"
      },
      "execution_count": null,
      "outputs": [
        {
          "output_type": "stream",
          "name": "stdout",
          "text": [
            "[('.', 5), ('!', 2), ('preciso', 2), ('acabei', 1), ('assistir', 1), ('filme', 1), ('incrível', 1), ('cinema', 1), ('hoje', 1), ('dia', 1)]\n"
          ]
        }
      ]
    },
    {
      "cell_type": "code",
      "source": [
        "import matplotlib.pyplot as plt\n",
        "\n",
        "# criar um grafico de barras com as palavras mais frequentes\n",
        "plt.figure(figsize=(10, 5))\n",
        "plt.bar([palavra[0] for palavra in mais_frequentes], [palavra[1] for palavra in mais_frequentes],\n",
        "        width=0.4)\n",
        "plt.title(\"Palavras mais frequentes nos tweets\")\n",
        "plt.xlabel(\"Palavras\")\n",
        "plt.ylabel(\"Frequência\")\n",
        "plt.show()"
      ],
      "metadata": {
        "colab": {
          "base_uri": "https://localhost:8080/",
          "height": 487
        },
        "id": "bCXupnyH3qSa",
        "outputId": "54a09f77-adf5-481a-ba5b-93d7cc84d8a8"
      },
      "execution_count": null,
      "outputs": [
        {
          "output_type": "display_data",
          "data": {
            "text/plain": [
              "<Figure size 1000x500 with 1 Axes>"
            ],
            "image/png": "[encoded data removed]"
          },
          "metadata": {}
        }
      ]
    },
    {
      "cell_type": "markdown",
      "source": [
        "Aqui está um exemplo de como remover *stopwords* em inglês usando a biblioteca `NLTK` em `Python`."
      ],
      "metadata": {
        "id": "_8i72AuuWXrV"
      }
    },
    {
      "cell_type": "code",
      "source": [
        "from nltk.corpus import stopwords\n",
        "\n",
        "text = \"The quick brown fox jumps over the lazy dog\"\n",
        "words = text.lower().split()\n",
        "\n",
        "stop_words = set(stopwords.words('english'))\n",
        "words_without_stopwords = [word for word in words if word not in stop_words]\n",
        "\n",
        "print(words_without_stopwords)"
      ],
      "metadata": {
        "colab": {
          "base_uri": "https://localhost:8080/"
        },
        "id": "VhTlq23VWF1-",
        "outputId": "ca366aa4-4372-412d-91ee-1a6b214d74bc"
      },
      "execution_count": null,
      "outputs": [
        {
          "output_type": "stream",
          "name": "stdout",
          "text": [
            "['quick', 'brown', 'fox', 'jumps', 'lazy', 'dog']\n"
          ]
        }
      ]
    },
    {
      "cell_type": "markdown",
      "source": [
        "Aqui está um exemplo de como remover as *stopwords* em português e em inglês usando o `NLTK`:"
      ],
      "metadata": {
        "id": "PmzVC-27-qGS"
      }
    },
    {
      "cell_type": "code",
      "source": [
        "import nltk\n",
        "from nltk.corpus import stopwords\n",
        "\n",
        "# definir as stopwords em portugues\n",
        "stopwords_pt = set(stopwords.words('portuguese'))\n",
        "\n",
        "# definir as stopwords em ingles\n",
        "stopwords_en = set(stopwords.words('english'))\n",
        "\n",
        "# exemplo de texto em dois idiomas\n",
        "texto = \"\"\"The hotel room was great, but the breakfast could have been better.\n",
        "           O quarto do hotel era ótimo, mas o café da manhã poderia ter sido melhor.\"\"\"\n",
        "\n",
        "# remover as stopwords correspondentes aos dois idiomas\n",
        "palavras = [palavra for palavra in texto.split() if palavra.lower() not in stopwords_pt and palavra.lower() not in stopwords_en]"
      ],
      "metadata": {
        "id": "ST0mT4jQAP9g"
      },
      "execution_count": null,
      "outputs": []
    },
    {
      "cell_type": "code",
      "source": [
        "# imprimir as palavras sem as stopwords em portugues e ingles\n",
        "print(\"Texto sem stopwords:\", \" \".join(palavras))"
      ],
      "metadata": {
        "colab": {
          "base_uri": "https://localhost:8080/"
        },
        "id": "Z7d1pg5K4Vum",
        "outputId": "bd215256-9c03-479d-c1a0-f3ed3afb5995"
      },
      "execution_count": null,
      "outputs": [
        {
          "output_type": "stream",
          "name": "stdout",
          "text": [
            "Texto sem stopwords: hotel room great, breakfast could better. quarto hotel ótimo, café manhã poderia ter sido melhor.\n"
          ]
        }
      ]
    },
    {
      "cell_type": "markdown",
      "source": [
        "**Detecção de Idiomas**"
      ],
      "metadata": {
        "id": "J8w3aA524j4R"
      }
    },
    {
      "cell_type": "markdown",
      "source": [
        "É possível usar a biblioteca `langdetect` para identificar o idioma  e em seguida remover as *stopwords* correspondentes ao idioma. Aqui está um exemplo de como fazer isso:"
      ],
      "metadata": {
        "id": "uJnZQB0W_1t5"
      }
    },
    {
      "cell_type": "code",
      "source": [
        "!pip install langdetect"
      ],
      "metadata": {
        "colab": {
          "base_uri": "https://localhost:8080/"
        },
        "id": "0R8KMRir--xK",
        "outputId": "c36b9c6a-e783-47cb-af75-a5b834f70ac0"
      },
      "execution_count": null,
      "outputs": [
        {
          "output_type": "stream",
          "name": "stdout",
          "text": [
            "Collecting langdetect\n",
            "  Downloading langdetect-1.0.9.tar.gz (981 kB)\n",
            "\u001b[2K     \u001b[90m━━━━━━━━━━━━━━━━━━━━━━━━━━━━━━━━━━━━━━━━\u001b[0m \u001b[32m981.5/981.5 kB\u001b[0m \u001b[31m7.3 MB/s\u001b[0m eta \u001b[36m0:00:00\u001b[0m\n",
            "\u001b[?25h  Preparing metadata (setup.py) ... \u001b[?25l\u001b[?25hdone\n",
            "Requirement already satisfied: six in /usr/local/lib/python3.10/dist-packages (from langdetect) (1.16.0)\n",
            "Building wheels for collected packages: langdetect\n",
            "  Building wheel for langdetect (setup.py) ... \u001b[?25l\u001b[?25hdone\n",
            "  Created wheel for langdetect: filename=langdetect-1.0.9-py3-none-any.whl size=993227 sha256=d3f99b321f10c544cc163860bc4c565ccd1dca4c1e7995ddf3463c372fa130be\n",
            "  Stored in directory: /root/.cache/pip/wheels/95/03/7d/59ea870c70ce4e5a370638b5462a7711ab78fba2f655d05106\n",
            "Successfully built langdetect\n",
            "Installing collected packages: langdetect\n",
            "Successfully installed langdetect-1.0.9\n"
          ]
        }
      ]
    },
    {
      "cell_type": "code",
      "source": [
        "import nltk\n",
        "from nltk.corpus import stopwords\n",
        "from langdetect import detect\n",
        "\n",
        "# definir as stopwords em portugues\n",
        "stopwords_pt = set(stopwords.words('portuguese'))\n",
        "\n",
        "# definir as stopwords em ingles\n",
        "stopwords_en = set(stopwords.words('english'))\n",
        "\n",
        "# exemplo de texto em dois idiomas\n",
        "avaliacoes = [\"The hotel room was great, but the breakfast could have been better.\",\n",
        "               \"O quarto do hotel era ótimo, mas o café da manhã poderia ter sido melhor.\"]"
      ],
      "metadata": {
        "id": "lDDrQt0Z-s7m"
      },
      "execution_count": null,
      "outputs": []
    },
    {
      "cell_type": "code",
      "source": [
        "# identificar os idiomas\n",
        "for avaliacao in avaliacoes:\n",
        "  print(detect(avaliacao))"
      ],
      "metadata": {
        "colab": {
          "base_uri": "https://localhost:8080/"
        },
        "id": "BvqmadiT6E-O",
        "outputId": "b7e6cb87-ae4e-408e-81e4-61e15f3a78de"
      },
      "execution_count": null,
      "outputs": [
        {
          "output_type": "stream",
          "name": "stdout",
          "text": [
            "en\n",
            "pt\n"
          ]
        }
      ]
    },
    {
      "cell_type": "code",
      "source": [
        "palavras = []\n",
        "\n",
        "# remover as stopwords correspondentes ao idioma\n",
        "for avaliacao in avaliacoes:\n",
        "\n",
        "   idioma = detect(avaliacao)\n",
        "\n",
        "   if idioma == 'pt':\n",
        "        for palavra in avaliacao.split():\n",
        "           if palavra.lower() not in stopwords_pt:\n",
        "              palavras.append(palavra)\n",
        "   elif idioma == 'en':\n",
        "        for word in avaliacao.split():\n",
        "           if word.lower() not in stopwords_en:\n",
        "              palavras.append(word)\n",
        "   else:\n",
        "      print(\"Idioma não suportado.\")"
      ],
      "metadata": {
        "id": "i5wVn1DR5Qyf"
      },
      "execution_count": null,
      "outputs": []
    },
    {
      "cell_type": "code",
      "source": [
        "# imprimir as palavras sem as stopwords\n",
        "print(palavras)"
      ],
      "metadata": {
        "colab": {
          "base_uri": "https://localhost:8080/"
        },
        "id": "EIrivCmE6jf-",
        "outputId": "d4afdc03-811c-455c-c281-d926fd4f35c8"
      },
      "execution_count": null,
      "outputs": [
        {
          "output_type": "stream",
          "name": "stdout",
          "text": [
            "['hotel', 'room', 'great,', 'breakfast', 'could', 'better.', 'quarto', 'hotel', 'ótimo,', 'café', 'manhã', 'poderia', 'ter', 'sido', 'melhor.']\n"
          ]
        }
      ]
    }
  ]
}